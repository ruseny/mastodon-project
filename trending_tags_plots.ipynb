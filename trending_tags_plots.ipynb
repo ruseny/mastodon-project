{
 "cells": [
  {
   "cell_type": "code",
   "execution_count": 76,
   "id": "3a722826-c86a-4a0f-ac9e-b37d9d02300b",
   "metadata": {},
   "outputs": [],
   "source": [
    "import pandas as pd\n",
    "import json\n",
    "import plotly.graph_objects as go\n",
    "import plotly.express as px\n",
    "import plotly.io as pio\n",
    "import statsmodels.api as sm\n",
    "import numpy as np\n",
    "import seaborn as sns\n",
    "import matplotlib.pyplot as plt"
   ]
  },
  {
   "cell_type": "code",
   "execution_count": 2,
   "id": "3a9ea8be-06c0-4135-82ad-5f66bb4fbc55",
   "metadata": {},
   "outputs": [
    {
     "data": {
      "text/plain": [
       "Index(['id', 'created_at', 'sensitive', 'spoiler_text', 'visibility',\n",
       "       'language', 'uri', 'url', 'replies_count', 'reblogs_count',\n",
       "       'favourites_count', 'edited_at', 'content', 'media_attachments',\n",
       "       'mentions', 'tags', 'emojis', 'account_id', 'account_username',\n",
       "       'account_acct', 'account_display_name', 'account_locked', 'account_bot',\n",
       "       'account_discoverable', 'account_indexable', 'account_group',\n",
       "       'account_created_at', 'account_note', 'account_url', 'account_uri',\n",
       "       'account_avatar', 'account_avatar_static', 'account_header',\n",
       "       'account_header_static', 'account_followers_count',\n",
       "       'account_following_count', 'account_statuses_count',\n",
       "       'account_last_status_at', 'account_hide_collections', 'account_emojis',\n",
       "       'account_fields', 'application_name', 'application_website',\n",
       "       'account_noindex', 'account_roles', 'card_url', 'card_title',\n",
       "       'card_description', 'card_language', 'card_type', 'card_author_name',\n",
       "       'card_author_url', 'card_provider_name', 'card_provider_url',\n",
       "       'card_html', 'card_width', 'card_height', 'card_image',\n",
       "       'card_image_description', 'card_embed_url', 'card_blurhash',\n",
       "       'card_published_at', 'tags_num', 'tags_str', 'created_at_dt',\n",
       "       'edited_at_dt', 'account_created_at_dt', 'card_published_at_dt',\n",
       "       'account_age', 'media_count', 'any_media', 'mention_count',\n",
       "       'any_mention', 'emoji_count', 'any_emoji', 'card_categories',\n",
       "       'any_card'],\n",
       "      dtype='object')"
      ]
     },
     "execution_count": 2,
     "metadata": {},
     "output_type": "execute_result"
    }
   ],
   "source": [
    "file = pd.read_csv('trending_statuses.csv')\n",
    "file.keys()"
   ]
  },
  {
   "cell_type": "code",
   "execution_count": 3,
   "id": "4cbb5426-1caf-4cba-bc8c-e69ca2299201",
   "metadata": {},
   "outputs": [
    {
     "data": {
      "text/plain": [
       "128"
      ]
     },
     "execution_count": 3,
     "metadata": {},
     "output_type": "execute_result"
    }
   ],
   "source": [
    "len(file[file['account_bot']==True])"
   ]
  },
  {
   "cell_type": "code",
   "execution_count": 44,
   "id": "80d7bec1-492d-41b3-8d82-08581883f116",
   "metadata": {},
   "outputs": [
    {
     "data": {
      "text/html": [
       "<div>\n",
       "<style scoped>\n",
       "    .dataframe tbody tr th:only-of-type {\n",
       "        vertical-align: middle;\n",
       "    }\n",
       "\n",
       "    .dataframe tbody tr th {\n",
       "        vertical-align: top;\n",
       "    }\n",
       "\n",
       "    .dataframe thead th {\n",
       "        text-align: right;\n",
       "    }\n",
       "</style>\n",
       "<table border=\"1\" class=\"dataframe\">\n",
       "  <thead>\n",
       "    <tr style=\"text-align: right;\">\n",
       "      <th></th>\n",
       "      <th>Unnamed: 0</th>\n",
       "      <th>name</th>\n",
       "      <th>url</th>\n",
       "      <th>days_before</th>\n",
       "      <th>accounts_using</th>\n",
       "      <th>usage_count</th>\n",
       "    </tr>\n",
       "  </thead>\n",
       "  <tbody>\n",
       "    <tr>\n",
       "      <th>135</th>\n",
       "      <td>19</td>\n",
       "      <td>TheUmbrellaAcademy</td>\n",
       "      <td>https://mastodon.social/tags/theumbrellaacademy</td>\n",
       "      <td>2</td>\n",
       "      <td>0</td>\n",
       "      <td>0</td>\n",
       "    </tr>\n",
       "    <tr>\n",
       "      <th>136</th>\n",
       "      <td>19</td>\n",
       "      <td>TheUmbrellaAcademy</td>\n",
       "      <td>https://mastodon.social/tags/theumbrellaacademy</td>\n",
       "      <td>3</td>\n",
       "      <td>0</td>\n",
       "      <td>0</td>\n",
       "    </tr>\n",
       "    <tr>\n",
       "      <th>137</th>\n",
       "      <td>19</td>\n",
       "      <td>TheUmbrellaAcademy</td>\n",
       "      <td>https://mastodon.social/tags/theumbrellaacademy</td>\n",
       "      <td>4</td>\n",
       "      <td>0</td>\n",
       "      <td>0</td>\n",
       "    </tr>\n",
       "    <tr>\n",
       "      <th>138</th>\n",
       "      <td>19</td>\n",
       "      <td>TheUmbrellaAcademy</td>\n",
       "      <td>https://mastodon.social/tags/theumbrellaacademy</td>\n",
       "      <td>5</td>\n",
       "      <td>0</td>\n",
       "      <td>0</td>\n",
       "    </tr>\n",
       "    <tr>\n",
       "      <th>139</th>\n",
       "      <td>19</td>\n",
       "      <td>TheUmbrellaAcademy</td>\n",
       "      <td>https://mastodon.social/tags/theumbrellaacademy</td>\n",
       "      <td>6</td>\n",
       "      <td>0</td>\n",
       "      <td>0</td>\n",
       "    </tr>\n",
       "  </tbody>\n",
       "</table>\n",
       "</div>"
      ],
      "text/plain": [
       "     Unnamed: 0                name  \\\n",
       "135          19  TheUmbrellaAcademy   \n",
       "136          19  TheUmbrellaAcademy   \n",
       "137          19  TheUmbrellaAcademy   \n",
       "138          19  TheUmbrellaAcademy   \n",
       "139          19  TheUmbrellaAcademy   \n",
       "\n",
       "                                                 url  days_before  \\\n",
       "135  https://mastodon.social/tags/theumbrellaacademy            2   \n",
       "136  https://mastodon.social/tags/theumbrellaacademy            3   \n",
       "137  https://mastodon.social/tags/theumbrellaacademy            4   \n",
       "138  https://mastodon.social/tags/theumbrellaacademy            5   \n",
       "139  https://mastodon.social/tags/theumbrellaacademy            6   \n",
       "\n",
       "     accounts_using  usage_count  \n",
       "135               0            0  \n",
       "136               0            0  \n",
       "137               0            0  \n",
       "138               0            0  \n",
       "139               0            0  "
      ]
     },
     "execution_count": 44,
     "metadata": {},
     "output_type": "execute_result"
    }
   ],
   "source": [
    "file2 = pd.read_csv('trending_tags.csv')\n",
    "file2.tail()"
   ]
  },
  {
   "cell_type": "code",
   "execution_count": 8,
   "id": "4e887147-934f-4612-874d-8b81d41ac552",
   "metadata": {},
   "outputs": [
    {
     "data": {
      "text/html": [
       "<div>\n",
       "<style scoped>\n",
       "    .dataframe tbody tr th:only-of-type {\n",
       "        vertical-align: middle;\n",
       "    }\n",
       "\n",
       "    .dataframe tbody tr th {\n",
       "        vertical-align: top;\n",
       "    }\n",
       "\n",
       "    .dataframe thead th {\n",
       "        text-align: right;\n",
       "    }\n",
       "</style>\n",
       "<table border=\"1\" class=\"dataframe\">\n",
       "  <thead>\n",
       "    <tr style=\"text-align: right;\">\n",
       "      <th></th>\n",
       "      <th>Unnamed: 0</th>\n",
       "      <th>name</th>\n",
       "      <th>url</th>\n",
       "      <th>days_before</th>\n",
       "      <th>accounts_using</th>\n",
       "      <th>usage_count</th>\n",
       "      <th>days</th>\n",
       "    </tr>\n",
       "  </thead>\n",
       "  <tbody>\n",
       "    <tr>\n",
       "      <th>0</th>\n",
       "      <td>0</td>\n",
       "      <td>musiquinta</td>\n",
       "      <td>https://mastodon.social/tags/musiquinta</td>\n",
       "      <td>0</td>\n",
       "      <td>92</td>\n",
       "      <td>226</td>\n",
       "      <td>7</td>\n",
       "    </tr>\n",
       "    <tr>\n",
       "      <th>1</th>\n",
       "      <td>0</td>\n",
       "      <td>musiquinta</td>\n",
       "      <td>https://mastodon.social/tags/musiquinta</td>\n",
       "      <td>1</td>\n",
       "      <td>2</td>\n",
       "      <td>2</td>\n",
       "      <td>6</td>\n",
       "    </tr>\n",
       "    <tr>\n",
       "      <th>2</th>\n",
       "      <td>0</td>\n",
       "      <td>musiquinta</td>\n",
       "      <td>https://mastodon.social/tags/musiquinta</td>\n",
       "      <td>2</td>\n",
       "      <td>2</td>\n",
       "      <td>2</td>\n",
       "      <td>5</td>\n",
       "    </tr>\n",
       "    <tr>\n",
       "      <th>3</th>\n",
       "      <td>0</td>\n",
       "      <td>musiquinta</td>\n",
       "      <td>https://mastodon.social/tags/musiquinta</td>\n",
       "      <td>3</td>\n",
       "      <td>1</td>\n",
       "      <td>2</td>\n",
       "      <td>4</td>\n",
       "    </tr>\n",
       "    <tr>\n",
       "      <th>4</th>\n",
       "      <td>0</td>\n",
       "      <td>musiquinta</td>\n",
       "      <td>https://mastodon.social/tags/musiquinta</td>\n",
       "      <td>4</td>\n",
       "      <td>1</td>\n",
       "      <td>1</td>\n",
       "      <td>3</td>\n",
       "    </tr>\n",
       "  </tbody>\n",
       "</table>\n",
       "</div>"
      ],
      "text/plain": [
       "   Unnamed: 0        name                                      url  \\\n",
       "0           0  musiquinta  https://mastodon.social/tags/musiquinta   \n",
       "1           0  musiquinta  https://mastodon.social/tags/musiquinta   \n",
       "2           0  musiquinta  https://mastodon.social/tags/musiquinta   \n",
       "3           0  musiquinta  https://mastodon.social/tags/musiquinta   \n",
       "4           0  musiquinta  https://mastodon.social/tags/musiquinta   \n",
       "\n",
       "   days_before  accounts_using  usage_count  days  \n",
       "0            0              92          226     7  \n",
       "1            1               2            2     6  \n",
       "2            2               2            2     5  \n",
       "3            3               1            2     4  \n",
       "4            4               1            1     3  "
      ]
     },
     "execution_count": 8,
     "metadata": {},
     "output_type": "execute_result"
    }
   ],
   "source": [
    "file2['days'] = 7-file2['days_before']\n",
    "file2.head()"
   ]
  },
  {
   "cell_type": "code",
   "execution_count": 37,
   "id": "479fbc76-e5b0-4c50-8634-39890bf83c11",
   "metadata": {},
   "outputs": [
    {
     "data": {
      "application/vnd.plotly.v1+json": {
       "config": {
        "plotlyServerURL": "https://plot.ly"
       },
       "data": [
        {
         "name": "musiquinta",
         "type": "scatter",
         "x": [
          7,
          6,
          5,
          4,
          3,
          2,
          1
         ],
         "y": [
          92,
          2,
          2,
          1,
          1,
          0,
          9
         ]
        },
        {
         "name": "guilty",
         "type": "scatter",
         "x": [
          7,
          6,
          5,
          4,
          3,
          2,
          1
         ],
         "y": [
          149,
          8,
          2,
          0,
          0,
          1,
          2
         ]
        },
        {
         "name": "ThrowbackThursday",
         "type": "scatter",
         "x": [
          7,
          6,
          5,
          4,
          3,
          2,
          1
         ],
         "y": [
          81,
          3,
          2,
          0,
          0,
          0,
          9
         ]
        },
        {
         "name": "trumpisguilty",
         "type": "scatter",
         "x": [
          7,
          6,
          5,
          4,
          3,
          2,
          1
         ],
         "y": [
          42,
          1,
          2,
          1,
          2,
          0,
          2
         ]
        },
        {
         "name": "IfAIDisclaimersWereSongs",
         "type": "scatter",
         "x": [
          7,
          6,
          5,
          4,
          3,
          2,
          1
         ],
         "y": [
          60,
          0,
          0,
          0,
          0,
          0,
          0
         ]
        },
        {
         "name": "ThursdayFiveList",
         "type": "scatter",
         "x": [
          7,
          6,
          5,
          4,
          3,
          2,
          1
         ],
         "y": [
          40,
          0,
          0,
          0,
          0,
          0,
          0
         ]
        },
        {
         "name": "trumpguilty",
         "type": "scatter",
         "x": [
          7,
          6,
          5,
          4,
          3,
          2,
          1
         ],
         "y": [
          37,
          0,
          0,
          0,
          0,
          0,
          0
         ]
        },
        {
         "name": "thehands",
         "type": "scatter",
         "x": [
          7,
          6,
          5,
          4,
          3,
          2,
          1
         ],
         "y": [
          35,
          0,
          0,
          0,
          0,
          0,
          0
         ]
        },
        {
         "name": "tbt",
         "type": "scatter",
         "x": [
          7,
          6,
          5,
          4,
          3,
          2,
          1
         ],
         "y": [
          28,
          1,
          1,
          0,
          1,
          0,
          3
         ]
        },
        {
         "name": "Felon",
         "type": "scatter",
         "x": [
          7,
          6,
          5,
          4,
          3,
          2,
          1
         ],
         "y": [
          26,
          0,
          0,
          0,
          0,
          0,
          0
         ]
        },
        {
         "name": "trump",
         "type": "scatter",
         "x": [
          7,
          6,
          5,
          4,
          3,
          2,
          1
         ],
         "y": [
          486,
          158,
          138,
          96,
          111,
          91,
          121
         ]
        },
        {
         "name": "dwd3",
         "type": "scatter",
         "x": [
          7,
          6,
          5,
          4,
          3,
          2,
          1
         ],
         "y": [
          52,
          0,
          0,
          31,
          7,
          4,
          42
         ]
        },
        {
         "name": "GPN22",
         "type": "scatter",
         "x": [
          7,
          6,
          5,
          4,
          3,
          2,
          1
         ],
         "y": [
          326,
          118,
          76,
          57,
          35,
          17,
          12
         ]
        },
        {
         "name": "verdict",
         "type": "scatter",
         "x": [
          7,
          6,
          5,
          4,
          3,
          2,
          1
         ],
         "y": [
          39,
          3,
          2,
          0,
          1,
          1,
          0
         ]
        },
        {
         "name": "waffle860",
         "type": "scatter",
         "x": [
          7,
          6,
          5,
          4,
          3,
          2,
          1
         ],
         "y": [
          19,
          0,
          0,
          0,
          0,
          0,
          0
         ]
        },
        {
         "name": "今月描いた絵を晒そう",
         "type": "scatter",
         "x": [
          7,
          6,
          5,
          4,
          3,
          2,
          1
         ],
         "y": [
          96,
          11,
          1,
          0,
          1,
          0,
          0
         ]
        },
        {
         "name": "TrumpTrial",
         "type": "scatter",
         "x": [
          7,
          6,
          5,
          4,
          3,
          2,
          1
         ],
         "y": [
          154,
          42,
          31,
          7,
          4,
          5,
          7
         ]
        },
        {
         "name": "europol",
         "type": "scatter",
         "x": [
          7,
          6,
          5,
          4,
          3,
          2,
          1
         ],
         "y": [
          18,
          1,
          3,
          0,
          0,
          3,
          1
         ]
        },
        {
         "name": "trumpverdict",
         "type": "scatter",
         "x": [
          7,
          6,
          5,
          4,
          3,
          2,
          1
         ],
         "y": [
          23,
          2,
          0,
          0,
          0,
          0,
          0
         ]
        },
        {
         "name": "TheUmbrellaAcademy",
         "type": "scatter",
         "x": [
          7,
          6,
          5,
          4,
          3,
          2,
          1
         ],
         "y": [
          20,
          1,
          0,
          0,
          0,
          0,
          0
         ]
        }
       ],
       "layout": {
        "autosize": true,
        "plot_bgcolor": "white",
        "template": {
         "data": {
          "bar": [
           {
            "error_x": {
             "color": "#2a3f5f"
            },
            "error_y": {
             "color": "#2a3f5f"
            },
            "marker": {
             "line": {
              "color": "#E5ECF6",
              "width": 0.5
             },
             "pattern": {
              "fillmode": "overlay",
              "size": 10,
              "solidity": 0.2
             }
            },
            "type": "bar"
           }
          ],
          "barpolar": [
           {
            "marker": {
             "line": {
              "color": "#E5ECF6",
              "width": 0.5
             },
             "pattern": {
              "fillmode": "overlay",
              "size": 10,
              "solidity": 0.2
             }
            },
            "type": "barpolar"
           }
          ],
          "carpet": [
           {
            "aaxis": {
             "endlinecolor": "#2a3f5f",
             "gridcolor": "white",
             "linecolor": "white",
             "minorgridcolor": "white",
             "startlinecolor": "#2a3f5f"
            },
            "baxis": {
             "endlinecolor": "#2a3f5f",
             "gridcolor": "white",
             "linecolor": "white",
             "minorgridcolor": "white",
             "startlinecolor": "#2a3f5f"
            },
            "type": "carpet"
           }
          ],
          "choropleth": [
           {
            "colorbar": {
             "outlinewidth": 0,
             "ticks": ""
            },
            "type": "choropleth"
           }
          ],
          "contour": [
           {
            "colorbar": {
             "outlinewidth": 0,
             "ticks": ""
            },
            "colorscale": [
             [
              0,
              "#0d0887"
             ],
             [
              0.1111111111111111,
              "#46039f"
             ],
             [
              0.2222222222222222,
              "#7201a8"
             ],
             [
              0.3333333333333333,
              "#9c179e"
             ],
             [
              0.4444444444444444,
              "#bd3786"
             ],
             [
              0.5555555555555556,
              "#d8576b"
             ],
             [
              0.6666666666666666,
              "#ed7953"
             ],
             [
              0.7777777777777778,
              "#fb9f3a"
             ],
             [
              0.8888888888888888,
              "#fdca26"
             ],
             [
              1,
              "#f0f921"
             ]
            ],
            "type": "contour"
           }
          ],
          "contourcarpet": [
           {
            "colorbar": {
             "outlinewidth": 0,
             "ticks": ""
            },
            "type": "contourcarpet"
           }
          ],
          "heatmap": [
           {
            "colorbar": {
             "outlinewidth": 0,
             "ticks": ""
            },
            "colorscale": [
             [
              0,
              "#0d0887"
             ],
             [
              0.1111111111111111,
              "#46039f"
             ],
             [
              0.2222222222222222,
              "#7201a8"
             ],
             [
              0.3333333333333333,
              "#9c179e"
             ],
             [
              0.4444444444444444,
              "#bd3786"
             ],
             [
              0.5555555555555556,
              "#d8576b"
             ],
             [
              0.6666666666666666,
              "#ed7953"
             ],
             [
              0.7777777777777778,
              "#fb9f3a"
             ],
             [
              0.8888888888888888,
              "#fdca26"
             ],
             [
              1,
              "#f0f921"
             ]
            ],
            "type": "heatmap"
           }
          ],
          "heatmapgl": [
           {
            "colorbar": {
             "outlinewidth": 0,
             "ticks": ""
            },
            "colorscale": [
             [
              0,
              "#0d0887"
             ],
             [
              0.1111111111111111,
              "#46039f"
             ],
             [
              0.2222222222222222,
              "#7201a8"
             ],
             [
              0.3333333333333333,
              "#9c179e"
             ],
             [
              0.4444444444444444,
              "#bd3786"
             ],
             [
              0.5555555555555556,
              "#d8576b"
             ],
             [
              0.6666666666666666,
              "#ed7953"
             ],
             [
              0.7777777777777778,
              "#fb9f3a"
             ],
             [
              0.8888888888888888,
              "#fdca26"
             ],
             [
              1,
              "#f0f921"
             ]
            ],
            "type": "heatmapgl"
           }
          ],
          "histogram": [
           {
            "marker": {
             "pattern": {
              "fillmode": "overlay",
              "size": 10,
              "solidity": 0.2
             }
            },
            "type": "histogram"
           }
          ],
          "histogram2d": [
           {
            "colorbar": {
             "outlinewidth": 0,
             "ticks": ""
            },
            "colorscale": [
             [
              0,
              "#0d0887"
             ],
             [
              0.1111111111111111,
              "#46039f"
             ],
             [
              0.2222222222222222,
              "#7201a8"
             ],
             [
              0.3333333333333333,
              "#9c179e"
             ],
             [
              0.4444444444444444,
              "#bd3786"
             ],
             [
              0.5555555555555556,
              "#d8576b"
             ],
             [
              0.6666666666666666,
              "#ed7953"
             ],
             [
              0.7777777777777778,
              "#fb9f3a"
             ],
             [
              0.8888888888888888,
              "#fdca26"
             ],
             [
              1,
              "#f0f921"
             ]
            ],
            "type": "histogram2d"
           }
          ],
          "histogram2dcontour": [
           {
            "colorbar": {
             "outlinewidth": 0,
             "ticks": ""
            },
            "colorscale": [
             [
              0,
              "#0d0887"
             ],
             [
              0.1111111111111111,
              "#46039f"
             ],
             [
              0.2222222222222222,
              "#7201a8"
             ],
             [
              0.3333333333333333,
              "#9c179e"
             ],
             [
              0.4444444444444444,
              "#bd3786"
             ],
             [
              0.5555555555555556,
              "#d8576b"
             ],
             [
              0.6666666666666666,
              "#ed7953"
             ],
             [
              0.7777777777777778,
              "#fb9f3a"
             ],
             [
              0.8888888888888888,
              "#fdca26"
             ],
             [
              1,
              "#f0f921"
             ]
            ],
            "type": "histogram2dcontour"
           }
          ],
          "mesh3d": [
           {
            "colorbar": {
             "outlinewidth": 0,
             "ticks": ""
            },
            "type": "mesh3d"
           }
          ],
          "parcoords": [
           {
            "line": {
             "colorbar": {
              "outlinewidth": 0,
              "ticks": ""
             }
            },
            "type": "parcoords"
           }
          ],
          "pie": [
           {
            "automargin": true,
            "type": "pie"
           }
          ],
          "scatter": [
           {
            "fillpattern": {
             "fillmode": "overlay",
             "size": 10,
             "solidity": 0.2
            },
            "type": "scatter"
           }
          ],
          "scatter3d": [
           {
            "line": {
             "colorbar": {
              "outlinewidth": 0,
              "ticks": ""
             }
            },
            "marker": {
             "colorbar": {
              "outlinewidth": 0,
              "ticks": ""
             }
            },
            "type": "scatter3d"
           }
          ],
          "scattercarpet": [
           {
            "marker": {
             "colorbar": {
              "outlinewidth": 0,
              "ticks": ""
             }
            },
            "type": "scattercarpet"
           }
          ],
          "scattergeo": [
           {
            "marker": {
             "colorbar": {
              "outlinewidth": 0,
              "ticks": ""
             }
            },
            "type": "scattergeo"
           }
          ],
          "scattergl": [
           {
            "marker": {
             "colorbar": {
              "outlinewidth": 0,
              "ticks": ""
             }
            },
            "type": "scattergl"
           }
          ],
          "scattermapbox": [
           {
            "marker": {
             "colorbar": {
              "outlinewidth": 0,
              "ticks": ""
             }
            },
            "type": "scattermapbox"
           }
          ],
          "scatterpolar": [
           {
            "marker": {
             "colorbar": {
              "outlinewidth": 0,
              "ticks": ""
             }
            },
            "type": "scatterpolar"
           }
          ],
          "scatterpolargl": [
           {
            "marker": {
             "colorbar": {
              "outlinewidth": 0,
              "ticks": ""
             }
            },
            "type": "scatterpolargl"
           }
          ],
          "scatterternary": [
           {
            "marker": {
             "colorbar": {
              "outlinewidth": 0,
              "ticks": ""
             }
            },
            "type": "scatterternary"
           }
          ],
          "surface": [
           {
            "colorbar": {
             "outlinewidth": 0,
             "ticks": ""
            },
            "colorscale": [
             [
              0,
              "#0d0887"
             ],
             [
              0.1111111111111111,
              "#46039f"
             ],
             [
              0.2222222222222222,
              "#7201a8"
             ],
             [
              0.3333333333333333,
              "#9c179e"
             ],
             [
              0.4444444444444444,
              "#bd3786"
             ],
             [
              0.5555555555555556,
              "#d8576b"
             ],
             [
              0.6666666666666666,
              "#ed7953"
             ],
             [
              0.7777777777777778,
              "#fb9f3a"
             ],
             [
              0.8888888888888888,
              "#fdca26"
             ],
             [
              1,
              "#f0f921"
             ]
            ],
            "type": "surface"
           }
          ],
          "table": [
           {
            "cells": {
             "fill": {
              "color": "#EBF0F8"
             },
             "line": {
              "color": "white"
             }
            },
            "header": {
             "fill": {
              "color": "#C8D4E3"
             },
             "line": {
              "color": "white"
             }
            },
            "type": "table"
           }
          ]
         },
         "layout": {
          "annotationdefaults": {
           "arrowcolor": "#2a3f5f",
           "arrowhead": 0,
           "arrowwidth": 1
          },
          "autotypenumbers": "strict",
          "coloraxis": {
           "colorbar": {
            "outlinewidth": 0,
            "ticks": ""
           }
          },
          "colorscale": {
           "diverging": [
            [
             0,
             "#8e0152"
            ],
            [
             0.1,
             "#c51b7d"
            ],
            [
             0.2,
             "#de77ae"
            ],
            [
             0.3,
             "#f1b6da"
            ],
            [
             0.4,
             "#fde0ef"
            ],
            [
             0.5,
             "#f7f7f7"
            ],
            [
             0.6,
             "#e6f5d0"
            ],
            [
             0.7,
             "#b8e186"
            ],
            [
             0.8,
             "#7fbc41"
            ],
            [
             0.9,
             "#4d9221"
            ],
            [
             1,
             "#276419"
            ]
           ],
           "sequential": [
            [
             0,
             "#0d0887"
            ],
            [
             0.1111111111111111,
             "#46039f"
            ],
            [
             0.2222222222222222,
             "#7201a8"
            ],
            [
             0.3333333333333333,
             "#9c179e"
            ],
            [
             0.4444444444444444,
             "#bd3786"
            ],
            [
             0.5555555555555556,
             "#d8576b"
            ],
            [
             0.6666666666666666,
             "#ed7953"
            ],
            [
             0.7777777777777778,
             "#fb9f3a"
            ],
            [
             0.8888888888888888,
             "#fdca26"
            ],
            [
             1,
             "#f0f921"
            ]
           ],
           "sequentialminus": [
            [
             0,
             "#0d0887"
            ],
            [
             0.1111111111111111,
             "#46039f"
            ],
            [
             0.2222222222222222,
             "#7201a8"
            ],
            [
             0.3333333333333333,
             "#9c179e"
            ],
            [
             0.4444444444444444,
             "#bd3786"
            ],
            [
             0.5555555555555556,
             "#d8576b"
            ],
            [
             0.6666666666666666,
             "#ed7953"
            ],
            [
             0.7777777777777778,
             "#fb9f3a"
            ],
            [
             0.8888888888888888,
             "#fdca26"
            ],
            [
             1,
             "#f0f921"
            ]
           ]
          },
          "colorway": [
           "#636efa",
           "#EF553B",
           "#00cc96",
           "#ab63fa",
           "#FFA15A",
           "#19d3f3",
           "#FF6692",
           "#B6E880",
           "#FF97FF",
           "#FECB52"
          ],
          "font": {
           "color": "#2a3f5f"
          },
          "geo": {
           "bgcolor": "white",
           "lakecolor": "white",
           "landcolor": "#E5ECF6",
           "showlakes": true,
           "showland": true,
           "subunitcolor": "white"
          },
          "hoverlabel": {
           "align": "left"
          },
          "hovermode": "closest",
          "mapbox": {
           "style": "light"
          },
          "paper_bgcolor": "white",
          "plot_bgcolor": "#E5ECF6",
          "polar": {
           "angularaxis": {
            "gridcolor": "white",
            "linecolor": "white",
            "ticks": ""
           },
           "bgcolor": "#E5ECF6",
           "radialaxis": {
            "gridcolor": "white",
            "linecolor": "white",
            "ticks": ""
           }
          },
          "scene": {
           "xaxis": {
            "backgroundcolor": "#E5ECF6",
            "gridcolor": "white",
            "gridwidth": 2,
            "linecolor": "white",
            "showbackground": true,
            "ticks": "",
            "zerolinecolor": "white"
           },
           "yaxis": {
            "backgroundcolor": "#E5ECF6",
            "gridcolor": "white",
            "gridwidth": 2,
            "linecolor": "white",
            "showbackground": true,
            "ticks": "",
            "zerolinecolor": "white"
           },
           "zaxis": {
            "backgroundcolor": "#E5ECF6",
            "gridcolor": "white",
            "gridwidth": 2,
            "linecolor": "white",
            "showbackground": true,
            "ticks": "",
            "zerolinecolor": "white"
           }
          },
          "shapedefaults": {
           "line": {
            "color": "#2a3f5f"
           }
          },
          "ternary": {
           "aaxis": {
            "gridcolor": "white",
            "linecolor": "white",
            "ticks": ""
           },
           "baxis": {
            "gridcolor": "white",
            "linecolor": "white",
            "ticks": ""
           },
           "bgcolor": "#E5ECF6",
           "caxis": {
            "gridcolor": "white",
            "linecolor": "white",
            "ticks": ""
           }
          },
          "title": {
           "x": 0.05
          },
          "xaxis": {
           "automargin": true,
           "gridcolor": "white",
           "linecolor": "white",
           "ticks": "",
           "title": {
            "standoff": 15
           },
           "zerolinecolor": "white",
           "zerolinewidth": 2
          },
          "yaxis": {
           "automargin": true,
           "gridcolor": "white",
           "linecolor": "white",
           "ticks": "",
           "title": {
            "standoff": 15
           },
           "zerolinecolor": "white",
           "zerolinewidth": 2
          }
         }
        },
        "title": {
         "text": "Accounts using the top tags"
        },
        "xaxis": {
         "autorange": true,
         "range": [
          0.6310389055151775,
          7.368961094484822
         ],
         "title": {
          "font": {
           "size": 18
          },
          "text": "Day"
         },
         "type": "linear"
        },
        "yaxis": {
         "autorange": true,
         "range": [
          -40.10679611650485,
          526.1067961165048
         ],
         "title": {
          "font": {
           "size": 18
          },
          "text": "Accounts using"
         },
         "type": "linear"
        }
       }
      },
      "image/png": "[encoded data removed]",
      "text/html": [
       "<div>                            <div id=\"a609e9e1-3d8f-4e15-acee-c6ac639b0ff5\" class=\"plotly-graph-div\" style=\"height:525px; width:100%;\"></div>            <script type=\"text/javascript\">                require([\"plotly\"], function(Plotly) {                    window.PLOTLYENV=window.PLOTLYENV || {};                                    if (document.getElementById(\"a609e9e1-3d8f-4e15-acee-c6ac639b0ff5\")) {                    Plotly.newPlot(                        \"a609e9e1-3d8f-4e15-acee-c6ac639b0ff5\",                        [{\"name\":\"musiquinta\",\"x\":[7,6,5,4,3,2,1],\"y\":[92,2,2,1,1,0,9],\"type\":\"scatter\"},{\"name\":\"guilty\",\"x\":[7,6,5,4,3,2,1],\"y\":[149,8,2,0,0,1,2],\"type\":\"scatter\"},{\"name\":\"ThrowbackThursday\",\"x\":[7,6,5,4,3,2,1],\"y\":[81,3,2,0,0,0,9],\"type\":\"scatter\"},{\"name\":\"trumpisguilty\",\"x\":[7,6,5,4,3,2,1],\"y\":[42,1,2,1,2,0,2],\"type\":\"scatter\"},{\"name\":\"IfAIDisclaimersWereSongs\",\"x\":[7,6,5,4,3,2,1],\"y\":[60,0,0,0,0,0,0],\"type\":\"scatter\"},{\"name\":\"ThursdayFiveList\",\"x\":[7,6,5,4,3,2,1],\"y\":[40,0,0,0,0,0,0],\"type\":\"scatter\"},{\"name\":\"trumpguilty\",\"x\":[7,6,5,4,3,2,1],\"y\":[37,0,0,0,0,0,0],\"type\":\"scatter\"},{\"name\":\"thehands\",\"x\":[7,6,5,4,3,2,1],\"y\":[35,0,0,0,0,0,0],\"type\":\"scatter\"},{\"name\":\"tbt\",\"x\":[7,6,5,4,3,2,1],\"y\":[28,1,1,0,1,0,3],\"type\":\"scatter\"},{\"name\":\"Felon\",\"x\":[7,6,5,4,3,2,1],\"y\":[26,0,0,0,0,0,0],\"type\":\"scatter\"},{\"name\":\"trump\",\"x\":[7,6,5,4,3,2,1],\"y\":[486,158,138,96,111,91,121],\"type\":\"scatter\"},{\"name\":\"dwd3\",\"x\":[7,6,5,4,3,2,1],\"y\":[52,0,0,31,7,4,42],\"type\":\"scatter\"},{\"name\":\"GPN22\",\"x\":[7,6,5,4,3,2,1],\"y\":[326,118,76,57,35,17,12],\"type\":\"scatter\"},{\"name\":\"verdict\",\"x\":[7,6,5,4,3,2,1],\"y\":[39,3,2,0,1,1,0],\"type\":\"scatter\"},{\"name\":\"waffle860\",\"x\":[7,6,5,4,3,2,1],\"y\":[19,0,0,0,0,0,0],\"type\":\"scatter\"},{\"name\":\"\\u4eca\\u6708\\u63cf\\u3044\\u305f\\u7d75\\u3092\\u6652\\u305d\\u3046\",\"x\":[7,6,5,4,3,2,1],\"y\":[96,11,1,0,1,0,0],\"type\":\"scatter\"},{\"name\":\"TrumpTrial\",\"x\":[7,6,5,4,3,2,1],\"y\":[154,42,31,7,4,5,7],\"type\":\"scatter\"},{\"name\":\"europol\",\"x\":[7,6,5,4,3,2,1],\"y\":[18,1,3,0,0,3,1],\"type\":\"scatter\"},{\"name\":\"trumpverdict\",\"x\":[7,6,5,4,3,2,1],\"y\":[23,2,0,0,0,0,0],\"type\":\"scatter\"},{\"name\":\"TheUmbrellaAcademy\",\"x\":[7,6,5,4,3,2,1],\"y\":[20,1,0,0,0,0,0],\"type\":\"scatter\"}],                        {\"template\":{\"data\":{\"histogram2dcontour\":[{\"type\":\"histogram2dcontour\",\"colorbar\":{\"outlinewidth\":0,\"ticks\":\"\"},\"colorscale\":[[0.0,\"#0d0887\"],[0.1111111111111111,\"#46039f\"],[0.2222222222222222,\"#7201a8\"],[0.3333333333333333,\"#9c179e\"],[0.4444444444444444,\"#bd3786\"],[0.5555555555555556,\"#d8576b\"],[0.6666666666666666,\"#ed7953\"],[0.7777777777777778,\"#fb9f3a\"],[0.8888888888888888,\"#fdca26\"],[1.0,\"#f0f921\"]]}],\"choropleth\":[{\"type\":\"choropleth\",\"colorbar\":{\"outlinewidth\":0,\"ticks\":\"\"}}],\"histogram2d\":[{\"type\":\"histogram2d\",\"colorbar\":{\"outlinewidth\":0,\"ticks\":\"\"},\"colorscale\":[[0.0,\"#0d0887\"],[0.1111111111111111,\"#46039f\"],[0.2222222222222222,\"#7201a8\"],[0.3333333333333333,\"#9c179e\"],[0.4444444444444444,\"#bd3786\"],[0.5555555555555556,\"#d8576b\"],[0.6666666666666666,\"#ed7953\"],[0.7777777777777778,\"#fb9f3a\"],[0.8888888888888888,\"#fdca26\"],[1.0,\"#f0f921\"]]}],\"heatmap\":[{\"type\":\"heatmap\",\"colorbar\":{\"outlinewidth\":0,\"ticks\":\"\"},\"colorscale\":[[0.0,\"#0d0887\"],[0.1111111111111111,\"#46039f\"],[0.2222222222222222,\"#7201a8\"],[0.3333333333333333,\"#9c179e\"],[0.4444444444444444,\"#bd3786\"],[0.5555555555555556,\"#d8576b\"],[0.6666666666666666,\"#ed7953\"],[0.7777777777777778,\"#fb9f3a\"],[0.8888888888888888,\"#fdca26\"],[1.0,\"#f0f921\"]]}],\"heatmapgl\":[{\"type\":\"heatmapgl\",\"colorbar\":{\"outlinewidth\":0,\"ticks\":\"\"},\"colorscale\":[[0.0,\"#0d0887\"],[0.1111111111111111,\"#46039f\"],[0.2222222222222222,\"#7201a8\"],[0.3333333333333333,\"#9c179e\"],[0.4444444444444444,\"#bd3786\"],[0.5555555555555556,\"#d8576b\"],[0.6666666666666666,\"#ed7953\"],[0.7777777777777778,\"#fb9f3a\"],[0.8888888888888888,\"#fdca26\"],[1.0,\"#f0f921\"]]}],\"contourcarpet\":[{\"type\":\"contourcarpet\",\"colorbar\":{\"outlinewidth\":0,\"ticks\":\"\"}}],\"contour\":[{\"type\":\"contour\",\"colorbar\":{\"outlinewidth\":0,\"ticks\":\"\"},\"colorscale\":[[0.0,\"#0d0887\"],[0.1111111111111111,\"#46039f\"],[0.2222222222222222,\"#7201a8\"],[0.3333333333333333,\"#9c179e\"],[0.4444444444444444,\"#bd3786\"],[0.5555555555555556,\"#d8576b\"],[0.6666666666666666,\"#ed7953\"],[0.7777777777777778,\"#fb9f3a\"],[0.8888888888888888,\"#fdca26\"],[1.0,\"#f0f921\"]]}],\"surface\":[{\"type\":\"surface\",\"colorbar\":{\"outlinewidth\":0,\"ticks\":\"\"},\"colorscale\":[[0.0,\"#0d0887\"],[0.1111111111111111,\"#46039f\"],[0.2222222222222222,\"#7201a8\"],[0.3333333333333333,\"#9c179e\"],[0.4444444444444444,\"#bd3786\"],[0.5555555555555556,\"#d8576b\"],[0.6666666666666666,\"#ed7953\"],[0.7777777777777778,\"#fb9f3a\"],[0.8888888888888888,\"#fdca26\"],[1.0,\"#f0f921\"]]}],\"mesh3d\":[{\"type\":\"mesh3d\",\"colorbar\":{\"outlinewidth\":0,\"ticks\":\"\"}}],\"scatter\":[{\"fillpattern\":{\"fillmode\":\"overlay\",\"size\":10,\"solidity\":0.2},\"type\":\"scatter\"}],\"parcoords\":[{\"type\":\"parcoords\",\"line\":{\"colorbar\":{\"outlinewidth\":0,\"ticks\":\"\"}}}],\"scatterpolargl\":[{\"type\":\"scatterpolargl\",\"marker\":{\"colorbar\":{\"outlinewidth\":0,\"ticks\":\"\"}}}],\"bar\":[{\"error_x\":{\"color\":\"#2a3f5f\"},\"error_y\":{\"color\":\"#2a3f5f\"},\"marker\":{\"line\":{\"color\":\"#E5ECF6\",\"width\":0.5},\"pattern\":{\"fillmode\":\"overlay\",\"size\":10,\"solidity\":0.2}},\"type\":\"bar\"}],\"scattergeo\":[{\"type\":\"scattergeo\",\"marker\":{\"colorbar\":{\"outlinewidth\":0,\"ticks\":\"\"}}}],\"scatterpolar\":[{\"type\":\"scatterpolar\",\"marker\":{\"colorbar\":{\"outlinewidth\":0,\"ticks\":\"\"}}}],\"histogram\":[{\"marker\":{\"pattern\":{\"fillmode\":\"overlay\",\"size\":10,\"solidity\":0.2}},\"type\":\"histogram\"}],\"scattergl\":[{\"type\":\"scattergl\",\"marker\":{\"colorbar\":{\"outlinewidth\":0,\"ticks\":\"\"}}}],\"scatter3d\":[{\"type\":\"scatter3d\",\"line\":{\"colorbar\":{\"outlinewidth\":0,\"ticks\":\"\"}},\"marker\":{\"colorbar\":{\"outlinewidth\":0,\"ticks\":\"\"}}}],\"scattermapbox\":[{\"type\":\"scattermapbox\",\"marker\":{\"colorbar\":{\"outlinewidth\":0,\"ticks\":\"\"}}}],\"scatterternary\":[{\"type\":\"scatterternary\",\"marker\":{\"colorbar\":{\"outlinewidth\":0,\"ticks\":\"\"}}}],\"scattercarpet\":[{\"type\":\"scattercarpet\",\"marker\":{\"colorbar\":{\"outlinewidth\":0,\"ticks\":\"\"}}}],\"carpet\":[{\"aaxis\":{\"endlinecolor\":\"#2a3f5f\",\"gridcolor\":\"white\",\"linecolor\":\"white\",\"minorgridcolor\":\"white\",\"startlinecolor\":\"#2a3f5f\"},\"baxis\":{\"endlinecolor\":\"#2a3f5f\",\"gridcolor\":\"white\",\"linecolor\":\"white\",\"minorgridcolor\":\"white\",\"startlinecolor\":\"#2a3f5f\"},\"type\":\"carpet\"}],\"table\":[{\"cells\":{\"fill\":{\"color\":\"#EBF0F8\"},\"line\":{\"color\":\"white\"}},\"header\":{\"fill\":{\"color\":\"#C8D4E3\"},\"line\":{\"color\":\"white\"}},\"type\":\"table\"}],\"barpolar\":[{\"marker\":{\"line\":{\"color\":\"#E5ECF6\",\"width\":0.5},\"pattern\":{\"fillmode\":\"overlay\",\"size\":10,\"solidity\":0.2}},\"type\":\"barpolar\"}],\"pie\":[{\"automargin\":true,\"type\":\"pie\"}]},\"layout\":{\"autotypenumbers\":\"strict\",\"colorway\":[\"#636efa\",\"#EF553B\",\"#00cc96\",\"#ab63fa\",\"#FFA15A\",\"#19d3f3\",\"#FF6692\",\"#B6E880\",\"#FF97FF\",\"#FECB52\"],\"font\":{\"color\":\"#2a3f5f\"},\"hovermode\":\"closest\",\"hoverlabel\":{\"align\":\"left\"},\"paper_bgcolor\":\"white\",\"plot_bgcolor\":\"#E5ECF6\",\"polar\":{\"bgcolor\":\"#E5ECF6\",\"angularaxis\":{\"gridcolor\":\"white\",\"linecolor\":\"white\",\"ticks\":\"\"},\"radialaxis\":{\"gridcolor\":\"white\",\"linecolor\":\"white\",\"ticks\":\"\"}},\"ternary\":{\"bgcolor\":\"#E5ECF6\",\"aaxis\":{\"gridcolor\":\"white\",\"linecolor\":\"white\",\"ticks\":\"\"},\"baxis\":{\"gridcolor\":\"white\",\"linecolor\":\"white\",\"ticks\":\"\"},\"caxis\":{\"gridcolor\":\"white\",\"linecolor\":\"white\",\"ticks\":\"\"}},\"coloraxis\":{\"colorbar\":{\"outlinewidth\":0,\"ticks\":\"\"}},\"colorscale\":{\"sequential\":[[0.0,\"#0d0887\"],[0.1111111111111111,\"#46039f\"],[0.2222222222222222,\"#7201a8\"],[0.3333333333333333,\"#9c179e\"],[0.4444444444444444,\"#bd3786\"],[0.5555555555555556,\"#d8576b\"],[0.6666666666666666,\"#ed7953\"],[0.7777777777777778,\"#fb9f3a\"],[0.8888888888888888,\"#fdca26\"],[1.0,\"#f0f921\"]],\"sequentialminus\":[[0.0,\"#0d0887\"],[0.1111111111111111,\"#46039f\"],[0.2222222222222222,\"#7201a8\"],[0.3333333333333333,\"#9c179e\"],[0.4444444444444444,\"#bd3786\"],[0.5555555555555556,\"#d8576b\"],[0.6666666666666666,\"#ed7953\"],[0.7777777777777778,\"#fb9f3a\"],[0.8888888888888888,\"#fdca26\"],[1.0,\"#f0f921\"]],\"diverging\":[[0,\"#8e0152\"],[0.1,\"#c51b7d\"],[0.2,\"#de77ae\"],[0.3,\"#f1b6da\"],[0.4,\"#fde0ef\"],[0.5,\"#f7f7f7\"],[0.6,\"#e6f5d0\"],[0.7,\"#b8e186\"],[0.8,\"#7fbc41\"],[0.9,\"#4d9221\"],[1,\"#276419\"]]},\"xaxis\":{\"gridcolor\":\"white\",\"linecolor\":\"white\",\"ticks\":\"\",\"title\":{\"standoff\":15},\"zerolinecolor\":\"white\",\"automargin\":true,\"zerolinewidth\":2},\"yaxis\":{\"gridcolor\":\"white\",\"linecolor\":\"white\",\"ticks\":\"\",\"title\":{\"standoff\":15},\"zerolinecolor\":\"white\",\"automargin\":true,\"zerolinewidth\":2},\"scene\":{\"xaxis\":{\"backgroundcolor\":\"#E5ECF6\",\"gridcolor\":\"white\",\"linecolor\":\"white\",\"showbackground\":true,\"ticks\":\"\",\"zerolinecolor\":\"white\",\"gridwidth\":2},\"yaxis\":{\"backgroundcolor\":\"#E5ECF6\",\"gridcolor\":\"white\",\"linecolor\":\"white\",\"showbackground\":true,\"ticks\":\"\",\"zerolinecolor\":\"white\",\"gridwidth\":2},\"zaxis\":{\"backgroundcolor\":\"#E5ECF6\",\"gridcolor\":\"white\",\"linecolor\":\"white\",\"showbackground\":true,\"ticks\":\"\",\"zerolinecolor\":\"white\",\"gridwidth\":2}},\"shapedefaults\":{\"line\":{\"color\":\"#2a3f5f\"}},\"annotationdefaults\":{\"arrowcolor\":\"#2a3f5f\",\"arrowhead\":0,\"arrowwidth\":1},\"geo\":{\"bgcolor\":\"white\",\"landcolor\":\"#E5ECF6\",\"subunitcolor\":\"white\",\"showland\":true,\"showlakes\":true,\"lakecolor\":\"white\"},\"title\":{\"x\":0.05},\"mapbox\":{\"style\":\"light\"}}},\"xaxis\":{\"title\":{\"font\":{\"size\":18},\"text\":\"Day\"}},\"yaxis\":{\"title\":{\"font\":{\"size\":18},\"text\":\"Accounts using\"}},\"plot_bgcolor\":\"white\",\"title\":{\"text\":\"Accounts using the top tags\"}},                        {\"responsive\": true}                    ).then(function(){\n",
       "                            \n",
       "var gd = document.getElementById('a609e9e1-3d8f-4e15-acee-c6ac639b0ff5');\n",
       "var x = new MutationObserver(function (mutations, observer) {{\n",
       "        var display = window.getComputedStyle(gd).display;\n",
       "        if (!display || display === 'none') {{\n",
       "            console.log([gd, 'removed!']);\n",
       "            Plotly.purge(gd);\n",
       "            observer.disconnect();\n",
       "        }}\n",
       "}});\n",
       "\n",
       "// Listen for the removal of the full notebook cells\n",
       "var notebookContainer = gd.closest('#notebook-container');\n",
       "if (notebookContainer) {{\n",
       "    x.observe(notebookContainer, {childList: true});\n",
       "}}\n",
       "\n",
       "// Listen for the clearing of the current output cell\n",
       "var outputEl = gd.closest('.output');\n",
       "if (outputEl) {{\n",
       "    x.observe(outputEl, {childList: true});\n",
       "}}\n",
       "\n",
       "                        })                };                });            </script>        </div>"
      ]
     },
     "metadata": {},
     "output_type": "display_data"
    }
   ],
   "source": [
    "### Creating a plot displaying the number of accounts using a given tag over the last 7 days\n",
    "# (day 7 = today)\n",
    "\n",
    "fig = go.Figure()\n",
    "for tag in file2['name'].unique():\n",
    "    df_tag = file2[file2['name'] == tag]\n",
    "    fig.add_trace(go.Scatter(x=df_tag['days'], y=df_tag['accounts_using'], name = tag))\n",
    "\n",
    "fig.update_layout(\n",
    "    plot_bgcolor=\"white\",\n",
    "    title = 'Accounts using the top tags',\n",
    "    xaxis = {\n",
    "        'title' :{\n",
    "            'font' : {\n",
    "                'size' : 18\n",
    "            },\n",
    "            'text' : 'Day'\n",
    "        }\n",
    "    },\n",
    "    yaxis = {\n",
    "        'title' :{\n",
    "            'font' : {\n",
    "                'size' : 18\n",
    "            },\n",
    "            'text' : 'Accounts using'\n",
    "        }\n",
    "    }\n",
    ")\n",
    "\n",
    "fig.show()"
   ]
  },
  {
   "cell_type": "code",
   "execution_count": 24,
   "id": "aa6cc863-6a90-4fd2-a2a5-1d1efaf16192",
   "metadata": {},
   "outputs": [
    {
     "data": {
      "application/vnd.plotly.v1+json": {
       "config": {
        "plotlyServerURL": "https://plot.ly"
       },
       "data": [
        {
         "name": "musiquinta",
         "type": "scatter",
         "x": [
          7,
          6,
          5,
          4,
          3,
          2,
          1
         ],
         "y": [
          226,
          2,
          2,
          2,
          1,
          0,
          9
         ]
        },
        {
         "name": "guilty",
         "type": "scatter",
         "x": [
          7,
          6,
          5,
          4,
          3,
          2,
          1
         ],
         "y": [
          214,
          11,
          3,
          0,
          0,
          1,
          2
         ]
        },
        {
         "name": "ThrowbackThursday",
         "type": "scatter",
         "x": [
          7,
          6,
          5,
          4,
          3,
          2,
          1
         ],
         "y": [
          87,
          3,
          2,
          0,
          0,
          0,
          18
         ]
        },
        {
         "name": "trumpisguilty",
         "type": "scatter",
         "x": [
          7,
          6,
          5,
          4,
          3,
          2,
          1
         ],
         "y": [
          62,
          2,
          2,
          1,
          5,
          0,
          5
         ]
        },
        {
         "name": "IfAIDisclaimersWereSongs",
         "type": "scatter",
         "x": [
          7,
          6,
          5,
          4,
          3,
          2,
          1
         ],
         "y": [
          157,
          0,
          0,
          0,
          0,
          0,
          0
         ]
        },
        {
         "name": "ThursdayFiveList",
         "type": "scatter",
         "x": [
          7,
          6,
          5,
          4,
          3,
          2,
          1
         ],
         "y": [
          45,
          0,
          0,
          0,
          0,
          0,
          0
         ]
        },
        {
         "name": "trumpguilty",
         "type": "scatter",
         "x": [
          7,
          6,
          5,
          4,
          3,
          2,
          1
         ],
         "y": [
          46,
          0,
          0,
          0,
          0,
          0,
          0
         ]
        },
        {
         "name": "thehands",
         "type": "scatter",
         "x": [
          7,
          6,
          5,
          4,
          3,
          2,
          1
         ],
         "y": [
          40,
          0,
          0,
          0,
          0,
          0,
          0
         ]
        },
        {
         "name": "tbt",
         "type": "scatter",
         "x": [
          7,
          6,
          5,
          4,
          3,
          2,
          1
         ],
         "y": [
          32,
          1,
          1,
          0,
          1,
          0,
          3
         ]
        },
        {
         "name": "Felon",
         "type": "scatter",
         "x": [
          7,
          6,
          5,
          4,
          3,
          2,
          1
         ],
         "y": [
          36,
          0,
          0,
          0,
          0,
          0,
          0
         ]
        },
        {
         "name": "trump",
         "type": "scatter",
         "x": [
          7,
          6,
          5,
          4,
          3,
          2,
          1
         ],
         "y": [
          764,
          325,
          371,
          161,
          171,
          160,
          216
         ]
        },
        {
         "name": "dwd3",
         "type": "scatter",
         "x": [
          7,
          6,
          5,
          4,
          3,
          2,
          1
         ],
         "y": [
          58,
          0,
          0,
          79,
          19,
          5,
          61
         ]
        },
        {
         "name": "GPN22",
         "type": "scatter",
         "x": [
          7,
          6,
          5,
          4,
          3,
          2,
          1
         ],
         "y": [
          594,
          172,
          123,
          97,
          45,
          23,
          12
         ]
        },
        {
         "name": "verdict",
         "type": "scatter",
         "x": [
          7,
          6,
          5,
          4,
          3,
          2,
          1
         ],
         "y": [
          63,
          7,
          2,
          0,
          1,
          1,
          0
         ]
        },
        {
         "name": "waffle860",
         "type": "scatter",
         "x": [
          7,
          6,
          5,
          4,
          3,
          2,
          1
         ],
         "y": [
          19,
          0,
          0,
          0,
          0,
          0,
          0
         ]
        },
        {
         "name": "今月描いた絵を晒そう",
         "type": "scatter",
         "x": [
          7,
          6,
          5,
          4,
          3,
          2,
          1
         ],
         "y": [
          107,
          11,
          1,
          0,
          1,
          0,
          0
         ]
        },
        {
         "name": "TrumpTrial",
         "type": "scatter",
         "x": [
          7,
          6,
          5,
          4,
          3,
          2,
          1
         ],
         "y": [
          293,
          130,
          210,
          12,
          7,
          5,
          12
         ]
        },
        {
         "name": "europol",
         "type": "scatter",
         "x": [
          7,
          6,
          5,
          4,
          3,
          2,
          1
         ],
         "y": [
          23,
          1,
          3,
          0,
          0,
          3,
          1
         ]
        },
        {
         "name": "trumpverdict",
         "type": "scatter",
         "x": [
          7,
          6,
          5,
          4,
          3,
          2,
          1
         ],
         "y": [
          46,
          2,
          0,
          0,
          0,
          0,
          0
         ]
        },
        {
         "name": "TheUmbrellaAcademy",
         "type": "scatter",
         "x": [
          7,
          6,
          5,
          4,
          3,
          2,
          1
         ],
         "y": [
          21,
          1,
          0,
          0,
          0,
          0,
          0
         ]
        }
       ],
       "layout": {
        "autosize": true,
        "plot_bgcolor": "white",
        "template": {
         "data": {
          "bar": [
           {
            "error_x": {
             "color": "#2a3f5f"
            },
            "error_y": {
             "color": "#2a3f5f"
            },
            "marker": {
             "line": {
              "color": "#E5ECF6",
              "width": 0.5
             },
             "pattern": {
              "fillmode": "overlay",
              "size": 10,
              "solidity": 0.2
             }
            },
            "type": "bar"
           }
          ],
          "barpolar": [
           {
            "marker": {
             "line": {
              "color": "#E5ECF6",
              "width": 0.5
             },
             "pattern": {
              "fillmode": "overlay",
              "size": 10,
              "solidity": 0.2
             }
            },
            "type": "barpolar"
           }
          ],
          "carpet": [
           {
            "aaxis": {
             "endlinecolor": "#2a3f5f",
             "gridcolor": "white",
             "linecolor": "white",
             "minorgridcolor": "white",
             "startlinecolor": "#2a3f5f"
            },
            "baxis": {
             "endlinecolor": "#2a3f5f",
             "gridcolor": "white",
             "linecolor": "white",
             "minorgridcolor": "white",
             "startlinecolor": "#2a3f5f"
            },
            "type": "carpet"
           }
          ],
          "choropleth": [
           {
            "colorbar": {
             "outlinewidth": 0,
             "ticks": ""
            },
            "type": "choropleth"
           }
          ],
          "contour": [
           {
            "colorbar": {
             "outlinewidth": 0,
             "ticks": ""
            },
            "colorscale": [
             [
              0,
              "#0d0887"
             ],
             [
              0.1111111111111111,
              "#46039f"
             ],
             [
              0.2222222222222222,
              "#7201a8"
             ],
             [
              0.3333333333333333,
              "#9c179e"
             ],
             [
              0.4444444444444444,
              "#bd3786"
             ],
             [
              0.5555555555555556,
              "#d8576b"
             ],
             [
              0.6666666666666666,
              "#ed7953"
             ],
             [
              0.7777777777777778,
              "#fb9f3a"
             ],
             [
              0.8888888888888888,
              "#fdca26"
             ],
             [
              1,
              "#f0f921"
             ]
            ],
            "type": "contour"
           }
          ],
          "contourcarpet": [
           {
            "colorbar": {
             "outlinewidth": 0,
             "ticks": ""
            },
            "type": "contourcarpet"
           }
          ],
          "heatmap": [
           {
            "colorbar": {
             "outlinewidth": 0,
             "ticks": ""
            },
            "colorscale": [
             [
              0,
              "#0d0887"
             ],
             [
              0.1111111111111111,
              "#46039f"
             ],
             [
              0.2222222222222222,
              "#7201a8"
             ],
             [
              0.3333333333333333,
              "#9c179e"
             ],
             [
              0.4444444444444444,
              "#bd3786"
             ],
             [
              0.5555555555555556,
              "#d8576b"
             ],
             [
              0.6666666666666666,
              "#ed7953"
             ],
             [
              0.7777777777777778,
              "#fb9f3a"
             ],
             [
              0.8888888888888888,
              "#fdca26"
             ],
             [
              1,
              "#f0f921"
             ]
            ],
            "type": "heatmap"
           }
          ],
          "heatmapgl": [
           {
            "colorbar": {
             "outlinewidth": 0,
             "ticks": ""
            },
            "colorscale": [
             [
              0,
              "#0d0887"
             ],
             [
              0.1111111111111111,
              "#46039f"
             ],
             [
              0.2222222222222222,
              "#7201a8"
             ],
             [
              0.3333333333333333,
              "#9c179e"
             ],
             [
              0.4444444444444444,
              "#bd3786"
             ],
             [
              0.5555555555555556,
              "#d8576b"
             ],
             [
              0.6666666666666666,
              "#ed7953"
             ],
             [
              0.7777777777777778,
              "#fb9f3a"
             ],
             [
              0.8888888888888888,
              "#fdca26"
             ],
             [
              1,
              "#f0f921"
             ]
            ],
            "type": "heatmapgl"
           }
          ],
          "histogram": [
           {
            "marker": {
             "pattern": {
              "fillmode": "overlay",
              "size": 10,
              "solidity": 0.2
             }
            },
            "type": "histogram"
           }
          ],
          "histogram2d": [
           {
            "colorbar": {
             "outlinewidth": 0,
             "ticks": ""
            },
            "colorscale": [
             [
              0,
              "#0d0887"
             ],
             [
              0.1111111111111111,
              "#46039f"
             ],
             [
              0.2222222222222222,
              "#7201a8"
             ],
             [
              0.3333333333333333,
              "#9c179e"
             ],
             [
              0.4444444444444444,
              "#bd3786"
             ],
             [
              0.5555555555555556,
              "#d8576b"
             ],
             [
              0.6666666666666666,
              "#ed7953"
             ],
             [
              0.7777777777777778,
              "#fb9f3a"
             ],
             [
              0.8888888888888888,
              "#fdca26"
             ],
             [
              1,
              "#f0f921"
             ]
            ],
            "type": "histogram2d"
           }
          ],
          "histogram2dcontour": [
           {
            "colorbar": {
             "outlinewidth": 0,
             "ticks": ""
            },
            "colorscale": [
             [
              0,
              "#0d0887"
             ],
             [
              0.1111111111111111,
              "#46039f"
             ],
             [
              0.2222222222222222,
              "#7201a8"
             ],
             [
              0.3333333333333333,
              "#9c179e"
             ],
             [
              0.4444444444444444,
              "#bd3786"
             ],
             [
              0.5555555555555556,
              "#d8576b"
             ],
             [
              0.6666666666666666,
              "#ed7953"
             ],
             [
              0.7777777777777778,
              "#fb9f3a"
             ],
             [
              0.8888888888888888,
              "#fdca26"
             ],
             [
              1,
              "#f0f921"
             ]
            ],
            "type": "histogram2dcontour"
           }
          ],
          "mesh3d": [
           {
            "colorbar": {
             "outlinewidth": 0,
             "ticks": ""
            },
            "type": "mesh3d"
           }
          ],
          "parcoords": [
           {
            "line": {
             "colorbar": {
              "outlinewidth": 0,
              "ticks": ""
             }
            },
            "type": "parcoords"
           }
          ],
          "pie": [
           {
            "automargin": true,
            "type": "pie"
           }
          ],
          "scatter": [
           {
            "fillpattern": {
             "fillmode": "overlay",
             "size": 10,
             "solidity": 0.2
            },
            "type": "scatter"
           }
          ],
          "scatter3d": [
           {
            "line": {
             "colorbar": {
              "outlinewidth": 0,
              "ticks": ""
             }
            },
            "marker": {
             "colorbar": {
              "outlinewidth": 0,
              "ticks": ""
             }
            },
            "type": "scatter3d"
           }
          ],
          "scattercarpet": [
           {
            "marker": {
             "colorbar": {
              "outlinewidth": 0,
              "ticks": ""
             }
            },
            "type": "scattercarpet"
           }
          ],
          "scattergeo": [
           {
            "marker": {
             "colorbar": {
              "outlinewidth": 0,
              "ticks": ""
             }
            },
            "type": "scattergeo"
           }
          ],
          "scattergl": [
           {
            "marker": {
             "colorbar": {
              "outlinewidth": 0,
              "ticks": ""
             }
            },
            "type": "scattergl"
           }
          ],
          "scattermapbox": [
           {
            "marker": {
             "colorbar": {
              "outlinewidth": 0,
              "ticks": ""
             }
            },
            "type": "scattermapbox"
           }
          ],
          "scatterpolar": [
           {
            "marker": {
             "colorbar": {
              "outlinewidth": 0,
              "ticks": ""
             }
            },
            "type": "scatterpolar"
           }
          ],
          "scatterpolargl": [
           {
            "marker": {
             "colorbar": {
              "outlinewidth": 0,
              "ticks": ""
             }
            },
            "type": "scatterpolargl"
           }
          ],
          "scatterternary": [
           {
            "marker": {
             "colorbar": {
              "outlinewidth": 0,
              "ticks": ""
             }
            },
            "type": "scatterternary"
           }
          ],
          "surface": [
           {
            "colorbar": {
             "outlinewidth": 0,
             "ticks": ""
            },
            "colorscale": [
             [
              0,
              "#0d0887"
             ],
             [
              0.1111111111111111,
              "#46039f"
             ],
             [
              0.2222222222222222,
              "#7201a8"
             ],
             [
              0.3333333333333333,
              "#9c179e"
             ],
             [
              0.4444444444444444,
              "#bd3786"
             ],
             [
              0.5555555555555556,
              "#d8576b"
             ],
             [
              0.6666666666666666,
              "#ed7953"
             ],
             [
              0.7777777777777778,
              "#fb9f3a"
             ],
             [
              0.8888888888888888,
              "#fdca26"
             ],
             [
              1,
              "#f0f921"
             ]
            ],
            "type": "surface"
           }
          ],
          "table": [
           {
            "cells": {
             "fill": {
              "color": "#EBF0F8"
             },
             "line": {
              "color": "white"
             }
            },
            "header": {
             "fill": {
              "color": "#C8D4E3"
             },
             "line": {
              "color": "white"
             }
            },
            "type": "table"
           }
          ]
         },
         "layout": {
          "annotationdefaults": {
           "arrowcolor": "#2a3f5f",
           "arrowhead": 0,
           "arrowwidth": 1
          },
          "autotypenumbers": "strict",
          "coloraxis": {
           "colorbar": {
            "outlinewidth": 0,
            "ticks": ""
           }
          },
          "colorscale": {
           "diverging": [
            [
             0,
             "#8e0152"
            ],
            [
             0.1,
             "#c51b7d"
            ],
            [
             0.2,
             "#de77ae"
            ],
            [
             0.3,
             "#f1b6da"
            ],
            [
             0.4,
             "#fde0ef"
            ],
            [
             0.5,
             "#f7f7f7"
            ],
            [
             0.6,
             "#e6f5d0"
            ],
            [
             0.7,
             "#b8e186"
            ],
            [
             0.8,
             "#7fbc41"
            ],
            [
             0.9,
             "#4d9221"
            ],
            [
             1,
             "#276419"
            ]
           ],
           "sequential": [
            [
             0,
             "#0d0887"
            ],
            [
             0.1111111111111111,
             "#46039f"
            ],
            [
             0.2222222222222222,
             "#7201a8"
            ],
            [
             0.3333333333333333,
             "#9c179e"
            ],
            [
             0.4444444444444444,
             "#bd3786"
            ],
            [
             0.5555555555555556,
             "#d8576b"
            ],
            [
             0.6666666666666666,
             "#ed7953"
            ],
            [
             0.7777777777777778,
             "#fb9f3a"
            ],
            [
             0.8888888888888888,
             "#fdca26"
            ],
            [
             1,
             "#f0f921"
            ]
           ],
           "sequentialminus": [
            [
             0,
             "#0d0887"
            ],
            [
             0.1111111111111111,
             "#46039f"
            ],
            [
             0.2222222222222222,
             "#7201a8"
            ],
            [
             0.3333333333333333,
             "#9c179e"
            ],
            [
             0.4444444444444444,
             "#bd3786"
            ],
            [
             0.5555555555555556,
             "#d8576b"
            ],
            [
             0.6666666666666666,
             "#ed7953"
            ],
            [
             0.7777777777777778,
             "#fb9f3a"
            ],
            [
             0.8888888888888888,
             "#fdca26"
            ],
            [
             1,
             "#f0f921"
            ]
           ]
          },
          "colorway": [
           "#636efa",
           "#EF553B",
           "#00cc96",
           "#ab63fa",
           "#FFA15A",
           "#19d3f3",
           "#FF6692",
           "#B6E880",
           "#FF97FF",
           "#FECB52"
          ],
          "font": {
           "color": "#2a3f5f"
          },
          "geo": {
           "bgcolor": "white",
           "lakecolor": "white",
           "landcolor": "#E5ECF6",
           "showlakes": true,
           "showland": true,
           "subunitcolor": "white"
          },
          "hoverlabel": {
           "align": "left"
          },
          "hovermode": "closest",
          "mapbox": {
           "style": "light"
          },
          "paper_bgcolor": "white",
          "plot_bgcolor": "#E5ECF6",
          "polar": {
           "angularaxis": {
            "gridcolor": "white",
            "linecolor": "white",
            "ticks": ""
           },
           "bgcolor": "#E5ECF6",
           "radialaxis": {
            "gridcolor": "white",
            "linecolor": "white",
            "ticks": ""
           }
          },
          "scene": {
           "xaxis": {
            "backgroundcolor": "#E5ECF6",
            "gridcolor": "white",
            "gridwidth": 2,
            "linecolor": "white",
            "showbackground": true,
            "ticks": "",
            "zerolinecolor": "white"
           },
           "yaxis": {
            "backgroundcolor": "#E5ECF6",
            "gridcolor": "white",
            "gridwidth": 2,
            "linecolor": "white",
            "showbackground": true,
            "ticks": "",
            "zerolinecolor": "white"
           },
           "zaxis": {
            "backgroundcolor": "#E5ECF6",
            "gridcolor": "white",
            "gridwidth": 2,
            "linecolor": "white",
            "showbackground": true,
            "ticks": "",
            "zerolinecolor": "white"
           }
          },
          "shapedefaults": {
           "line": {
            "color": "#2a3f5f"
           }
          },
          "ternary": {
           "aaxis": {
            "gridcolor": "white",
            "linecolor": "white",
            "ticks": ""
           },
           "baxis": {
            "gridcolor": "white",
            "linecolor": "white",
            "ticks": ""
           },
           "bgcolor": "#E5ECF6",
           "caxis": {
            "gridcolor": "white",
            "linecolor": "white",
            "ticks": ""
           }
          },
          "title": {
           "x": 0.05
          },
          "xaxis": {
           "automargin": true,
           "gridcolor": "white",
           "linecolor": "white",
           "ticks": "",
           "title": {
            "standoff": 15
           },
           "zerolinecolor": "white",
           "zerolinewidth": 2
          },
          "yaxis": {
           "automargin": true,
           "gridcolor": "white",
           "linecolor": "white",
           "ticks": "",
           "title": {
            "standoff": 15
           },
           "zerolinecolor": "white",
           "zerolinewidth": 2
          }
         }
        },
        "title": {
         "text": "Usage count of top tags"
        },
        "xaxis": {
         "autorange": true,
         "range": [
          0.6310389055151775,
          7.368961094484822
         ],
         "title": {
          "font": {
           "size": 18
          },
          "text": "Day"
         },
         "type": "linear"
        },
        "yaxis": {
         "autorange": true,
         "range": [
          -63.04854368932039,
          827.0485436893204
         ],
         "title": {
          "font": {
           "size": 18
          },
          "text": "Usage Count"
         },
         "type": "linear"
        }
       }
      },
      "image/png": "[encoded data removed]",
      "text/html": [
       "<div>                            <div id=\"9572b65c-8013-4a1f-9efa-734bb9a477be\" class=\"plotly-graph-div\" style=\"height:525px; width:100%;\"></div>            <script type=\"text/javascript\">                require([\"plotly\"], function(Plotly) {                    window.PLOTLYENV=window.PLOTLYENV || {};                                    if (document.getElementById(\"9572b65c-8013-4a1f-9efa-734bb9a477be\")) {                    Plotly.newPlot(                        \"9572b65c-8013-4a1f-9efa-734bb9a477be\",                        [{\"name\":\"musiquinta\",\"x\":[7,6,5,4,3,2,1],\"y\":[226,2,2,2,1,0,9],\"type\":\"scatter\"},{\"name\":\"guilty\",\"x\":[7,6,5,4,3,2,1],\"y\":[214,11,3,0,0,1,2],\"type\":\"scatter\"},{\"name\":\"ThrowbackThursday\",\"x\":[7,6,5,4,3,2,1],\"y\":[87,3,2,0,0,0,18],\"type\":\"scatter\"},{\"name\":\"trumpisguilty\",\"x\":[7,6,5,4,3,2,1],\"y\":[62,2,2,1,5,0,5],\"type\":\"scatter\"},{\"name\":\"IfAIDisclaimersWereSongs\",\"x\":[7,6,5,4,3,2,1],\"y\":[157,0,0,0,0,0,0],\"type\":\"scatter\"},{\"name\":\"ThursdayFiveList\",\"x\":[7,6,5,4,3,2,1],\"y\":[45,0,0,0,0,0,0],\"type\":\"scatter\"},{\"name\":\"trumpguilty\",\"x\":[7,6,5,4,3,2,1],\"y\":[46,0,0,0,0,0,0],\"type\":\"scatter\"},{\"name\":\"thehands\",\"x\":[7,6,5,4,3,2,1],\"y\":[40,0,0,0,0,0,0],\"type\":\"scatter\"},{\"name\":\"tbt\",\"x\":[7,6,5,4,3,2,1],\"y\":[32,1,1,0,1,0,3],\"type\":\"scatter\"},{\"name\":\"Felon\",\"x\":[7,6,5,4,3,2,1],\"y\":[36,0,0,0,0,0,0],\"type\":\"scatter\"},{\"name\":\"trump\",\"x\":[7,6,5,4,3,2,1],\"y\":[764,325,371,161,171,160,216],\"type\":\"scatter\"},{\"name\":\"dwd3\",\"x\":[7,6,5,4,3,2,1],\"y\":[58,0,0,79,19,5,61],\"type\":\"scatter\"},{\"name\":\"GPN22\",\"x\":[7,6,5,4,3,2,1],\"y\":[594,172,123,97,45,23,12],\"type\":\"scatter\"},{\"name\":\"verdict\",\"x\":[7,6,5,4,3,2,1],\"y\":[63,7,2,0,1,1,0],\"type\":\"scatter\"},{\"name\":\"waffle860\",\"x\":[7,6,5,4,3,2,1],\"y\":[19,0,0,0,0,0,0],\"type\":\"scatter\"},{\"name\":\"\\u4eca\\u6708\\u63cf\\u3044\\u305f\\u7d75\\u3092\\u6652\\u305d\\u3046\",\"x\":[7,6,5,4,3,2,1],\"y\":[107,11,1,0,1,0,0],\"type\":\"scatter\"},{\"name\":\"TrumpTrial\",\"x\":[7,6,5,4,3,2,1],\"y\":[293,130,210,12,7,5,12],\"type\":\"scatter\"},{\"name\":\"europol\",\"x\":[7,6,5,4,3,2,1],\"y\":[23,1,3,0,0,3,1],\"type\":\"scatter\"},{\"name\":\"trumpverdict\",\"x\":[7,6,5,4,3,2,1],\"y\":[46,2,0,0,0,0,0],\"type\":\"scatter\"},{\"name\":\"TheUmbrellaAcademy\",\"x\":[7,6,5,4,3,2,1],\"y\":[21,1,0,0,0,0,0],\"type\":\"scatter\"}],                        {\"template\":{\"data\":{\"histogram2dcontour\":[{\"type\":\"histogram2dcontour\",\"colorbar\":{\"outlinewidth\":0,\"ticks\":\"\"},\"colorscale\":[[0.0,\"#0d0887\"],[0.1111111111111111,\"#46039f\"],[0.2222222222222222,\"#7201a8\"],[0.3333333333333333,\"#9c179e\"],[0.4444444444444444,\"#bd3786\"],[0.5555555555555556,\"#d8576b\"],[0.6666666666666666,\"#ed7953\"],[0.7777777777777778,\"#fb9f3a\"],[0.8888888888888888,\"#fdca26\"],[1.0,\"#f0f921\"]]}],\"choropleth\":[{\"type\":\"choropleth\",\"colorbar\":{\"outlinewidth\":0,\"ticks\":\"\"}}],\"histogram2d\":[{\"type\":\"histogram2d\",\"colorbar\":{\"outlinewidth\":0,\"ticks\":\"\"},\"colorscale\":[[0.0,\"#0d0887\"],[0.1111111111111111,\"#46039f\"],[0.2222222222222222,\"#7201a8\"],[0.3333333333333333,\"#9c179e\"],[0.4444444444444444,\"#bd3786\"],[0.5555555555555556,\"#d8576b\"],[0.6666666666666666,\"#ed7953\"],[0.7777777777777778,\"#fb9f3a\"],[0.8888888888888888,\"#fdca26\"],[1.0,\"#f0f921\"]]}],\"heatmap\":[{\"type\":\"heatmap\",\"colorbar\":{\"outlinewidth\":0,\"ticks\":\"\"},\"colorscale\":[[0.0,\"#0d0887\"],[0.1111111111111111,\"#46039f\"],[0.2222222222222222,\"#7201a8\"],[0.3333333333333333,\"#9c179e\"],[0.4444444444444444,\"#bd3786\"],[0.5555555555555556,\"#d8576b\"],[0.6666666666666666,\"#ed7953\"],[0.7777777777777778,\"#fb9f3a\"],[0.8888888888888888,\"#fdca26\"],[1.0,\"#f0f921\"]]}],\"heatmapgl\":[{\"type\":\"heatmapgl\",\"colorbar\":{\"outlinewidth\":0,\"ticks\":\"\"},\"colorscale\":[[0.0,\"#0d0887\"],[0.1111111111111111,\"#46039f\"],[0.2222222222222222,\"#7201a8\"],[0.3333333333333333,\"#9c179e\"],[0.4444444444444444,\"#bd3786\"],[0.5555555555555556,\"#d8576b\"],[0.6666666666666666,\"#ed7953\"],[0.7777777777777778,\"#fb9f3a\"],[0.8888888888888888,\"#fdca26\"],[1.0,\"#f0f921\"]]}],\"contourcarpet\":[{\"type\":\"contourcarpet\",\"colorbar\":{\"outlinewidth\":0,\"ticks\":\"\"}}],\"contour\":[{\"type\":\"contour\",\"colorbar\":{\"outlinewidth\":0,\"ticks\":\"\"},\"colorscale\":[[0.0,\"#0d0887\"],[0.1111111111111111,\"#46039f\"],[0.2222222222222222,\"#7201a8\"],[0.3333333333333333,\"#9c179e\"],[0.4444444444444444,\"#bd3786\"],[0.5555555555555556,\"#d8576b\"],[0.6666666666666666,\"#ed7953\"],[0.7777777777777778,\"#fb9f3a\"],[0.8888888888888888,\"#fdca26\"],[1.0,\"#f0f921\"]]}],\"surface\":[{\"type\":\"surface\",\"colorbar\":{\"outlinewidth\":0,\"ticks\":\"\"},\"colorscale\":[[0.0,\"#0d0887\"],[0.1111111111111111,\"#46039f\"],[0.2222222222222222,\"#7201a8\"],[0.3333333333333333,\"#9c179e\"],[0.4444444444444444,\"#bd3786\"],[0.5555555555555556,\"#d8576b\"],[0.6666666666666666,\"#ed7953\"],[0.7777777777777778,\"#fb9f3a\"],[0.8888888888888888,\"#fdca26\"],[1.0,\"#f0f921\"]]}],\"mesh3d\":[{\"type\":\"mesh3d\",\"colorbar\":{\"outlinewidth\":0,\"ticks\":\"\"}}],\"scatter\":[{\"fillpattern\":{\"fillmode\":\"overlay\",\"size\":10,\"solidity\":0.2},\"type\":\"scatter\"}],\"parcoords\":[{\"type\":\"parcoords\",\"line\":{\"colorbar\":{\"outlinewidth\":0,\"ticks\":\"\"}}}],\"scatterpolargl\":[{\"type\":\"scatterpolargl\",\"marker\":{\"colorbar\":{\"outlinewidth\":0,\"ticks\":\"\"}}}],\"bar\":[{\"error_x\":{\"color\":\"#2a3f5f\"},\"error_y\":{\"color\":\"#2a3f5f\"},\"marker\":{\"line\":{\"color\":\"#E5ECF6\",\"width\":0.5},\"pattern\":{\"fillmode\":\"overlay\",\"size\":10,\"solidity\":0.2}},\"type\":\"bar\"}],\"scattergeo\":[{\"type\":\"scattergeo\",\"marker\":{\"colorbar\":{\"outlinewidth\":0,\"ticks\":\"\"}}}],\"scatterpolar\":[{\"type\":\"scatterpolar\",\"marker\":{\"colorbar\":{\"outlinewidth\":0,\"ticks\":\"\"}}}],\"histogram\":[{\"marker\":{\"pattern\":{\"fillmode\":\"overlay\",\"size\":10,\"solidity\":0.2}},\"type\":\"histogram\"}],\"scattergl\":[{\"type\":\"scattergl\",\"marker\":{\"colorbar\":{\"outlinewidth\":0,\"ticks\":\"\"}}}],\"scatter3d\":[{\"type\":\"scatter3d\",\"line\":{\"colorbar\":{\"outlinewidth\":0,\"ticks\":\"\"}},\"marker\":{\"colorbar\":{\"outlinewidth\":0,\"ticks\":\"\"}}}],\"scattermapbox\":[{\"type\":\"scattermapbox\",\"marker\":{\"colorbar\":{\"outlinewidth\":0,\"ticks\":\"\"}}}],\"scatterternary\":[{\"type\":\"scatterternary\",\"marker\":{\"colorbar\":{\"outlinewidth\":0,\"ticks\":\"\"}}}],\"scattercarpet\":[{\"type\":\"scattercarpet\",\"marker\":{\"colorbar\":{\"outlinewidth\":0,\"ticks\":\"\"}}}],\"carpet\":[{\"aaxis\":{\"endlinecolor\":\"#2a3f5f\",\"gridcolor\":\"white\",\"linecolor\":\"white\",\"minorgridcolor\":\"white\",\"startlinecolor\":\"#2a3f5f\"},\"baxis\":{\"endlinecolor\":\"#2a3f5f\",\"gridcolor\":\"white\",\"linecolor\":\"white\",\"minorgridcolor\":\"white\",\"startlinecolor\":\"#2a3f5f\"},\"type\":\"carpet\"}],\"table\":[{\"cells\":{\"fill\":{\"color\":\"#EBF0F8\"},\"line\":{\"color\":\"white\"}},\"header\":{\"fill\":{\"color\":\"#C8D4E3\"},\"line\":{\"color\":\"white\"}},\"type\":\"table\"}],\"barpolar\":[{\"marker\":{\"line\":{\"color\":\"#E5ECF6\",\"width\":0.5},\"pattern\":{\"fillmode\":\"overlay\",\"size\":10,\"solidity\":0.2}},\"type\":\"barpolar\"}],\"pie\":[{\"automargin\":true,\"type\":\"pie\"}]},\"layout\":{\"autotypenumbers\":\"strict\",\"colorway\":[\"#636efa\",\"#EF553B\",\"#00cc96\",\"#ab63fa\",\"#FFA15A\",\"#19d3f3\",\"#FF6692\",\"#B6E880\",\"#FF97FF\",\"#FECB52\"],\"font\":{\"color\":\"#2a3f5f\"},\"hovermode\":\"closest\",\"hoverlabel\":{\"align\":\"left\"},\"paper_bgcolor\":\"white\",\"plot_bgcolor\":\"#E5ECF6\",\"polar\":{\"bgcolor\":\"#E5ECF6\",\"angularaxis\":{\"gridcolor\":\"white\",\"linecolor\":\"white\",\"ticks\":\"\"},\"radialaxis\":{\"gridcolor\":\"white\",\"linecolor\":\"white\",\"ticks\":\"\"}},\"ternary\":{\"bgcolor\":\"#E5ECF6\",\"aaxis\":{\"gridcolor\":\"white\",\"linecolor\":\"white\",\"ticks\":\"\"},\"baxis\":{\"gridcolor\":\"white\",\"linecolor\":\"white\",\"ticks\":\"\"},\"caxis\":{\"gridcolor\":\"white\",\"linecolor\":\"white\",\"ticks\":\"\"}},\"coloraxis\":{\"colorbar\":{\"outlinewidth\":0,\"ticks\":\"\"}},\"colorscale\":{\"sequential\":[[0.0,\"#0d0887\"],[0.1111111111111111,\"#46039f\"],[0.2222222222222222,\"#7201a8\"],[0.3333333333333333,\"#9c179e\"],[0.4444444444444444,\"#bd3786\"],[0.5555555555555556,\"#d8576b\"],[0.6666666666666666,\"#ed7953\"],[0.7777777777777778,\"#fb9f3a\"],[0.8888888888888888,\"#fdca26\"],[1.0,\"#f0f921\"]],\"sequentialminus\":[[0.0,\"#0d0887\"],[0.1111111111111111,\"#46039f\"],[0.2222222222222222,\"#7201a8\"],[0.3333333333333333,\"#9c179e\"],[0.4444444444444444,\"#bd3786\"],[0.5555555555555556,\"#d8576b\"],[0.6666666666666666,\"#ed7953\"],[0.7777777777777778,\"#fb9f3a\"],[0.8888888888888888,\"#fdca26\"],[1.0,\"#f0f921\"]],\"diverging\":[[0,\"#8e0152\"],[0.1,\"#c51b7d\"],[0.2,\"#de77ae\"],[0.3,\"#f1b6da\"],[0.4,\"#fde0ef\"],[0.5,\"#f7f7f7\"],[0.6,\"#e6f5d0\"],[0.7,\"#b8e186\"],[0.8,\"#7fbc41\"],[0.9,\"#4d9221\"],[1,\"#276419\"]]},\"xaxis\":{\"gridcolor\":\"white\",\"linecolor\":\"white\",\"ticks\":\"\",\"title\":{\"standoff\":15},\"zerolinecolor\":\"white\",\"automargin\":true,\"zerolinewidth\":2},\"yaxis\":{\"gridcolor\":\"white\",\"linecolor\":\"white\",\"ticks\":\"\",\"title\":{\"standoff\":15},\"zerolinecolor\":\"white\",\"automargin\":true,\"zerolinewidth\":2},\"scene\":{\"xaxis\":{\"backgroundcolor\":\"#E5ECF6\",\"gridcolor\":\"white\",\"linecolor\":\"white\",\"showbackground\":true,\"ticks\":\"\",\"zerolinecolor\":\"white\",\"gridwidth\":2},\"yaxis\":{\"backgroundcolor\":\"#E5ECF6\",\"gridcolor\":\"white\",\"linecolor\":\"white\",\"showbackground\":true,\"ticks\":\"\",\"zerolinecolor\":\"white\",\"gridwidth\":2},\"zaxis\":{\"backgroundcolor\":\"#E5ECF6\",\"gridcolor\":\"white\",\"linecolor\":\"white\",\"showbackground\":true,\"ticks\":\"\",\"zerolinecolor\":\"white\",\"gridwidth\":2}},\"shapedefaults\":{\"line\":{\"color\":\"#2a3f5f\"}},\"annotationdefaults\":{\"arrowcolor\":\"#2a3f5f\",\"arrowhead\":0,\"arrowwidth\":1},\"geo\":{\"bgcolor\":\"white\",\"landcolor\":\"#E5ECF6\",\"subunitcolor\":\"white\",\"showland\":true,\"showlakes\":true,\"lakecolor\":\"white\"},\"title\":{\"x\":0.05},\"mapbox\":{\"style\":\"light\"}}},\"xaxis\":{\"title\":{\"font\":{\"size\":18},\"text\":\"Day\"}},\"yaxis\":{\"title\":{\"font\":{\"size\":18},\"text\":\"Usage Count\"}},\"plot_bgcolor\":\"white\",\"title\":{\"text\":\"Usage count of top tags\"}},                        {\"responsive\": true}                    ).then(function(){\n",
       "                            \n",
       "var gd = document.getElementById('9572b65c-8013-4a1f-9efa-734bb9a477be');\n",
       "var x = new MutationObserver(function (mutations, observer) {{\n",
       "        var display = window.getComputedStyle(gd).display;\n",
       "        if (!display || display === 'none') {{\n",
       "            console.log([gd, 'removed!']);\n",
       "            Plotly.purge(gd);\n",
       "            observer.disconnect();\n",
       "        }}\n",
       "}});\n",
       "\n",
       "// Listen for the removal of the full notebook cells\n",
       "var notebookContainer = gd.closest('#notebook-container');\n",
       "if (notebookContainer) {{\n",
       "    x.observe(notebookContainer, {childList: true});\n",
       "}}\n",
       "\n",
       "// Listen for the clearing of the current output cell\n",
       "var outputEl = gd.closest('.output');\n",
       "if (outputEl) {{\n",
       "    x.observe(outputEl, {childList: true});\n",
       "}}\n",
       "\n",
       "                        })                };                });            </script>        </div>"
      ]
     },
     "metadata": {},
     "output_type": "display_data"
    }
   ],
   "source": [
    "### Creating a plot displaying the usage count of different tags over the last 7 days\n",
    "\n",
    "fig = go.Figure()\n",
    "for tag in file2['name'].unique():\n",
    "    df_tag = file2[file2['name'] == tag]\n",
    "    fig.add_trace(go.Scatter(x=df_tag['days'], y=df_tag['usage_count'], name = tag))\n",
    "\n",
    "fig.update_layout(\n",
    "    plot_bgcolor=\"white\",\n",
    "    title = 'Usage count of top tags',\n",
    "    xaxis = {\n",
    "        'title' :{\n",
    "            'font' : {\n",
    "                'size' : 18\n",
    "            },\n",
    "            'text' : 'Day'\n",
    "        }\n",
    "    },\n",
    "    yaxis = {\n",
    "        'title' :{\n",
    "            'font' : {\n",
    "                'size' : 18\n",
    "            },\n",
    "            'text' : 'Usage Count'\n",
    "        }\n",
    "    }\n",
    ")\n",
    "\n",
    "fig.show()"
   ]
  },
  {
   "cell_type": "code",
   "execution_count": 67,
   "id": "a02e6919-3755-46f8-b370-8bd51d8dd050",
   "metadata": {},
   "outputs": [
    {
     "name": "stdout",
     "output_type": "stream",
     "text": [
      "                            OLS Regression Results                            \n",
      "==============================================================================\n",
      "Dep. Variable:         accounts_using   R-squared:                       0.948\n",
      "Model:                            OLS   Adj. R-squared:                  0.947\n",
      "Method:                 Least Squares   F-statistic:                     2502.\n",
      "Date:                Fri, 31 May 2024   Prob (F-statistic):           2.50e-90\n",
      "Time:                        11:31:53   Log-Likelihood:                -561.71\n",
      "No. Observations:                 140   AIC:                             1127.\n",
      "Df Residuals:                     138   BIC:                             1133.\n",
      "Df Model:                           1                                         \n",
      "Covariance Type:            nonrobust                                         \n",
      "===============================================================================\n",
      "                  coef    std err          t      P>|t|      [0.025      0.975]\n",
      "-------------------------------------------------------------------------------\n",
      "const           0.6253      1.218      0.513      0.609      -1.783       3.034\n",
      "usage_count     0.5553      0.011     50.025      0.000       0.533       0.577\n",
      "==============================================================================\n",
      "Omnibus:                      102.339   Durbin-Watson:                   1.692\n",
      "Prob(Omnibus):                  0.000   Jarque-Bera (JB):             2216.254\n",
      "Skew:                          -2.107   Prob(JB):                         0.00\n",
      "Kurtosis:                      22.031   Cond. No.                         117.\n",
      "==============================================================================\n",
      "\n",
      "Notes:\n",
      "[1] Standard Errors assume that the covariance matrix of the errors is correctly specified.\n"
     ]
    },
    {
     "data": {
      "application/vnd.plotly.v1+json": {
       "config": {
        "plotlyServerURL": "https://plot.ly"
       },
       "data": [
        {
         "mode": "markers",
         "name": "The values from the dataset",
         "type": "scatter",
         "x": [
          226,
          2,
          2,
          2,
          1,
          0,
          9,
          214,
          11,
          3,
          0,
          0,
          1,
          2,
          87,
          3,
          2,
          0,
          0,
          0,
          18,
          62,
          2,
          2,
          1,
          5,
          0,
          5,
          157,
          0,
          0,
          0,
          0,
          0,
          0,
          45,
          0,
          0,
          0,
          0,
          0,
          0,
          46,
          0,
          0,
          0,
          0,
          0,
          0,
          40,
          0,
          0,
          0,
          0,
          0,
          0,
          32,
          1,
          1,
          0,
          1,
          0,
          3,
          36,
          0,
          0,
          0,
          0,
          0,
          0,
          764,
          325,
          371,
          161,
          171,
          160,
          216,
          58,
          0,
          0,
          79,
          19,
          5,
          61,
          594,
          172,
          123,
          97,
          45,
          23,
          12,
          63,
          7,
          2,
          0,
          1,
          1,
          0,
          19,
          0,
          0,
          0,
          0,
          0,
          0,
          107,
          11,
          1,
          0,
          1,
          0,
          0,
          293,
          130,
          210,
          12,
          7,
          5,
          12,
          23,
          1,
          3,
          0,
          0,
          3,
          1,
          46,
          2,
          0,
          0,
          0,
          0,
          0,
          21,
          1,
          0,
          0,
          0,
          0,
          0
         ],
         "y": [
          92,
          2,
          2,
          1,
          1,
          0,
          9,
          149,
          8,
          2,
          0,
          0,
          1,
          2,
          81,
          3,
          2,
          0,
          0,
          0,
          9,
          42,
          1,
          2,
          1,
          2,
          0,
          2,
          60,
          0,
          0,
          0,
          0,
          0,
          0,
          40,
          0,
          0,
          0,
          0,
          0,
          0,
          37,
          0,
          0,
          0,
          0,
          0,
          0,
          35,
          0,
          0,
          0,
          0,
          0,
          0,
          28,
          1,
          1,
          0,
          1,
          0,
          3,
          26,
          0,
          0,
          0,
          0,
          0,
          0,
          486,
          158,
          138,
          96,
          111,
          91,
          121,
          52,
          0,
          0,
          31,
          7,
          4,
          42,
          326,
          118,
          76,
          57,
          35,
          17,
          12,
          39,
          3,
          2,
          0,
          1,
          1,
          0,
          19,
          0,
          0,
          0,
          0,
          0,
          0,
          96,
          11,
          1,
          0,
          1,
          0,
          0,
          154,
          42,
          31,
          7,
          4,
          5,
          7,
          18,
          1,
          3,
          0,
          0,
          3,
          1,
          23,
          2,
          0,
          0,
          0,
          0,
          0,
          20,
          1,
          0,
          0,
          0,
          0,
          0
         ]
        },
        {
         "name": "The regression model",
         "type": "scatter",
         "x": [
          0,
          1,
          2,
          3,
          4,
          5,
          6,
          7,
          8,
          9,
          10,
          11,
          12,
          13,
          14,
          15,
          16,
          17,
          18,
          19,
          20,
          21,
          22,
          23,
          24,
          25,
          26,
          27,
          28,
          29,
          30,
          31,
          32,
          33,
          34,
          35,
          36,
          37,
          38,
          39,
          40,
          41,
          42,
          43,
          44,
          45,
          46,
          47,
          48,
          49,
          50,
          51,
          52,
          53,
          54,
          55,
          56,
          57,
          58,
          59,
          60,
          61,
          62,
          63,
          64,
          65,
          66,
          67,
          68,
          69,
          70,
          71,
          72,
          73,
          74,
          75,
          76,
          77,
          78,
          79,
          80,
          81,
          82,
          83,
          84,
          85,
          86,
          87,
          88,
          89,
          90,
          91,
          92,
          93,
          94,
          95,
          96,
          97,
          98,
          99,
          100,
          101,
          102,
          103,
          104,
          105,
          106,
          107,
          108,
          109,
          110,
          111,
          112,
          113,
          114,
          115,
          116,
          117,
          118,
          119,
          120,
          121,
          122,
          123,
          124,
          125,
          126,
          127,
          128,
          129,
          130,
          131,
          132,
          133,
          134,
          135,
          136,
          137,
          138,
          139,
          140,
          141,
          142,
          143,
          144,
          145,
          146,
          147,
          148,
          149,
          150,
          151,
          152,
          153,
          154,
          155,
          156,
          157,
          158,
          159,
          160,
          161,
          162,
          163,
          164,
          165,
          166,
          167,
          168,
          169,
          170,
          171,
          172,
          173,
          174,
          175,
          176,
          177,
          178,
          179,
          180,
          181,
          182,
          183,
          184,
          185,
          186,
          187,
          188,
          189,
          190,
          191,
          192,
          193,
          194,
          195,
          196,
          197,
          198,
          199,
          200,
          201,
          202,
          203,
          204,
          205,
          206,
          207,
          208,
          209,
          210,
          211,
          212,
          213,
          214,
          215,
          216,
          217,
          218,
          219,
          220,
          221,
          222,
          223,
          224,
          225,
          226,
          227,
          228,
          229,
          230,
          231,
          232,
          233,
          234,
          235,
          236,
          237,
          238,
          239,
          240,
          241,
          242,
          243,
          244,
          245,
          246,
          247,
          248,
          249,
          250,
          251,
          252,
          253,
          254,
          255,
          256,
          257,
          258,
          259,
          260,
          261,
          262,
          263,
          264,
          265,
          266,
          267,
          268,
          269,
          270,
          271,
          272,
          273,
          274,
          275,
          276,
          277,
          278,
          279,
          280,
          281,
          282,
          283,
          284,
          285,
          286,
          287,
          288,
          289,
          290,
          291,
          292,
          293,
          294,
          295,
          296,
          297,
          298,
          299,
          300,
          301,
          302,
          303,
          304,
          305,
          306,
          307,
          308,
          309,
          310,
          311,
          312,
          313,
          314,
          315,
          316,
          317,
          318,
          319,
          320,
          321,
          322,
          323,
          324,
          325,
          326,
          327,
          328,
          329,
          330,
          331,
          332,
          333,
          334,
          335,
          336,
          337,
          338,
          339,
          340,
          341,
          342,
          343,
          344,
          345,
          346,
          347,
          348,
          349,
          350,
          351,
          352,
          353,
          354,
          355,
          356,
          357,
          358,
          359,
          360,
          361,
          362,
          363,
          364,
          365,
          366,
          367,
          368,
          369,
          370,
          371,
          372,
          373,
          374,
          375,
          376,
          377,
          378,
          379,
          380,
          381,
          382,
          383,
          384,
          385,
          386,
          387,
          388,
          389,
          390,
          391,
          392,
          393,
          394,
          395,
          396,
          397,
          398,
          399,
          400,
          401,
          402,
          403,
          404,
          405,
          406,
          407,
          408,
          409,
          410,
          411,
          412,
          413,
          414,
          415,
          416,
          417,
          418,
          419,
          420,
          421,
          422,
          423,
          424,
          425,
          426,
          427,
          428,
          429,
          430,
          431,
          432,
          433,
          434,
          435,
          436,
          437,
          438,
          439,
          440,
          441,
          442,
          443,
          444,
          445,
          446,
          447,
          448,
          449,
          450,
          451,
          452,
          453,
          454,
          455,
          456,
          457,
          458,
          459,
          460,
          461,
          462,
          463,
          464,
          465,
          466,
          467,
          468,
          469,
          470,
          471,
          472,
          473,
          474,
          475,
          476,
          477,
          478,
          479,
          480,
          481,
          482,
          483,
          484,
          485,
          486,
          487,
          488,
          489,
          490,
          491,
          492,
          493,
          494,
          495,
          496,
          497,
          498,
          499,
          500,
          501,
          502,
          503,
          504,
          505,
          506,
          507,
          508,
          509,
          510,
          511,
          512,
          513,
          514,
          515,
          516,
          517,
          518,
          519,
          520,
          521,
          522,
          523,
          524,
          525,
          526,
          527,
          528,
          529,
          530,
          531,
          532,
          533,
          534,
          535,
          536,
          537,
          538,
          539,
          540,
          541,
          542,
          543,
          544,
          545,
          546,
          547,
          548,
          549,
          550,
          551,
          552,
          553,
          554,
          555,
          556,
          557,
          558,
          559,
          560,
          561,
          562,
          563,
          564,
          565,
          566,
          567,
          568,
          569,
          570,
          571,
          572,
          573,
          574,
          575,
          576,
          577,
          578,
          579,
          580,
          581,
          582,
          583,
          584,
          585,
          586,
          587,
          588,
          589,
          590,
          591,
          592,
          593,
          594,
          595,
          596,
          597,
          598,
          599,
          600,
          601,
          602,
          603,
          604,
          605,
          606,
          607,
          608,
          609,
          610,
          611,
          612,
          613,
          614,
          615,
          616,
          617,
          618,
          619,
          620,
          621,
          622,
          623,
          624,
          625,
          626,
          627,
          628,
          629,
          630,
          631,
          632,
          633,
          634,
          635,
          636,
          637,
          638,
          639,
          640,
          641,
          642,
          643,
          644,
          645,
          646,
          647,
          648,
          649,
          650,
          651,
          652,
          653,
          654,
          655,
          656,
          657,
          658,
          659,
          660,
          661,
          662,
          663,
          664,
          665,
          666,
          667,
          668,
          669,
          670,
          671,
          672,
          673,
          674,
          675,
          676,
          677,
          678,
          679,
          680,
          681,
          682,
          683,
          684,
          685,
          686,
          687,
          688,
          689,
          690,
          691,
          692,
          693,
          694,
          695,
          696,
          697,
          698,
          699,
          700,
          701,
          702,
          703,
          704,
          705,
          706,
          707,
          708,
          709,
          710,
          711,
          712,
          713,
          714,
          715,
          716,
          717,
          718,
          719,
          720,
          721,
          722,
          723,
          724,
          725,
          726,
          727,
          728,
          729,
          730,
          731,
          732,
          733,
          734,
          735,
          736,
          737,
          738,
          739,
          740,
          741,
          742,
          743,
          744,
          745,
          746,
          747,
          748,
          749,
          750,
          751,
          752,
          753,
          754,
          755,
          756,
          757,
          758,
          759,
          760,
          761,
          762,
          763,
          764,
          765,
          766,
          767,
          768,
          769,
          770,
          771,
          772,
          773,
          774,
          775,
          776,
          777,
          778,
          779,
          780,
          781,
          782,
          783,
          784,
          785,
          786,
          787,
          788,
          789,
          790,
          791,
          792,
          793,
          794,
          795,
          796,
          797,
          798,
          799
         ],
         "y": [
          0.6253082078160803,
          1.1806015333802162,
          1.7358948589443524,
          2.2911881845084885,
          2.8464815100726244,
          3.4017748356367603,
          3.9570681612008967,
          4.512361486765032,
          5.0676548123291685,
          5.622948137893305,
          6.17824146345744,
          6.733534789021577,
          7.288828114585713,
          7.8441214401498485,
          8.399414765713985,
          8.954708091278121,
          9.510001416842258,
          10.065294742406394,
          10.62058806797053,
          11.175881393534663,
          11.7311747190988,
          12.286468044662936,
          12.841761370227072,
          13.397054695791208,
          13.952348021355345,
          14.507641346919481,
          15.062934672483618,
          15.618227998047754,
          16.17352132361189,
          16.728814649176023,
          17.28410797474016,
          17.839401300304296,
          18.394694625868432,
          18.94998795143257,
          19.505281276996705,
          20.06057460256084,
          20.615867928124977,
          21.171161253689114,
          21.726454579253247,
          22.281747904817383,
          22.83704123038152,
          23.392334555945656,
          23.947627881509792,
          24.50292120707393,
          25.058214532638065,
          25.6135078582022,
          26.168801183766337,
          26.724094509330474,
          27.27938783489461,
          27.834681160458743,
          28.38997448602288,
          28.945267811587016,
          29.500561137151152,
          30.05585446271529,
          30.611147788279425,
          31.16644111384356,
          31.721734439407697,
          32.277027764971834,
          32.83232109053597,
          33.38761441610011,
          33.94290774166424,
          34.49820106722838,
          35.053494392792516,
          35.60878771835665,
          36.16408104392079,
          36.719374369484925,
          37.27466769504906,
          37.8299610206132,
          38.385254346177334,
          38.94054767174147,
          39.495840997305606,
          40.05113432286974,
          40.60642764843388,
          41.161720973998015,
          41.71701429956215,
          42.27230762512628,
          42.82760095069042,
          43.382894276254554,
          43.93818760181869,
          44.49348092738283,
          45.04877425294696,
          45.6040675785111,
          46.159360904075236,
          46.71465422963937,
          47.26994755520351,
          47.825240880767645,
          48.38053420633178,
          48.93582753189592,
          49.491120857460054,
          50.04641418302419,
          50.601707508588326,
          51.15700083415246,
          51.7122941597166,
          52.267587485280735,
          52.82288081084487,
          53.37817413640901,
          53.933467461973144,
          54.488760787537274,
          55.04405411310141,
          55.599347438665546,
          56.15464076422968,
          56.70993408979382,
          57.265227415357955,
          57.82052074092209,
          58.37581406648623,
          58.931107392050365,
          59.4864007176145,
          60.04169404317864,
          60.596987368742774,
          61.15228069430691,
          61.707574019871046,
          62.26286734543518,
          62.81816067099932,
          63.373453996563455,
          63.92874732212759,
          64.48404064769173,
          65.03933397325585,
          65.59462729881999,
          66.14992062438412,
          66.70521394994826,
          67.2605072755124,
          67.81580060107653,
          68.37109392664067,
          68.9263872522048,
          69.48168057776894,
          70.03697390333308,
          70.59226722889721,
          71.14756055446135,
          71.70285388002549,
          72.25814720558962,
          72.81344053115376,
          73.3687338567179,
          73.92402718228203,
          74.47932050784617,
          75.0346138334103,
          75.58990715897444,
          76.14520048453858,
          76.70049381010271,
          77.25578713566685,
          77.81108046123099,
          78.36637378679512,
          78.92166711235926,
          79.4769604379234,
          80.03225376348753,
          80.58754708905167,
          81.1428404146158,
          81.69813374017994,
          82.25342706574408,
          82.80872039130821,
          83.36401371687235,
          83.91930704243647,
          84.47460036800061,
          85.02989369356474,
          85.58518701912888,
          86.14048034469302,
          86.69577367025715,
          87.25106699582129,
          87.80636032138543,
          88.36165364694956,
          88.9169469725137,
          89.47224029807784,
          90.02753362364197,
          90.58282694920611,
          91.13812027477024,
          91.69341360033438,
          92.24870692589852,
          92.80400025146265,
          93.35929357702679,
          93.91458690259093,
          94.46988022815506,
          95.0251735537192,
          95.58046687928334,
          96.13576020484747,
          96.69105353041161,
          97.24634685597574,
          97.80164018153988,
          98.35693350710402,
          98.91222683266815,
          99.46752015823229,
          100.02281348379643,
          100.57810680936056,
          101.1334001349247,
          101.68869346048884,
          102.24398678605297,
          102.79928011161711,
          103.35457343718124,
          103.90986676274538,
          104.46516008830952,
          105.02045341387365,
          105.57574673943779,
          106.13104006500193,
          106.68633339056606,
          107.2416267161302,
          107.79692004169432,
          108.35221336725846,
          108.9075066928226,
          109.46280001838673,
          110.01809334395087,
          110.573386669515,
          111.12867999507914,
          111.68397332064328,
          112.23926664620741,
          112.79455997177155,
          113.34985329733568,
          113.90514662289982,
          114.46043994846396,
          115.0157332740281,
          115.57102659959223,
          116.12631992515637,
          116.6816132507205,
          117.23690657628464,
          117.79219990184878,
          118.34749322741291,
          118.90278655297705,
          119.45807987854118,
          120.01337320410532,
          120.56866652966946,
          121.1239598552336,
          121.67925318079773,
          122.23454650636187,
          122.789839831926,
          123.34513315749014,
          123.90042648305428,
          124.45571980861841,
          125.01101313418255,
          125.56630645974668,
          126.12159978531082,
          126.67689311087496,
          127.2321864364391,
          127.78747976200323,
          128.34277308756737,
          128.89806641313152,
          129.45335973869564,
          130.0086530642598,
          130.5639463898239,
          131.11923971538806,
          131.67453304095218,
          132.22982636651633,
          132.78511969208046,
          133.3404130176446,
          133.89570634320873,
          134.45099966877288,
          135.006292994337,
          135.56158631990115,
          136.11687964546527,
          136.67217297102943,
          137.22746629659355,
          137.7827596221577,
          138.33805294772182,
          138.89334627328597,
          139.4486395988501,
          140.00393292441424,
          140.55922624997837,
          141.11451957554252,
          141.66981290110664,
          142.2251062266708,
          142.7803995522349,
          143.33569287779903,
          143.89098620336318,
          144.4462795289273,
          145.00157285449146,
          145.55686618005558,
          146.11215950561973,
          146.66745283118385,
          147.222746156748,
          147.77803948231212,
          148.33333280787627,
          148.8886261334404,
          149.44391945900455,
          149.99921278456867,
          150.55450611013282,
          151.10979943569694,
          151.6650927612611,
          152.22038608682521,
          152.77567941238937,
          153.3309727379535,
          153.88626606351764,
          154.44155938908176,
          154.9968527146459,
          155.55214604021003,
          156.10743936577418,
          156.6627326913383,
          157.21802601690246,
          157.77331934246658,
          158.32861266803073,
          158.88390599359485,
          159.439199319159,
          159.99449264472312,
          160.54978597028727,
          161.1050792958514,
          161.66037262141555,
          162.21566594697967,
          162.77095927254382,
          163.32625259810794,
          163.8815459236721,
          164.43683924923621,
          164.99213257480037,
          165.5474259003645,
          166.10271922592864,
          166.65801255149276,
          167.21330587705688,
          167.76859920262103,
          168.32389252818516,
          168.8791858537493,
          169.43447917931343,
          169.98977250487758,
          170.5450658304417,
          171.10035915600585,
          171.65565248156997,
          172.21094580713412,
          172.76623913269825,
          173.3215324582624,
          173.87682578382652,
          174.43211910939067,
          174.9874124349548,
          175.54270576051894,
          176.09799908608306,
          176.65329241164721,
          177.20858573721134,
          177.7638790627755,
          178.3191723883396,
          178.87446571390376,
          179.42975903946788,
          179.98505236503203,
          180.54034569059615,
          181.0956390161603,
          181.65093234172443,
          182.20622566728858,
          182.7615189928527,
          183.31681231841685,
          183.87210564398097,
          184.42739896954512,
          184.98269229510925,
          185.5379856206734,
          186.09327894623752,
          186.64857227180167,
          187.2038655973658,
          187.75915892292994,
          188.31445224849406,
          188.86974557405821,
          189.42503889962234,
          189.9803322251865,
          190.5356255507506,
          191.09091887631473,
          191.64621220187888,
          192.201505527443,
          192.75679885300715,
          193.31209217857128,
          193.86738550413543,
          194.42267882969955,
          194.9779721552637,
          195.53326548082782,
          196.08855880639197,
          196.6438521319561,
          197.19914545752025,
          197.75443878308437,
          198.30973210864852,
          198.86502543421264,
          199.4203187597768,
          199.9756120853409,
          200.53090541090506,
          201.08619873646919,
          201.64149206203334,
          202.19678538759746,
          202.7520787131616,
          203.30737203872573,
          203.86266536428988,
          204.417958689854,
          204.97325201541815,
          205.52854534098228,
          206.08383866654643,
          206.63913199211055,
          207.1944253176747,
          207.74971864323882,
          208.30501196880297,
          208.8603052943671,
          209.41559861993125,
          209.97089194549537,
          210.52618527105952,
          211.08147859662364,
          211.6367719221878,
          212.1920652477519,
          212.74735857331606,
          213.30265189888019,
          213.85794522444434,
          214.41323855000846,
          214.96853187557258,
          215.52382520113673,
          216.07911852670085,
          216.634411852265,
          217.18970517782913,
          217.74499850339328,
          218.3002918289574,
          218.85558515452155,
          219.41087848008567,
          219.96617180564982,
          220.52146513121394,
          221.0767584567781,
          221.63205178234222,
          222.18734510790637,
          222.7426384334705,
          223.29793175903464,
          223.85322508459876,
          224.4085184101629,
          224.96381173572703,
          225.51910506129119,
          226.0743983868553,
          226.62969171241946,
          227.18498503798358,
          227.74027836354773,
          228.29557168911185,
          228.850865014676,
          229.40615834024013,
          229.96145166580428,
          230.5167449913684,
          231.07203831693255,
          231.62733164249667,
          232.18262496806082,
          232.73791829362494,
          233.2932116191891,
          233.84850494475322,
          234.40379827031737,
          234.9590915958815,
          235.51438492144564,
          236.06967824700976,
          236.6249715725739,
          237.18026489813803,
          237.73555822370216,
          238.2908515492663,
          238.84614487483043,
          239.40143820039458,
          239.9567315259587,
          240.51202485152285,
          241.06731817708697,
          241.62261150265113,
          242.17790482821525,
          242.7331981537794,
          243.28849147934352,
          243.84378480490767,
          244.3990781304718,
          244.95437145603594,
          245.50966478160007,
          246.06495810716422,
          246.62025143272834,
          247.1755447582925,
          247.7308380838566,
          248.28613140942076,
          248.84142473498488,
          249.39671806054903,
          249.95201138611316,
          250.5073047116773,
          251.06259803724143,
          251.61789136280558,
          252.1731846883697,
          252.72847801393385,
          253.28377133949797,
          253.83906466506212,
          254.39435799062625,
          254.9496513161904,
          255.50494464175452,
          256.06023796731864,
          256.6155312928828,
          257.17082461844694,
          257.7261179440111,
          258.2814112695752,
          258.83670459513934,
          259.3919979207035,
          259.94729124626764,
          260.50258457183173,
          261.0578778973959,
          261.61317122296003,
          262.1684645485241,
          262.7237578740883,
          263.27905119965243,
          263.8343445252166,
          264.3896378507807,
          264.9449311763448,
          265.500224501909,
          266.0555178274731,
          266.6108111530372,
          267.16610447860137,
          267.7213978041655,
          268.27669112972967,
          268.83198445529376,
          269.3872777808579,
          269.94257110642206,
          270.4978644319862,
          271.0531577575503,
          271.60845108311446,
          272.1637444086786,
          272.71903773424276,
          273.27433105980685,
          273.829624385371,
          274.38491771093516,
          274.9402110364993,
          275.4955043620634,
          276.05079768762755,
          276.6060910131917,
          277.16138433875585,
          277.71667766431995,
          278.2719709898841,
          278.82726431544825,
          279.3825576410124,
          279.9378509665765,
          280.49314429214064,
          281.0484376177048,
          281.60373094326894,
          282.15902426883304,
          282.7143175943972,
          283.26961091996134,
          283.8249042455255,
          284.3801975710896,
          284.93549089665373,
          285.4907842222179,
          286.046077547782,
          286.6013708733461,
          287.1566641989103,
          287.7119575244744,
          288.2672508500385,
          288.8225441756027,
          289.3778375011668,
          289.933130826731,
          290.48842415229507,
          291.0437174778592,
          291.59901080342337,
          292.1543041289875,
          292.7095974545516,
          293.26489078011576,
          293.8201841056799,
          294.37547743124406,
          294.93077075680816,
          295.4860640823723,
          296.04135740793646,
          296.5966507335006,
          297.1519440590647,
          297.70723738462885,
          298.262530710193,
          298.81782403575716,
          299.37311736132125,
          299.9284106868854,
          300.48370401244955,
          301.0389973380137,
          301.5942906635778,
          302.14958398914195,
          302.7048773147061,
          303.26017064027025,
          303.81546396583434,
          304.3707572913985,
          304.92605061696264,
          305.4813439425268,
          306.0366372680909,
          306.59193059365504,
          307.1472239192192,
          307.70251724478334,
          308.25781057034743,
          308.8131038959116,
          309.36839722147573,
          309.9236905470398,
          310.478983872604,
          311.0342771981681,
          311.5895705237323,
          312.14486384929637,
          312.7001571748605,
          313.2554505004247,
          313.8107438259888,
          314.3660371515529,
          314.92133047711707,
          315.4766238026812,
          316.03191712824537,
          316.58721045380946,
          317.1425037793736,
          317.69779710493776,
          318.2530904305019,
          318.808383756066,
          319.36367708163016,
          319.9189704071943,
          320.47426373275846,
          321.02955705832255,
          321.5848503838867,
          322.14014370945085,
          322.695437035015,
          323.2507303605791,
          323.80602368614325,
          324.3613170117074,
          324.91661033727155,
          325.47190366283564,
          326.0271969883998,
          326.58249031396394,
          327.1377836395281,
          327.6930769650922,
          328.24837029065634,
          328.8036636162205,
          329.35895694178464,
          329.91425026734873,
          330.4695435929129,
          331.02483691847704,
          331.5801302440412,
          332.1354235696053,
          332.69071689516943,
          333.2460102207336,
          333.8013035462977,
          334.3565968718618,
          334.911890197426,
          335.4671835229901,
          336.0224768485542,
          336.57777017411837,
          337.1330634996825,
          337.6883568252467,
          338.24365015081077,
          338.7989434763749,
          339.35423680193907,
          339.9095301275032,
          340.4648234530673,
          341.02011677863146,
          341.5754101041956,
          342.13070342975976,
          342.68599675532386,
          343.241290080888,
          343.79658340645216,
          344.3518767320163,
          344.9071700575804,
          345.46246338314455,
          346.0177567087087,
          346.57305003427285,
          347.12834335983695,
          347.6836366854011,
          348.23893001096525,
          348.7942233365294,
          349.3495166620935,
          349.90480998765764,
          350.4601033132218,
          351.01539663878594,
          351.57068996435004,
          352.1259832899142,
          352.68127661547834,
          353.2365699410425,
          353.7918632666066,
          354.34715659217073,
          354.9024499177349,
          355.45774324329903,
          356.01303656886313,
          356.5683298944273,
          357.12362321999143,
          357.6789165455555,
          358.2342098711197,
          358.7895031966838,
          359.344796522248,
          359.90008984781207,
          360.4553831733762,
          361.01067649894037,
          361.5659698245045,
          362.1212631500686,
          362.67655647563276,
          363.2318498011969,
          363.78714312676107,
          364.34243645232516,
          364.8977297778893,
          365.45302310345346,
          366.0083164290176,
          366.5636097545817,
          367.11890308014586,
          367.67419640571,
          368.22948973127416,
          368.78478305683825,
          369.3400763824024,
          369.89536970796655,
          370.4506630335307,
          371.0059563590948,
          371.56124968465895,
          372.1165430102231,
          372.67183633578725,
          373.22712966135134,
          373.7824229869155,
          374.33771631247964,
          374.8930096380438,
          375.4483029636079,
          376.00359628917204,
          376.5588896147362,
          377.11418294030034,
          377.66947626586443,
          378.2247695914286,
          378.78006291699273,
          379.3353562425569,
          379.890649568121,
          380.4459428936851,
          381.0012362192493,
          381.5565295448134,
          382.1118228703775,
          382.6671161959417,
          383.2224095215058,
          383.7777028470699,
          384.33299617263407,
          384.8882894981982,
          385.44358282376237,
          385.99887614932646,
          386.5541694748906,
          387.10946280045476,
          387.6647561260189,
          388.220049451583,
          388.77534277714716,
          389.3306361027113,
          389.88592942827546,
          390.44122275383955,
          390.9965160794037,
          391.55180940496786,
          392.107102730532,
          392.6623960560961,
          393.21768938166025,
          393.7729827072244,
          394.32827603278855,
          394.88356935835264,
          395.4388626839168,
          395.99415600948095,
          396.5494493350451,
          397.1047426606092,
          397.66003598617334,
          398.2153293117375,
          398.77062263730164,
          399.32591596286574,
          399.8812092884299,
          400.43650261399404,
          400.9917959395582,
          401.5470892651223,
          402.10238259068643,
          402.6576759162506,
          403.21296924181473,
          403.7682625673788,
          404.323555892943,
          404.8788492185071,
          405.4341425440712,
          405.9894358696354,
          406.5447291951995,
          407.1000225207637,
          407.65531584632777,
          408.2106091718919,
          408.76590249745607,
          409.3211958230202,
          409.8764891485843,
          410.43178247414846,
          410.9870757997126,
          411.54236912527676,
          412.09766245084086,
          412.652955776405,
          413.20824910196916,
          413.7635424275333,
          414.3188357530974,
          414.87412907866155,
          415.4294224042257,
          415.98471572978985,
          416.54000905535395,
          417.0953023809181,
          417.65059570648225,
          418.2058890320464,
          418.7611823576105,
          419.31647568317464,
          419.8717690087388,
          420.42706233430295,
          420.98235565986704,
          421.5376489854312,
          422.09294231099534,
          422.6482356365595,
          423.2035289621236,
          423.75882228768774,
          424.3141156132519,
          424.86940893881604,
          425.42470226438013,
          425.9799955899443,
          426.53528891550843,
          427.0905822410726,
          427.6458755666367,
          428.2011688922008,
          428.756462217765,
          429.31175554332907,
          429.8670488688932,
          430.42234219445737,
          430.9776355200215,
          431.5329288455856,
          432.08822217114977,
          432.6435154967139,
          433.19880882227807,
          433.75410214784216,
          434.3093954734063,
          434.86468879897046,
          435.4199821245346,
          435.9752754500987,
          436.53056877566286,
          437.085862101227,
          437.64115542679116,
          438.19644875235525,
          438.7517420779194,
          439.30703540348355,
          439.8623287290477,
          440.4176220546118,
          440.97291538017595,
          441.5282087057401,
          442.08350203130425,
          442.63879535686834,
          443.1940886824325,
          443.74938200799664,
          444.3046753335608
         ]
        }
       ],
       "layout": {
        "autosize": true,
        "plot_bgcolor": "white",
        "template": {
         "data": {
          "bar": [
           {
            "error_x": {
             "color": "#2a3f5f"
            },
            "error_y": {
             "color": "#2a3f5f"
            },
            "marker": {
             "line": {
              "color": "#E5ECF6",
              "width": 0.5
             },
             "pattern": {
              "fillmode": "overlay",
              "size": 10,
              "solidity": 0.2
             }
            },
            "type": "bar"
           }
          ],
          "barpolar": [
           {
            "marker": {
             "line": {
              "color": "#E5ECF6",
              "width": 0.5
             },
             "pattern": {
              "fillmode": "overlay",
              "size": 10,
              "solidity": 0.2
             }
            },
            "type": "barpolar"
           }
          ],
          "carpet": [
           {
            "aaxis": {
             "endlinecolor": "#2a3f5f",
             "gridcolor": "white",
             "linecolor": "white",
             "minorgridcolor": "white",
             "startlinecolor": "#2a3f5f"
            },
            "baxis": {
             "endlinecolor": "#2a3f5f",
             "gridcolor": "white",
             "linecolor": "white",
             "minorgridcolor": "white",
             "startlinecolor": "#2a3f5f"
            },
            "type": "carpet"
           }
          ],
          "choropleth": [
           {
            "colorbar": {
             "outlinewidth": 0,
             "ticks": ""
            },
            "type": "choropleth"
           }
          ],
          "contour": [
           {
            "colorbar": {
             "outlinewidth": 0,
             "ticks": ""
            },
            "colorscale": [
             [
              0,
              "#0d0887"
             ],
             [
              0.1111111111111111,
              "#46039f"
             ],
             [
              0.2222222222222222,
              "#7201a8"
             ],
             [
              0.3333333333333333,
              "#9c179e"
             ],
             [
              0.4444444444444444,
              "#bd3786"
             ],
             [
              0.5555555555555556,
              "#d8576b"
             ],
             [
              0.6666666666666666,
              "#ed7953"
             ],
             [
              0.7777777777777778,
              "#fb9f3a"
             ],
             [
              0.8888888888888888,
              "#fdca26"
             ],
             [
              1,
              "#f0f921"
             ]
            ],
            "type": "contour"
           }
          ],
          "contourcarpet": [
           {
            "colorbar": {
             "outlinewidth": 0,
             "ticks": ""
            },
            "type": "contourcarpet"
           }
          ],
          "heatmap": [
           {
            "colorbar": {
             "outlinewidth": 0,
             "ticks": ""
            },
            "colorscale": [
             [
              0,
              "#0d0887"
             ],
             [
              0.1111111111111111,
              "#46039f"
             ],
             [
              0.2222222222222222,
              "#7201a8"
             ],
             [
              0.3333333333333333,
              "#9c179e"
             ],
             [
              0.4444444444444444,
              "#bd3786"
             ],
             [
              0.5555555555555556,
              "#d8576b"
             ],
             [
              0.6666666666666666,
              "#ed7953"
             ],
             [
              0.7777777777777778,
              "#fb9f3a"
             ],
             [
              0.8888888888888888,
              "#fdca26"
             ],
             [
              1,
              "#f0f921"
             ]
            ],
            "type": "heatmap"
           }
          ],
          "heatmapgl": [
           {
            "colorbar": {
             "outlinewidth": 0,
             "ticks": ""
            },
            "colorscale": [
             [
              0,
              "#0d0887"
             ],
             [
              0.1111111111111111,
              "#46039f"
             ],
             [
              0.2222222222222222,
              "#7201a8"
             ],
             [
              0.3333333333333333,
              "#9c179e"
             ],
             [
              0.4444444444444444,
              "#bd3786"
             ],
             [
              0.5555555555555556,
              "#d8576b"
             ],
             [
              0.6666666666666666,
              "#ed7953"
             ],
             [
              0.7777777777777778,
              "#fb9f3a"
             ],
             [
              0.8888888888888888,
              "#fdca26"
             ],
             [
              1,
              "#f0f921"
             ]
            ],
            "type": "heatmapgl"
           }
          ],
          "histogram": [
           {
            "marker": {
             "pattern": {
              "fillmode": "overlay",
              "size": 10,
              "solidity": 0.2
             }
            },
            "type": "histogram"
           }
          ],
          "histogram2d": [
           {
            "colorbar": {
             "outlinewidth": 0,
             "ticks": ""
            },
            "colorscale": [
             [
              0,
              "#0d0887"
             ],
             [
              0.1111111111111111,
              "#46039f"
             ],
             [
              0.2222222222222222,
              "#7201a8"
             ],
             [
              0.3333333333333333,
              "#9c179e"
             ],
             [
              0.4444444444444444,
              "#bd3786"
             ],
             [
              0.5555555555555556,
              "#d8576b"
             ],
             [
              0.6666666666666666,
              "#ed7953"
             ],
             [
              0.7777777777777778,
              "#fb9f3a"
             ],
             [
              0.8888888888888888,
              "#fdca26"
             ],
             [
              1,
              "#f0f921"
             ]
            ],
            "type": "histogram2d"
           }
          ],
          "histogram2dcontour": [
           {
            "colorbar": {
             "outlinewidth": 0,
             "ticks": ""
            },
            "colorscale": [
             [
              0,
              "#0d0887"
             ],
             [
              0.1111111111111111,
              "#46039f"
             ],
             [
              0.2222222222222222,
              "#7201a8"
             ],
             [
              0.3333333333333333,
              "#9c179e"
             ],
             [
              0.4444444444444444,
              "#bd3786"
             ],
             [
              0.5555555555555556,
              "#d8576b"
             ],
             [
              0.6666666666666666,
              "#ed7953"
             ],
             [
              0.7777777777777778,
              "#fb9f3a"
             ],
             [
              0.8888888888888888,
              "#fdca26"
             ],
             [
              1,
              "#f0f921"
             ]
            ],
            "type": "histogram2dcontour"
           }
          ],
          "mesh3d": [
           {
            "colorbar": {
             "outlinewidth": 0,
             "ticks": ""
            },
            "type": "mesh3d"
           }
          ],
          "parcoords": [
           {
            "line": {
             "colorbar": {
              "outlinewidth": 0,
              "ticks": ""
             }
            },
            "type": "parcoords"
           }
          ],
          "pie": [
           {
            "automargin": true,
            "type": "pie"
           }
          ],
          "scatter": [
           {
            "fillpattern": {
             "fillmode": "overlay",
             "size": 10,
             "solidity": 0.2
            },
            "type": "scatter"
           }
          ],
          "scatter3d": [
           {
            "line": {
             "colorbar": {
              "outlinewidth": 0,
              "ticks": ""
             }
            },
            "marker": {
             "colorbar": {
              "outlinewidth": 0,
              "ticks": ""
             }
            },
            "type": "scatter3d"
           }
          ],
          "scattercarpet": [
           {
            "marker": {
             "colorbar": {
              "outlinewidth": 0,
              "ticks": ""
             }
            },
            "type": "scattercarpet"
           }
          ],
          "scattergeo": [
           {
            "marker": {
             "colorbar": {
              "outlinewidth": 0,
              "ticks": ""
             }
            },
            "type": "scattergeo"
           }
          ],
          "scattergl": [
           {
            "marker": {
             "colorbar": {
              "outlinewidth": 0,
              "ticks": ""
             }
            },
            "type": "scattergl"
           }
          ],
          "scattermapbox": [
           {
            "marker": {
             "colorbar": {
              "outlinewidth": 0,
              "ticks": ""
             }
            },
            "type": "scattermapbox"
           }
          ],
          "scatterpolar": [
           {
            "marker": {
             "colorbar": {
              "outlinewidth": 0,
              "ticks": ""
             }
            },
            "type": "scatterpolar"
           }
          ],
          "scatterpolargl": [
           {
            "marker": {
             "colorbar": {
              "outlinewidth": 0,
              "ticks": ""
             }
            },
            "type": "scatterpolargl"
           }
          ],
          "scatterternary": [
           {
            "marker": {
             "colorbar": {
              "outlinewidth": 0,
              "ticks": ""
             }
            },
            "type": "scatterternary"
           }
          ],
          "surface": [
           {
            "colorbar": {
             "outlinewidth": 0,
             "ticks": ""
            },
            "colorscale": [
             [
              0,
              "#0d0887"
             ],
             [
              0.1111111111111111,
              "#46039f"
             ],
             [
              0.2222222222222222,
              "#7201a8"
             ],
             [
              0.3333333333333333,
              "#9c179e"
             ],
             [
              0.4444444444444444,
              "#bd3786"
             ],
             [
              0.5555555555555556,
              "#d8576b"
             ],
             [
              0.6666666666666666,
              "#ed7953"
             ],
             [
              0.7777777777777778,
              "#fb9f3a"
             ],
             [
              0.8888888888888888,
              "#fdca26"
             ],
             [
              1,
              "#f0f921"
             ]
            ],
            "type": "surface"
           }
          ],
          "table": [
           {
            "cells": {
             "fill": {
              "color": "#EBF0F8"
             },
             "line": {
              "color": "white"
             }
            },
            "header": {
             "fill": {
              "color": "#C8D4E3"
             },
             "line": {
              "color": "white"
             }
            },
            "type": "table"
           }
          ]
         },
         "layout": {
          "annotationdefaults": {
           "arrowcolor": "#2a3f5f",
           "arrowhead": 0,
           "arrowwidth": 1
          },
          "autotypenumbers": "strict",
          "coloraxis": {
           "colorbar": {
            "outlinewidth": 0,
            "ticks": ""
           }
          },
          "colorscale": {
           "diverging": [
            [
             0,
             "#8e0152"
            ],
            [
             0.1,
             "#c51b7d"
            ],
            [
             0.2,
             "#de77ae"
            ],
            [
             0.3,
             "#f1b6da"
            ],
            [
             0.4,
             "#fde0ef"
            ],
            [
             0.5,
             "#f7f7f7"
            ],
            [
             0.6,
             "#e6f5d0"
            ],
            [
             0.7,
             "#b8e186"
            ],
            [
             0.8,
             "#7fbc41"
            ],
            [
             0.9,
             "#4d9221"
            ],
            [
             1,
             "#276419"
            ]
           ],
           "sequential": [
            [
             0,
             "#0d0887"
            ],
            [
             0.1111111111111111,
             "#46039f"
            ],
            [
             0.2222222222222222,
             "#7201a8"
            ],
            [
             0.3333333333333333,
             "#9c179e"
            ],
            [
             0.4444444444444444,
             "#bd3786"
            ],
            [
             0.5555555555555556,
             "#d8576b"
            ],
            [
             0.6666666666666666,
             "#ed7953"
            ],
            [
             0.7777777777777778,
             "#fb9f3a"
            ],
            [
             0.8888888888888888,
             "#fdca26"
            ],
            [
             1,
             "#f0f921"
            ]
           ],
           "sequentialminus": [
            [
             0,
             "#0d0887"
            ],
            [
             0.1111111111111111,
             "#46039f"
            ],
            [
             0.2222222222222222,
             "#7201a8"
            ],
            [
             0.3333333333333333,
             "#9c179e"
            ],
            [
             0.4444444444444444,
             "#bd3786"
            ],
            [
             0.5555555555555556,
             "#d8576b"
            ],
            [
             0.6666666666666666,
             "#ed7953"
            ],
            [
             0.7777777777777778,
             "#fb9f3a"
            ],
            [
             0.8888888888888888,
             "#fdca26"
            ],
            [
             1,
             "#f0f921"
            ]
           ]
          },
          "colorway": [
           "#636efa",
           "#EF553B",
           "#00cc96",
           "#ab63fa",
           "#FFA15A",
           "#19d3f3",
           "#FF6692",
           "#B6E880",
           "#FF97FF",
           "#FECB52"
          ],
          "font": {
           "color": "#2a3f5f"
          },
          "geo": {
           "bgcolor": "white",
           "lakecolor": "white",
           "landcolor": "#E5ECF6",
           "showlakes": true,
           "showland": true,
           "subunitcolor": "white"
          },
          "hoverlabel": {
           "align": "left"
          },
          "hovermode": "closest",
          "mapbox": {
           "style": "light"
          },
          "paper_bgcolor": "white",
          "plot_bgcolor": "#E5ECF6",
          "polar": {
           "angularaxis": {
            "gridcolor": "white",
            "linecolor": "white",
            "ticks": ""
           },
           "bgcolor": "#E5ECF6",
           "radialaxis": {
            "gridcolor": "white",
            "linecolor": "white",
            "ticks": ""
           }
          },
          "scene": {
           "xaxis": {
            "backgroundcolor": "#E5ECF6",
            "gridcolor": "white",
            "gridwidth": 2,
            "linecolor": "white",
            "showbackground": true,
            "ticks": "",
            "zerolinecolor": "white"
           },
           "yaxis": {
            "backgroundcolor": "#E5ECF6",
            "gridcolor": "white",
            "gridwidth": 2,
            "linecolor": "white",
            "showbackground": true,
            "ticks": "",
            "zerolinecolor": "white"
           },
           "zaxis": {
            "backgroundcolor": "#E5ECF6",
            "gridcolor": "white",
            "gridwidth": 2,
            "linecolor": "white",
            "showbackground": true,
            "ticks": "",
            "zerolinecolor": "white"
           }
          },
          "shapedefaults": {
           "line": {
            "color": "#2a3f5f"
           }
          },
          "ternary": {
           "aaxis": {
            "gridcolor": "white",
            "linecolor": "white",
            "ticks": ""
           },
           "baxis": {
            "gridcolor": "white",
            "linecolor": "white",
            "ticks": ""
           },
           "bgcolor": "#E5ECF6",
           "caxis": {
            "gridcolor": "white",
            "linecolor": "white",
            "ticks": ""
           }
          },
          "title": {
           "x": 0.05
          },
          "xaxis": {
           "automargin": true,
           "gridcolor": "white",
           "linecolor": "white",
           "ticks": "",
           "title": {
            "standoff": 15
           },
           "zerolinecolor": "white",
           "zerolinewidth": 2
          },
          "yaxis": {
           "automargin": true,
           "gridcolor": "white",
           "linecolor": "white",
           "ticks": "",
           "title": {
            "standoff": 15
           },
           "zerolinecolor": "white",
           "zerolinewidth": 2
          }
         }
        },
        "title": {
         "text": "Usage count of top tags vs the number of accounts using them"
        },
        "xaxis": {
         "autorange": true,
         "range": [
          -47.05196121001592,
          811.0519612100159
         ],
         "title": {
          "font": {
           "size": 18
          },
          "text": "Usage Count"
         },
         "type": "linear"
        },
        "yaxis": {
         "autorange": true,
         "range": [
          -40.10679611650485,
          526.1067961165048
         ],
         "title": {
          "font": {
           "size": 18
          },
          "text": "Accounts using"
         },
         "type": "linear"
        }
       }
      },
      "image/png": "[encoded data removed]",
      "text/html": [
       "<div>                            <div id=\"a559cd94-9e41-4ca6-acb0-7cbd016ba4f6\" class=\"plotly-graph-div\" style=\"height:525px; width:100%;\"></div>            <script type=\"text/javascript\">                require([\"plotly\"], function(Plotly) {                    window.PLOTLYENV=window.PLOTLYENV || {};                                    if (document.getElementById(\"a559cd94-9e41-4ca6-acb0-7cbd016ba4f6\")) {                    Plotly.newPlot(                        \"a559cd94-9e41-4ca6-acb0-7cbd016ba4f6\",                        [{\"mode\":\"markers\",\"name\":\"The values from the dataset\",\"x\":[226,2,2,2,1,0,9,214,11,3,0,0,1,2,87,3,2,0,0,0,18,62,2,2,1,5,0,5,157,0,0,0,0,0,0,45,0,0,0,0,0,0,46,0,0,0,0,0,0,40,0,0,0,0,0,0,32,1,1,0,1,0,3,36,0,0,0,0,0,0,764,325,371,161,171,160,216,58,0,0,79,19,5,61,594,172,123,97,45,23,12,63,7,2,0,1,1,0,19,0,0,0,0,0,0,107,11,1,0,1,0,0,293,130,210,12,7,5,12,23,1,3,0,0,3,1,46,2,0,0,0,0,0,21,1,0,0,0,0,0],\"y\":[92,2,2,1,1,0,9,149,8,2,0,0,1,2,81,3,2,0,0,0,9,42,1,2,1,2,0,2,60,0,0,0,0,0,0,40,0,0,0,0,0,0,37,0,0,0,0,0,0,35,0,0,0,0,0,0,28,1,1,0,1,0,3,26,0,0,0,0,0,0,486,158,138,96,111,91,121,52,0,0,31,7,4,42,326,118,76,57,35,17,12,39,3,2,0,1,1,0,19,0,0,0,0,0,0,96,11,1,0,1,0,0,154,42,31,7,4,5,7,18,1,3,0,0,3,1,23,2,0,0,0,0,0,20,1,0,0,0,0,0],\"type\":\"scatter\"},{\"name\":\"The regression model\",\"x\":[0,1,2,3,4,5,6,7,8,9,10,11,12,13,14,15,16,17,18,19,20,21,22,23,24,25,26,27,28,29,30,31,32,33,34,35,36,37,38,39,40,41,42,43,44,45,46,47,48,49,50,51,52,53,54,55,56,57,58,59,60,61,62,63,64,65,66,67,68,69,70,71,72,73,74,75,76,77,78,79,80,81,82,83,84,85,86,87,88,89,90,91,92,93,94,95,96,97,98,99,100,101,102,103,104,105,106,107,108,109,110,111,112,113,114,115,116,117,118,119,120,121,122,123,124,125,126,127,128,129,130,131,132,133,134,135,136,137,138,139,140,141,142,143,144,145,146,147,148,149,150,151,152,153,154,155,156,157,158,159,160,161,162,163,164,165,166,167,168,169,170,171,172,173,174,175,176,177,178,179,180,181,182,183,184,185,186,187,188,189,190,191,192,193,194,195,196,197,198,199,200,201,202,203,204,205,206,207,208,209,210,211,212,213,214,215,216,217,218,219,220,221,222,223,224,225,226,227,228,229,230,231,232,233,234,235,236,237,238,239,240,241,242,243,244,245,246,247,248,249,250,251,252,253,254,255,256,257,258,259,260,261,262,263,264,265,266,267,268,269,270,271,272,273,274,275,276,277,278,279,280,281,282,283,284,285,286,287,288,289,290,291,292,293,294,295,296,297,298,299,300,301,302,303,304,305,306,307,308,309,310,311,312,313,314,315,316,317,318,319,320,321,322,323,324,325,326,327,328,329,330,331,332,333,334,335,336,337,338,339,340,341,342,343,344,345,346,347,348,349,350,351,352,353,354,355,356,357,358,359,360,361,362,363,364,365,366,367,368,369,370,371,372,373,374,375,376,377,378,379,380,381,382,383,384,385,386,387,388,389,390,391,392,393,394,395,396,397,398,399,400,401,402,403,404,405,406,407,408,409,410,411,412,413,414,415,416,417,418,419,420,421,422,423,424,425,426,427,428,429,430,431,432,433,434,435,436,437,438,439,440,441,442,443,444,445,446,447,448,449,450,451,452,453,454,455,456,457,458,459,460,461,462,463,464,465,466,467,468,469,470,471,472,473,474,475,476,477,478,479,480,481,482,483,484,485,486,487,488,489,490,491,492,493,494,495,496,497,498,499,500,501,502,503,504,505,506,507,508,509,510,511,512,513,514,515,516,517,518,519,520,521,522,523,524,525,526,527,528,529,530,531,532,533,534,535,536,537,538,539,540,541,542,543,544,545,546,547,548,549,550,551,552,553,554,555,556,557,558,559,560,561,562,563,564,565,566,567,568,569,570,571,572,573,574,575,576,577,578,579,580,581,582,583,584,585,586,587,588,589,590,591,592,593,594,595,596,597,598,599,600,601,602,603,604,605,606,607,608,609,610,611,612,613,614,615,616,617,618,619,620,621,622,623,624,625,626,627,628,629,630,631,632,633,634,635,636,637,638,639,640,641,642,643,644,645,646,647,648,649,650,651,652,653,654,655,656,657,658,659,660,661,662,663,664,665,666,667,668,669,670,671,672,673,674,675,676,677,678,679,680,681,682,683,684,685,686,687,688,689,690,691,692,693,694,695,696,697,698,699,700,701,702,703,704,705,706,707,708,709,710,711,712,713,714,715,716,717,718,719,720,721,722,723,724,725,726,727,728,729,730,731,732,733,734,735,736,737,738,739,740,741,742,743,744,745,746,747,748,749,750,751,752,753,754,755,756,757,758,759,760,761,762,763,764,765,766,767,768,769,770,771,772,773,774,775,776,777,778,779,780,781,782,783,784,785,786,787,788,789,790,791,792,793,794,795,796,797,798,799],\"y\":[0.6253082078160803,1.1806015333802162,1.7358948589443524,2.2911881845084885,2.8464815100726244,3.4017748356367603,3.9570681612008967,4.512361486765032,5.0676548123291685,5.622948137893305,6.17824146345744,6.733534789021577,7.288828114585713,7.8441214401498485,8.399414765713985,8.954708091278121,9.510001416842258,10.065294742406394,10.62058806797053,11.175881393534663,11.7311747190988,12.286468044662936,12.841761370227072,13.397054695791208,13.952348021355345,14.507641346919481,15.062934672483618,15.618227998047754,16.17352132361189,16.728814649176023,17.28410797474016,17.839401300304296,18.394694625868432,18.94998795143257,19.505281276996705,20.06057460256084,20.615867928124977,21.171161253689114,21.726454579253247,22.281747904817383,22.83704123038152,23.392334555945656,23.947627881509792,24.50292120707393,25.058214532638065,25.6135078582022,26.168801183766337,26.724094509330474,27.27938783489461,27.834681160458743,28.38997448602288,28.945267811587016,29.500561137151152,30.05585446271529,30.611147788279425,31.16644111384356,31.721734439407697,32.277027764971834,32.83232109053597,33.38761441610011,33.94290774166424,34.49820106722838,35.053494392792516,35.60878771835665,36.16408104392079,36.719374369484925,37.27466769504906,37.8299610206132,38.385254346177334,38.94054767174147,39.495840997305606,40.05113432286974,40.60642764843388,41.161720973998015,41.71701429956215,42.27230762512628,42.82760095069042,43.382894276254554,43.93818760181869,44.49348092738283,45.04877425294696,45.6040675785111,46.159360904075236,46.71465422963937,47.26994755520351,47.825240880767645,48.38053420633178,48.93582753189592,49.491120857460054,50.04641418302419,50.601707508588326,51.15700083415246,51.7122941597166,52.267587485280735,52.82288081084487,53.37817413640901,53.933467461973144,54.488760787537274,55.04405411310141,55.599347438665546,56.15464076422968,56.70993408979382,57.265227415357955,57.82052074092209,58.37581406648623,58.931107392050365,59.4864007176145,60.04169404317864,60.596987368742774,61.15228069430691,61.707574019871046,62.26286734543518,62.81816067099932,63.373453996563455,63.92874732212759,64.48404064769173,65.03933397325585,65.59462729881999,66.14992062438412,66.70521394994826,67.2605072755124,67.81580060107653,68.37109392664067,68.9263872522048,69.48168057776894,70.03697390333308,70.59226722889721,71.14756055446135,71.70285388002549,72.25814720558962,72.81344053115376,73.3687338567179,73.92402718228203,74.47932050784617,75.0346138334103,75.58990715897444,76.14520048453858,76.70049381010271,77.25578713566685,77.81108046123099,78.36637378679512,78.92166711235926,79.4769604379234,80.03225376348753,80.58754708905167,81.1428404146158,81.69813374017994,82.25342706574408,82.80872039130821,83.36401371687235,83.91930704243647,84.47460036800061,85.02989369356474,85.58518701912888,86.14048034469302,86.69577367025715,87.25106699582129,87.80636032138543,88.36165364694956,88.9169469725137,89.47224029807784,90.02753362364197,90.58282694920611,91.13812027477024,91.69341360033438,92.24870692589852,92.80400025146265,93.35929357702679,93.91458690259093,94.46988022815506,95.0251735537192,95.58046687928334,96.13576020484747,96.69105353041161,97.24634685597574,97.80164018153988,98.35693350710402,98.91222683266815,99.46752015823229,100.02281348379643,100.57810680936056,101.1334001349247,101.68869346048884,102.24398678605297,102.79928011161711,103.35457343718124,103.90986676274538,104.46516008830952,105.02045341387365,105.57574673943779,106.13104006500193,106.68633339056606,107.2416267161302,107.79692004169432,108.35221336725846,108.9075066928226,109.46280001838673,110.01809334395087,110.573386669515,111.12867999507914,111.68397332064328,112.23926664620741,112.79455997177155,113.34985329733568,113.90514662289982,114.46043994846396,115.0157332740281,115.57102659959223,116.12631992515637,116.6816132507205,117.23690657628464,117.79219990184878,118.34749322741291,118.90278655297705,119.45807987854118,120.01337320410532,120.56866652966946,121.1239598552336,121.67925318079773,122.23454650636187,122.789839831926,123.34513315749014,123.90042648305428,124.45571980861841,125.01101313418255,125.56630645974668,126.12159978531082,126.67689311087496,127.2321864364391,127.78747976200323,128.34277308756737,128.89806641313152,129.45335973869564,130.0086530642598,130.5639463898239,131.11923971538806,131.67453304095218,132.22982636651633,132.78511969208046,133.3404130176446,133.89570634320873,134.45099966877288,135.006292994337,135.56158631990115,136.11687964546527,136.67217297102943,137.22746629659355,137.7827596221577,138.33805294772182,138.89334627328597,139.4486395988501,140.00393292441424,140.55922624997837,141.11451957554252,141.66981290110664,142.2251062266708,142.7803995522349,143.33569287779903,143.89098620336318,144.4462795289273,145.00157285449146,145.55686618005558,146.11215950561973,146.66745283118385,147.222746156748,147.77803948231212,148.33333280787627,148.8886261334404,149.44391945900455,149.99921278456867,150.55450611013282,151.10979943569694,151.6650927612611,152.22038608682521,152.77567941238937,153.3309727379535,153.88626606351764,154.44155938908176,154.9968527146459,155.55214604021003,156.10743936577418,156.6627326913383,157.21802601690246,157.77331934246658,158.32861266803073,158.88390599359485,159.439199319159,159.99449264472312,160.54978597028727,161.1050792958514,161.66037262141555,162.21566594697967,162.77095927254382,163.32625259810794,163.8815459236721,164.43683924923621,164.99213257480037,165.5474259003645,166.10271922592864,166.65801255149276,167.21330587705688,167.76859920262103,168.32389252818516,168.8791858537493,169.43447917931343,169.98977250487758,170.5450658304417,171.10035915600585,171.65565248156997,172.21094580713412,172.76623913269825,173.3215324582624,173.87682578382652,174.43211910939067,174.9874124349548,175.54270576051894,176.09799908608306,176.65329241164721,177.20858573721134,177.7638790627755,178.3191723883396,178.87446571390376,179.42975903946788,179.98505236503203,180.54034569059615,181.0956390161603,181.65093234172443,182.20622566728858,182.7615189928527,183.31681231841685,183.87210564398097,184.42739896954512,184.98269229510925,185.5379856206734,186.09327894623752,186.64857227180167,187.2038655973658,187.75915892292994,188.31445224849406,188.86974557405821,189.42503889962234,189.9803322251865,190.5356255507506,191.09091887631473,191.64621220187888,192.201505527443,192.75679885300715,193.31209217857128,193.86738550413543,194.42267882969955,194.9779721552637,195.53326548082782,196.08855880639197,196.6438521319561,197.19914545752025,197.75443878308437,198.30973210864852,198.86502543421264,199.4203187597768,199.9756120853409,200.53090541090506,201.08619873646919,201.64149206203334,202.19678538759746,202.7520787131616,203.30737203872573,203.86266536428988,204.417958689854,204.97325201541815,205.52854534098228,206.08383866654643,206.63913199211055,207.1944253176747,207.74971864323882,208.30501196880297,208.8603052943671,209.41559861993125,209.97089194549537,210.52618527105952,211.08147859662364,211.6367719221878,212.1920652477519,212.74735857331606,213.30265189888019,213.85794522444434,214.41323855000846,214.96853187557258,215.52382520113673,216.07911852670085,216.634411852265,217.18970517782913,217.74499850339328,218.3002918289574,218.85558515452155,219.41087848008567,219.96617180564982,220.52146513121394,221.0767584567781,221.63205178234222,222.18734510790637,222.7426384334705,223.29793175903464,223.85322508459876,224.4085184101629,224.96381173572703,225.51910506129119,226.0743983868553,226.62969171241946,227.18498503798358,227.74027836354773,228.29557168911185,228.850865014676,229.40615834024013,229.96145166580428,230.5167449913684,231.07203831693255,231.62733164249667,232.18262496806082,232.73791829362494,233.2932116191891,233.84850494475322,234.40379827031737,234.9590915958815,235.51438492144564,236.06967824700976,236.6249715725739,237.18026489813803,237.73555822370216,238.2908515492663,238.84614487483043,239.40143820039458,239.9567315259587,240.51202485152285,241.06731817708697,241.62261150265113,242.17790482821525,242.7331981537794,243.28849147934352,243.84378480490767,244.3990781304718,244.95437145603594,245.50966478160007,246.06495810716422,246.62025143272834,247.1755447582925,247.7308380838566,248.28613140942076,248.84142473498488,249.39671806054903,249.95201138611316,250.5073047116773,251.06259803724143,251.61789136280558,252.1731846883697,252.72847801393385,253.28377133949797,253.83906466506212,254.39435799062625,254.9496513161904,255.50494464175452,256.06023796731864,256.6155312928828,257.17082461844694,257.7261179440111,258.2814112695752,258.83670459513934,259.3919979207035,259.94729124626764,260.50258457183173,261.0578778973959,261.61317122296003,262.1684645485241,262.7237578740883,263.27905119965243,263.8343445252166,264.3896378507807,264.9449311763448,265.500224501909,266.0555178274731,266.6108111530372,267.16610447860137,267.7213978041655,268.27669112972967,268.83198445529376,269.3872777808579,269.94257110642206,270.4978644319862,271.0531577575503,271.60845108311446,272.1637444086786,272.71903773424276,273.27433105980685,273.829624385371,274.38491771093516,274.9402110364993,275.4955043620634,276.05079768762755,276.6060910131917,277.16138433875585,277.71667766431995,278.2719709898841,278.82726431544825,279.3825576410124,279.9378509665765,280.49314429214064,281.0484376177048,281.60373094326894,282.15902426883304,282.7143175943972,283.26961091996134,283.8249042455255,284.3801975710896,284.93549089665373,285.4907842222179,286.046077547782,286.6013708733461,287.1566641989103,287.7119575244744,288.2672508500385,288.8225441756027,289.3778375011668,289.933130826731,290.48842415229507,291.0437174778592,291.59901080342337,292.1543041289875,292.7095974545516,293.26489078011576,293.8201841056799,294.37547743124406,294.93077075680816,295.4860640823723,296.04135740793646,296.5966507335006,297.1519440590647,297.70723738462885,298.262530710193,298.81782403575716,299.37311736132125,299.9284106868854,300.48370401244955,301.0389973380137,301.5942906635778,302.14958398914195,302.7048773147061,303.26017064027025,303.81546396583434,304.3707572913985,304.92605061696264,305.4813439425268,306.0366372680909,306.59193059365504,307.1472239192192,307.70251724478334,308.25781057034743,308.8131038959116,309.36839722147573,309.9236905470398,310.478983872604,311.0342771981681,311.5895705237323,312.14486384929637,312.7001571748605,313.2554505004247,313.8107438259888,314.3660371515529,314.92133047711707,315.4766238026812,316.03191712824537,316.58721045380946,317.1425037793736,317.69779710493776,318.2530904305019,318.808383756066,319.36367708163016,319.9189704071943,320.47426373275846,321.02955705832255,321.5848503838867,322.14014370945085,322.695437035015,323.2507303605791,323.80602368614325,324.3613170117074,324.91661033727155,325.47190366283564,326.0271969883998,326.58249031396394,327.1377836395281,327.6930769650922,328.24837029065634,328.8036636162205,329.35895694178464,329.91425026734873,330.4695435929129,331.02483691847704,331.5801302440412,332.1354235696053,332.69071689516943,333.2460102207336,333.8013035462977,334.3565968718618,334.911890197426,335.4671835229901,336.0224768485542,336.57777017411837,337.1330634996825,337.6883568252467,338.24365015081077,338.7989434763749,339.35423680193907,339.9095301275032,340.4648234530673,341.02011677863146,341.5754101041956,342.13070342975976,342.68599675532386,343.241290080888,343.79658340645216,344.3518767320163,344.9071700575804,345.46246338314455,346.0177567087087,346.57305003427285,347.12834335983695,347.6836366854011,348.23893001096525,348.7942233365294,349.3495166620935,349.90480998765764,350.4601033132218,351.01539663878594,351.57068996435004,352.1259832899142,352.68127661547834,353.2365699410425,353.7918632666066,354.34715659217073,354.9024499177349,355.45774324329903,356.01303656886313,356.5683298944273,357.12362321999143,357.6789165455555,358.2342098711197,358.7895031966838,359.344796522248,359.90008984781207,360.4553831733762,361.01067649894037,361.5659698245045,362.1212631500686,362.67655647563276,363.2318498011969,363.78714312676107,364.34243645232516,364.8977297778893,365.45302310345346,366.0083164290176,366.5636097545817,367.11890308014586,367.67419640571,368.22948973127416,368.78478305683825,369.3400763824024,369.89536970796655,370.4506630335307,371.0059563590948,371.56124968465895,372.1165430102231,372.67183633578725,373.22712966135134,373.7824229869155,374.33771631247964,374.8930096380438,375.4483029636079,376.00359628917204,376.5588896147362,377.11418294030034,377.66947626586443,378.2247695914286,378.78006291699273,379.3353562425569,379.890649568121,380.4459428936851,381.0012362192493,381.5565295448134,382.1118228703775,382.6671161959417,383.2224095215058,383.7777028470699,384.33299617263407,384.8882894981982,385.44358282376237,385.99887614932646,386.5541694748906,387.10946280045476,387.6647561260189,388.220049451583,388.77534277714716,389.3306361027113,389.88592942827546,390.44122275383955,390.9965160794037,391.55180940496786,392.107102730532,392.6623960560961,393.21768938166025,393.7729827072244,394.32827603278855,394.88356935835264,395.4388626839168,395.99415600948095,396.5494493350451,397.1047426606092,397.66003598617334,398.2153293117375,398.77062263730164,399.32591596286574,399.8812092884299,400.43650261399404,400.9917959395582,401.5470892651223,402.10238259068643,402.6576759162506,403.21296924181473,403.7682625673788,404.323555892943,404.8788492185071,405.4341425440712,405.9894358696354,406.5447291951995,407.1000225207637,407.65531584632777,408.2106091718919,408.76590249745607,409.3211958230202,409.8764891485843,410.43178247414846,410.9870757997126,411.54236912527676,412.09766245084086,412.652955776405,413.20824910196916,413.7635424275333,414.3188357530974,414.87412907866155,415.4294224042257,415.98471572978985,416.54000905535395,417.0953023809181,417.65059570648225,418.2058890320464,418.7611823576105,419.31647568317464,419.8717690087388,420.42706233430295,420.98235565986704,421.5376489854312,422.09294231099534,422.6482356365595,423.2035289621236,423.75882228768774,424.3141156132519,424.86940893881604,425.42470226438013,425.9799955899443,426.53528891550843,427.0905822410726,427.6458755666367,428.2011688922008,428.756462217765,429.31175554332907,429.8670488688932,430.42234219445737,430.9776355200215,431.5329288455856,432.08822217114977,432.6435154967139,433.19880882227807,433.75410214784216,434.3093954734063,434.86468879897046,435.4199821245346,435.9752754500987,436.53056877566286,437.085862101227,437.64115542679116,438.19644875235525,438.7517420779194,439.30703540348355,439.8623287290477,440.4176220546118,440.97291538017595,441.5282087057401,442.08350203130425,442.63879535686834,443.1940886824325,443.74938200799664,444.3046753335608],\"type\":\"scatter\"}],                        {\"template\":{\"data\":{\"histogram2dcontour\":[{\"type\":\"histogram2dcontour\",\"colorbar\":{\"outlinewidth\":0,\"ticks\":\"\"},\"colorscale\":[[0.0,\"#0d0887\"],[0.1111111111111111,\"#46039f\"],[0.2222222222222222,\"#7201a8\"],[0.3333333333333333,\"#9c179e\"],[0.4444444444444444,\"#bd3786\"],[0.5555555555555556,\"#d8576b\"],[0.6666666666666666,\"#ed7953\"],[0.7777777777777778,\"#fb9f3a\"],[0.8888888888888888,\"#fdca26\"],[1.0,\"#f0f921\"]]}],\"choropleth\":[{\"type\":\"choropleth\",\"colorbar\":{\"outlinewidth\":0,\"ticks\":\"\"}}],\"histogram2d\":[{\"type\":\"histogram2d\",\"colorbar\":{\"outlinewidth\":0,\"ticks\":\"\"},\"colorscale\":[[0.0,\"#0d0887\"],[0.1111111111111111,\"#46039f\"],[0.2222222222222222,\"#7201a8\"],[0.3333333333333333,\"#9c179e\"],[0.4444444444444444,\"#bd3786\"],[0.5555555555555556,\"#d8576b\"],[0.6666666666666666,\"#ed7953\"],[0.7777777777777778,\"#fb9f3a\"],[0.8888888888888888,\"#fdca26\"],[1.0,\"#f0f921\"]]}],\"heatmap\":[{\"type\":\"heatmap\",\"colorbar\":{\"outlinewidth\":0,\"ticks\":\"\"},\"colorscale\":[[0.0,\"#0d0887\"],[0.1111111111111111,\"#46039f\"],[0.2222222222222222,\"#7201a8\"],[0.3333333333333333,\"#9c179e\"],[0.4444444444444444,\"#bd3786\"],[0.5555555555555556,\"#d8576b\"],[0.6666666666666666,\"#ed7953\"],[0.7777777777777778,\"#fb9f3a\"],[0.8888888888888888,\"#fdca26\"],[1.0,\"#f0f921\"]]}],\"heatmapgl\":[{\"type\":\"heatmapgl\",\"colorbar\":{\"outlinewidth\":0,\"ticks\":\"\"},\"colorscale\":[[0.0,\"#0d0887\"],[0.1111111111111111,\"#46039f\"],[0.2222222222222222,\"#7201a8\"],[0.3333333333333333,\"#9c179e\"],[0.4444444444444444,\"#bd3786\"],[0.5555555555555556,\"#d8576b\"],[0.6666666666666666,\"#ed7953\"],[0.7777777777777778,\"#fb9f3a\"],[0.8888888888888888,\"#fdca26\"],[1.0,\"#f0f921\"]]}],\"contourcarpet\":[{\"type\":\"contourcarpet\",\"colorbar\":{\"outlinewidth\":0,\"ticks\":\"\"}}],\"contour\":[{\"type\":\"contour\",\"colorbar\":{\"outlinewidth\":0,\"ticks\":\"\"},\"colorscale\":[[0.0,\"#0d0887\"],[0.1111111111111111,\"#46039f\"],[0.2222222222222222,\"#7201a8\"],[0.3333333333333333,\"#9c179e\"],[0.4444444444444444,\"#bd3786\"],[0.5555555555555556,\"#d8576b\"],[0.6666666666666666,\"#ed7953\"],[0.7777777777777778,\"#fb9f3a\"],[0.8888888888888888,\"#fdca26\"],[1.0,\"#f0f921\"]]}],\"surface\":[{\"type\":\"surface\",\"colorbar\":{\"outlinewidth\":0,\"ticks\":\"\"},\"colorscale\":[[0.0,\"#0d0887\"],[0.1111111111111111,\"#46039f\"],[0.2222222222222222,\"#7201a8\"],[0.3333333333333333,\"#9c179e\"],[0.4444444444444444,\"#bd3786\"],[0.5555555555555556,\"#d8576b\"],[0.6666666666666666,\"#ed7953\"],[0.7777777777777778,\"#fb9f3a\"],[0.8888888888888888,\"#fdca26\"],[1.0,\"#f0f921\"]]}],\"mesh3d\":[{\"type\":\"mesh3d\",\"colorbar\":{\"outlinewidth\":0,\"ticks\":\"\"}}],\"scatter\":[{\"fillpattern\":{\"fillmode\":\"overlay\",\"size\":10,\"solidity\":0.2},\"type\":\"scatter\"}],\"parcoords\":[{\"type\":\"parcoords\",\"line\":{\"colorbar\":{\"outlinewidth\":0,\"ticks\":\"\"}}}],\"scatterpolargl\":[{\"type\":\"scatterpolargl\",\"marker\":{\"colorbar\":{\"outlinewidth\":0,\"ticks\":\"\"}}}],\"bar\":[{\"error_x\":{\"color\":\"#2a3f5f\"},\"error_y\":{\"color\":\"#2a3f5f\"},\"marker\":{\"line\":{\"color\":\"#E5ECF6\",\"width\":0.5},\"pattern\":{\"fillmode\":\"overlay\",\"size\":10,\"solidity\":0.2}},\"type\":\"bar\"}],\"scattergeo\":[{\"type\":\"scattergeo\",\"marker\":{\"colorbar\":{\"outlinewidth\":0,\"ticks\":\"\"}}}],\"scatterpolar\":[{\"type\":\"scatterpolar\",\"marker\":{\"colorbar\":{\"outlinewidth\":0,\"ticks\":\"\"}}}],\"histogram\":[{\"marker\":{\"pattern\":{\"fillmode\":\"overlay\",\"size\":10,\"solidity\":0.2}},\"type\":\"histogram\"}],\"scattergl\":[{\"type\":\"scattergl\",\"marker\":{\"colorbar\":{\"outlinewidth\":0,\"ticks\":\"\"}}}],\"scatter3d\":[{\"type\":\"scatter3d\",\"line\":{\"colorbar\":{\"outlinewidth\":0,\"ticks\":\"\"}},\"marker\":{\"colorbar\":{\"outlinewidth\":0,\"ticks\":\"\"}}}],\"scattermapbox\":[{\"type\":\"scattermapbox\",\"marker\":{\"colorbar\":{\"outlinewidth\":0,\"ticks\":\"\"}}}],\"scatterternary\":[{\"type\":\"scatterternary\",\"marker\":{\"colorbar\":{\"outlinewidth\":0,\"ticks\":\"\"}}}],\"scattercarpet\":[{\"type\":\"scattercarpet\",\"marker\":{\"colorbar\":{\"outlinewidth\":0,\"ticks\":\"\"}}}],\"carpet\":[{\"aaxis\":{\"endlinecolor\":\"#2a3f5f\",\"gridcolor\":\"white\",\"linecolor\":\"white\",\"minorgridcolor\":\"white\",\"startlinecolor\":\"#2a3f5f\"},\"baxis\":{\"endlinecolor\":\"#2a3f5f\",\"gridcolor\":\"white\",\"linecolor\":\"white\",\"minorgridcolor\":\"white\",\"startlinecolor\":\"#2a3f5f\"},\"type\":\"carpet\"}],\"table\":[{\"cells\":{\"fill\":{\"color\":\"#EBF0F8\"},\"line\":{\"color\":\"white\"}},\"header\":{\"fill\":{\"color\":\"#C8D4E3\"},\"line\":{\"color\":\"white\"}},\"type\":\"table\"}],\"barpolar\":[{\"marker\":{\"line\":{\"color\":\"#E5ECF6\",\"width\":0.5},\"pattern\":{\"fillmode\":\"overlay\",\"size\":10,\"solidity\":0.2}},\"type\":\"barpolar\"}],\"pie\":[{\"automargin\":true,\"type\":\"pie\"}]},\"layout\":{\"autotypenumbers\":\"strict\",\"colorway\":[\"#636efa\",\"#EF553B\",\"#00cc96\",\"#ab63fa\",\"#FFA15A\",\"#19d3f3\",\"#FF6692\",\"#B6E880\",\"#FF97FF\",\"#FECB52\"],\"font\":{\"color\":\"#2a3f5f\"},\"hovermode\":\"closest\",\"hoverlabel\":{\"align\":\"left\"},\"paper_bgcolor\":\"white\",\"plot_bgcolor\":\"#E5ECF6\",\"polar\":{\"bgcolor\":\"#E5ECF6\",\"angularaxis\":{\"gridcolor\":\"white\",\"linecolor\":\"white\",\"ticks\":\"\"},\"radialaxis\":{\"gridcolor\":\"white\",\"linecolor\":\"white\",\"ticks\":\"\"}},\"ternary\":{\"bgcolor\":\"#E5ECF6\",\"aaxis\":{\"gridcolor\":\"white\",\"linecolor\":\"white\",\"ticks\":\"\"},\"baxis\":{\"gridcolor\":\"white\",\"linecolor\":\"white\",\"ticks\":\"\"},\"caxis\":{\"gridcolor\":\"white\",\"linecolor\":\"white\",\"ticks\":\"\"}},\"coloraxis\":{\"colorbar\":{\"outlinewidth\":0,\"ticks\":\"\"}},\"colorscale\":{\"sequential\":[[0.0,\"#0d0887\"],[0.1111111111111111,\"#46039f\"],[0.2222222222222222,\"#7201a8\"],[0.3333333333333333,\"#9c179e\"],[0.4444444444444444,\"#bd3786\"],[0.5555555555555556,\"#d8576b\"],[0.6666666666666666,\"#ed7953\"],[0.7777777777777778,\"#fb9f3a\"],[0.8888888888888888,\"#fdca26\"],[1.0,\"#f0f921\"]],\"sequentialminus\":[[0.0,\"#0d0887\"],[0.1111111111111111,\"#46039f\"],[0.2222222222222222,\"#7201a8\"],[0.3333333333333333,\"#9c179e\"],[0.4444444444444444,\"#bd3786\"],[0.5555555555555556,\"#d8576b\"],[0.6666666666666666,\"#ed7953\"],[0.7777777777777778,\"#fb9f3a\"],[0.8888888888888888,\"#fdca26\"],[1.0,\"#f0f921\"]],\"diverging\":[[0,\"#8e0152\"],[0.1,\"#c51b7d\"],[0.2,\"#de77ae\"],[0.3,\"#f1b6da\"],[0.4,\"#fde0ef\"],[0.5,\"#f7f7f7\"],[0.6,\"#e6f5d0\"],[0.7,\"#b8e186\"],[0.8,\"#7fbc41\"],[0.9,\"#4d9221\"],[1,\"#276419\"]]},\"xaxis\":{\"gridcolor\":\"white\",\"linecolor\":\"white\",\"ticks\":\"\",\"title\":{\"standoff\":15},\"zerolinecolor\":\"white\",\"automargin\":true,\"zerolinewidth\":2},\"yaxis\":{\"gridcolor\":\"white\",\"linecolor\":\"white\",\"ticks\":\"\",\"title\":{\"standoff\":15},\"zerolinecolor\":\"white\",\"automargin\":true,\"zerolinewidth\":2},\"scene\":{\"xaxis\":{\"backgroundcolor\":\"#E5ECF6\",\"gridcolor\":\"white\",\"linecolor\":\"white\",\"showbackground\":true,\"ticks\":\"\",\"zerolinecolor\":\"white\",\"gridwidth\":2},\"yaxis\":{\"backgroundcolor\":\"#E5ECF6\",\"gridcolor\":\"white\",\"linecolor\":\"white\",\"showbackground\":true,\"ticks\":\"\",\"zerolinecolor\":\"white\",\"gridwidth\":2},\"zaxis\":{\"backgroundcolor\":\"#E5ECF6\",\"gridcolor\":\"white\",\"linecolor\":\"white\",\"showbackground\":true,\"ticks\":\"\",\"zerolinecolor\":\"white\",\"gridwidth\":2}},\"shapedefaults\":{\"line\":{\"color\":\"#2a3f5f\"}},\"annotationdefaults\":{\"arrowcolor\":\"#2a3f5f\",\"arrowhead\":0,\"arrowwidth\":1},\"geo\":{\"bgcolor\":\"white\",\"landcolor\":\"#E5ECF6\",\"subunitcolor\":\"white\",\"showland\":true,\"showlakes\":true,\"lakecolor\":\"white\"},\"title\":{\"x\":0.05},\"mapbox\":{\"style\":\"light\"}}},\"xaxis\":{\"title\":{\"font\":{\"size\":18},\"text\":\"Usage Count\"}},\"yaxis\":{\"title\":{\"font\":{\"size\":18},\"text\":\"Accounts using\"}},\"plot_bgcolor\":\"white\",\"title\":{\"text\":\"Usage count of top tags vs the number of accounts using them\"}},                        {\"responsive\": true}                    ).then(function(){\n",
       "                            \n",
       "var gd = document.getElementById('a559cd94-9e41-4ca6-acb0-7cbd016ba4f6');\n",
       "var x = new MutationObserver(function (mutations, observer) {{\n",
       "        var display = window.getComputedStyle(gd).display;\n",
       "        if (!display || display === 'none') {{\n",
       "            console.log([gd, 'removed!']);\n",
       "            Plotly.purge(gd);\n",
       "            observer.disconnect();\n",
       "        }}\n",
       "}});\n",
       "\n",
       "// Listen for the removal of the full notebook cells\n",
       "var notebookContainer = gd.closest('#notebook-container');\n",
       "if (notebookContainer) {{\n",
       "    x.observe(notebookContainer, {childList: true});\n",
       "}}\n",
       "\n",
       "// Listen for the clearing of the current output cell\n",
       "var outputEl = gd.closest('.output');\n",
       "if (outputEl) {{\n",
       "    x.observe(outputEl, {childList: true});\n",
       "}}\n",
       "\n",
       "                        })                };                });            </script>        </div>"
      ]
     },
     "metadata": {},
     "output_type": "display_data"
    }
   ],
   "source": [
    "### Creating a scatter plot with the usage count and the number of accounts using the most popular tags\n",
    "# in the plot the actual tag isn't displayed (it can be done by uncommenting the 3 three lines below, but you cant see that much with it)\n",
    "# theres also a regression model plotted with the rest\n",
    "\n",
    "fig = go.Figure()\n",
    "\n",
    "fig.add_trace(go.Scatter(x=file2['usage_count'],y=file2['accounts_using'], mode = 'markers', name = 'The values from the dataset'))\n",
    "#for tag in file2['name'].unique():\n",
    "#    df_tag = file2[file2['name'] == tag]\n",
    "#    fig.add_trace(go.Scatter(x=df_tag['usage_count'],y=df_tag['accounts_using'], mode = 'markers', name = tag))\n",
    "\n",
    "const = sm.add_constant(file2['usage_count'])\n",
    "model = sm.OLS(file2['accounts_using'],const)\n",
    "res = model.fit()\n",
    "print(res.summary())\n",
    "\n",
    "fig.update_layout(\n",
    "    plot_bgcolor=\"white\",\n",
    "    title = 'Usage count of top tags vs the number of accounts using them',\n",
    "    xaxis = {\n",
    "        'title' :{\n",
    "            'font' : {\n",
    "                'size' : 18\n",
    "            },\n",
    "            'text' : 'Usage Count'\n",
    "        }\n",
    "    },\n",
    "    yaxis = {\n",
    "        'title' :{\n",
    "            'font' : {\n",
    "                'size' : 18\n",
    "            },\n",
    "            'text' : 'Accounts using'\n",
    "        }\n",
    "    }\n",
    ")\n",
    "\n",
    "c,m = res.params\n",
    "x = np.array(range(0,800))\n",
    "y = m*x+c\n",
    "fig.add_trace(go.Scatter(x=x, y=y, name = 'The regression model'))\n",
    "\n",
    "fig.show()"
   ]
  },
  {
   "cell_type": "code",
   "execution_count": 58,
   "id": "9d6e2bfa-b36e-49ef-8b8e-acb342b6820b",
   "metadata": {},
   "outputs": [
    {
     "name": "stdout",
     "output_type": "stream",
     "text": [
      "                            OLS Regression Results                            \n",
      "==============================================================================\n",
      "Dep. Variable:         accounts_using   R-squared:                       0.948\n",
      "Model:                            OLS   Adj. R-squared:                  0.947\n",
      "Method:                 Least Squares   F-statistic:                     2502.\n",
      "Date:                Fri, 31 May 2024   Prob (F-statistic):           2.50e-90\n",
      "Time:                        11:24:47   Log-Likelihood:                -561.71\n",
      "No. Observations:                 140   AIC:                             1127.\n",
      "Df Residuals:                     138   BIC:                             1133.\n",
      "Df Model:                           1                                         \n",
      "Covariance Type:            nonrobust                                         \n",
      "===============================================================================\n",
      "                  coef    std err          t      P>|t|      [0.025      0.975]\n",
      "-------------------------------------------------------------------------------\n",
      "const           0.6253      1.218      0.513      0.609      -1.783       3.034\n",
      "usage_count     0.5553      0.011     50.025      0.000       0.533       0.577\n",
      "==============================================================================\n",
      "Omnibus:                      102.339   Durbin-Watson:                   1.692\n",
      "Prob(Omnibus):                  0.000   Jarque-Bera (JB):             2216.254\n",
      "Skew:                          -2.107   Prob(JB):                         0.00\n",
      "Kurtosis:                      22.031   Cond. No.                         117.\n",
      "==============================================================================\n",
      "\n",
      "Notes:\n",
      "[1] Standard Errors assume that the covariance matrix of the errors is correctly specified.\n"
     ]
    },
    {
     "data": {
      "application/vnd.plotly.v1+json": {
       "config": {
        "plotlyServerURL": "https://plot.ly"
       },
       "data": [
        {
         "mode": "markers",
         "name": "今月描いた絵を晒そう",
         "type": "scatter",
         "x": [
          107,
          11,
          1,
          0,
          1,
          0,
          0
         ],
         "y": [
          96,
          11,
          1,
          0,
          1,
          0,
          0
         ]
        },
        {
         "mode": "markers",
         "name": "IfAIDisclaimersWereSongs",
         "type": "scatter",
         "x": [
          226,
          2,
          2,
          2,
          1,
          0,
          9
         ],
         "y": [
          92,
          2,
          2,
          1,
          1,
          0,
          9
         ]
        },
        {
         "name": "The regression model",
         "type": "scatter",
         "x": [
          0,
          1,
          2,
          3,
          4,
          5,
          6,
          7,
          8,
          9,
          10,
          11,
          12,
          13,
          14,
          15,
          16,
          17,
          18,
          19,
          20,
          21,
          22,
          23,
          24,
          25,
          26,
          27,
          28,
          29,
          30,
          31,
          32,
          33,
          34,
          35,
          36,
          37,
          38,
          39,
          40,
          41,
          42,
          43,
          44,
          45,
          46,
          47,
          48,
          49,
          50,
          51,
          52,
          53,
          54,
          55,
          56,
          57,
          58,
          59,
          60,
          61,
          62,
          63,
          64,
          65,
          66,
          67,
          68,
          69,
          70,
          71,
          72,
          73,
          74,
          75,
          76,
          77,
          78,
          79,
          80,
          81,
          82,
          83,
          84,
          85,
          86,
          87,
          88,
          89,
          90,
          91,
          92,
          93,
          94,
          95,
          96,
          97,
          98,
          99,
          100,
          101,
          102,
          103,
          104,
          105,
          106,
          107,
          108,
          109,
          110,
          111,
          112,
          113,
          114,
          115,
          116,
          117,
          118,
          119,
          120,
          121,
          122,
          123,
          124,
          125,
          126,
          127,
          128,
          129,
          130,
          131,
          132,
          133,
          134,
          135,
          136,
          137,
          138,
          139,
          140,
          141,
          142,
          143,
          144,
          145,
          146,
          147,
          148,
          149,
          150,
          151,
          152,
          153,
          154,
          155,
          156,
          157,
          158,
          159,
          160,
          161,
          162,
          163,
          164,
          165,
          166,
          167,
          168,
          169,
          170,
          171,
          172,
          173,
          174,
          175,
          176,
          177,
          178,
          179,
          180,
          181,
          182,
          183,
          184,
          185,
          186,
          187,
          188,
          189,
          190,
          191,
          192,
          193,
          194,
          195,
          196,
          197,
          198,
          199,
          200,
          201,
          202,
          203,
          204,
          205,
          206,
          207,
          208,
          209,
          210,
          211,
          212,
          213,
          214,
          215,
          216,
          217,
          218,
          219,
          220,
          221,
          222,
          223,
          224,
          225,
          226,
          227,
          228,
          229
         ],
         "y": [
          0.6253082078160803,
          1.1806015333802162,
          1.7358948589443524,
          2.2911881845084885,
          2.8464815100726244,
          3.4017748356367603,
          3.9570681612008967,
          4.512361486765032,
          5.0676548123291685,
          5.622948137893305,
          6.17824146345744,
          6.733534789021577,
          7.288828114585713,
          7.8441214401498485,
          8.399414765713985,
          8.954708091278121,
          9.510001416842258,
          10.065294742406394,
          10.62058806797053,
          11.175881393534663,
          11.7311747190988,
          12.286468044662936,
          12.841761370227072,
          13.397054695791208,
          13.952348021355345,
          14.507641346919481,
          15.062934672483618,
          15.618227998047754,
          16.17352132361189,
          16.728814649176023,
          17.28410797474016,
          17.839401300304296,
          18.394694625868432,
          18.94998795143257,
          19.505281276996705,
          20.06057460256084,
          20.615867928124977,
          21.171161253689114,
          21.726454579253247,
          22.281747904817383,
          22.83704123038152,
          23.392334555945656,
          23.947627881509792,
          24.50292120707393,
          25.058214532638065,
          25.6135078582022,
          26.168801183766337,
          26.724094509330474,
          27.27938783489461,
          27.834681160458743,
          28.38997448602288,
          28.945267811587016,
          29.500561137151152,
          30.05585446271529,
          30.611147788279425,
          31.16644111384356,
          31.721734439407697,
          32.277027764971834,
          32.83232109053597,
          33.38761441610011,
          33.94290774166424,
          34.49820106722838,
          35.053494392792516,
          35.60878771835665,
          36.16408104392079,
          36.719374369484925,
          37.27466769504906,
          37.8299610206132,
          38.385254346177334,
          38.94054767174147,
          39.495840997305606,
          40.05113432286974,
          40.60642764843388,
          41.161720973998015,
          41.71701429956215,
          42.27230762512628,
          42.82760095069042,
          43.382894276254554,
          43.93818760181869,
          44.49348092738283,
          45.04877425294696,
          45.6040675785111,
          46.159360904075236,
          46.71465422963937,
          47.26994755520351,
          47.825240880767645,
          48.38053420633178,
          48.93582753189592,
          49.491120857460054,
          50.04641418302419,
          50.601707508588326,
          51.15700083415246,
          51.7122941597166,
          52.267587485280735,
          52.82288081084487,
          53.37817413640901,
          53.933467461973144,
          54.488760787537274,
          55.04405411310141,
          55.599347438665546,
          56.15464076422968,
          56.70993408979382,
          57.265227415357955,
          57.82052074092209,
          58.37581406648623,
          58.931107392050365,
          59.4864007176145,
          60.04169404317864,
          60.596987368742774,
          61.15228069430691,
          61.707574019871046,
          62.26286734543518,
          62.81816067099932,
          63.373453996563455,
          63.92874732212759,
          64.48404064769173,
          65.03933397325585,
          65.59462729881999,
          66.14992062438412,
          66.70521394994826,
          67.2605072755124,
          67.81580060107653,
          68.37109392664067,
          68.9263872522048,
          69.48168057776894,
          70.03697390333308,
          70.59226722889721,
          71.14756055446135,
          71.70285388002549,
          72.25814720558962,
          72.81344053115376,
          73.3687338567179,
          73.92402718228203,
          74.47932050784617,
          75.0346138334103,
          75.58990715897444,
          76.14520048453858,
          76.70049381010271,
          77.25578713566685,
          77.81108046123099,
          78.36637378679512,
          78.92166711235926,
          79.4769604379234,
          80.03225376348753,
          80.58754708905167,
          81.1428404146158,
          81.69813374017994,
          82.25342706574408,
          82.80872039130821,
          83.36401371687235,
          83.91930704243647,
          84.47460036800061,
          85.02989369356474,
          85.58518701912888,
          86.14048034469302,
          86.69577367025715,
          87.25106699582129,
          87.80636032138543,
          88.36165364694956,
          88.9169469725137,
          89.47224029807784,
          90.02753362364197,
          90.58282694920611,
          91.13812027477024,
          91.69341360033438,
          92.24870692589852,
          92.80400025146265,
          93.35929357702679,
          93.91458690259093,
          94.46988022815506,
          95.0251735537192,
          95.58046687928334,
          96.13576020484747,
          96.69105353041161,
          97.24634685597574,
          97.80164018153988,
          98.35693350710402,
          98.91222683266815,
          99.46752015823229,
          100.02281348379643,
          100.57810680936056,
          101.1334001349247,
          101.68869346048884,
          102.24398678605297,
          102.79928011161711,
          103.35457343718124,
          103.90986676274538,
          104.46516008830952,
          105.02045341387365,
          105.57574673943779,
          106.13104006500193,
          106.68633339056606,
          107.2416267161302,
          107.79692004169432,
          108.35221336725846,
          108.9075066928226,
          109.46280001838673,
          110.01809334395087,
          110.573386669515,
          111.12867999507914,
          111.68397332064328,
          112.23926664620741,
          112.79455997177155,
          113.34985329733568,
          113.90514662289982,
          114.46043994846396,
          115.0157332740281,
          115.57102659959223,
          116.12631992515637,
          116.6816132507205,
          117.23690657628464,
          117.79219990184878,
          118.34749322741291,
          118.90278655297705,
          119.45807987854118,
          120.01337320410532,
          120.56866652966946,
          121.1239598552336,
          121.67925318079773,
          122.23454650636187,
          122.789839831926,
          123.34513315749014,
          123.90042648305428,
          124.45571980861841,
          125.01101313418255,
          125.56630645974668,
          126.12159978531082,
          126.67689311087496,
          127.2321864364391,
          127.78747976200323
         ]
        }
       ],
       "layout": {
        "autosize": true,
        "plot_bgcolor": "white",
        "template": {
         "data": {
          "bar": [
           {
            "error_x": {
             "color": "#2a3f5f"
            },
            "error_y": {
             "color": "#2a3f5f"
            },
            "marker": {
             "line": {
              "color": "#E5ECF6",
              "width": 0.5
             },
             "pattern": {
              "fillmode": "overlay",
              "size": 10,
              "solidity": 0.2
             }
            },
            "type": "bar"
           }
          ],
          "barpolar": [
           {
            "marker": {
             "line": {
              "color": "#E5ECF6",
              "width": 0.5
             },
             "pattern": {
              "fillmode": "overlay",
              "size": 10,
              "solidity": 0.2
             }
            },
            "type": "barpolar"
           }
          ],
          "carpet": [
           {
            "aaxis": {
             "endlinecolor": "#2a3f5f",
             "gridcolor": "white",
             "linecolor": "white",
             "minorgridcolor": "white",
             "startlinecolor": "#2a3f5f"
            },
            "baxis": {
             "endlinecolor": "#2a3f5f",
             "gridcolor": "white",
             "linecolor": "white",
             "minorgridcolor": "white",
             "startlinecolor": "#2a3f5f"
            },
            "type": "carpet"
           }
          ],
          "choropleth": [
           {
            "colorbar": {
             "outlinewidth": 0,
             "ticks": ""
            },
            "type": "choropleth"
           }
          ],
          "contour": [
           {
            "colorbar": {
             "outlinewidth": 0,
             "ticks": ""
            },
            "colorscale": [
             [
              0,
              "#0d0887"
             ],
             [
              0.1111111111111111,
              "#46039f"
             ],
             [
              0.2222222222222222,
              "#7201a8"
             ],
             [
              0.3333333333333333,
              "#9c179e"
             ],
             [
              0.4444444444444444,
              "#bd3786"
             ],
             [
              0.5555555555555556,
              "#d8576b"
             ],
             [
              0.6666666666666666,
              "#ed7953"
             ],
             [
              0.7777777777777778,
              "#fb9f3a"
             ],
             [
              0.8888888888888888,
              "#fdca26"
             ],
             [
              1,
              "#f0f921"
             ]
            ],
            "type": "contour"
           }
          ],
          "contourcarpet": [
           {
            "colorbar": {
             "outlinewidth": 0,
             "ticks": ""
            },
            "type": "contourcarpet"
           }
          ],
          "heatmap": [
           {
            "colorbar": {
             "outlinewidth": 0,
             "ticks": ""
            },
            "colorscale": [
             [
              0,
              "#0d0887"
             ],
             [
              0.1111111111111111,
              "#46039f"
             ],
             [
              0.2222222222222222,
              "#7201a8"
             ],
             [
              0.3333333333333333,
              "#9c179e"
             ],
             [
              0.4444444444444444,
              "#bd3786"
             ],
             [
              0.5555555555555556,
              "#d8576b"
             ],
             [
              0.6666666666666666,
              "#ed7953"
             ],
             [
              0.7777777777777778,
              "#fb9f3a"
             ],
             [
              0.8888888888888888,
              "#fdca26"
             ],
             [
              1,
              "#f0f921"
             ]
            ],
            "type": "heatmap"
           }
          ],
          "heatmapgl": [
           {
            "colorbar": {
             "outlinewidth": 0,
             "ticks": ""
            },
            "colorscale": [
             [
              0,
              "#0d0887"
             ],
             [
              0.1111111111111111,
              "#46039f"
             ],
             [
              0.2222222222222222,
              "#7201a8"
             ],
             [
              0.3333333333333333,
              "#9c179e"
             ],
             [
              0.4444444444444444,
              "#bd3786"
             ],
             [
              0.5555555555555556,
              "#d8576b"
             ],
             [
              0.6666666666666666,
              "#ed7953"
             ],
             [
              0.7777777777777778,
              "#fb9f3a"
             ],
             [
              0.8888888888888888,
              "#fdca26"
             ],
             [
              1,
              "#f0f921"
             ]
            ],
            "type": "heatmapgl"
           }
          ],
          "histogram": [
           {
            "marker": {
             "pattern": {
              "fillmode": "overlay",
              "size": 10,
              "solidity": 0.2
             }
            },
            "type": "histogram"
           }
          ],
          "histogram2d": [
           {
            "colorbar": {
             "outlinewidth": 0,
             "ticks": ""
            },
            "colorscale": [
             [
              0,
              "#0d0887"
             ],
             [
              0.1111111111111111,
              "#46039f"
             ],
             [
              0.2222222222222222,
              "#7201a8"
             ],
             [
              0.3333333333333333,
              "#9c179e"
             ],
             [
              0.4444444444444444,
              "#bd3786"
             ],
             [
              0.5555555555555556,
              "#d8576b"
             ],
             [
              0.6666666666666666,
              "#ed7953"
             ],
             [
              0.7777777777777778,
              "#fb9f3a"
             ],
             [
              0.8888888888888888,
              "#fdca26"
             ],
             [
              1,
              "#f0f921"
             ]
            ],
            "type": "histogram2d"
           }
          ],
          "histogram2dcontour": [
           {
            "colorbar": {
             "outlinewidth": 0,
             "ticks": ""
            },
            "colorscale": [
             [
              0,
              "#0d0887"
             ],
             [
              0.1111111111111111,
              "#46039f"
             ],
             [
              0.2222222222222222,
              "#7201a8"
             ],
             [
              0.3333333333333333,
              "#9c179e"
             ],
             [
              0.4444444444444444,
              "#bd3786"
             ],
             [
              0.5555555555555556,
              "#d8576b"
             ],
             [
              0.6666666666666666,
              "#ed7953"
             ],
             [
              0.7777777777777778,
              "#fb9f3a"
             ],
             [
              0.8888888888888888,
              "#fdca26"
             ],
             [
              1,
              "#f0f921"
             ]
            ],
            "type": "histogram2dcontour"
           }
          ],
          "mesh3d": [
           {
            "colorbar": {
             "outlinewidth": 0,
             "ticks": ""
            },
            "type": "mesh3d"
           }
          ],
          "parcoords": [
           {
            "line": {
             "colorbar": {
              "outlinewidth": 0,
              "ticks": ""
             }
            },
            "type": "parcoords"
           }
          ],
          "pie": [
           {
            "automargin": true,
            "type": "pie"
           }
          ],
          "scatter": [
           {
            "fillpattern": {
             "fillmode": "overlay",
             "size": 10,
             "solidity": 0.2
            },
            "type": "scatter"
           }
          ],
          "scatter3d": [
           {
            "line": {
             "colorbar": {
              "outlinewidth": 0,
              "ticks": ""
             }
            },
            "marker": {
             "colorbar": {
              "outlinewidth": 0,
              "ticks": ""
             }
            },
            "type": "scatter3d"
           }
          ],
          "scattercarpet": [
           {
            "marker": {
             "colorbar": {
              "outlinewidth": 0,
              "ticks": ""
             }
            },
            "type": "scattercarpet"
           }
          ],
          "scattergeo": [
           {
            "marker": {
             "colorbar": {
              "outlinewidth": 0,
              "ticks": ""
             }
            },
            "type": "scattergeo"
           }
          ],
          "scattergl": [
           {
            "marker": {
             "colorbar": {
              "outlinewidth": 0,
              "ticks": ""
             }
            },
            "type": "scattergl"
           }
          ],
          "scattermapbox": [
           {
            "marker": {
             "colorbar": {
              "outlinewidth": 0,
              "ticks": ""
             }
            },
            "type": "scattermapbox"
           }
          ],
          "scatterpolar": [
           {
            "marker": {
             "colorbar": {
              "outlinewidth": 0,
              "ticks": ""
             }
            },
            "type": "scatterpolar"
           }
          ],
          "scatterpolargl": [
           {
            "marker": {
             "colorbar": {
              "outlinewidth": 0,
              "ticks": ""
             }
            },
            "type": "scatterpolargl"
           }
          ],
          "scatterternary": [
           {
            "marker": {
             "colorbar": {
              "outlinewidth": 0,
              "ticks": ""
             }
            },
            "type": "scatterternary"
           }
          ],
          "surface": [
           {
            "colorbar": {
             "outlinewidth": 0,
             "ticks": ""
            },
            "colorscale": [
             [
              0,
              "#0d0887"
             ],
             [
              0.1111111111111111,
              "#46039f"
             ],
             [
              0.2222222222222222,
              "#7201a8"
             ],
             [
              0.3333333333333333,
              "#9c179e"
             ],
             [
              0.4444444444444444,
              "#bd3786"
             ],
             [
              0.5555555555555556,
              "#d8576b"
             ],
             [
              0.6666666666666666,
              "#ed7953"
             ],
             [
              0.7777777777777778,
              "#fb9f3a"
             ],
             [
              0.8888888888888888,
              "#fdca26"
             ],
             [
              1,
              "#f0f921"
             ]
            ],
            "type": "surface"
           }
          ],
          "table": [
           {
            "cells": {
             "fill": {
              "color": "#EBF0F8"
             },
             "line": {
              "color": "white"
             }
            },
            "header": {
             "fill": {
              "color": "#C8D4E3"
             },
             "line": {
              "color": "white"
             }
            },
            "type": "table"
           }
          ]
         },
         "layout": {
          "annotationdefaults": {
           "arrowcolor": "#2a3f5f",
           "arrowhead": 0,
           "arrowwidth": 1
          },
          "autotypenumbers": "strict",
          "coloraxis": {
           "colorbar": {
            "outlinewidth": 0,
            "ticks": ""
           }
          },
          "colorscale": {
           "diverging": [
            [
             0,
             "#8e0152"
            ],
            [
             0.1,
             "#c51b7d"
            ],
            [
             0.2,
             "#de77ae"
            ],
            [
             0.3,
             "#f1b6da"
            ],
            [
             0.4,
             "#fde0ef"
            ],
            [
             0.5,
             "#f7f7f7"
            ],
            [
             0.6,
             "#e6f5d0"
            ],
            [
             0.7,
             "#b8e186"
            ],
            [
             0.8,
             "#7fbc41"
            ],
            [
             0.9,
             "#4d9221"
            ],
            [
             1,
             "#276419"
            ]
           ],
           "sequential": [
            [
             0,
             "#0d0887"
            ],
            [
             0.1111111111111111,
             "#46039f"
            ],
            [
             0.2222222222222222,
             "#7201a8"
            ],
            [
             0.3333333333333333,
             "#9c179e"
            ],
            [
             0.4444444444444444,
             "#bd3786"
            ],
            [
             0.5555555555555556,
             "#d8576b"
            ],
            [
             0.6666666666666666,
             "#ed7953"
            ],
            [
             0.7777777777777778,
             "#fb9f3a"
            ],
            [
             0.8888888888888888,
             "#fdca26"
            ],
            [
             1,
             "#f0f921"
            ]
           ],
           "sequentialminus": [
            [
             0,
             "#0d0887"
            ],
            [
             0.1111111111111111,
             "#46039f"
            ],
            [
             0.2222222222222222,
             "#7201a8"
            ],
            [
             0.3333333333333333,
             "#9c179e"
            ],
            [
             0.4444444444444444,
             "#bd3786"
            ],
            [
             0.5555555555555556,
             "#d8576b"
            ],
            [
             0.6666666666666666,
             "#ed7953"
            ],
            [
             0.7777777777777778,
             "#fb9f3a"
            ],
            [
             0.8888888888888888,
             "#fdca26"
            ],
            [
             1,
             "#f0f921"
            ]
           ]
          },
          "colorway": [
           "#636efa",
           "#EF553B",
           "#00cc96",
           "#ab63fa",
           "#FFA15A",
           "#19d3f3",
           "#FF6692",
           "#B6E880",
           "#FF97FF",
           "#FECB52"
          ],
          "font": {
           "color": "#2a3f5f"
          },
          "geo": {
           "bgcolor": "white",
           "lakecolor": "white",
           "landcolor": "#E5ECF6",
           "showlakes": true,
           "showland": true,
           "subunitcolor": "white"
          },
          "hoverlabel": {
           "align": "left"
          },
          "hovermode": "closest",
          "mapbox": {
           "style": "light"
          },
          "paper_bgcolor": "white",
          "plot_bgcolor": "#E5ECF6",
          "polar": {
           "angularaxis": {
            "gridcolor": "white",
            "linecolor": "white",
            "ticks": ""
           },
           "bgcolor": "#E5ECF6",
           "radialaxis": {
            "gridcolor": "white",
            "linecolor": "white",
            "ticks": ""
           }
          },
          "scene": {
           "xaxis": {
            "backgroundcolor": "#E5ECF6",
            "gridcolor": "white",
            "gridwidth": 2,
            "linecolor": "white",
            "showbackground": true,
            "ticks": "",
            "zerolinecolor": "white"
           },
           "yaxis": {
            "backgroundcolor": "#E5ECF6",
            "gridcolor": "white",
            "gridwidth": 2,
            "linecolor": "white",
            "showbackground": true,
            "ticks": "",
            "zerolinecolor": "white"
           },
           "zaxis": {
            "backgroundcolor": "#E5ECF6",
            "gridcolor": "white",
            "gridwidth": 2,
            "linecolor": "white",
            "showbackground": true,
            "ticks": "",
            "zerolinecolor": "white"
           }
          },
          "shapedefaults": {
           "line": {
            "color": "#2a3f5f"
           }
          },
          "ternary": {
           "aaxis": {
            "gridcolor": "white",
            "linecolor": "white",
            "ticks": ""
           },
           "baxis": {
            "gridcolor": "white",
            "linecolor": "white",
            "ticks": ""
           },
           "bgcolor": "#E5ECF6",
           "caxis": {
            "gridcolor": "white",
            "linecolor": "white",
            "ticks": ""
           }
          },
          "title": {
           "x": 0.05
          },
          "xaxis": {
           "automargin": true,
           "gridcolor": "white",
           "linecolor": "white",
           "ticks": "",
           "title": {
            "standoff": 15
           },
           "zerolinecolor": "white",
           "zerolinewidth": 2
          },
          "yaxis": {
           "automargin": true,
           "gridcolor": "white",
           "linecolor": "white",
           "ticks": "",
           "title": {
            "standoff": 15
           },
           "zerolinecolor": "white",
           "zerolinewidth": 2
          }
         }
        },
        "title": {
         "text": "Usage count of top tags vs the number of accounts using them for some chosen tags"
        },
        "xaxis": {
         "autorange": true,
         "range": [
          -13.897534558928317,
          239.89753455892833
         ],
         "title": {
          "font": {
           "size": 18
          },
          "text": "Usage Count"
         },
         "type": "linear"
        },
        "yaxis": {
         "autorange": true,
         "range": [
          -10.295673724900734,
          135.05501415605082
         ],
         "title": {
          "font": {
           "size": 18
          },
          "text": "Accounts using"
         },
         "type": "linear"
        }
       }
      },
      "image/png": "[encoded data removed]",
      "text/html": [
       "<div>                            <div id=\"fab1dcce-a96b-42d8-9aac-e10e9509f277\" class=\"plotly-graph-div\" style=\"height:525px; width:100%;\"></div>            <script type=\"text/javascript\">                require([\"plotly\"], function(Plotly) {                    window.PLOTLYENV=window.PLOTLYENV || {};                                    if (document.getElementById(\"fab1dcce-a96b-42d8-9aac-e10e9509f277\")) {                    Plotly.newPlot(                        \"fab1dcce-a96b-42d8-9aac-e10e9509f277\",                        [{\"mode\":\"markers\",\"name\":\"\\u4eca\\u6708\\u63cf\\u3044\\u305f\\u7d75\\u3092\\u6652\\u305d\\u3046\",\"x\":[107,11,1,0,1,0,0],\"y\":[96,11,1,0,1,0,0],\"type\":\"scatter\"},{\"mode\":\"markers\",\"name\":\"IfAIDisclaimersWereSongs\",\"x\":[226,2,2,2,1,0,9],\"y\":[92,2,2,1,1,0,9],\"type\":\"scatter\"},{\"name\":\"The regression model\",\"x\":[0,1,2,3,4,5,6,7,8,9,10,11,12,13,14,15,16,17,18,19,20,21,22,23,24,25,26,27,28,29,30,31,32,33,34,35,36,37,38,39,40,41,42,43,44,45,46,47,48,49,50,51,52,53,54,55,56,57,58,59,60,61,62,63,64,65,66,67,68,69,70,71,72,73,74,75,76,77,78,79,80,81,82,83,84,85,86,87,88,89,90,91,92,93,94,95,96,97,98,99,100,101,102,103,104,105,106,107,108,109,110,111,112,113,114,115,116,117,118,119,120,121,122,123,124,125,126,127,128,129,130,131,132,133,134,135,136,137,138,139,140,141,142,143,144,145,146,147,148,149,150,151,152,153,154,155,156,157,158,159,160,161,162,163,164,165,166,167,168,169,170,171,172,173,174,175,176,177,178,179,180,181,182,183,184,185,186,187,188,189,190,191,192,193,194,195,196,197,198,199,200,201,202,203,204,205,206,207,208,209,210,211,212,213,214,215,216,217,218,219,220,221,222,223,224,225,226,227,228,229],\"y\":[0.6253082078160803,1.1806015333802162,1.7358948589443524,2.2911881845084885,2.8464815100726244,3.4017748356367603,3.9570681612008967,4.512361486765032,5.0676548123291685,5.622948137893305,6.17824146345744,6.733534789021577,7.288828114585713,7.8441214401498485,8.399414765713985,8.954708091278121,9.510001416842258,10.065294742406394,10.62058806797053,11.175881393534663,11.7311747190988,12.286468044662936,12.841761370227072,13.397054695791208,13.952348021355345,14.507641346919481,15.062934672483618,15.618227998047754,16.17352132361189,16.728814649176023,17.28410797474016,17.839401300304296,18.394694625868432,18.94998795143257,19.505281276996705,20.06057460256084,20.615867928124977,21.171161253689114,21.726454579253247,22.281747904817383,22.83704123038152,23.392334555945656,23.947627881509792,24.50292120707393,25.058214532638065,25.6135078582022,26.168801183766337,26.724094509330474,27.27938783489461,27.834681160458743,28.38997448602288,28.945267811587016,29.500561137151152,30.05585446271529,30.611147788279425,31.16644111384356,31.721734439407697,32.277027764971834,32.83232109053597,33.38761441610011,33.94290774166424,34.49820106722838,35.053494392792516,35.60878771835665,36.16408104392079,36.719374369484925,37.27466769504906,37.8299610206132,38.385254346177334,38.94054767174147,39.495840997305606,40.05113432286974,40.60642764843388,41.161720973998015,41.71701429956215,42.27230762512628,42.82760095069042,43.382894276254554,43.93818760181869,44.49348092738283,45.04877425294696,45.6040675785111,46.159360904075236,46.71465422963937,47.26994755520351,47.825240880767645,48.38053420633178,48.93582753189592,49.491120857460054,50.04641418302419,50.601707508588326,51.15700083415246,51.7122941597166,52.267587485280735,52.82288081084487,53.37817413640901,53.933467461973144,54.488760787537274,55.04405411310141,55.599347438665546,56.15464076422968,56.70993408979382,57.265227415357955,57.82052074092209,58.37581406648623,58.931107392050365,59.4864007176145,60.04169404317864,60.596987368742774,61.15228069430691,61.707574019871046,62.26286734543518,62.81816067099932,63.373453996563455,63.92874732212759,64.48404064769173,65.03933397325585,65.59462729881999,66.14992062438412,66.70521394994826,67.2605072755124,67.81580060107653,68.37109392664067,68.9263872522048,69.48168057776894,70.03697390333308,70.59226722889721,71.14756055446135,71.70285388002549,72.25814720558962,72.81344053115376,73.3687338567179,73.92402718228203,74.47932050784617,75.0346138334103,75.58990715897444,76.14520048453858,76.70049381010271,77.25578713566685,77.81108046123099,78.36637378679512,78.92166711235926,79.4769604379234,80.03225376348753,80.58754708905167,81.1428404146158,81.69813374017994,82.25342706574408,82.80872039130821,83.36401371687235,83.91930704243647,84.47460036800061,85.02989369356474,85.58518701912888,86.14048034469302,86.69577367025715,87.25106699582129,87.80636032138543,88.36165364694956,88.9169469725137,89.47224029807784,90.02753362364197,90.58282694920611,91.13812027477024,91.69341360033438,92.24870692589852,92.80400025146265,93.35929357702679,93.91458690259093,94.46988022815506,95.0251735537192,95.58046687928334,96.13576020484747,96.69105353041161,97.24634685597574,97.80164018153988,98.35693350710402,98.91222683266815,99.46752015823229,100.02281348379643,100.57810680936056,101.1334001349247,101.68869346048884,102.24398678605297,102.79928011161711,103.35457343718124,103.90986676274538,104.46516008830952,105.02045341387365,105.57574673943779,106.13104006500193,106.68633339056606,107.2416267161302,107.79692004169432,108.35221336725846,108.9075066928226,109.46280001838673,110.01809334395087,110.573386669515,111.12867999507914,111.68397332064328,112.23926664620741,112.79455997177155,113.34985329733568,113.90514662289982,114.46043994846396,115.0157332740281,115.57102659959223,116.12631992515637,116.6816132507205,117.23690657628464,117.79219990184878,118.34749322741291,118.90278655297705,119.45807987854118,120.01337320410532,120.56866652966946,121.1239598552336,121.67925318079773,122.23454650636187,122.789839831926,123.34513315749014,123.90042648305428,124.45571980861841,125.01101313418255,125.56630645974668,126.12159978531082,126.67689311087496,127.2321864364391,127.78747976200323],\"type\":\"scatter\"}],                        {\"template\":{\"data\":{\"histogram2dcontour\":[{\"type\":\"histogram2dcontour\",\"colorbar\":{\"outlinewidth\":0,\"ticks\":\"\"},\"colorscale\":[[0.0,\"#0d0887\"],[0.1111111111111111,\"#46039f\"],[0.2222222222222222,\"#7201a8\"],[0.3333333333333333,\"#9c179e\"],[0.4444444444444444,\"#bd3786\"],[0.5555555555555556,\"#d8576b\"],[0.6666666666666666,\"#ed7953\"],[0.7777777777777778,\"#fb9f3a\"],[0.8888888888888888,\"#fdca26\"],[1.0,\"#f0f921\"]]}],\"choropleth\":[{\"type\":\"choropleth\",\"colorbar\":{\"outlinewidth\":0,\"ticks\":\"\"}}],\"histogram2d\":[{\"type\":\"histogram2d\",\"colorbar\":{\"outlinewidth\":0,\"ticks\":\"\"},\"colorscale\":[[0.0,\"#0d0887\"],[0.1111111111111111,\"#46039f\"],[0.2222222222222222,\"#7201a8\"],[0.3333333333333333,\"#9c179e\"],[0.4444444444444444,\"#bd3786\"],[0.5555555555555556,\"#d8576b\"],[0.6666666666666666,\"#ed7953\"],[0.7777777777777778,\"#fb9f3a\"],[0.8888888888888888,\"#fdca26\"],[1.0,\"#f0f921\"]]}],\"heatmap\":[{\"type\":\"heatmap\",\"colorbar\":{\"outlinewidth\":0,\"ticks\":\"\"},\"colorscale\":[[0.0,\"#0d0887\"],[0.1111111111111111,\"#46039f\"],[0.2222222222222222,\"#7201a8\"],[0.3333333333333333,\"#9c179e\"],[0.4444444444444444,\"#bd3786\"],[0.5555555555555556,\"#d8576b\"],[0.6666666666666666,\"#ed7953\"],[0.7777777777777778,\"#fb9f3a\"],[0.8888888888888888,\"#fdca26\"],[1.0,\"#f0f921\"]]}],\"heatmapgl\":[{\"type\":\"heatmapgl\",\"colorbar\":{\"outlinewidth\":0,\"ticks\":\"\"},\"colorscale\":[[0.0,\"#0d0887\"],[0.1111111111111111,\"#46039f\"],[0.2222222222222222,\"#7201a8\"],[0.3333333333333333,\"#9c179e\"],[0.4444444444444444,\"#bd3786\"],[0.5555555555555556,\"#d8576b\"],[0.6666666666666666,\"#ed7953\"],[0.7777777777777778,\"#fb9f3a\"],[0.8888888888888888,\"#fdca26\"],[1.0,\"#f0f921\"]]}],\"contourcarpet\":[{\"type\":\"contourcarpet\",\"colorbar\":{\"outlinewidth\":0,\"ticks\":\"\"}}],\"contour\":[{\"type\":\"contour\",\"colorbar\":{\"outlinewidth\":0,\"ticks\":\"\"},\"colorscale\":[[0.0,\"#0d0887\"],[0.1111111111111111,\"#46039f\"],[0.2222222222222222,\"#7201a8\"],[0.3333333333333333,\"#9c179e\"],[0.4444444444444444,\"#bd3786\"],[0.5555555555555556,\"#d8576b\"],[0.6666666666666666,\"#ed7953\"],[0.7777777777777778,\"#fb9f3a\"],[0.8888888888888888,\"#fdca26\"],[1.0,\"#f0f921\"]]}],\"surface\":[{\"type\":\"surface\",\"colorbar\":{\"outlinewidth\":0,\"ticks\":\"\"},\"colorscale\":[[0.0,\"#0d0887\"],[0.1111111111111111,\"#46039f\"],[0.2222222222222222,\"#7201a8\"],[0.3333333333333333,\"#9c179e\"],[0.4444444444444444,\"#bd3786\"],[0.5555555555555556,\"#d8576b\"],[0.6666666666666666,\"#ed7953\"],[0.7777777777777778,\"#fb9f3a\"],[0.8888888888888888,\"#fdca26\"],[1.0,\"#f0f921\"]]}],\"mesh3d\":[{\"type\":\"mesh3d\",\"colorbar\":{\"outlinewidth\":0,\"ticks\":\"\"}}],\"scatter\":[{\"fillpattern\":{\"fillmode\":\"overlay\",\"size\":10,\"solidity\":0.2},\"type\":\"scatter\"}],\"parcoords\":[{\"type\":\"parcoords\",\"line\":{\"colorbar\":{\"outlinewidth\":0,\"ticks\":\"\"}}}],\"scatterpolargl\":[{\"type\":\"scatterpolargl\",\"marker\":{\"colorbar\":{\"outlinewidth\":0,\"ticks\":\"\"}}}],\"bar\":[{\"error_x\":{\"color\":\"#2a3f5f\"},\"error_y\":{\"color\":\"#2a3f5f\"},\"marker\":{\"line\":{\"color\":\"#E5ECF6\",\"width\":0.5},\"pattern\":{\"fillmode\":\"overlay\",\"size\":10,\"solidity\":0.2}},\"type\":\"bar\"}],\"scattergeo\":[{\"type\":\"scattergeo\",\"marker\":{\"colorbar\":{\"outlinewidth\":0,\"ticks\":\"\"}}}],\"scatterpolar\":[{\"type\":\"scatterpolar\",\"marker\":{\"colorbar\":{\"outlinewidth\":0,\"ticks\":\"\"}}}],\"histogram\":[{\"marker\":{\"pattern\":{\"fillmode\":\"overlay\",\"size\":10,\"solidity\":0.2}},\"type\":\"histogram\"}],\"scattergl\":[{\"type\":\"scattergl\",\"marker\":{\"colorbar\":{\"outlinewidth\":0,\"ticks\":\"\"}}}],\"scatter3d\":[{\"type\":\"scatter3d\",\"line\":{\"colorbar\":{\"outlinewidth\":0,\"ticks\":\"\"}},\"marker\":{\"colorbar\":{\"outlinewidth\":0,\"ticks\":\"\"}}}],\"scattermapbox\":[{\"type\":\"scattermapbox\",\"marker\":{\"colorbar\":{\"outlinewidth\":0,\"ticks\":\"\"}}}],\"scatterternary\":[{\"type\":\"scatterternary\",\"marker\":{\"colorbar\":{\"outlinewidth\":0,\"ticks\":\"\"}}}],\"scattercarpet\":[{\"type\":\"scattercarpet\",\"marker\":{\"colorbar\":{\"outlinewidth\":0,\"ticks\":\"\"}}}],\"carpet\":[{\"aaxis\":{\"endlinecolor\":\"#2a3f5f\",\"gridcolor\":\"white\",\"linecolor\":\"white\",\"minorgridcolor\":\"white\",\"startlinecolor\":\"#2a3f5f\"},\"baxis\":{\"endlinecolor\":\"#2a3f5f\",\"gridcolor\":\"white\",\"linecolor\":\"white\",\"minorgridcolor\":\"white\",\"startlinecolor\":\"#2a3f5f\"},\"type\":\"carpet\"}],\"table\":[{\"cells\":{\"fill\":{\"color\":\"#EBF0F8\"},\"line\":{\"color\":\"white\"}},\"header\":{\"fill\":{\"color\":\"#C8D4E3\"},\"line\":{\"color\":\"white\"}},\"type\":\"table\"}],\"barpolar\":[{\"marker\":{\"line\":{\"color\":\"#E5ECF6\",\"width\":0.5},\"pattern\":{\"fillmode\":\"overlay\",\"size\":10,\"solidity\":0.2}},\"type\":\"barpolar\"}],\"pie\":[{\"automargin\":true,\"type\":\"pie\"}]},\"layout\":{\"autotypenumbers\":\"strict\",\"colorway\":[\"#636efa\",\"#EF553B\",\"#00cc96\",\"#ab63fa\",\"#FFA15A\",\"#19d3f3\",\"#FF6692\",\"#B6E880\",\"#FF97FF\",\"#FECB52\"],\"font\":{\"color\":\"#2a3f5f\"},\"hovermode\":\"closest\",\"hoverlabel\":{\"align\":\"left\"},\"paper_bgcolor\":\"white\",\"plot_bgcolor\":\"#E5ECF6\",\"polar\":{\"bgcolor\":\"#E5ECF6\",\"angularaxis\":{\"gridcolor\":\"white\",\"linecolor\":\"white\",\"ticks\":\"\"},\"radialaxis\":{\"gridcolor\":\"white\",\"linecolor\":\"white\",\"ticks\":\"\"}},\"ternary\":{\"bgcolor\":\"#E5ECF6\",\"aaxis\":{\"gridcolor\":\"white\",\"linecolor\":\"white\",\"ticks\":\"\"},\"baxis\":{\"gridcolor\":\"white\",\"linecolor\":\"white\",\"ticks\":\"\"},\"caxis\":{\"gridcolor\":\"white\",\"linecolor\":\"white\",\"ticks\":\"\"}},\"coloraxis\":{\"colorbar\":{\"outlinewidth\":0,\"ticks\":\"\"}},\"colorscale\":{\"sequential\":[[0.0,\"#0d0887\"],[0.1111111111111111,\"#46039f\"],[0.2222222222222222,\"#7201a8\"],[0.3333333333333333,\"#9c179e\"],[0.4444444444444444,\"#bd3786\"],[0.5555555555555556,\"#d8576b\"],[0.6666666666666666,\"#ed7953\"],[0.7777777777777778,\"#fb9f3a\"],[0.8888888888888888,\"#fdca26\"],[1.0,\"#f0f921\"]],\"sequentialminus\":[[0.0,\"#0d0887\"],[0.1111111111111111,\"#46039f\"],[0.2222222222222222,\"#7201a8\"],[0.3333333333333333,\"#9c179e\"],[0.4444444444444444,\"#bd3786\"],[0.5555555555555556,\"#d8576b\"],[0.6666666666666666,\"#ed7953\"],[0.7777777777777778,\"#fb9f3a\"],[0.8888888888888888,\"#fdca26\"],[1.0,\"#f0f921\"]],\"diverging\":[[0,\"#8e0152\"],[0.1,\"#c51b7d\"],[0.2,\"#de77ae\"],[0.3,\"#f1b6da\"],[0.4,\"#fde0ef\"],[0.5,\"#f7f7f7\"],[0.6,\"#e6f5d0\"],[0.7,\"#b8e186\"],[0.8,\"#7fbc41\"],[0.9,\"#4d9221\"],[1,\"#276419\"]]},\"xaxis\":{\"gridcolor\":\"white\",\"linecolor\":\"white\",\"ticks\":\"\",\"title\":{\"standoff\":15},\"zerolinecolor\":\"white\",\"automargin\":true,\"zerolinewidth\":2},\"yaxis\":{\"gridcolor\":\"white\",\"linecolor\":\"white\",\"ticks\":\"\",\"title\":{\"standoff\":15},\"zerolinecolor\":\"white\",\"automargin\":true,\"zerolinewidth\":2},\"scene\":{\"xaxis\":{\"backgroundcolor\":\"#E5ECF6\",\"gridcolor\":\"white\",\"linecolor\":\"white\",\"showbackground\":true,\"ticks\":\"\",\"zerolinecolor\":\"white\",\"gridwidth\":2},\"yaxis\":{\"backgroundcolor\":\"#E5ECF6\",\"gridcolor\":\"white\",\"linecolor\":\"white\",\"showbackground\":true,\"ticks\":\"\",\"zerolinecolor\":\"white\",\"gridwidth\":2},\"zaxis\":{\"backgroundcolor\":\"#E5ECF6\",\"gridcolor\":\"white\",\"linecolor\":\"white\",\"showbackground\":true,\"ticks\":\"\",\"zerolinecolor\":\"white\",\"gridwidth\":2}},\"shapedefaults\":{\"line\":{\"color\":\"#2a3f5f\"}},\"annotationdefaults\":{\"arrowcolor\":\"#2a3f5f\",\"arrowhead\":0,\"arrowwidth\":1},\"geo\":{\"bgcolor\":\"white\",\"landcolor\":\"#E5ECF6\",\"subunitcolor\":\"white\",\"showland\":true,\"showlakes\":true,\"lakecolor\":\"white\"},\"title\":{\"x\":0.05},\"mapbox\":{\"style\":\"light\"}}},\"xaxis\":{\"title\":{\"font\":{\"size\":18},\"text\":\"Usage Count\"}},\"yaxis\":{\"title\":{\"font\":{\"size\":18},\"text\":\"Accounts using\"}},\"plot_bgcolor\":\"white\",\"title\":{\"text\":\"Usage count of top tags vs the number of accounts using them for some chosen tags\"}},                        {\"responsive\": true}                    ).then(function(){\n",
       "                            \n",
       "var gd = document.getElementById('fab1dcce-a96b-42d8-9aac-e10e9509f277');\n",
       "var x = new MutationObserver(function (mutations, observer) {{\n",
       "        var display = window.getComputedStyle(gd).display;\n",
       "        if (!display || display === 'none') {{\n",
       "            console.log([gd, 'removed!']);\n",
       "            Plotly.purge(gd);\n",
       "            observer.disconnect();\n",
       "        }}\n",
       "}});\n",
       "\n",
       "// Listen for the removal of the full notebook cells\n",
       "var notebookContainer = gd.closest('#notebook-container');\n",
       "if (notebookContainer) {{\n",
       "    x.observe(notebookContainer, {childList: true});\n",
       "}}\n",
       "\n",
       "// Listen for the clearing of the current output cell\n",
       "var outputEl = gd.closest('.output');\n",
       "if (outputEl) {{\n",
       "    x.observe(outputEl, {childList: true});\n",
       "}}\n",
       "\n",
       "                        })                };                });            </script>        </div>"
      ]
     },
     "metadata": {},
     "output_type": "display_data"
    }
   ],
   "source": [
    "### mostly the same plot as the scatter plot before but only the values of two tags are plotted\n",
    "# (the regression model used is still the one with every tag as data)\n",
    "# could be maybe used to show that the regression doesn't fit all the different tags / the values of the regression model aren't the same\n",
    "# for every tag\n",
    "\n",
    "fig = go.Figure()\n",
    "\n",
    "#fig.add_trace(go.Scatter(x=file2['usage_count'],y=file2['accounts_using'], mode = 'markers', name = 'The values from the dataset'))\n",
    "#for tag in file2['name'].unique():\n",
    "df_tag = file2[file2['name'] == '今月描いた絵を晒そう']\n",
    "#print(df_tag)\n",
    "fig.add_trace(go.Scatter(x=df_tag['usage_count'],y=df_tag['accounts_using'], mode = 'markers', name = '今月描いた絵を晒そう'))\n",
    "\n",
    "df_tag = file2[file2['name'] == 'musiquinta']\n",
    "#print(df_tag)\n",
    "fig.add_trace(go.Scatter(x=df_tag['usage_count'],y=df_tag['accounts_using'], mode = 'markers', name = 'IfAIDisclaimersWereSongs'))\n",
    "\n",
    "const = sm.add_constant(file2['usage_count'])\n",
    "model = sm.OLS(file2['accounts_using'],const)\n",
    "res = model.fit()\n",
    "print(res.summary())\n",
    "\n",
    "fig.update_layout(\n",
    "    plot_bgcolor=\"white\",\n",
    "    title = 'Usage count of top tags vs the number of accounts using them for some chosen tags',\n",
    "    xaxis = {\n",
    "        'title' :{\n",
    "            'font' : {\n",
    "                'size' : 18\n",
    "            },\n",
    "            'text' : 'Usage Count'\n",
    "        }\n",
    "    },\n",
    "    yaxis = {\n",
    "        'title' :{\n",
    "            'font' : {\n",
    "                'size' : 18\n",
    "            },\n",
    "            'text' : 'Accounts using'\n",
    "        }\n",
    "    }\n",
    ")\n",
    "\n",
    "c,m = res.params\n",
    "x = np.array(range(0,230))\n",
    "y = m*x+c\n",
    "fig.add_trace(go.Scatter(x=x, y=y, name = 'The regression model'))\n",
    "\n",
    "fig.show()"
   ]
  },
  {
   "cell_type": "code",
   "execution_count": 91,
   "id": "78e48ed9-2949-43c2-969e-fb49d1791662",
   "metadata": {},
   "outputs": [
    {
     "data": {
      "text/html": [
       "<div>\n",
       "<style scoped>\n",
       "    .dataframe tbody tr th:only-of-type {\n",
       "        vertical-align: middle;\n",
       "    }\n",
       "\n",
       "    .dataframe tbody tr th {\n",
       "        vertical-align: top;\n",
       "    }\n",
       "\n",
       "    .dataframe thead th {\n",
       "        text-align: right;\n",
       "    }\n",
       "</style>\n",
       "<table border=\"1\" class=\"dataframe\">\n",
       "  <thead>\n",
       "    <tr style=\"text-align: right;\">\n",
       "      <th></th>\n",
       "      <th>tag</th>\n",
       "      <th>slope</th>\n",
       "      <th>y Intercept</th>\n",
       "    </tr>\n",
       "  </thead>\n",
       "  <tbody>\n",
       "    <tr>\n",
       "      <th>0</th>\n",
       "      <td>musiquinta</td>\n",
       "      <td>0.401481</td>\n",
       "      <td>1.405959e+00</td>\n",
       "    </tr>\n",
       "    <tr>\n",
       "      <th>1</th>\n",
       "      <td>guilty</td>\n",
       "      <td>0.695390</td>\n",
       "      <td>1.949872e-01</td>\n",
       "    </tr>\n",
       "    <tr>\n",
       "      <th>2</th>\n",
       "      <td>ThrowbackThursday</td>\n",
       "      <td>0.927432</td>\n",
       "      <td>-1.002498e+00</td>\n",
       "    </tr>\n",
       "    <tr>\n",
       "      <th>3</th>\n",
       "      <td>trumpisguilty</td>\n",
       "      <td>0.680955</td>\n",
       "      <td>-3.476533e-01</td>\n",
       "    </tr>\n",
       "    <tr>\n",
       "      <th>4</th>\n",
       "      <td>IfAIDisclaimersWereSongs</td>\n",
       "      <td>0.382166</td>\n",
       "      <td>-1.604348e-15</td>\n",
       "    </tr>\n",
       "    <tr>\n",
       "      <th>5</th>\n",
       "      <td>ThursdayFiveList</td>\n",
       "      <td>0.888889</td>\n",
       "      <td>-2.524023e-15</td>\n",
       "    </tr>\n",
       "    <tr>\n",
       "      <th>6</th>\n",
       "      <td>trumpguilty</td>\n",
       "      <td>0.804348</td>\n",
       "      <td>1.123233e-16</td>\n",
       "    </tr>\n",
       "    <tr>\n",
       "      <th>7</th>\n",
       "      <td>thehands</td>\n",
       "      <td>0.875000</td>\n",
       "      <td>2.519686e-15</td>\n",
       "    </tr>\n",
       "    <tr>\n",
       "      <th>8</th>\n",
       "      <td>tbt</td>\n",
       "      <td>0.871901</td>\n",
       "      <td>1.239669e-01</td>\n",
       "    </tr>\n",
       "    <tr>\n",
       "      <th>9</th>\n",
       "      <td>Felon</td>\n",
       "      <td>0.722222</td>\n",
       "      <td>-1.026089e-15</td>\n",
       "    </tr>\n",
       "    <tr>\n",
       "      <th>10</th>\n",
       "      <td>trump</td>\n",
       "      <td>0.625684</td>\n",
       "      <td>-2.221183e+01</td>\n",
       "    </tr>\n",
       "    <tr>\n",
       "      <th>11</th>\n",
       "      <td>dwd3</td>\n",
       "      <td>0.579615</td>\n",
       "      <td>1.046510e+00</td>\n",
       "    </tr>\n",
       "    <tr>\n",
       "      <th>12</th>\n",
       "      <td>GPN22</td>\n",
       "      <td>0.539027</td>\n",
       "      <td>9.485312e+00</td>\n",
       "    </tr>\n",
       "    <tr>\n",
       "      <th>13</th>\n",
       "      <td>verdict</td>\n",
       "      <td>0.616252</td>\n",
       "      <td>5.676009e-02</td>\n",
       "    </tr>\n",
       "    <tr>\n",
       "      <th>14</th>\n",
       "      <td>waffle860</td>\n",
       "      <td>1.000000</td>\n",
       "      <td>8.239937e-18</td>\n",
       "    </tr>\n",
       "    <tr>\n",
       "      <th>15</th>\n",
       "      <td>今月描いた絵を晒そう</td>\n",
       "      <td>0.896117</td>\n",
       "      <td>2.094169e-01</td>\n",
       "    </tr>\n",
       "    <tr>\n",
       "      <th>16</th>\n",
       "      <td>TrumpTrial</td>\n",
       "      <td>0.401329</td>\n",
       "      <td>-2.641285e+00</td>\n",
       "    </tr>\n",
       "    <tr>\n",
       "      <th>17</th>\n",
       "      <td>europol</td>\n",
       "      <td>0.774462</td>\n",
       "      <td>2.845246e-01</td>\n",
       "    </tr>\n",
       "    <tr>\n",
       "      <th>18</th>\n",
       "      <td>trumpverdict</td>\n",
       "      <td>0.497288</td>\n",
       "      <td>1.614550e-01</td>\n",
       "    </tr>\n",
       "    <tr>\n",
       "      <th>19</th>\n",
       "      <td>TheUmbrellaAcademy</td>\n",
       "      <td>0.952107</td>\n",
       "      <td>7.662835e-03</td>\n",
       "    </tr>\n",
       "  </tbody>\n",
       "</table>\n",
       "</div>"
      ],
      "text/plain": [
       "                         tag     slope   y Intercept\n",
       "0                 musiquinta  0.401481  1.405959e+00\n",
       "1                     guilty  0.695390  1.949872e-01\n",
       "2          ThrowbackThursday  0.927432 -1.002498e+00\n",
       "3              trumpisguilty  0.680955 -3.476533e-01\n",
       "4   IfAIDisclaimersWereSongs  0.382166 -1.604348e-15\n",
       "5           ThursdayFiveList  0.888889 -2.524023e-15\n",
       "6                trumpguilty  0.804348  1.123233e-16\n",
       "7                   thehands  0.875000  2.519686e-15\n",
       "8                        tbt  0.871901  1.239669e-01\n",
       "9                      Felon  0.722222 -1.026089e-15\n",
       "10                     trump  0.625684 -2.221183e+01\n",
       "11                      dwd3  0.579615  1.046510e+00\n",
       "12                     GPN22  0.539027  9.485312e+00\n",
       "13                   verdict  0.616252  5.676009e-02\n",
       "14                 waffle860  1.000000  8.239937e-18\n",
       "15                今月描いた絵を晒そう  0.896117  2.094169e-01\n",
       "16                TrumpTrial  0.401329 -2.641285e+00\n",
       "17                   europol  0.774462  2.845246e-01\n",
       "18              trumpverdict  0.497288  1.614550e-01\n",
       "19        TheUmbrellaAcademy  0.952107  7.662835e-03"
      ]
     },
     "execution_count": 91,
     "metadata": {},
     "output_type": "execute_result"
    }
   ],
   "source": [
    "### Looking into the different parameters of regression models, this time we create a regression model for every single tag\n",
    "# and save the corresponding parameters in a dataFrame to plot it later\n",
    "\n",
    "c_values = []\n",
    "slope_values = []\n",
    "tag_names = []\n",
    "\n",
    "\n",
    "for tag in file2['name'].unique():\n",
    "    df_tag = file2[file2['name'] == tag]\n",
    "    const = sm.add_constant(df_tag['usage_count'])\n",
    "    model = sm.OLS(df_tag['accounts_using'],const)\n",
    "    res = model.fit()\n",
    "    c,m = res.params\n",
    "    c_values.append(c)\n",
    "    slope_values.append(m)\n",
    "    tag_names.append(tag)\n",
    "\n",
    "regression_df = pd.DataFrame({'tag': tag_names, 'slope': slope_values, 'y Intercept': c_values})\n",
    "\n",
    "regression_df"
   ]
  },
  {
   "cell_type": "code",
   "execution_count": 133,
   "id": "4c818a45-877c-4c3d-9871-a362d6032f8f",
   "metadata": {},
   "outputs": [
    {
     "data": {
      "text/plain": [
       "Text(0.5, 1.0, 'tets')"
      ]
     },
     "execution_count": 133,
     "metadata": {},
     "output_type": "execute_result"
    },
    {
     "data": {
      "image/png": "[encoded data removed]",
      "text/plain": [
       "<Figure size 500x500 with 1 Axes>"
      ]
     },
     "metadata": {},
     "output_type": "display_data"
    }
   ],
   "source": [
    "const = sm.add_constant(file2['usage_count'])\n",
    "model = sm.OLS(file2['accounts_using'],const)\n",
    "res = model.fit()\n",
    "c_all,m_all = res.params\n",
    "\n",
    "sns.displot(regression_df, x='slope', binwidth = 0.05)\n",
    "#sns.displot(regression_df, x='slope', binwidth = 0.05, kde = True)\n",
    "plt.axvline(m_all, 0,3)\n",
    "plt.text(m_all+0.005,2.9, 'The slope of')\n",
    "plt.text(m_all+0.005,2.8, 'the complete model')\n",
    "plt.title('tets')"
   ]
  },
  {
   "cell_type": "code",
   "execution_count": 113,
   "id": "f2df3d8a-3059-46d2-bb5c-9dcde328f0c0",
   "metadata": {},
   "outputs": [
    {
     "data": {
      "text/plain": [
       "Text(7.5, 1.3, 'GPN22')"
      ]
     },
     "execution_count": 113,
     "metadata": {},
     "output_type": "execute_result"
    },
    {
     "data": {
      "image/png": "[encoded data removed]",
      "text/plain": [
       "<Figure size 500x500 with 1 Axes>"
      ]
     },
     "metadata": {},
     "output_type": "display_data"
    }
   ],
   "source": [
    "### The distribution of the different y Intercept values of the different regression models for each tag\n",
    "# with a mark what the two outliers are\n",
    "\n",
    "sns.displot(regression_df, x='y Intercept',binwidth = 1, kde = True)\n",
    "#sns.displot(regression_df, x='slope', binwidth = 0.05, kde = True)\n",
    "plt.axvline(c_all, 0,3)\n",
    "plt.text(c_all+0.5,14, 'The y Intercept of')\n",
    "plt.text(c_all+0.5,13.5, 'the complete model')\n",
    "plt.text(-23,1.3,'trump')\n",
    "plt.text(7.5,1.3,'GPN22')"
   ]
  },
  {
   "cell_type": "code",
   "execution_count": 120,
   "id": "ad461620-b85e-4ec6-8207-68c45dce44e6",
   "metadata": {},
   "outputs": [
    {
     "name": "stdout",
     "output_type": "stream",
     "text": [
      "                                 OLS Regression Results                                \n",
      "=======================================================================================\n",
      "Dep. Variable:         accounts_using   R-squared (uncentered):                   0.954\n",
      "Model:                            OLS   Adj. R-squared (uncentered):              0.954\n",
      "Method:                 Least Squares   F-statistic:                              2901.\n",
      "Date:                Fri, 31 May 2024   Prob (F-statistic):                    5.27e-95\n",
      "Time:                        11:56:21   Log-Likelihood:                         -561.85\n",
      "No. Observations:                 140   AIC:                                      1126.\n",
      "Df Residuals:                     139   BIC:                                      1129.\n",
      "Df Model:                           1                                                  \n",
      "Covariance Type:            nonrobust                                                  \n",
      "===============================================================================\n",
      "                  coef    std err          t      P>|t|      [0.025      0.975]\n",
      "-------------------------------------------------------------------------------\n",
      "usage_count     0.5573      0.010     53.859      0.000       0.537       0.578\n",
      "==============================================================================\n",
      "Omnibus:                      105.714   Durbin-Watson:                   1.682\n",
      "Prob(Omnibus):                  0.000   Jarque-Bera (JB):             2251.970\n",
      "Skew:                          -2.224   Prob(JB):                         0.00\n",
      "Kurtosis:                      22.138   Cond. No.                         1.00\n",
      "==============================================================================\n",
      "\n",
      "Notes:\n",
      "[1] R² is computed without centering (uncentered) since the model does not contain a constant.\n",
      "[2] Standard Errors assume that the covariance matrix of the errors is correctly specified.\n"
     ]
    },
    {
     "data": {
      "application/vnd.plotly.v1+json": {
       "config": {
        "plotlyServerURL": "https://plot.ly"
       },
       "data": [
        {
         "mode": "markers",
         "name": "The values from the dataset",
         "type": "scatter",
         "x": [
          226,
          2,
          2,
          2,
          1,
          0,
          9,
          214,
          11,
          3,
          0,
          0,
          1,
          2,
          87,
          3,
          2,
          0,
          0,
          0,
          18,
          62,
          2,
          2,
          1,
          5,
          0,
          5,
          157,
          0,
          0,
          0,
          0,
          0,
          0,
          45,
          0,
          0,
          0,
          0,
          0,
          0,
          46,
          0,
          0,
          0,
          0,
          0,
          0,
          40,
          0,
          0,
          0,
          0,
          0,
          0,
          32,
          1,
          1,
          0,
          1,
          0,
          3,
          36,
          0,
          0,
          0,
          0,
          0,
          0,
          764,
          325,
          371,
          161,
          171,
          160,
          216,
          58,
          0,
          0,
          79,
          19,
          5,
          61,
          594,
          172,
          123,
          97,
          45,
          23,
          12,
          63,
          7,
          2,
          0,
          1,
          1,
          0,
          19,
          0,
          0,
          0,
          0,
          0,
          0,
          107,
          11,
          1,
          0,
          1,
          0,
          0,
          293,
          130,
          210,
          12,
          7,
          5,
          12,
          23,
          1,
          3,
          0,
          0,
          3,
          1,
          46,
          2,
          0,
          0,
          0,
          0,
          0,
          21,
          1,
          0,
          0,
          0,
          0,
          0
         ],
         "y": [
          92,
          2,
          2,
          1,
          1,
          0,
          9,
          149,
          8,
          2,
          0,
          0,
          1,
          2,
          81,
          3,
          2,
          0,
          0,
          0,
          9,
          42,
          1,
          2,
          1,
          2,
          0,
          2,
          60,
          0,
          0,
          0,
          0,
          0,
          0,
          40,
          0,
          0,
          0,
          0,
          0,
          0,
          37,
          0,
          0,
          0,
          0,
          0,
          0,
          35,
          0,
          0,
          0,
          0,
          0,
          0,
          28,
          1,
          1,
          0,
          1,
          0,
          3,
          26,
          0,
          0,
          0,
          0,
          0,
          0,
          486,
          158,
          138,
          96,
          111,
          91,
          121,
          52,
          0,
          0,
          31,
          7,
          4,
          42,
          326,
          118,
          76,
          57,
          35,
          17,
          12,
          39,
          3,
          2,
          0,
          1,
          1,
          0,
          19,
          0,
          0,
          0,
          0,
          0,
          0,
          96,
          11,
          1,
          0,
          1,
          0,
          0,
          154,
          42,
          31,
          7,
          4,
          5,
          7,
          18,
          1,
          3,
          0,
          0,
          3,
          1,
          23,
          2,
          0,
          0,
          0,
          0,
          0,
          20,
          1,
          0,
          0,
          0,
          0,
          0
         ]
        },
        {
         "name": "The regression model",
         "type": "scatter",
         "x": [
          0,
          1,
          2,
          3,
          4,
          5,
          6,
          7,
          8,
          9,
          10,
          11,
          12,
          13,
          14,
          15,
          16,
          17,
          18,
          19,
          20,
          21,
          22,
          23,
          24,
          25,
          26,
          27,
          28,
          29,
          30,
          31,
          32,
          33,
          34,
          35,
          36,
          37,
          38,
          39,
          40,
          41,
          42,
          43,
          44,
          45,
          46,
          47,
          48,
          49,
          50,
          51,
          52,
          53,
          54,
          55,
          56,
          57,
          58,
          59,
          60,
          61,
          62,
          63,
          64,
          65,
          66,
          67,
          68,
          69,
          70,
          71,
          72,
          73,
          74,
          75,
          76,
          77,
          78,
          79,
          80,
          81,
          82,
          83,
          84,
          85,
          86,
          87,
          88,
          89,
          90,
          91,
          92,
          93,
          94,
          95,
          96,
          97,
          98,
          99,
          100,
          101,
          102,
          103,
          104,
          105,
          106,
          107,
          108,
          109,
          110,
          111,
          112,
          113,
          114,
          115,
          116,
          117,
          118,
          119,
          120,
          121,
          122,
          123,
          124,
          125,
          126,
          127,
          128,
          129,
          130,
          131,
          132,
          133,
          134,
          135,
          136,
          137,
          138,
          139,
          140,
          141,
          142,
          143,
          144,
          145,
          146,
          147,
          148,
          149,
          150,
          151,
          152,
          153,
          154,
          155,
          156,
          157,
          158,
          159,
          160,
          161,
          162,
          163,
          164,
          165,
          166,
          167,
          168,
          169,
          170,
          171,
          172,
          173,
          174,
          175,
          176,
          177,
          178,
          179,
          180,
          181,
          182,
          183,
          184,
          185,
          186,
          187,
          188,
          189,
          190,
          191,
          192,
          193,
          194,
          195,
          196,
          197,
          198,
          199,
          200,
          201,
          202,
          203,
          204,
          205,
          206,
          207,
          208,
          209,
          210,
          211,
          212,
          213,
          214,
          215,
          216,
          217,
          218,
          219,
          220,
          221,
          222,
          223,
          224,
          225,
          226,
          227,
          228,
          229,
          230,
          231,
          232,
          233,
          234,
          235,
          236,
          237,
          238,
          239,
          240,
          241,
          242,
          243,
          244,
          245,
          246,
          247,
          248,
          249,
          250,
          251,
          252,
          253,
          254,
          255,
          256,
          257,
          258,
          259,
          260,
          261,
          262,
          263,
          264,
          265,
          266,
          267,
          268,
          269,
          270,
          271,
          272,
          273,
          274,
          275,
          276,
          277,
          278,
          279,
          280,
          281,
          282,
          283,
          284,
          285,
          286,
          287,
          288,
          289,
          290,
          291,
          292,
          293,
          294,
          295,
          296,
          297,
          298,
          299,
          300,
          301,
          302,
          303,
          304,
          305,
          306,
          307,
          308,
          309,
          310,
          311,
          312,
          313,
          314,
          315,
          316,
          317,
          318,
          319,
          320,
          321,
          322,
          323,
          324,
          325,
          326,
          327,
          328,
          329,
          330,
          331,
          332,
          333,
          334,
          335,
          336,
          337,
          338,
          339,
          340,
          341,
          342,
          343,
          344,
          345,
          346,
          347,
          348,
          349,
          350,
          351,
          352,
          353,
          354,
          355,
          356,
          357,
          358,
          359,
          360,
          361,
          362,
          363,
          364,
          365,
          366,
          367,
          368,
          369,
          370,
          371,
          372,
          373,
          374,
          375,
          376,
          377,
          378,
          379,
          380,
          381,
          382,
          383,
          384,
          385,
          386,
          387,
          388,
          389,
          390,
          391,
          392,
          393,
          394,
          395,
          396,
          397,
          398,
          399,
          400,
          401,
          402,
          403,
          404,
          405,
          406,
          407,
          408,
          409,
          410,
          411,
          412,
          413,
          414,
          415,
          416,
          417,
          418,
          419,
          420,
          421,
          422,
          423,
          424,
          425,
          426,
          427,
          428,
          429,
          430,
          431,
          432,
          433,
          434,
          435,
          436,
          437,
          438,
          439,
          440,
          441,
          442,
          443,
          444,
          445,
          446,
          447,
          448,
          449,
          450,
          451,
          452,
          453,
          454,
          455,
          456,
          457,
          458,
          459,
          460,
          461,
          462,
          463,
          464,
          465,
          466,
          467,
          468,
          469,
          470,
          471,
          472,
          473,
          474,
          475,
          476,
          477,
          478,
          479,
          480,
          481,
          482,
          483,
          484,
          485,
          486,
          487,
          488,
          489,
          490,
          491,
          492,
          493,
          494,
          495,
          496,
          497,
          498,
          499,
          500,
          501,
          502,
          503,
          504,
          505,
          506,
          507,
          508,
          509,
          510,
          511,
          512,
          513,
          514,
          515,
          516,
          517,
          518,
          519,
          520,
          521,
          522,
          523,
          524,
          525,
          526,
          527,
          528,
          529,
          530,
          531,
          532,
          533,
          534,
          535,
          536,
          537,
          538,
          539,
          540,
          541,
          542,
          543,
          544,
          545,
          546,
          547,
          548,
          549,
          550,
          551,
          552,
          553,
          554,
          555,
          556,
          557,
          558,
          559,
          560,
          561,
          562,
          563,
          564,
          565,
          566,
          567,
          568,
          569,
          570,
          571,
          572,
          573,
          574,
          575,
          576,
          577,
          578,
          579,
          580,
          581,
          582,
          583,
          584,
          585,
          586,
          587,
          588,
          589,
          590,
          591,
          592,
          593,
          594,
          595,
          596,
          597,
          598,
          599,
          600,
          601,
          602,
          603,
          604,
          605,
          606,
          607,
          608,
          609,
          610,
          611,
          612,
          613,
          614,
          615,
          616,
          617,
          618,
          619,
          620,
          621,
          622,
          623,
          624,
          625,
          626,
          627,
          628,
          629,
          630,
          631,
          632,
          633,
          634,
          635,
          636,
          637,
          638,
          639,
          640,
          641,
          642,
          643,
          644,
          645,
          646,
          647,
          648,
          649,
          650,
          651,
          652,
          653,
          654,
          655,
          656,
          657,
          658,
          659,
          660,
          661,
          662,
          663,
          664,
          665,
          666,
          667,
          668,
          669,
          670,
          671,
          672,
          673,
          674,
          675,
          676,
          677,
          678,
          679,
          680,
          681,
          682,
          683,
          684,
          685,
          686,
          687,
          688,
          689,
          690,
          691,
          692,
          693,
          694,
          695,
          696,
          697,
          698,
          699,
          700,
          701,
          702,
          703,
          704,
          705,
          706,
          707,
          708,
          709,
          710,
          711,
          712,
          713,
          714,
          715,
          716,
          717,
          718,
          719,
          720,
          721,
          722,
          723,
          724,
          725,
          726,
          727,
          728,
          729,
          730,
          731,
          732,
          733,
          734,
          735,
          736,
          737,
          738,
          739,
          740,
          741,
          742,
          743,
          744,
          745,
          746,
          747,
          748,
          749,
          750,
          751,
          752,
          753,
          754,
          755,
          756,
          757,
          758,
          759,
          760,
          761,
          762,
          763,
          764,
          765,
          766,
          767,
          768,
          769,
          770,
          771,
          772,
          773,
          774,
          775,
          776,
          777,
          778,
          779,
          780,
          781,
          782,
          783,
          784,
          785,
          786,
          787,
          788,
          789,
          790,
          791,
          792,
          793,
          794,
          795,
          796,
          797,
          798,
          799
         ],
         "y": [
          0,
          0.5573191256357307,
          1.1146382512714614,
          1.671957376907192,
          2.229276502542923,
          2.7865956281786537,
          3.343914753814384,
          3.901233879450115,
          4.458553005085846,
          5.015872130721577,
          5.573191256357307,
          6.130510381993038,
          6.687829507628768,
          7.245148633264499,
          7.80246775890023,
          8.35978688453596,
          8.917106010171691,
          9.474425135807422,
          10.031744261443153,
          10.589063387078884,
          11.146382512714615,
          11.703701638350346,
          12.261020763986076,
          12.818339889621807,
          13.375659015257536,
          13.932978140893267,
          14.490297266528998,
          15.047616392164729,
          15.60493551780046,
          16.162254643436192,
          16.71957376907192,
          17.276892894707654,
          17.834212020343383,
          18.391531145979112,
          18.948850271614845,
          19.506169397250574,
          20.063488522886306,
          20.620807648522035,
          21.178126774157768,
          21.735445899793497,
          22.29276502542923,
          22.85008415106496,
          23.40740327670069,
          23.96472240233642,
          24.522041527972153,
          25.079360653607882,
          25.636679779243615,
          26.193998904879344,
          26.751318030515073,
          27.308637156150805,
          27.865956281786534,
          28.423275407422267,
          28.980594533057996,
          29.53791365869373,
          30.095232784329458,
          30.65255190996519,
          31.20987103560092,
          31.767190161236652,
          32.324509286872384,
          32.88182841250811,
          33.43914753814384,
          33.99646666377957,
          34.55378578941531,
          35.11110491505104,
          35.668424040686766,
          36.225743166322495,
          36.783062291958224,
          37.34038141759396,
          37.89770054322969,
          38.45501966886542,
          39.01233879450115,
          39.56965792013688,
          40.12697704577261,
          40.68429617140834,
          41.24161529704407,
          41.79893442267981,
          42.356253548315536,
          42.913572673951265,
          43.470891799586994,
          44.02821092522273,
          44.58553005085846,
          45.14284917649419,
          45.70016830212992,
          46.257487427765646,
          46.81480655340138,
          47.37212567903711,
          47.92944480467284,
          48.48676393030857,
          49.044083055944306,
          49.601402181580035,
          50.158721307215764,
          50.71604043285149,
          51.27335955848723,
          51.83067868412296,
          52.38799780975869,
          52.945316935394416,
          53.502636061030145,
          54.05995518666588,
          54.61727431230161,
          55.17459343793734,
          55.73191256357307,
          56.289231689208805,
          56.846550814844534,
          57.40386994048026,
          57.96118906611599,
          58.51850819175173,
          59.07582731738746,
          59.633146443023186,
          60.190465568658915,
          60.74778469429465,
          61.30510381993038,
          61.86242294556611,
          62.41974207120184,
          62.97706119683757,
          63.534380322473304,
          64.09169944810903,
          64.64901857374477,
          65.2063376993805,
          65.76365682501623,
          66.32097595065196,
          66.87829507628769,
          67.43561420192341,
          67.99293332755914,
          68.55025245319487,
          69.10757157883062,
          69.66489070446634,
          70.22220983010207,
          70.7795289557378,
          71.33684808137353,
          71.89416720700926,
          72.45148633264499,
          73.00880545828072,
          73.56612458391645,
          74.12344370955219,
          74.68076283518792,
          75.23808196082365,
          75.79540108645938,
          76.35272021209511,
          76.91003933773084,
          77.46735846336657,
          78.0246775890023,
          78.58199671463804,
          79.13931584027377,
          79.6966349659095,
          80.25395409154522,
          80.81127321718095,
          81.36859234281668,
          81.92591146845241,
          82.48323059408814,
          83.04054971972387,
          83.59786884535961,
          84.15518797099534,
          84.71250709663107,
          85.2698262222668,
          85.82714534790253,
          86.38446447353826,
          86.94178359917399,
          87.49910272480972,
          88.05642185044546,
          88.61374097608119,
          89.17106010171692,
          89.72837922735265,
          90.28569835298838,
          90.8430174786241,
          91.40033660425983,
          91.95765572989556,
          92.51497485553129,
          93.07229398116704,
          93.62961310680276,
          94.1869322324385,
          94.74425135807422,
          95.30157048370995,
          95.85888960934568,
          96.41620873498141,
          96.97352786061714,
          97.53084698625288,
          98.08816611188861,
          98.64548523752434,
          99.20280436316007,
          99.7601234887958,
          100.31744261443153,
          100.87476174006726,
          101.43208086570299,
          101.98939999133871,
          102.54671911697446,
          103.10403824261019,
          103.66135736824592,
          104.21867649388165,
          104.77599561951737,
          105.3333147451531,
          105.89063387078883,
          106.44795299642456,
          107.00527212206029,
          107.56259124769603,
          108.11991037333176,
          108.67722949896749,
          109.23454862460322,
          109.79186775023895,
          110.34918687587468,
          110.90650600151041,
          111.46382512714614,
          112.02114425278188,
          112.57846337841761,
          113.13578250405334,
          113.69310162968907,
          114.2504207553248,
          114.80773988096053,
          115.36505900659625,
          115.92237813223198,
          116.47969725786771,
          117.03701638350346,
          117.59433550913919,
          118.15165463477491,
          118.70897376041064,
          119.26629288604637,
          119.8236120116821,
          120.38093113731783,
          120.93825026295356,
          121.4955693885893,
          122.05288851422503,
          122.61020763986076,
          123.16752676549649,
          123.72484589113222,
          124.28216501676795,
          124.83948414240368,
          125.3968032680394,
          125.95412239367514,
          126.51144151931088,
          127.06876064494661,
          127.62607977058234,
          128.18339889621805,
          128.7407180218538,
          129.29803714748954,
          129.85535627312527,
          130.412675398761,
          130.96999452439672,
          131.52731365003245,
          132.08463277566818,
          132.6419519013039,
          133.19927102693964,
          133.75659015257537,
          134.3139092782111,
          134.87122840384683,
          135.42854752948256,
          135.9858666551183,
          136.54318578075402,
          137.10050490638974,
          137.65782403202547,
          138.21514315766123,
          138.77246228329696,
          139.3297814089327,
          139.88710053456842,
          140.44441966020415,
          141.00173878583988,
          141.5590579114756,
          142.11637703711133,
          142.67369616274706,
          143.2310152883828,
          143.78833441401852,
          144.34565353965425,
          144.90297266528998,
          145.4602917909257,
          146.01761091656144,
          146.57493004219717,
          147.1322491678329,
          147.68956829346865,
          148.24688741910438,
          148.8042065447401,
          149.36152567037584,
          149.91884479601157,
          150.4761639216473,
          151.03348304728303,
          151.59080217291876,
          152.14812129855449,
          152.70544042419021,
          153.26275954982594,
          153.82007867546167,
          154.3773978010974,
          154.93471692673313,
          155.49203605236886,
          156.0493551780046,
          156.60667430364032,
          157.16399342927608,
          157.7213125549118,
          158.27863168054753,
          158.83595080618326,
          159.393269931819,
          159.95058905745472,
          160.50790818309045,
          161.06522730872618,
          161.6225464343619,
          162.17986555999764,
          162.73718468563337,
          163.2945038112691,
          163.85182293690482,
          164.40914206254055,
          164.96646118817628,
          165.523780313812,
          166.08109943944774,
          166.6384185650835,
          167.19573769071923,
          167.75305681635496,
          168.31037594199069,
          168.8676950676264,
          169.42501419326214,
          169.98233331889787,
          170.5396524445336,
          171.09697157016933,
          171.65429069580506,
          172.2116098214408,
          172.76892894707652,
          173.32624807271225,
          173.88356719834798,
          174.4408863239837,
          174.99820544961943,
          175.55552457525516,
          176.11284370089092,
          176.67016282652665,
          177.22748195216238,
          177.7848010777981,
          178.34212020343384,
          178.89943932906957,
          179.4567584547053,
          180.01407758034102,
          180.57139670597675,
          181.12871583161248,
          181.6860349572482,
          182.24335408288394,
          182.80067320851967,
          183.3579923341554,
          183.91531145979113,
          184.47263058542686,
          185.02994971106259,
          185.58726883669834,
          186.14458796233407,
          186.7019070879698,
          187.25922621360553,
          187.81654533924126,
          188.373864464877,
          188.93118359051272,
          189.48850271614845,
          190.04582184178417,
          190.6031409674199,
          191.16046009305563,
          191.71777921869136,
          192.2750983443271,
          192.83241746996282,
          193.38973659559855,
          193.94705572123428,
          194.50437484687,
          195.06169397250576,
          195.6190130981415,
          196.17633222377722,
          196.73365134941295,
          197.29097047504868,
          197.8482896006844,
          198.40560872632014,
          198.96292785195587,
          199.5202469775916,
          200.07756610322733,
          200.63488522886306,
          201.19220435449878,
          201.7495234801345,
          202.30684260577024,
          202.86416173140597,
          203.4214808570417,
          203.97879998267743,
          204.5361191083132,
          205.09343823394892,
          205.65075735958465,
          206.20807648522037,
          206.7653956108561,
          207.32271473649183,
          207.88003386212756,
          208.4373529877633,
          208.99467211339902,
          209.55199123903475,
          210.10931036467048,
          210.6666294903062,
          211.22394861594194,
          211.78126774157766,
          212.3385868672134,
          212.89590599284912,
          213.45322511848485,
          214.01054424412058,
          214.56786336975634,
          215.12518249539207,
          215.6825016210278,
          216.23982074666353,
          216.79713987229925,
          217.35445899793498,
          217.9117781235707,
          218.46909724920644,
          219.02641637484217,
          219.5837355004779,
          220.14105462611363,
          220.69837375174936,
          221.2556928773851,
          221.81301200302082,
          222.37033112865655,
          222.92765025429227,
          223.484969379928,
          224.04228850556376,
          224.5996076311995,
          225.15692675683522,
          225.71424588247095,
          226.27156500810668,
          226.8288841337424,
          227.38620325937814,
          227.94352238501386,
          228.5008415106496,
          229.05816063628532,
          229.61547976192105,
          230.17279888755678,
          230.7301180131925,
          231.28743713882824,
          231.84475626446397,
          232.4020753900997,
          232.95939451573543,
          233.51671364137118,
          234.0740327670069,
          234.63135189264264,
          235.18867101827837,
          235.7459901439141,
          236.30330926954983,
          236.86062839518556,
          237.4179475208213,
          237.97526664645702,
          238.53258577209274,
          239.08990489772847,
          239.6472240233642,
          240.20454314899993,
          240.76186227463566,
          241.3191814002714,
          241.87650052590712,
          242.43381965154285,
          242.9911387771786,
          243.54845790281433,
          244.10577702845006,
          244.6630961540858,
          245.22041527972152,
          245.77773440535725,
          246.33505353099298,
          246.8923726566287,
          247.44969178226444,
          248.00701090790017,
          248.5643300335359,
          249.12164915917162,
          249.67896828480735,
          250.23628741044308,
          250.7936065360788,
          251.35092566171454,
          251.90824478735027,
          252.46556391298603,
          253.02288303862176,
          253.58020216425749,
          254.13752128989321,
          254.69484041552894,
          255.25215954116467,
          255.8094786668004,
          256.3667977924361,
          256.9241169180719,
          257.4814360437076,
          258.03875516934335,
          258.5960742949791,
          259.1533934206148,
          259.71071254625053,
          260.26803167188626,
          260.825350797522,
          261.3826699231577,
          261.93998904879345,
          262.4973081744292,
          263.0546273000649,
          263.61194642570064,
          264.16926555133637,
          264.7265846769721,
          265.2839038026078,
          265.84122292824355,
          266.3985420538793,
          266.955861179515,
          267.51318030515074,
          268.07049943078647,
          268.6278185564222,
          269.1851376820579,
          269.74245680769366,
          270.2997759333294,
          270.8570950589651,
          271.41441418460084,
          271.9717333102366,
          272.5290524358723,
          273.08637156150803,
          273.64369068714376,
          274.2010098127795,
          274.7583289384152,
          275.31564806405095,
          275.87296718968673,
          276.43028631532246,
          276.9876054409582,
          277.5449245665939,
          278.10224369222965,
          278.6595628178654,
          279.2168819435011,
          279.77420106913684,
          280.33152019477257,
          280.8888393204083,
          281.446158446044,
          282.00347757167975,
          282.5607966973155,
          283.1181158229512,
          283.67543494858694,
          284.23275407422267,
          284.7900731998584,
          285.3473923254941,
          285.90471145112986,
          286.4620305767656,
          287.0193497024013,
          287.57666882803704,
          288.1339879536728,
          288.6913070793085,
          289.24862620494423,
          289.80594533057996,
          290.3632644562157,
          290.9205835818514,
          291.47790270748715,
          292.0352218331229,
          292.5925409587586,
          293.14986008439433,
          293.70717921003006,
          294.2644983356658,
          294.8218174613015,
          295.3791365869373,
          295.93645571257304,
          296.49377483820876,
          297.0510939638445,
          297.6084130894802,
          298.16573221511595,
          298.7230513407517,
          299.2803704663874,
          299.83768959202314,
          300.39500871765887,
          300.9523278432946,
          301.5096469689303,
          302.06696609456606,
          302.6242852202018,
          303.1816043458375,
          303.73892347147324,
          304.29624259710897,
          304.8535617227447,
          305.41088084838043,
          305.96819997401616,
          306.5255190996519,
          307.0828382252876,
          307.64015735092335,
          308.1974764765591,
          308.7547956021948,
          309.31211472783053,
          309.86943385346626,
          310.426752979102,
          310.9840721047377,
          311.54139123037345,
          312.0987103560092,
          312.6560294816449,
          313.21334860728064,
          313.77066773291637,
          314.32798685855215,
          314.8853059841879,
          315.4426251098236,
          315.99994423545934,
          316.55726336109507,
          317.1145824867308,
          317.6719016123665,
          318.22922073800225,
          318.786539863638,
          319.3438589892737,
          319.90117811490944,
          320.45849724054517,
          321.0158163661809,
          321.57313549181663,
          322.13045461745236,
          322.6877737430881,
          323.2450928687238,
          323.80241199435955,
          324.3597311199953,
          324.917050245631,
          325.47436937126673,
          326.03168849690246,
          326.5890076225382,
          327.1463267481739,
          327.70364587380965,
          328.2609649994454,
          328.8182841250811,
          329.37560325071684,
          329.93292237635256,
          330.4902415019883,
          331.047560627624,
          331.60487975325975,
          332.1621988788955,
          332.7195180045312,
          333.276837130167,
          333.8341562558027,
          334.39147538143845,
          334.9487945070742,
          335.5061136327099,
          336.06343275834564,
          336.62075188398137,
          337.1780710096171,
          337.7353901352528,
          338.29270926088856,
          338.8500283865243,
          339.40734751216,
          339.96466663779574,
          340.5219857634315,
          341.0793048890672,
          341.63662401470293,
          342.19394314033866,
          342.7512622659744,
          343.3085813916101,
          343.86590051724585,
          344.4232196428816,
          344.9805387685173,
          345.53785789415303,
          346.09517701978876,
          346.6524961454245,
          347.2098152710602,
          347.76713439669595,
          348.3244535223317,
          348.8817726479674,
          349.43909177360314,
          349.99641089923887,
          350.5537300248746,
          351.1110491505103,
          351.66836827614605,
          352.22568740178184,
          352.78300652741757,
          353.3403256530533,
          353.897644778689,
          354.45496390432476,
          355.0122830299605,
          355.5696021555962,
          356.12692128123194,
          356.6842404068677,
          357.2415595325034,
          357.79887865813913,
          358.35619778377486,
          358.9135169094106,
          359.4708360350463,
          360.02815516068205,
          360.5854742863178,
          361.1427934119535,
          361.70011253758923,
          362.25743166322496,
          362.8147507888607,
          363.3720699144964,
          363.92938904013215,
          364.4867081657679,
          365.0440272914036,
          365.60134641703934,
          366.15866554267507,
          366.7159846683108,
          367.2733037939465,
          367.83062291958225,
          368.387942045218,
          368.9452611708537,
          369.50258029648944,
          370.05989942212517,
          370.6172185477609,
          371.1745376733967,
          371.7318567990324,
          372.28917592466814,
          372.8464950503039,
          373.4038141759396,
          373.96113330157533,
          374.51845242721106,
          375.0757715528468,
          375.6330906784825,
          376.19040980411825,
          376.747728929754,
          377.3050480553897,
          377.86236718102543,
          378.41968630666116,
          378.9770054322969,
          379.5343245579326,
          380.09164368356835,
          380.6489628092041,
          381.2062819348398,
          381.76360106047554,
          382.32092018611127,
          382.878239311747,
          383.4355584373827,
          383.99287756301845,
          384.5501966886542,
          385.1075158142899,
          385.66483493992564,
          386.22215406556137,
          386.7794731911971,
          387.3367923168328,
          387.89411144246856,
          388.4514305681043,
          389.00874969374,
          389.56606881937574,
          390.12338794501153,
          390.68070707064726,
          391.238026196283,
          391.7953453219187,
          392.35266444755445,
          392.9099835731902,
          393.4673026988259,
          394.02462182446163,
          394.58194095009736,
          395.1392600757331,
          395.6965792013688,
          396.25389832700455,
          396.8112174526403,
          397.368536578276,
          397.92585570391174,
          398.48317482954747,
          399.0404939551832,
          399.5978130808189,
          400.15513220645465,
          400.7124513320904,
          401.2697704577261,
          401.82708958336184,
          402.38440870899757,
          402.9417278346333,
          403.499046960269,
          404.05636608590476,
          404.6136852115405,
          405.1710043371762,
          405.72832346281194,
          406.2856425884477,
          406.8429617140834,
          407.40028083971913,
          407.95759996535486,
          408.5149190909906,
          409.0722382166264,
          409.6295573422621,
          410.18687646789783,
          410.74419559353356,
          411.3015147191693,
          411.858833844805,
          412.41615297044075,
          412.9734720960765,
          413.5307912217122,
          414.08811034734794,
          414.64542947298366,
          415.2027485986194,
          415.7600677242551,
          416.31738684989085,
          416.8747059755266,
          417.4320251011623,
          417.98934422679804,
          418.54666335243377,
          419.1039824780695,
          419.6613016037052,
          420.21862072934096,
          420.7759398549767,
          421.3332589806124,
          421.89057810624814,
          422.44789723188387,
          423.0052163575196,
          423.56253548315533,
          424.11985460879106,
          424.6771737344268,
          425.2344928600625,
          425.79181198569825,
          426.349131111334,
          426.9064502369697,
          427.46376936260543,
          428.02108848824116,
          428.57840761387695,
          429.1357267395127,
          429.6930458651484,
          430.25036499078413,
          430.80768411641986,
          431.3650032420556,
          431.9223223676913,
          432.47964149332705,
          433.0369606189628,
          433.5942797445985,
          434.15159887023424,
          434.70891799586997,
          435.2662371215057,
          435.8235562471414,
          436.38087537277715,
          436.9381944984129,
          437.4955136240486,
          438.05283274968434,
          438.61015187532007,
          439.1674710009558,
          439.72479012659153,
          440.28210925222726,
          440.839428377863,
          441.3967475034987,
          441.95406662913445,
          442.5113857547702,
          443.0687048804059,
          443.62602400604163,
          444.18334313167736,
          444.7406622573131,
          445.2979813829488
         ]
        }
       ],
       "layout": {
        "autosize": true,
        "plot_bgcolor": "white",
        "template": {
         "data": {
          "bar": [
           {
            "error_x": {
             "color": "#2a3f5f"
            },
            "error_y": {
             "color": "#2a3f5f"
            },
            "marker": {
             "line": {
              "color": "#E5ECF6",
              "width": 0.5
             },
             "pattern": {
              "fillmode": "overlay",
              "size": 10,
              "solidity": 0.2
             }
            },
            "type": "bar"
           }
          ],
          "barpolar": [
           {
            "marker": {
             "line": {
              "color": "#E5ECF6",
              "width": 0.5
             },
             "pattern": {
              "fillmode": "overlay",
              "size": 10,
              "solidity": 0.2
             }
            },
            "type": "barpolar"
           }
          ],
          "carpet": [
           {
            "aaxis": {
             "endlinecolor": "#2a3f5f",
             "gridcolor": "white",
             "linecolor": "white",
             "minorgridcolor": "white",
             "startlinecolor": "#2a3f5f"
            },
            "baxis": {
             "endlinecolor": "#2a3f5f",
             "gridcolor": "white",
             "linecolor": "white",
             "minorgridcolor": "white",
             "startlinecolor": "#2a3f5f"
            },
            "type": "carpet"
           }
          ],
          "choropleth": [
           {
            "colorbar": {
             "outlinewidth": 0,
             "ticks": ""
            },
            "type": "choropleth"
           }
          ],
          "contour": [
           {
            "colorbar": {
             "outlinewidth": 0,
             "ticks": ""
            },
            "colorscale": [
             [
              0,
              "#0d0887"
             ],
             [
              0.1111111111111111,
              "#46039f"
             ],
             [
              0.2222222222222222,
              "#7201a8"
             ],
             [
              0.3333333333333333,
              "#9c179e"
             ],
             [
              0.4444444444444444,
              "#bd3786"
             ],
             [
              0.5555555555555556,
              "#d8576b"
             ],
             [
              0.6666666666666666,
              "#ed7953"
             ],
             [
              0.7777777777777778,
              "#fb9f3a"
             ],
             [
              0.8888888888888888,
              "#fdca26"
             ],
             [
              1,
              "#f0f921"
             ]
            ],
            "type": "contour"
           }
          ],
          "contourcarpet": [
           {
            "colorbar": {
             "outlinewidth": 0,
             "ticks": ""
            },
            "type": "contourcarpet"
           }
          ],
          "heatmap": [
           {
            "colorbar": {
             "outlinewidth": 0,
             "ticks": ""
            },
            "colorscale": [
             [
              0,
              "#0d0887"
             ],
             [
              0.1111111111111111,
              "#46039f"
             ],
             [
              0.2222222222222222,
              "#7201a8"
             ],
             [
              0.3333333333333333,
              "#9c179e"
             ],
             [
              0.4444444444444444,
              "#bd3786"
             ],
             [
              0.5555555555555556,
              "#d8576b"
             ],
             [
              0.6666666666666666,
              "#ed7953"
             ],
             [
              0.7777777777777778,
              "#fb9f3a"
             ],
             [
              0.8888888888888888,
              "#fdca26"
             ],
             [
              1,
              "#f0f921"
             ]
            ],
            "type": "heatmap"
           }
          ],
          "heatmapgl": [
           {
            "colorbar": {
             "outlinewidth": 0,
             "ticks": ""
            },
            "colorscale": [
             [
              0,
              "#0d0887"
             ],
             [
              0.1111111111111111,
              "#46039f"
             ],
             [
              0.2222222222222222,
              "#7201a8"
             ],
             [
              0.3333333333333333,
              "#9c179e"
             ],
             [
              0.4444444444444444,
              "#bd3786"
             ],
             [
              0.5555555555555556,
              "#d8576b"
             ],
             [
              0.6666666666666666,
              "#ed7953"
             ],
             [
              0.7777777777777778,
              "#fb9f3a"
             ],
             [
              0.8888888888888888,
              "#fdca26"
             ],
             [
              1,
              "#f0f921"
             ]
            ],
            "type": "heatmapgl"
           }
          ],
          "histogram": [
           {
            "marker": {
             "pattern": {
              "fillmode": "overlay",
              "size": 10,
              "solidity": 0.2
             }
            },
            "type": "histogram"
           }
          ],
          "histogram2d": [
           {
            "colorbar": {
             "outlinewidth": 0,
             "ticks": ""
            },
            "colorscale": [
             [
              0,
              "#0d0887"
             ],
             [
              0.1111111111111111,
              "#46039f"
             ],
             [
              0.2222222222222222,
              "#7201a8"
             ],
             [
              0.3333333333333333,
              "#9c179e"
             ],
             [
              0.4444444444444444,
              "#bd3786"
             ],
             [
              0.5555555555555556,
              "#d8576b"
             ],
             [
              0.6666666666666666,
              "#ed7953"
             ],
             [
              0.7777777777777778,
              "#fb9f3a"
             ],
             [
              0.8888888888888888,
              "#fdca26"
             ],
             [
              1,
              "#f0f921"
             ]
            ],
            "type": "histogram2d"
           }
          ],
          "histogram2dcontour": [
           {
            "colorbar": {
             "outlinewidth": 0,
             "ticks": ""
            },
            "colorscale": [
             [
              0,
              "#0d0887"
             ],
             [
              0.1111111111111111,
              "#46039f"
             ],
             [
              0.2222222222222222,
              "#7201a8"
             ],
             [
              0.3333333333333333,
              "#9c179e"
             ],
             [
              0.4444444444444444,
              "#bd3786"
             ],
             [
              0.5555555555555556,
              "#d8576b"
             ],
             [
              0.6666666666666666,
              "#ed7953"
             ],
             [
              0.7777777777777778,
              "#fb9f3a"
             ],
             [
              0.8888888888888888,
              "#fdca26"
             ],
             [
              1,
              "#f0f921"
             ]
            ],
            "type": "histogram2dcontour"
           }
          ],
          "mesh3d": [
           {
            "colorbar": {
             "outlinewidth": 0,
             "ticks": ""
            },
            "type": "mesh3d"
           }
          ],
          "parcoords": [
           {
            "line": {
             "colorbar": {
              "outlinewidth": 0,
              "ticks": ""
             }
            },
            "type": "parcoords"
           }
          ],
          "pie": [
           {
            "automargin": true,
            "type": "pie"
           }
          ],
          "scatter": [
           {
            "fillpattern": {
             "fillmode": "overlay",
             "size": 10,
             "solidity": 0.2
            },
            "type": "scatter"
           }
          ],
          "scatter3d": [
           {
            "line": {
             "colorbar": {
              "outlinewidth": 0,
              "ticks": ""
             }
            },
            "marker": {
             "colorbar": {
              "outlinewidth": 0,
              "ticks": ""
             }
            },
            "type": "scatter3d"
           }
          ],
          "scattercarpet": [
           {
            "marker": {
             "colorbar": {
              "outlinewidth": 0,
              "ticks": ""
             }
            },
            "type": "scattercarpet"
           }
          ],
          "scattergeo": [
           {
            "marker": {
             "colorbar": {
              "outlinewidth": 0,
              "ticks": ""
             }
            },
            "type": "scattergeo"
           }
          ],
          "scattergl": [
           {
            "marker": {
             "colorbar": {
              "outlinewidth": 0,
              "ticks": ""
             }
            },
            "type": "scattergl"
           }
          ],
          "scattermapbox": [
           {
            "marker": {
             "colorbar": {
              "outlinewidth": 0,
              "ticks": ""
             }
            },
            "type": "scattermapbox"
           }
          ],
          "scatterpolar": [
           {
            "marker": {
             "colorbar": {
              "outlinewidth": 0,
              "ticks": ""
             }
            },
            "type": "scatterpolar"
           }
          ],
          "scatterpolargl": [
           {
            "marker": {
             "colorbar": {
              "outlinewidth": 0,
              "ticks": ""
             }
            },
            "type": "scatterpolargl"
           }
          ],
          "scatterternary": [
           {
            "marker": {
             "colorbar": {
              "outlinewidth": 0,
              "ticks": ""
             }
            },
            "type": "scatterternary"
           }
          ],
          "surface": [
           {
            "colorbar": {
             "outlinewidth": 0,
             "ticks": ""
            },
            "colorscale": [
             [
              0,
              "#0d0887"
             ],
             [
              0.1111111111111111,
              "#46039f"
             ],
             [
              0.2222222222222222,
              "#7201a8"
             ],
             [
              0.3333333333333333,
              "#9c179e"
             ],
             [
              0.4444444444444444,
              "#bd3786"
             ],
             [
              0.5555555555555556,
              "#d8576b"
             ],
             [
              0.6666666666666666,
              "#ed7953"
             ],
             [
              0.7777777777777778,
              "#fb9f3a"
             ],
             [
              0.8888888888888888,
              "#fdca26"
             ],
             [
              1,
              "#f0f921"
             ]
            ],
            "type": "surface"
           }
          ],
          "table": [
           {
            "cells": {
             "fill": {
              "color": "#EBF0F8"
             },
             "line": {
              "color": "white"
             }
            },
            "header": {
             "fill": {
              "color": "#C8D4E3"
             },
             "line": {
              "color": "white"
             }
            },
            "type": "table"
           }
          ]
         },
         "layout": {
          "annotationdefaults": {
           "arrowcolor": "#2a3f5f",
           "arrowhead": 0,
           "arrowwidth": 1
          },
          "autotypenumbers": "strict",
          "coloraxis": {
           "colorbar": {
            "outlinewidth": 0,
            "ticks": ""
           }
          },
          "colorscale": {
           "diverging": [
            [
             0,
             "#8e0152"
            ],
            [
             0.1,
             "#c51b7d"
            ],
            [
             0.2,
             "#de77ae"
            ],
            [
             0.3,
             "#f1b6da"
            ],
            [
             0.4,
             "#fde0ef"
            ],
            [
             0.5,
             "#f7f7f7"
            ],
            [
             0.6,
             "#e6f5d0"
            ],
            [
             0.7,
             "#b8e186"
            ],
            [
             0.8,
             "#7fbc41"
            ],
            [
             0.9,
             "#4d9221"
            ],
            [
             1,
             "#276419"
            ]
           ],
           "sequential": [
            [
             0,
             "#0d0887"
            ],
            [
             0.1111111111111111,
             "#46039f"
            ],
            [
             0.2222222222222222,
             "#7201a8"
            ],
            [
             0.3333333333333333,
             "#9c179e"
            ],
            [
             0.4444444444444444,
             "#bd3786"
            ],
            [
             0.5555555555555556,
             "#d8576b"
            ],
            [
             0.6666666666666666,
             "#ed7953"
            ],
            [
             0.7777777777777778,
             "#fb9f3a"
            ],
            [
             0.8888888888888888,
             "#fdca26"
            ],
            [
             1,
             "#f0f921"
            ]
           ],
           "sequentialminus": [
            [
             0,
             "#0d0887"
            ],
            [
             0.1111111111111111,
             "#46039f"
            ],
            [
             0.2222222222222222,
             "#7201a8"
            ],
            [
             0.3333333333333333,
             "#9c179e"
            ],
            [
             0.4444444444444444,
             "#bd3786"
            ],
            [
             0.5555555555555556,
             "#d8576b"
            ],
            [
             0.6666666666666666,
             "#ed7953"
            ],
            [
             0.7777777777777778,
             "#fb9f3a"
            ],
            [
             0.8888888888888888,
             "#fdca26"
            ],
            [
             1,
             "#f0f921"
            ]
           ]
          },
          "colorway": [
           "#636efa",
           "#EF553B",
           "#00cc96",
           "#ab63fa",
           "#FFA15A",
           "#19d3f3",
           "#FF6692",
           "#B6E880",
           "#FF97FF",
           "#FECB52"
          ],
          "font": {
           "color": "#2a3f5f"
          },
          "geo": {
           "bgcolor": "white",
           "lakecolor": "white",
           "landcolor": "#E5ECF6",
           "showlakes": true,
           "showland": true,
           "subunitcolor": "white"
          },
          "hoverlabel": {
           "align": "left"
          },
          "hovermode": "closest",
          "mapbox": {
           "style": "light"
          },
          "paper_bgcolor": "white",
          "plot_bgcolor": "#E5ECF6",
          "polar": {
           "angularaxis": {
            "gridcolor": "white",
            "linecolor": "white",
            "ticks": ""
           },
           "bgcolor": "#E5ECF6",
           "radialaxis": {
            "gridcolor": "white",
            "linecolor": "white",
            "ticks": ""
           }
          },
          "scene": {
           "xaxis": {
            "backgroundcolor": "#E5ECF6",
            "gridcolor": "white",
            "gridwidth": 2,
            "linecolor": "white",
            "showbackground": true,
            "ticks": "",
            "zerolinecolor": "white"
           },
           "yaxis": {
            "backgroundcolor": "#E5ECF6",
            "gridcolor": "white",
            "gridwidth": 2,
            "linecolor": "white",
            "showbackground": true,
            "ticks": "",
            "zerolinecolor": "white"
           },
           "zaxis": {
            "backgroundcolor": "#E5ECF6",
            "gridcolor": "white",
            "gridwidth": 2,
            "linecolor": "white",
            "showbackground": true,
            "ticks": "",
            "zerolinecolor": "white"
           }
          },
          "shapedefaults": {
           "line": {
            "color": "#2a3f5f"
           }
          },
          "ternary": {
           "aaxis": {
            "gridcolor": "white",
            "linecolor": "white",
            "ticks": ""
           },
           "baxis": {
            "gridcolor": "white",
            "linecolor": "white",
            "ticks": ""
           },
           "bgcolor": "#E5ECF6",
           "caxis": {
            "gridcolor": "white",
            "linecolor": "white",
            "ticks": ""
           }
          },
          "title": {
           "x": 0.05
          },
          "xaxis": {
           "automargin": true,
           "gridcolor": "white",
           "linecolor": "white",
           "ticks": "",
           "title": {
            "standoff": 15
           },
           "zerolinecolor": "white",
           "zerolinewidth": 2
          },
          "yaxis": {
           "automargin": true,
           "gridcolor": "white",
           "linecolor": "white",
           "ticks": "",
           "title": {
            "standoff": 15
           },
           "zerolinecolor": "white",
           "zerolinewidth": 2
          }
         }
        },
        "title": {
         "text": "Usage count of top tags vs the number of accounts using them"
        },
        "xaxis": {
         "autorange": true,
         "range": [
          -47.05196121001592,
          811.0519612100159
         ],
         "title": {
          "font": {
           "size": 18
          },
          "text": "Usage Count"
         },
         "type": "linear"
        },
        "yaxis": {
         "autorange": true,
         "range": [
          -40.10679611650485,
          526.1067961165048
         ],
         "title": {
          "font": {
           "size": 18
          },
          "text": "Accounts using"
         },
         "type": "linear"
        }
       }
      },
      "image/png": "[encoded data removed]",
      "text/html": [
       "<div>                            <div id=\"086ca723-82ea-42f7-a622-cb88744282b0\" class=\"plotly-graph-div\" style=\"height:525px; width:100%;\"></div>            <script type=\"text/javascript\">                require([\"plotly\"], function(Plotly) {                    window.PLOTLYENV=window.PLOTLYENV || {};                                    if (document.getElementById(\"086ca723-82ea-42f7-a622-cb88744282b0\")) {                    Plotly.newPlot(                        \"086ca723-82ea-42f7-a622-cb88744282b0\",                        [{\"mode\":\"markers\",\"name\":\"The values from the dataset\",\"x\":[226,2,2,2,1,0,9,214,11,3,0,0,1,2,87,3,2,0,0,0,18,62,2,2,1,5,0,5,157,0,0,0,0,0,0,45,0,0,0,0,0,0,46,0,0,0,0,0,0,40,0,0,0,0,0,0,32,1,1,0,1,0,3,36,0,0,0,0,0,0,764,325,371,161,171,160,216,58,0,0,79,19,5,61,594,172,123,97,45,23,12,63,7,2,0,1,1,0,19,0,0,0,0,0,0,107,11,1,0,1,0,0,293,130,210,12,7,5,12,23,1,3,0,0,3,1,46,2,0,0,0,0,0,21,1,0,0,0,0,0],\"y\":[92,2,2,1,1,0,9,149,8,2,0,0,1,2,81,3,2,0,0,0,9,42,1,2,1,2,0,2,60,0,0,0,0,0,0,40,0,0,0,0,0,0,37,0,0,0,0,0,0,35,0,0,0,0,0,0,28,1,1,0,1,0,3,26,0,0,0,0,0,0,486,158,138,96,111,91,121,52,0,0,31,7,4,42,326,118,76,57,35,17,12,39,3,2,0,1,1,0,19,0,0,0,0,0,0,96,11,1,0,1,0,0,154,42,31,7,4,5,7,18,1,3,0,0,3,1,23,2,0,0,0,0,0,20,1,0,0,0,0,0],\"type\":\"scatter\"},{\"name\":\"The regression model\",\"x\":[0,1,2,3,4,5,6,7,8,9,10,11,12,13,14,15,16,17,18,19,20,21,22,23,24,25,26,27,28,29,30,31,32,33,34,35,36,37,38,39,40,41,42,43,44,45,46,47,48,49,50,51,52,53,54,55,56,57,58,59,60,61,62,63,64,65,66,67,68,69,70,71,72,73,74,75,76,77,78,79,80,81,82,83,84,85,86,87,88,89,90,91,92,93,94,95,96,97,98,99,100,101,102,103,104,105,106,107,108,109,110,111,112,113,114,115,116,117,118,119,120,121,122,123,124,125,126,127,128,129,130,131,132,133,134,135,136,137,138,139,140,141,142,143,144,145,146,147,148,149,150,151,152,153,154,155,156,157,158,159,160,161,162,163,164,165,166,167,168,169,170,171,172,173,174,175,176,177,178,179,180,181,182,183,184,185,186,187,188,189,190,191,192,193,194,195,196,197,198,199,200,201,202,203,204,205,206,207,208,209,210,211,212,213,214,215,216,217,218,219,220,221,222,223,224,225,226,227,228,229,230,231,232,233,234,235,236,237,238,239,240,241,242,243,244,245,246,247,248,249,250,251,252,253,254,255,256,257,258,259,260,261,262,263,264,265,266,267,268,269,270,271,272,273,274,275,276,277,278,279,280,281,282,283,284,285,286,287,288,289,290,291,292,293,294,295,296,297,298,299,300,301,302,303,304,305,306,307,308,309,310,311,312,313,314,315,316,317,318,319,320,321,322,323,324,325,326,327,328,329,330,331,332,333,334,335,336,337,338,339,340,341,342,343,344,345,346,347,348,349,350,351,352,353,354,355,356,357,358,359,360,361,362,363,364,365,366,367,368,369,370,371,372,373,374,375,376,377,378,379,380,381,382,383,384,385,386,387,388,389,390,391,392,393,394,395,396,397,398,399,400,401,402,403,404,405,406,407,408,409,410,411,412,413,414,415,416,417,418,419,420,421,422,423,424,425,426,427,428,429,430,431,432,433,434,435,436,437,438,439,440,441,442,443,444,445,446,447,448,449,450,451,452,453,454,455,456,457,458,459,460,461,462,463,464,465,466,467,468,469,470,471,472,473,474,475,476,477,478,479,480,481,482,483,484,485,486,487,488,489,490,491,492,493,494,495,496,497,498,499,500,501,502,503,504,505,506,507,508,509,510,511,512,513,514,515,516,517,518,519,520,521,522,523,524,525,526,527,528,529,530,531,532,533,534,535,536,537,538,539,540,541,542,543,544,545,546,547,548,549,550,551,552,553,554,555,556,557,558,559,560,561,562,563,564,565,566,567,568,569,570,571,572,573,574,575,576,577,578,579,580,581,582,583,584,585,586,587,588,589,590,591,592,593,594,595,596,597,598,599,600,601,602,603,604,605,606,607,608,609,610,611,612,613,614,615,616,617,618,619,620,621,622,623,624,625,626,627,628,629,630,631,632,633,634,635,636,637,638,639,640,641,642,643,644,645,646,647,648,649,650,651,652,653,654,655,656,657,658,659,660,661,662,663,664,665,666,667,668,669,670,671,672,673,674,675,676,677,678,679,680,681,682,683,684,685,686,687,688,689,690,691,692,693,694,695,696,697,698,699,700,701,702,703,704,705,706,707,708,709,710,711,712,713,714,715,716,717,718,719,720,721,722,723,724,725,726,727,728,729,730,731,732,733,734,735,736,737,738,739,740,741,742,743,744,745,746,747,748,749,750,751,752,753,754,755,756,757,758,759,760,761,762,763,764,765,766,767,768,769,770,771,772,773,774,775,776,777,778,779,780,781,782,783,784,785,786,787,788,789,790,791,792,793,794,795,796,797,798,799],\"y\":[0.0,0.5573191256357307,1.1146382512714614,1.671957376907192,2.229276502542923,2.7865956281786537,3.343914753814384,3.901233879450115,4.458553005085846,5.015872130721577,5.573191256357307,6.130510381993038,6.687829507628768,7.245148633264499,7.80246775890023,8.35978688453596,8.917106010171691,9.474425135807422,10.031744261443153,10.589063387078884,11.146382512714615,11.703701638350346,12.261020763986076,12.818339889621807,13.375659015257536,13.932978140893267,14.490297266528998,15.047616392164729,15.60493551780046,16.162254643436192,16.71957376907192,17.276892894707654,17.834212020343383,18.391531145979112,18.948850271614845,19.506169397250574,20.063488522886306,20.620807648522035,21.178126774157768,21.735445899793497,22.29276502542923,22.85008415106496,23.40740327670069,23.96472240233642,24.522041527972153,25.079360653607882,25.636679779243615,26.193998904879344,26.751318030515073,27.308637156150805,27.865956281786534,28.423275407422267,28.980594533057996,29.53791365869373,30.095232784329458,30.65255190996519,31.20987103560092,31.767190161236652,32.324509286872384,32.88182841250811,33.43914753814384,33.99646666377957,34.55378578941531,35.11110491505104,35.668424040686766,36.225743166322495,36.783062291958224,37.34038141759396,37.89770054322969,38.45501966886542,39.01233879450115,39.56965792013688,40.12697704577261,40.68429617140834,41.24161529704407,41.79893442267981,42.356253548315536,42.913572673951265,43.470891799586994,44.02821092522273,44.58553005085846,45.14284917649419,45.70016830212992,46.257487427765646,46.81480655340138,47.37212567903711,47.92944480467284,48.48676393030857,49.044083055944306,49.601402181580035,50.158721307215764,50.71604043285149,51.27335955848723,51.83067868412296,52.38799780975869,52.945316935394416,53.502636061030145,54.05995518666588,54.61727431230161,55.17459343793734,55.73191256357307,56.289231689208805,56.846550814844534,57.40386994048026,57.96118906611599,58.51850819175173,59.07582731738746,59.633146443023186,60.190465568658915,60.74778469429465,61.30510381993038,61.86242294556611,62.41974207120184,62.97706119683757,63.534380322473304,64.09169944810903,64.64901857374477,65.2063376993805,65.76365682501623,66.32097595065196,66.87829507628769,67.43561420192341,67.99293332755914,68.55025245319487,69.10757157883062,69.66489070446634,70.22220983010207,70.7795289557378,71.33684808137353,71.89416720700926,72.45148633264499,73.00880545828072,73.56612458391645,74.12344370955219,74.68076283518792,75.23808196082365,75.79540108645938,76.35272021209511,76.91003933773084,77.46735846336657,78.0246775890023,78.58199671463804,79.13931584027377,79.6966349659095,80.25395409154522,80.81127321718095,81.36859234281668,81.92591146845241,82.48323059408814,83.04054971972387,83.59786884535961,84.15518797099534,84.71250709663107,85.2698262222668,85.82714534790253,86.38446447353826,86.94178359917399,87.49910272480972,88.05642185044546,88.61374097608119,89.17106010171692,89.72837922735265,90.28569835298838,90.8430174786241,91.40033660425983,91.95765572989556,92.51497485553129,93.07229398116704,93.62961310680276,94.1869322324385,94.74425135807422,95.30157048370995,95.85888960934568,96.41620873498141,96.97352786061714,97.53084698625288,98.08816611188861,98.64548523752434,99.20280436316007,99.7601234887958,100.31744261443153,100.87476174006726,101.43208086570299,101.98939999133871,102.54671911697446,103.10403824261019,103.66135736824592,104.21867649388165,104.77599561951737,105.3333147451531,105.89063387078883,106.44795299642456,107.00527212206029,107.56259124769603,108.11991037333176,108.67722949896749,109.23454862460322,109.79186775023895,110.34918687587468,110.90650600151041,111.46382512714614,112.02114425278188,112.57846337841761,113.13578250405334,113.69310162968907,114.2504207553248,114.80773988096053,115.36505900659625,115.92237813223198,116.47969725786771,117.03701638350346,117.59433550913919,118.15165463477491,118.70897376041064,119.26629288604637,119.8236120116821,120.38093113731783,120.93825026295356,121.4955693885893,122.05288851422503,122.61020763986076,123.16752676549649,123.72484589113222,124.28216501676795,124.83948414240368,125.3968032680394,125.95412239367514,126.51144151931088,127.06876064494661,127.62607977058234,128.18339889621805,128.7407180218538,129.29803714748954,129.85535627312527,130.412675398761,130.96999452439672,131.52731365003245,132.08463277566818,132.6419519013039,133.19927102693964,133.75659015257537,134.3139092782111,134.87122840384683,135.42854752948256,135.9858666551183,136.54318578075402,137.10050490638974,137.65782403202547,138.21514315766123,138.77246228329696,139.3297814089327,139.88710053456842,140.44441966020415,141.00173878583988,141.5590579114756,142.11637703711133,142.67369616274706,143.2310152883828,143.78833441401852,144.34565353965425,144.90297266528998,145.4602917909257,146.01761091656144,146.57493004219717,147.1322491678329,147.68956829346865,148.24688741910438,148.8042065447401,149.36152567037584,149.91884479601157,150.4761639216473,151.03348304728303,151.59080217291876,152.14812129855449,152.70544042419021,153.26275954982594,153.82007867546167,154.3773978010974,154.93471692673313,155.49203605236886,156.0493551780046,156.60667430364032,157.16399342927608,157.7213125549118,158.27863168054753,158.83595080618326,159.393269931819,159.95058905745472,160.50790818309045,161.06522730872618,161.6225464343619,162.17986555999764,162.73718468563337,163.2945038112691,163.85182293690482,164.40914206254055,164.96646118817628,165.523780313812,166.08109943944774,166.6384185650835,167.19573769071923,167.75305681635496,168.31037594199069,168.8676950676264,169.42501419326214,169.98233331889787,170.5396524445336,171.09697157016933,171.65429069580506,172.2116098214408,172.76892894707652,173.32624807271225,173.88356719834798,174.4408863239837,174.99820544961943,175.55552457525516,176.11284370089092,176.67016282652665,177.22748195216238,177.7848010777981,178.34212020343384,178.89943932906957,179.4567584547053,180.01407758034102,180.57139670597675,181.12871583161248,181.6860349572482,182.24335408288394,182.80067320851967,183.3579923341554,183.91531145979113,184.47263058542686,185.02994971106259,185.58726883669834,186.14458796233407,186.7019070879698,187.25922621360553,187.81654533924126,188.373864464877,188.93118359051272,189.48850271614845,190.04582184178417,190.6031409674199,191.16046009305563,191.71777921869136,192.2750983443271,192.83241746996282,193.38973659559855,193.94705572123428,194.50437484687,195.06169397250576,195.6190130981415,196.17633222377722,196.73365134941295,197.29097047504868,197.8482896006844,198.40560872632014,198.96292785195587,199.5202469775916,200.07756610322733,200.63488522886306,201.19220435449878,201.7495234801345,202.30684260577024,202.86416173140597,203.4214808570417,203.97879998267743,204.5361191083132,205.09343823394892,205.65075735958465,206.20807648522037,206.7653956108561,207.32271473649183,207.88003386212756,208.4373529877633,208.99467211339902,209.55199123903475,210.10931036467048,210.6666294903062,211.22394861594194,211.78126774157766,212.3385868672134,212.89590599284912,213.45322511848485,214.01054424412058,214.56786336975634,215.12518249539207,215.6825016210278,216.23982074666353,216.79713987229925,217.35445899793498,217.9117781235707,218.46909724920644,219.02641637484217,219.5837355004779,220.14105462611363,220.69837375174936,221.2556928773851,221.81301200302082,222.37033112865655,222.92765025429227,223.484969379928,224.04228850556376,224.5996076311995,225.15692675683522,225.71424588247095,226.27156500810668,226.8288841337424,227.38620325937814,227.94352238501386,228.5008415106496,229.05816063628532,229.61547976192105,230.17279888755678,230.7301180131925,231.28743713882824,231.84475626446397,232.4020753900997,232.95939451573543,233.51671364137118,234.0740327670069,234.63135189264264,235.18867101827837,235.7459901439141,236.30330926954983,236.86062839518556,237.4179475208213,237.97526664645702,238.53258577209274,239.08990489772847,239.6472240233642,240.20454314899993,240.76186227463566,241.3191814002714,241.87650052590712,242.43381965154285,242.9911387771786,243.54845790281433,244.10577702845006,244.6630961540858,245.22041527972152,245.77773440535725,246.33505353099298,246.8923726566287,247.44969178226444,248.00701090790017,248.5643300335359,249.12164915917162,249.67896828480735,250.23628741044308,250.7936065360788,251.35092566171454,251.90824478735027,252.46556391298603,253.02288303862176,253.58020216425749,254.13752128989321,254.69484041552894,255.25215954116467,255.8094786668004,256.3667977924361,256.9241169180719,257.4814360437076,258.03875516934335,258.5960742949791,259.1533934206148,259.71071254625053,260.26803167188626,260.825350797522,261.3826699231577,261.93998904879345,262.4973081744292,263.0546273000649,263.61194642570064,264.16926555133637,264.7265846769721,265.2839038026078,265.84122292824355,266.3985420538793,266.955861179515,267.51318030515074,268.07049943078647,268.6278185564222,269.1851376820579,269.74245680769366,270.2997759333294,270.8570950589651,271.41441418460084,271.9717333102366,272.5290524358723,273.08637156150803,273.64369068714376,274.2010098127795,274.7583289384152,275.31564806405095,275.87296718968673,276.43028631532246,276.9876054409582,277.5449245665939,278.10224369222965,278.6595628178654,279.2168819435011,279.77420106913684,280.33152019477257,280.8888393204083,281.446158446044,282.00347757167975,282.5607966973155,283.1181158229512,283.67543494858694,284.23275407422267,284.7900731998584,285.3473923254941,285.90471145112986,286.4620305767656,287.0193497024013,287.57666882803704,288.1339879536728,288.6913070793085,289.24862620494423,289.80594533057996,290.3632644562157,290.9205835818514,291.47790270748715,292.0352218331229,292.5925409587586,293.14986008439433,293.70717921003006,294.2644983356658,294.8218174613015,295.3791365869373,295.93645571257304,296.49377483820876,297.0510939638445,297.6084130894802,298.16573221511595,298.7230513407517,299.2803704663874,299.83768959202314,300.39500871765887,300.9523278432946,301.5096469689303,302.06696609456606,302.6242852202018,303.1816043458375,303.73892347147324,304.29624259710897,304.8535617227447,305.41088084838043,305.96819997401616,306.5255190996519,307.0828382252876,307.64015735092335,308.1974764765591,308.7547956021948,309.31211472783053,309.86943385346626,310.426752979102,310.9840721047377,311.54139123037345,312.0987103560092,312.6560294816449,313.21334860728064,313.77066773291637,314.32798685855215,314.8853059841879,315.4426251098236,315.99994423545934,316.55726336109507,317.1145824867308,317.6719016123665,318.22922073800225,318.786539863638,319.3438589892737,319.90117811490944,320.45849724054517,321.0158163661809,321.57313549181663,322.13045461745236,322.6877737430881,323.2450928687238,323.80241199435955,324.3597311199953,324.917050245631,325.47436937126673,326.03168849690246,326.5890076225382,327.1463267481739,327.70364587380965,328.2609649994454,328.8182841250811,329.37560325071684,329.93292237635256,330.4902415019883,331.047560627624,331.60487975325975,332.1621988788955,332.7195180045312,333.276837130167,333.8341562558027,334.39147538143845,334.9487945070742,335.5061136327099,336.06343275834564,336.62075188398137,337.1780710096171,337.7353901352528,338.29270926088856,338.8500283865243,339.40734751216,339.96466663779574,340.5219857634315,341.0793048890672,341.63662401470293,342.19394314033866,342.7512622659744,343.3085813916101,343.86590051724585,344.4232196428816,344.9805387685173,345.53785789415303,346.09517701978876,346.6524961454245,347.2098152710602,347.76713439669595,348.3244535223317,348.8817726479674,349.43909177360314,349.99641089923887,350.5537300248746,351.1110491505103,351.66836827614605,352.22568740178184,352.78300652741757,353.3403256530533,353.897644778689,354.45496390432476,355.0122830299605,355.5696021555962,356.12692128123194,356.6842404068677,357.2415595325034,357.79887865813913,358.35619778377486,358.9135169094106,359.4708360350463,360.02815516068205,360.5854742863178,361.1427934119535,361.70011253758923,362.25743166322496,362.8147507888607,363.3720699144964,363.92938904013215,364.4867081657679,365.0440272914036,365.60134641703934,366.15866554267507,366.7159846683108,367.2733037939465,367.83062291958225,368.387942045218,368.9452611708537,369.50258029648944,370.05989942212517,370.6172185477609,371.1745376733967,371.7318567990324,372.28917592466814,372.8464950503039,373.4038141759396,373.96113330157533,374.51845242721106,375.0757715528468,375.6330906784825,376.19040980411825,376.747728929754,377.3050480553897,377.86236718102543,378.41968630666116,378.9770054322969,379.5343245579326,380.09164368356835,380.6489628092041,381.2062819348398,381.76360106047554,382.32092018611127,382.878239311747,383.4355584373827,383.99287756301845,384.5501966886542,385.1075158142899,385.66483493992564,386.22215406556137,386.7794731911971,387.3367923168328,387.89411144246856,388.4514305681043,389.00874969374,389.56606881937574,390.12338794501153,390.68070707064726,391.238026196283,391.7953453219187,392.35266444755445,392.9099835731902,393.4673026988259,394.02462182446163,394.58194095009736,395.1392600757331,395.6965792013688,396.25389832700455,396.8112174526403,397.368536578276,397.92585570391174,398.48317482954747,399.0404939551832,399.5978130808189,400.15513220645465,400.7124513320904,401.2697704577261,401.82708958336184,402.38440870899757,402.9417278346333,403.499046960269,404.05636608590476,404.6136852115405,405.1710043371762,405.72832346281194,406.2856425884477,406.8429617140834,407.40028083971913,407.95759996535486,408.5149190909906,409.0722382166264,409.6295573422621,410.18687646789783,410.74419559353356,411.3015147191693,411.858833844805,412.41615297044075,412.9734720960765,413.5307912217122,414.08811034734794,414.64542947298366,415.2027485986194,415.7600677242551,416.31738684989085,416.8747059755266,417.4320251011623,417.98934422679804,418.54666335243377,419.1039824780695,419.6613016037052,420.21862072934096,420.7759398549767,421.3332589806124,421.89057810624814,422.44789723188387,423.0052163575196,423.56253548315533,424.11985460879106,424.6771737344268,425.2344928600625,425.79181198569825,426.349131111334,426.9064502369697,427.46376936260543,428.02108848824116,428.57840761387695,429.1357267395127,429.6930458651484,430.25036499078413,430.80768411641986,431.3650032420556,431.9223223676913,432.47964149332705,433.0369606189628,433.5942797445985,434.15159887023424,434.70891799586997,435.2662371215057,435.8235562471414,436.38087537277715,436.9381944984129,437.4955136240486,438.05283274968434,438.61015187532007,439.1674710009558,439.72479012659153,440.28210925222726,440.839428377863,441.3967475034987,441.95406662913445,442.5113857547702,443.0687048804059,443.62602400604163,444.18334313167736,444.7406622573131,445.2979813829488],\"type\":\"scatter\"}],                        {\"template\":{\"data\":{\"histogram2dcontour\":[{\"type\":\"histogram2dcontour\",\"colorbar\":{\"outlinewidth\":0,\"ticks\":\"\"},\"colorscale\":[[0.0,\"#0d0887\"],[0.1111111111111111,\"#46039f\"],[0.2222222222222222,\"#7201a8\"],[0.3333333333333333,\"#9c179e\"],[0.4444444444444444,\"#bd3786\"],[0.5555555555555556,\"#d8576b\"],[0.6666666666666666,\"#ed7953\"],[0.7777777777777778,\"#fb9f3a\"],[0.8888888888888888,\"#fdca26\"],[1.0,\"#f0f921\"]]}],\"choropleth\":[{\"type\":\"choropleth\",\"colorbar\":{\"outlinewidth\":0,\"ticks\":\"\"}}],\"histogram2d\":[{\"type\":\"histogram2d\",\"colorbar\":{\"outlinewidth\":0,\"ticks\":\"\"},\"colorscale\":[[0.0,\"#0d0887\"],[0.1111111111111111,\"#46039f\"],[0.2222222222222222,\"#7201a8\"],[0.3333333333333333,\"#9c179e\"],[0.4444444444444444,\"#bd3786\"],[0.5555555555555556,\"#d8576b\"],[0.6666666666666666,\"#ed7953\"],[0.7777777777777778,\"#fb9f3a\"],[0.8888888888888888,\"#fdca26\"],[1.0,\"#f0f921\"]]}],\"heatmap\":[{\"type\":\"heatmap\",\"colorbar\":{\"outlinewidth\":0,\"ticks\":\"\"},\"colorscale\":[[0.0,\"#0d0887\"],[0.1111111111111111,\"#46039f\"],[0.2222222222222222,\"#7201a8\"],[0.3333333333333333,\"#9c179e\"],[0.4444444444444444,\"#bd3786\"],[0.5555555555555556,\"#d8576b\"],[0.6666666666666666,\"#ed7953\"],[0.7777777777777778,\"#fb9f3a\"],[0.8888888888888888,\"#fdca26\"],[1.0,\"#f0f921\"]]}],\"heatmapgl\":[{\"type\":\"heatmapgl\",\"colorbar\":{\"outlinewidth\":0,\"ticks\":\"\"},\"colorscale\":[[0.0,\"#0d0887\"],[0.1111111111111111,\"#46039f\"],[0.2222222222222222,\"#7201a8\"],[0.3333333333333333,\"#9c179e\"],[0.4444444444444444,\"#bd3786\"],[0.5555555555555556,\"#d8576b\"],[0.6666666666666666,\"#ed7953\"],[0.7777777777777778,\"#fb9f3a\"],[0.8888888888888888,\"#fdca26\"],[1.0,\"#f0f921\"]]}],\"contourcarpet\":[{\"type\":\"contourcarpet\",\"colorbar\":{\"outlinewidth\":0,\"ticks\":\"\"}}],\"contour\":[{\"type\":\"contour\",\"colorbar\":{\"outlinewidth\":0,\"ticks\":\"\"},\"colorscale\":[[0.0,\"#0d0887\"],[0.1111111111111111,\"#46039f\"],[0.2222222222222222,\"#7201a8\"],[0.3333333333333333,\"#9c179e\"],[0.4444444444444444,\"#bd3786\"],[0.5555555555555556,\"#d8576b\"],[0.6666666666666666,\"#ed7953\"],[0.7777777777777778,\"#fb9f3a\"],[0.8888888888888888,\"#fdca26\"],[1.0,\"#f0f921\"]]}],\"surface\":[{\"type\":\"surface\",\"colorbar\":{\"outlinewidth\":0,\"ticks\":\"\"},\"colorscale\":[[0.0,\"#0d0887\"],[0.1111111111111111,\"#46039f\"],[0.2222222222222222,\"#7201a8\"],[0.3333333333333333,\"#9c179e\"],[0.4444444444444444,\"#bd3786\"],[0.5555555555555556,\"#d8576b\"],[0.6666666666666666,\"#ed7953\"],[0.7777777777777778,\"#fb9f3a\"],[0.8888888888888888,\"#fdca26\"],[1.0,\"#f0f921\"]]}],\"mesh3d\":[{\"type\":\"mesh3d\",\"colorbar\":{\"outlinewidth\":0,\"ticks\":\"\"}}],\"scatter\":[{\"fillpattern\":{\"fillmode\":\"overlay\",\"size\":10,\"solidity\":0.2},\"type\":\"scatter\"}],\"parcoords\":[{\"type\":\"parcoords\",\"line\":{\"colorbar\":{\"outlinewidth\":0,\"ticks\":\"\"}}}],\"scatterpolargl\":[{\"type\":\"scatterpolargl\",\"marker\":{\"colorbar\":{\"outlinewidth\":0,\"ticks\":\"\"}}}],\"bar\":[{\"error_x\":{\"color\":\"#2a3f5f\"},\"error_y\":{\"color\":\"#2a3f5f\"},\"marker\":{\"line\":{\"color\":\"#E5ECF6\",\"width\":0.5},\"pattern\":{\"fillmode\":\"overlay\",\"size\":10,\"solidity\":0.2}},\"type\":\"bar\"}],\"scattergeo\":[{\"type\":\"scattergeo\",\"marker\":{\"colorbar\":{\"outlinewidth\":0,\"ticks\":\"\"}}}],\"scatterpolar\":[{\"type\":\"scatterpolar\",\"marker\":{\"colorbar\":{\"outlinewidth\":0,\"ticks\":\"\"}}}],\"histogram\":[{\"marker\":{\"pattern\":{\"fillmode\":\"overlay\",\"size\":10,\"solidity\":0.2}},\"type\":\"histogram\"}],\"scattergl\":[{\"type\":\"scattergl\",\"marker\":{\"colorbar\":{\"outlinewidth\":0,\"ticks\":\"\"}}}],\"scatter3d\":[{\"type\":\"scatter3d\",\"line\":{\"colorbar\":{\"outlinewidth\":0,\"ticks\":\"\"}},\"marker\":{\"colorbar\":{\"outlinewidth\":0,\"ticks\":\"\"}}}],\"scattermapbox\":[{\"type\":\"scattermapbox\",\"marker\":{\"colorbar\":{\"outlinewidth\":0,\"ticks\":\"\"}}}],\"scatterternary\":[{\"type\":\"scatterternary\",\"marker\":{\"colorbar\":{\"outlinewidth\":0,\"ticks\":\"\"}}}],\"scattercarpet\":[{\"type\":\"scattercarpet\",\"marker\":{\"colorbar\":{\"outlinewidth\":0,\"ticks\":\"\"}}}],\"carpet\":[{\"aaxis\":{\"endlinecolor\":\"#2a3f5f\",\"gridcolor\":\"white\",\"linecolor\":\"white\",\"minorgridcolor\":\"white\",\"startlinecolor\":\"#2a3f5f\"},\"baxis\":{\"endlinecolor\":\"#2a3f5f\",\"gridcolor\":\"white\",\"linecolor\":\"white\",\"minorgridcolor\":\"white\",\"startlinecolor\":\"#2a3f5f\"},\"type\":\"carpet\"}],\"table\":[{\"cells\":{\"fill\":{\"color\":\"#EBF0F8\"},\"line\":{\"color\":\"white\"}},\"header\":{\"fill\":{\"color\":\"#C8D4E3\"},\"line\":{\"color\":\"white\"}},\"type\":\"table\"}],\"barpolar\":[{\"marker\":{\"line\":{\"color\":\"#E5ECF6\",\"width\":0.5},\"pattern\":{\"fillmode\":\"overlay\",\"size\":10,\"solidity\":0.2}},\"type\":\"barpolar\"}],\"pie\":[{\"automargin\":true,\"type\":\"pie\"}]},\"layout\":{\"autotypenumbers\":\"strict\",\"colorway\":[\"#636efa\",\"#EF553B\",\"#00cc96\",\"#ab63fa\",\"#FFA15A\",\"#19d3f3\",\"#FF6692\",\"#B6E880\",\"#FF97FF\",\"#FECB52\"],\"font\":{\"color\":\"#2a3f5f\"},\"hovermode\":\"closest\",\"hoverlabel\":{\"align\":\"left\"},\"paper_bgcolor\":\"white\",\"plot_bgcolor\":\"#E5ECF6\",\"polar\":{\"bgcolor\":\"#E5ECF6\",\"angularaxis\":{\"gridcolor\":\"white\",\"linecolor\":\"white\",\"ticks\":\"\"},\"radialaxis\":{\"gridcolor\":\"white\",\"linecolor\":\"white\",\"ticks\":\"\"}},\"ternary\":{\"bgcolor\":\"#E5ECF6\",\"aaxis\":{\"gridcolor\":\"white\",\"linecolor\":\"white\",\"ticks\":\"\"},\"baxis\":{\"gridcolor\":\"white\",\"linecolor\":\"white\",\"ticks\":\"\"},\"caxis\":{\"gridcolor\":\"white\",\"linecolor\":\"white\",\"ticks\":\"\"}},\"coloraxis\":{\"colorbar\":{\"outlinewidth\":0,\"ticks\":\"\"}},\"colorscale\":{\"sequential\":[[0.0,\"#0d0887\"],[0.1111111111111111,\"#46039f\"],[0.2222222222222222,\"#7201a8\"],[0.3333333333333333,\"#9c179e\"],[0.4444444444444444,\"#bd3786\"],[0.5555555555555556,\"#d8576b\"],[0.6666666666666666,\"#ed7953\"],[0.7777777777777778,\"#fb9f3a\"],[0.8888888888888888,\"#fdca26\"],[1.0,\"#f0f921\"]],\"sequentialminus\":[[0.0,\"#0d0887\"],[0.1111111111111111,\"#46039f\"],[0.2222222222222222,\"#7201a8\"],[0.3333333333333333,\"#9c179e\"],[0.4444444444444444,\"#bd3786\"],[0.5555555555555556,\"#d8576b\"],[0.6666666666666666,\"#ed7953\"],[0.7777777777777778,\"#fb9f3a\"],[0.8888888888888888,\"#fdca26\"],[1.0,\"#f0f921\"]],\"diverging\":[[0,\"#8e0152\"],[0.1,\"#c51b7d\"],[0.2,\"#de77ae\"],[0.3,\"#f1b6da\"],[0.4,\"#fde0ef\"],[0.5,\"#f7f7f7\"],[0.6,\"#e6f5d0\"],[0.7,\"#b8e186\"],[0.8,\"#7fbc41\"],[0.9,\"#4d9221\"],[1,\"#276419\"]]},\"xaxis\":{\"gridcolor\":\"white\",\"linecolor\":\"white\",\"ticks\":\"\",\"title\":{\"standoff\":15},\"zerolinecolor\":\"white\",\"automargin\":true,\"zerolinewidth\":2},\"yaxis\":{\"gridcolor\":\"white\",\"linecolor\":\"white\",\"ticks\":\"\",\"title\":{\"standoff\":15},\"zerolinecolor\":\"white\",\"automargin\":true,\"zerolinewidth\":2},\"scene\":{\"xaxis\":{\"backgroundcolor\":\"#E5ECF6\",\"gridcolor\":\"white\",\"linecolor\":\"white\",\"showbackground\":true,\"ticks\":\"\",\"zerolinecolor\":\"white\",\"gridwidth\":2},\"yaxis\":{\"backgroundcolor\":\"#E5ECF6\",\"gridcolor\":\"white\",\"linecolor\":\"white\",\"showbackground\":true,\"ticks\":\"\",\"zerolinecolor\":\"white\",\"gridwidth\":2},\"zaxis\":{\"backgroundcolor\":\"#E5ECF6\",\"gridcolor\":\"white\",\"linecolor\":\"white\",\"showbackground\":true,\"ticks\":\"\",\"zerolinecolor\":\"white\",\"gridwidth\":2}},\"shapedefaults\":{\"line\":{\"color\":\"#2a3f5f\"}},\"annotationdefaults\":{\"arrowcolor\":\"#2a3f5f\",\"arrowhead\":0,\"arrowwidth\":1},\"geo\":{\"bgcolor\":\"white\",\"landcolor\":\"#E5ECF6\",\"subunitcolor\":\"white\",\"showland\":true,\"showlakes\":true,\"lakecolor\":\"white\"},\"title\":{\"x\":0.05},\"mapbox\":{\"style\":\"light\"}}},\"xaxis\":{\"title\":{\"font\":{\"size\":18},\"text\":\"Usage Count\"}},\"yaxis\":{\"title\":{\"font\":{\"size\":18},\"text\":\"Accounts using\"}},\"plot_bgcolor\":\"white\",\"title\":{\"text\":\"Usage count of top tags vs the number of accounts using them\"}},                        {\"responsive\": true}                    ).then(function(){\n",
       "                            \n",
       "var gd = document.getElementById('086ca723-82ea-42f7-a622-cb88744282b0');\n",
       "var x = new MutationObserver(function (mutations, observer) {{\n",
       "        var display = window.getComputedStyle(gd).display;\n",
       "        if (!display || display === 'none') {{\n",
       "            console.log([gd, 'removed!']);\n",
       "            Plotly.purge(gd);\n",
       "            observer.disconnect();\n",
       "        }}\n",
       "}});\n",
       "\n",
       "// Listen for the removal of the full notebook cells\n",
       "var notebookContainer = gd.closest('#notebook-container');\n",
       "if (notebookContainer) {{\n",
       "    x.observe(notebookContainer, {childList: true});\n",
       "}}\n",
       "\n",
       "// Listen for the clearing of the current output cell\n",
       "var outputEl = gd.closest('.output');\n",
       "if (outputEl) {{\n",
       "    x.observe(outputEl, {childList: true});\n",
       "}}\n",
       "\n",
       "                        })                };                });            </script>        </div>"
      ]
     },
     "metadata": {},
     "output_type": "display_data"
    }
   ],
   "source": [
    "### The same as above (Scatterplot + regression) but this time we dont add a constant to the model\n",
    "# (meaning instead of y = mx+c we only have y = mx)\n",
    "\n",
    "fig = go.Figure()\n",
    "\n",
    "fig.add_trace(go.Scatter(x=file2['usage_count'],y=file2['accounts_using'], mode = 'markers', name = 'The values from the dataset'))\n",
    "#for tag in file2['name'].unique():\n",
    "#    df_tag = file2[file2['name'] == tag]\n",
    "#    fig.add_trace(go.Scatter(x=df_tag['usage_count'],y=df_tag['accounts_using'], mode = 'markers', name = tag))\n",
    "\n",
    "model = sm.OLS(file2['accounts_using'],file2['usage_count'])\n",
    "res = model.fit()\n",
    "print(res.summary())\n",
    "\n",
    "fig.update_layout(\n",
    "    plot_bgcolor=\"white\",\n",
    "    title = 'Usage count of top tags vs the number of accounts using them',\n",
    "    xaxis = {\n",
    "        'title' :{\n",
    "            'font' : {\n",
    "                'size' : 18\n",
    "            },\n",
    "            'text' : 'Usage Count'\n",
    "        }\n",
    "    },\n",
    "    yaxis = {\n",
    "        'title' :{\n",
    "            'font' : {\n",
    "                'size' : 18\n",
    "            },\n",
    "            'text' : 'Accounts using'\n",
    "        }\n",
    "    }\n",
    ")\n",
    "\n",
    "m = res.params.iloc[0]\n",
    "x = np.array(range(0,800))\n",
    "y = m*x\n",
    "fig.add_trace(go.Scatter(x=x, y=y, name = 'The regression model'))\n",
    "\n",
    "fig.show()"
   ]
  },
  {
   "cell_type": "code",
   "execution_count": 137,
   "id": "1b4aeacb-7abc-4d96-9cc2-b3df0d0538c1",
   "metadata": {},
   "outputs": [
    {
     "name": "stdout",
     "output_type": "stream",
     "text": [
      "Model without constant, m=0.5573\n",
      "Model with constant, m=0.5553 and c=0.6253\n"
     ]
    },
    {
     "data": {
      "application/vnd.plotly.v1+json": {
       "config": {
        "plotlyServerURL": "https://plot.ly"
       },
       "data": [
        {
         "mode": "markers",
         "name": "The values from the dataset",
         "type": "scatter",
         "x": [
          226,
          2,
          2,
          2,
          1,
          0,
          9,
          214,
          11,
          3,
          0,
          0,
          1,
          2,
          87,
          3,
          2,
          0,
          0,
          0,
          18,
          62,
          2,
          2,
          1,
          5,
          0,
          5,
          157,
          0,
          0,
          0,
          0,
          0,
          0,
          45,
          0,
          0,
          0,
          0,
          0,
          0,
          46,
          0,
          0,
          0,
          0,
          0,
          0,
          40,
          0,
          0,
          0,
          0,
          0,
          0,
          32,
          1,
          1,
          0,
          1,
          0,
          3,
          36,
          0,
          0,
          0,
          0,
          0,
          0,
          764,
          325,
          371,
          161,
          171,
          160,
          216,
          58,
          0,
          0,
          79,
          19,
          5,
          61,
          594,
          172,
          123,
          97,
          45,
          23,
          12,
          63,
          7,
          2,
          0,
          1,
          1,
          0,
          19,
          0,
          0,
          0,
          0,
          0,
          0,
          107,
          11,
          1,
          0,
          1,
          0,
          0,
          293,
          130,
          210,
          12,
          7,
          5,
          12,
          23,
          1,
          3,
          0,
          0,
          3,
          1,
          46,
          2,
          0,
          0,
          0,
          0,
          0,
          21,
          1,
          0,
          0,
          0,
          0,
          0
         ],
         "y": [
          92,
          2,
          2,
          1,
          1,
          0,
          9,
          149,
          8,
          2,
          0,
          0,
          1,
          2,
          81,
          3,
          2,
          0,
          0,
          0,
          9,
          42,
          1,
          2,
          1,
          2,
          0,
          2,
          60,
          0,
          0,
          0,
          0,
          0,
          0,
          40,
          0,
          0,
          0,
          0,
          0,
          0,
          37,
          0,
          0,
          0,
          0,
          0,
          0,
          35,
          0,
          0,
          0,
          0,
          0,
          0,
          28,
          1,
          1,
          0,
          1,
          0,
          3,
          26,
          0,
          0,
          0,
          0,
          0,
          0,
          486,
          158,
          138,
          96,
          111,
          91,
          121,
          52,
          0,
          0,
          31,
          7,
          4,
          42,
          326,
          118,
          76,
          57,
          35,
          17,
          12,
          39,
          3,
          2,
          0,
          1,
          1,
          0,
          19,
          0,
          0,
          0,
          0,
          0,
          0,
          96,
          11,
          1,
          0,
          1,
          0,
          0,
          154,
          42,
          31,
          7,
          4,
          5,
          7,
          18,
          1,
          3,
          0,
          0,
          3,
          1,
          23,
          2,
          0,
          0,
          0,
          0,
          0,
          20,
          1,
          0,
          0,
          0,
          0,
          0
         ]
        },
        {
         "name": "The regression model without a constant",
         "type": "scatter",
         "x": [
          0,
          1,
          2,
          3,
          4,
          5,
          6,
          7,
          8,
          9,
          10,
          11,
          12,
          13,
          14,
          15,
          16,
          17,
          18,
          19,
          20,
          21,
          22,
          23,
          24,
          25,
          26,
          27,
          28,
          29,
          30,
          31,
          32,
          33,
          34,
          35,
          36,
          37,
          38,
          39,
          40,
          41,
          42,
          43,
          44,
          45,
          46,
          47,
          48,
          49,
          50,
          51,
          52,
          53,
          54,
          55,
          56,
          57,
          58,
          59,
          60,
          61,
          62,
          63,
          64,
          65,
          66,
          67,
          68,
          69,
          70,
          71,
          72,
          73,
          74,
          75,
          76,
          77,
          78,
          79,
          80,
          81,
          82,
          83,
          84,
          85,
          86,
          87,
          88,
          89,
          90,
          91,
          92,
          93,
          94,
          95,
          96,
          97,
          98,
          99,
          100,
          101,
          102,
          103,
          104,
          105,
          106,
          107,
          108,
          109,
          110,
          111,
          112,
          113,
          114,
          115,
          116,
          117,
          118,
          119,
          120,
          121,
          122,
          123,
          124,
          125,
          126,
          127,
          128,
          129,
          130,
          131,
          132,
          133,
          134,
          135,
          136,
          137,
          138,
          139,
          140,
          141,
          142,
          143,
          144,
          145,
          146,
          147,
          148,
          149,
          150,
          151,
          152,
          153,
          154,
          155,
          156,
          157,
          158,
          159,
          160,
          161,
          162,
          163,
          164,
          165,
          166,
          167,
          168,
          169,
          170,
          171,
          172,
          173,
          174,
          175,
          176,
          177,
          178,
          179,
          180,
          181,
          182,
          183,
          184,
          185,
          186,
          187,
          188,
          189,
          190,
          191,
          192,
          193,
          194,
          195,
          196,
          197,
          198,
          199,
          200,
          201,
          202,
          203,
          204,
          205,
          206,
          207,
          208,
          209,
          210,
          211,
          212,
          213,
          214,
          215,
          216,
          217,
          218,
          219,
          220,
          221,
          222,
          223,
          224,
          225,
          226,
          227,
          228,
          229,
          230,
          231,
          232,
          233,
          234,
          235,
          236,
          237,
          238,
          239,
          240,
          241,
          242,
          243,
          244,
          245,
          246,
          247,
          248,
          249,
          250,
          251,
          252,
          253,
          254,
          255,
          256,
          257,
          258,
          259,
          260,
          261,
          262,
          263,
          264,
          265,
          266,
          267,
          268,
          269,
          270,
          271,
          272,
          273,
          274,
          275,
          276,
          277,
          278,
          279,
          280,
          281,
          282,
          283,
          284,
          285,
          286,
          287,
          288,
          289,
          290,
          291,
          292,
          293,
          294,
          295,
          296,
          297,
          298,
          299,
          300,
          301,
          302,
          303,
          304,
          305,
          306,
          307,
          308,
          309,
          310,
          311,
          312,
          313,
          314,
          315,
          316,
          317,
          318,
          319,
          320,
          321,
          322,
          323,
          324,
          325,
          326,
          327,
          328,
          329,
          330,
          331,
          332,
          333,
          334,
          335,
          336,
          337,
          338,
          339,
          340,
          341,
          342,
          343,
          344,
          345,
          346,
          347,
          348,
          349,
          350,
          351,
          352,
          353,
          354,
          355,
          356,
          357,
          358,
          359,
          360,
          361,
          362,
          363,
          364,
          365,
          366,
          367,
          368,
          369,
          370,
          371,
          372,
          373,
          374,
          375,
          376,
          377,
          378,
          379,
          380,
          381,
          382,
          383,
          384,
          385,
          386,
          387,
          388,
          389,
          390,
          391,
          392,
          393,
          394,
          395,
          396,
          397,
          398,
          399,
          400,
          401,
          402,
          403,
          404,
          405,
          406,
          407,
          408,
          409,
          410,
          411,
          412,
          413,
          414,
          415,
          416,
          417,
          418,
          419,
          420,
          421,
          422,
          423,
          424,
          425,
          426,
          427,
          428,
          429,
          430,
          431,
          432,
          433,
          434,
          435,
          436,
          437,
          438,
          439,
          440,
          441,
          442,
          443,
          444,
          445,
          446,
          447,
          448,
          449,
          450,
          451,
          452,
          453,
          454,
          455,
          456,
          457,
          458,
          459,
          460,
          461,
          462,
          463,
          464,
          465,
          466,
          467,
          468,
          469,
          470,
          471,
          472,
          473,
          474,
          475,
          476,
          477,
          478,
          479,
          480,
          481,
          482,
          483,
          484,
          485,
          486,
          487,
          488,
          489,
          490,
          491,
          492,
          493,
          494,
          495,
          496,
          497,
          498,
          499,
          500,
          501,
          502,
          503,
          504,
          505,
          506,
          507,
          508,
          509,
          510,
          511,
          512,
          513,
          514,
          515,
          516,
          517,
          518,
          519,
          520,
          521,
          522,
          523,
          524,
          525,
          526,
          527,
          528,
          529,
          530,
          531,
          532,
          533,
          534,
          535,
          536,
          537,
          538,
          539,
          540,
          541,
          542,
          543,
          544,
          545,
          546,
          547,
          548,
          549,
          550,
          551,
          552,
          553,
          554,
          555,
          556,
          557,
          558,
          559,
          560,
          561,
          562,
          563,
          564,
          565,
          566,
          567,
          568,
          569,
          570,
          571,
          572,
          573,
          574,
          575,
          576,
          577,
          578,
          579,
          580,
          581,
          582,
          583,
          584,
          585,
          586,
          587,
          588,
          589,
          590,
          591,
          592,
          593,
          594,
          595,
          596,
          597,
          598,
          599,
          600,
          601,
          602,
          603,
          604,
          605,
          606,
          607,
          608,
          609,
          610,
          611,
          612,
          613,
          614,
          615,
          616,
          617,
          618,
          619,
          620,
          621,
          622,
          623,
          624,
          625,
          626,
          627,
          628,
          629,
          630,
          631,
          632,
          633,
          634,
          635,
          636,
          637,
          638,
          639,
          640,
          641,
          642,
          643,
          644,
          645,
          646,
          647,
          648,
          649,
          650,
          651,
          652,
          653,
          654,
          655,
          656,
          657,
          658,
          659,
          660,
          661,
          662,
          663,
          664,
          665,
          666,
          667,
          668,
          669,
          670,
          671,
          672,
          673,
          674,
          675,
          676,
          677,
          678,
          679,
          680,
          681,
          682,
          683,
          684,
          685,
          686,
          687,
          688,
          689,
          690,
          691,
          692,
          693,
          694,
          695,
          696,
          697,
          698,
          699,
          700,
          701,
          702,
          703,
          704,
          705,
          706,
          707,
          708,
          709,
          710,
          711,
          712,
          713,
          714,
          715,
          716,
          717,
          718,
          719,
          720,
          721,
          722,
          723,
          724,
          725,
          726,
          727,
          728,
          729,
          730,
          731,
          732,
          733,
          734,
          735,
          736,
          737,
          738,
          739,
          740,
          741,
          742,
          743,
          744,
          745,
          746,
          747,
          748,
          749,
          750,
          751,
          752,
          753,
          754,
          755,
          756,
          757,
          758,
          759,
          760,
          761,
          762,
          763,
          764,
          765,
          766,
          767,
          768,
          769,
          770,
          771,
          772,
          773,
          774,
          775,
          776,
          777,
          778,
          779,
          780,
          781,
          782,
          783,
          784,
          785,
          786,
          787,
          788,
          789,
          790,
          791,
          792,
          793,
          794,
          795,
          796,
          797,
          798,
          799
         ],
         "y": [
          0,
          0.5573191256357307,
          1.1146382512714614,
          1.671957376907192,
          2.229276502542923,
          2.7865956281786537,
          3.343914753814384,
          3.901233879450115,
          4.458553005085846,
          5.015872130721577,
          5.573191256357307,
          6.130510381993038,
          6.687829507628768,
          7.245148633264499,
          7.80246775890023,
          8.35978688453596,
          8.917106010171691,
          9.474425135807422,
          10.031744261443153,
          10.589063387078884,
          11.146382512714615,
          11.703701638350346,
          12.261020763986076,
          12.818339889621807,
          13.375659015257536,
          13.932978140893267,
          14.490297266528998,
          15.047616392164729,
          15.60493551780046,
          16.162254643436192,
          16.71957376907192,
          17.276892894707654,
          17.834212020343383,
          18.391531145979112,
          18.948850271614845,
          19.506169397250574,
          20.063488522886306,
          20.620807648522035,
          21.178126774157768,
          21.735445899793497,
          22.29276502542923,
          22.85008415106496,
          23.40740327670069,
          23.96472240233642,
          24.522041527972153,
          25.079360653607882,
          25.636679779243615,
          26.193998904879344,
          26.751318030515073,
          27.308637156150805,
          27.865956281786534,
          28.423275407422267,
          28.980594533057996,
          29.53791365869373,
          30.095232784329458,
          30.65255190996519,
          31.20987103560092,
          31.767190161236652,
          32.324509286872384,
          32.88182841250811,
          33.43914753814384,
          33.99646666377957,
          34.55378578941531,
          35.11110491505104,
          35.668424040686766,
          36.225743166322495,
          36.783062291958224,
          37.34038141759396,
          37.89770054322969,
          38.45501966886542,
          39.01233879450115,
          39.56965792013688,
          40.12697704577261,
          40.68429617140834,
          41.24161529704407,
          41.79893442267981,
          42.356253548315536,
          42.913572673951265,
          43.470891799586994,
          44.02821092522273,
          44.58553005085846,
          45.14284917649419,
          45.70016830212992,
          46.257487427765646,
          46.81480655340138,
          47.37212567903711,
          47.92944480467284,
          48.48676393030857,
          49.044083055944306,
          49.601402181580035,
          50.158721307215764,
          50.71604043285149,
          51.27335955848723,
          51.83067868412296,
          52.38799780975869,
          52.945316935394416,
          53.502636061030145,
          54.05995518666588,
          54.61727431230161,
          55.17459343793734,
          55.73191256357307,
          56.289231689208805,
          56.846550814844534,
          57.40386994048026,
          57.96118906611599,
          58.51850819175173,
          59.07582731738746,
          59.633146443023186,
          60.190465568658915,
          60.74778469429465,
          61.30510381993038,
          61.86242294556611,
          62.41974207120184,
          62.97706119683757,
          63.534380322473304,
          64.09169944810903,
          64.64901857374477,
          65.2063376993805,
          65.76365682501623,
          66.32097595065196,
          66.87829507628769,
          67.43561420192341,
          67.99293332755914,
          68.55025245319487,
          69.10757157883062,
          69.66489070446634,
          70.22220983010207,
          70.7795289557378,
          71.33684808137353,
          71.89416720700926,
          72.45148633264499,
          73.00880545828072,
          73.56612458391645,
          74.12344370955219,
          74.68076283518792,
          75.23808196082365,
          75.79540108645938,
          76.35272021209511,
          76.91003933773084,
          77.46735846336657,
          78.0246775890023,
          78.58199671463804,
          79.13931584027377,
          79.6966349659095,
          80.25395409154522,
          80.81127321718095,
          81.36859234281668,
          81.92591146845241,
          82.48323059408814,
          83.04054971972387,
          83.59786884535961,
          84.15518797099534,
          84.71250709663107,
          85.2698262222668,
          85.82714534790253,
          86.38446447353826,
          86.94178359917399,
          87.49910272480972,
          88.05642185044546,
          88.61374097608119,
          89.17106010171692,
          89.72837922735265,
          90.28569835298838,
          90.8430174786241,
          91.40033660425983,
          91.95765572989556,
          92.51497485553129,
          93.07229398116704,
          93.62961310680276,
          94.1869322324385,
          94.74425135807422,
          95.30157048370995,
          95.85888960934568,
          96.41620873498141,
          96.97352786061714,
          97.53084698625288,
          98.08816611188861,
          98.64548523752434,
          99.20280436316007,
          99.7601234887958,
          100.31744261443153,
          100.87476174006726,
          101.43208086570299,
          101.98939999133871,
          102.54671911697446,
          103.10403824261019,
          103.66135736824592,
          104.21867649388165,
          104.77599561951737,
          105.3333147451531,
          105.89063387078883,
          106.44795299642456,
          107.00527212206029,
          107.56259124769603,
          108.11991037333176,
          108.67722949896749,
          109.23454862460322,
          109.79186775023895,
          110.34918687587468,
          110.90650600151041,
          111.46382512714614,
          112.02114425278188,
          112.57846337841761,
          113.13578250405334,
          113.69310162968907,
          114.2504207553248,
          114.80773988096053,
          115.36505900659625,
          115.92237813223198,
          116.47969725786771,
          117.03701638350346,
          117.59433550913919,
          118.15165463477491,
          118.70897376041064,
          119.26629288604637,
          119.8236120116821,
          120.38093113731783,
          120.93825026295356,
          121.4955693885893,
          122.05288851422503,
          122.61020763986076,
          123.16752676549649,
          123.72484589113222,
          124.28216501676795,
          124.83948414240368,
          125.3968032680394,
          125.95412239367514,
          126.51144151931088,
          127.06876064494661,
          127.62607977058234,
          128.18339889621805,
          128.7407180218538,
          129.29803714748954,
          129.85535627312527,
          130.412675398761,
          130.96999452439672,
          131.52731365003245,
          132.08463277566818,
          132.6419519013039,
          133.19927102693964,
          133.75659015257537,
          134.3139092782111,
          134.87122840384683,
          135.42854752948256,
          135.9858666551183,
          136.54318578075402,
          137.10050490638974,
          137.65782403202547,
          138.21514315766123,
          138.77246228329696,
          139.3297814089327,
          139.88710053456842,
          140.44441966020415,
          141.00173878583988,
          141.5590579114756,
          142.11637703711133,
          142.67369616274706,
          143.2310152883828,
          143.78833441401852,
          144.34565353965425,
          144.90297266528998,
          145.4602917909257,
          146.01761091656144,
          146.57493004219717,
          147.1322491678329,
          147.68956829346865,
          148.24688741910438,
          148.8042065447401,
          149.36152567037584,
          149.91884479601157,
          150.4761639216473,
          151.03348304728303,
          151.59080217291876,
          152.14812129855449,
          152.70544042419021,
          153.26275954982594,
          153.82007867546167,
          154.3773978010974,
          154.93471692673313,
          155.49203605236886,
          156.0493551780046,
          156.60667430364032,
          157.16399342927608,
          157.7213125549118,
          158.27863168054753,
          158.83595080618326,
          159.393269931819,
          159.95058905745472,
          160.50790818309045,
          161.06522730872618,
          161.6225464343619,
          162.17986555999764,
          162.73718468563337,
          163.2945038112691,
          163.85182293690482,
          164.40914206254055,
          164.96646118817628,
          165.523780313812,
          166.08109943944774,
          166.6384185650835,
          167.19573769071923,
          167.75305681635496,
          168.31037594199069,
          168.8676950676264,
          169.42501419326214,
          169.98233331889787,
          170.5396524445336,
          171.09697157016933,
          171.65429069580506,
          172.2116098214408,
          172.76892894707652,
          173.32624807271225,
          173.88356719834798,
          174.4408863239837,
          174.99820544961943,
          175.55552457525516,
          176.11284370089092,
          176.67016282652665,
          177.22748195216238,
          177.7848010777981,
          178.34212020343384,
          178.89943932906957,
          179.4567584547053,
          180.01407758034102,
          180.57139670597675,
          181.12871583161248,
          181.6860349572482,
          182.24335408288394,
          182.80067320851967,
          183.3579923341554,
          183.91531145979113,
          184.47263058542686,
          185.02994971106259,
          185.58726883669834,
          186.14458796233407,
          186.7019070879698,
          187.25922621360553,
          187.81654533924126,
          188.373864464877,
          188.93118359051272,
          189.48850271614845,
          190.04582184178417,
          190.6031409674199,
          191.16046009305563,
          191.71777921869136,
          192.2750983443271,
          192.83241746996282,
          193.38973659559855,
          193.94705572123428,
          194.50437484687,
          195.06169397250576,
          195.6190130981415,
          196.17633222377722,
          196.73365134941295,
          197.29097047504868,
          197.8482896006844,
          198.40560872632014,
          198.96292785195587,
          199.5202469775916,
          200.07756610322733,
          200.63488522886306,
          201.19220435449878,
          201.7495234801345,
          202.30684260577024,
          202.86416173140597,
          203.4214808570417,
          203.97879998267743,
          204.5361191083132,
          205.09343823394892,
          205.65075735958465,
          206.20807648522037,
          206.7653956108561,
          207.32271473649183,
          207.88003386212756,
          208.4373529877633,
          208.99467211339902,
          209.55199123903475,
          210.10931036467048,
          210.6666294903062,
          211.22394861594194,
          211.78126774157766,
          212.3385868672134,
          212.89590599284912,
          213.45322511848485,
          214.01054424412058,
          214.56786336975634,
          215.12518249539207,
          215.6825016210278,
          216.23982074666353,
          216.79713987229925,
          217.35445899793498,
          217.9117781235707,
          218.46909724920644,
          219.02641637484217,
          219.5837355004779,
          220.14105462611363,
          220.69837375174936,
          221.2556928773851,
          221.81301200302082,
          222.37033112865655,
          222.92765025429227,
          223.484969379928,
          224.04228850556376,
          224.5996076311995,
          225.15692675683522,
          225.71424588247095,
          226.27156500810668,
          226.8288841337424,
          227.38620325937814,
          227.94352238501386,
          228.5008415106496,
          229.05816063628532,
          229.61547976192105,
          230.17279888755678,
          230.7301180131925,
          231.28743713882824,
          231.84475626446397,
          232.4020753900997,
          232.95939451573543,
          233.51671364137118,
          234.0740327670069,
          234.63135189264264,
          235.18867101827837,
          235.7459901439141,
          236.30330926954983,
          236.86062839518556,
          237.4179475208213,
          237.97526664645702,
          238.53258577209274,
          239.08990489772847,
          239.6472240233642,
          240.20454314899993,
          240.76186227463566,
          241.3191814002714,
          241.87650052590712,
          242.43381965154285,
          242.9911387771786,
          243.54845790281433,
          244.10577702845006,
          244.6630961540858,
          245.22041527972152,
          245.77773440535725,
          246.33505353099298,
          246.8923726566287,
          247.44969178226444,
          248.00701090790017,
          248.5643300335359,
          249.12164915917162,
          249.67896828480735,
          250.23628741044308,
          250.7936065360788,
          251.35092566171454,
          251.90824478735027,
          252.46556391298603,
          253.02288303862176,
          253.58020216425749,
          254.13752128989321,
          254.69484041552894,
          255.25215954116467,
          255.8094786668004,
          256.3667977924361,
          256.9241169180719,
          257.4814360437076,
          258.03875516934335,
          258.5960742949791,
          259.1533934206148,
          259.71071254625053,
          260.26803167188626,
          260.825350797522,
          261.3826699231577,
          261.93998904879345,
          262.4973081744292,
          263.0546273000649,
          263.61194642570064,
          264.16926555133637,
          264.7265846769721,
          265.2839038026078,
          265.84122292824355,
          266.3985420538793,
          266.955861179515,
          267.51318030515074,
          268.07049943078647,
          268.6278185564222,
          269.1851376820579,
          269.74245680769366,
          270.2997759333294,
          270.8570950589651,
          271.41441418460084,
          271.9717333102366,
          272.5290524358723,
          273.08637156150803,
          273.64369068714376,
          274.2010098127795,
          274.7583289384152,
          275.31564806405095,
          275.87296718968673,
          276.43028631532246,
          276.9876054409582,
          277.5449245665939,
          278.10224369222965,
          278.6595628178654,
          279.2168819435011,
          279.77420106913684,
          280.33152019477257,
          280.8888393204083,
          281.446158446044,
          282.00347757167975,
          282.5607966973155,
          283.1181158229512,
          283.67543494858694,
          284.23275407422267,
          284.7900731998584,
          285.3473923254941,
          285.90471145112986,
          286.4620305767656,
          287.0193497024013,
          287.57666882803704,
          288.1339879536728,
          288.6913070793085,
          289.24862620494423,
          289.80594533057996,
          290.3632644562157,
          290.9205835818514,
          291.47790270748715,
          292.0352218331229,
          292.5925409587586,
          293.14986008439433,
          293.70717921003006,
          294.2644983356658,
          294.8218174613015,
          295.3791365869373,
          295.93645571257304,
          296.49377483820876,
          297.0510939638445,
          297.6084130894802,
          298.16573221511595,
          298.7230513407517,
          299.2803704663874,
          299.83768959202314,
          300.39500871765887,
          300.9523278432946,
          301.5096469689303,
          302.06696609456606,
          302.6242852202018,
          303.1816043458375,
          303.73892347147324,
          304.29624259710897,
          304.8535617227447,
          305.41088084838043,
          305.96819997401616,
          306.5255190996519,
          307.0828382252876,
          307.64015735092335,
          308.1974764765591,
          308.7547956021948,
          309.31211472783053,
          309.86943385346626,
          310.426752979102,
          310.9840721047377,
          311.54139123037345,
          312.0987103560092,
          312.6560294816449,
          313.21334860728064,
          313.77066773291637,
          314.32798685855215,
          314.8853059841879,
          315.4426251098236,
          315.99994423545934,
          316.55726336109507,
          317.1145824867308,
          317.6719016123665,
          318.22922073800225,
          318.786539863638,
          319.3438589892737,
          319.90117811490944,
          320.45849724054517,
          321.0158163661809,
          321.57313549181663,
          322.13045461745236,
          322.6877737430881,
          323.2450928687238,
          323.80241199435955,
          324.3597311199953,
          324.917050245631,
          325.47436937126673,
          326.03168849690246,
          326.5890076225382,
          327.1463267481739,
          327.70364587380965,
          328.2609649994454,
          328.8182841250811,
          329.37560325071684,
          329.93292237635256,
          330.4902415019883,
          331.047560627624,
          331.60487975325975,
          332.1621988788955,
          332.7195180045312,
          333.276837130167,
          333.8341562558027,
          334.39147538143845,
          334.9487945070742,
          335.5061136327099,
          336.06343275834564,
          336.62075188398137,
          337.1780710096171,
          337.7353901352528,
          338.29270926088856,
          338.8500283865243,
          339.40734751216,
          339.96466663779574,
          340.5219857634315,
          341.0793048890672,
          341.63662401470293,
          342.19394314033866,
          342.7512622659744,
          343.3085813916101,
          343.86590051724585,
          344.4232196428816,
          344.9805387685173,
          345.53785789415303,
          346.09517701978876,
          346.6524961454245,
          347.2098152710602,
          347.76713439669595,
          348.3244535223317,
          348.8817726479674,
          349.43909177360314,
          349.99641089923887,
          350.5537300248746,
          351.1110491505103,
          351.66836827614605,
          352.22568740178184,
          352.78300652741757,
          353.3403256530533,
          353.897644778689,
          354.45496390432476,
          355.0122830299605,
          355.5696021555962,
          356.12692128123194,
          356.6842404068677,
          357.2415595325034,
          357.79887865813913,
          358.35619778377486,
          358.9135169094106,
          359.4708360350463,
          360.02815516068205,
          360.5854742863178,
          361.1427934119535,
          361.70011253758923,
          362.25743166322496,
          362.8147507888607,
          363.3720699144964,
          363.92938904013215,
          364.4867081657679,
          365.0440272914036,
          365.60134641703934,
          366.15866554267507,
          366.7159846683108,
          367.2733037939465,
          367.83062291958225,
          368.387942045218,
          368.9452611708537,
          369.50258029648944,
          370.05989942212517,
          370.6172185477609,
          371.1745376733967,
          371.7318567990324,
          372.28917592466814,
          372.8464950503039,
          373.4038141759396,
          373.96113330157533,
          374.51845242721106,
          375.0757715528468,
          375.6330906784825,
          376.19040980411825,
          376.747728929754,
          377.3050480553897,
          377.86236718102543,
          378.41968630666116,
          378.9770054322969,
          379.5343245579326,
          380.09164368356835,
          380.6489628092041,
          381.2062819348398,
          381.76360106047554,
          382.32092018611127,
          382.878239311747,
          383.4355584373827,
          383.99287756301845,
          384.5501966886542,
          385.1075158142899,
          385.66483493992564,
          386.22215406556137,
          386.7794731911971,
          387.3367923168328,
          387.89411144246856,
          388.4514305681043,
          389.00874969374,
          389.56606881937574,
          390.12338794501153,
          390.68070707064726,
          391.238026196283,
          391.7953453219187,
          392.35266444755445,
          392.9099835731902,
          393.4673026988259,
          394.02462182446163,
          394.58194095009736,
          395.1392600757331,
          395.6965792013688,
          396.25389832700455,
          396.8112174526403,
          397.368536578276,
          397.92585570391174,
          398.48317482954747,
          399.0404939551832,
          399.5978130808189,
          400.15513220645465,
          400.7124513320904,
          401.2697704577261,
          401.82708958336184,
          402.38440870899757,
          402.9417278346333,
          403.499046960269,
          404.05636608590476,
          404.6136852115405,
          405.1710043371762,
          405.72832346281194,
          406.2856425884477,
          406.8429617140834,
          407.40028083971913,
          407.95759996535486,
          408.5149190909906,
          409.0722382166264,
          409.6295573422621,
          410.18687646789783,
          410.74419559353356,
          411.3015147191693,
          411.858833844805,
          412.41615297044075,
          412.9734720960765,
          413.5307912217122,
          414.08811034734794,
          414.64542947298366,
          415.2027485986194,
          415.7600677242551,
          416.31738684989085,
          416.8747059755266,
          417.4320251011623,
          417.98934422679804,
          418.54666335243377,
          419.1039824780695,
          419.6613016037052,
          420.21862072934096,
          420.7759398549767,
          421.3332589806124,
          421.89057810624814,
          422.44789723188387,
          423.0052163575196,
          423.56253548315533,
          424.11985460879106,
          424.6771737344268,
          425.2344928600625,
          425.79181198569825,
          426.349131111334,
          426.9064502369697,
          427.46376936260543,
          428.02108848824116,
          428.57840761387695,
          429.1357267395127,
          429.6930458651484,
          430.25036499078413,
          430.80768411641986,
          431.3650032420556,
          431.9223223676913,
          432.47964149332705,
          433.0369606189628,
          433.5942797445985,
          434.15159887023424,
          434.70891799586997,
          435.2662371215057,
          435.8235562471414,
          436.38087537277715,
          436.9381944984129,
          437.4955136240486,
          438.05283274968434,
          438.61015187532007,
          439.1674710009558,
          439.72479012659153,
          440.28210925222726,
          440.839428377863,
          441.3967475034987,
          441.95406662913445,
          442.5113857547702,
          443.0687048804059,
          443.62602400604163,
          444.18334313167736,
          444.7406622573131,
          445.2979813829488
         ]
        },
        {
         "name": "The regression model with a constant",
         "type": "scatter",
         "x": [
          0,
          1,
          2,
          3,
          4,
          5,
          6,
          7,
          8,
          9,
          10,
          11,
          12,
          13,
          14,
          15,
          16,
          17,
          18,
          19,
          20,
          21,
          22,
          23,
          24,
          25,
          26,
          27,
          28,
          29,
          30,
          31,
          32,
          33,
          34,
          35,
          36,
          37,
          38,
          39,
          40,
          41,
          42,
          43,
          44,
          45,
          46,
          47,
          48,
          49,
          50,
          51,
          52,
          53,
          54,
          55,
          56,
          57,
          58,
          59,
          60,
          61,
          62,
          63,
          64,
          65,
          66,
          67,
          68,
          69,
          70,
          71,
          72,
          73,
          74,
          75,
          76,
          77,
          78,
          79,
          80,
          81,
          82,
          83,
          84,
          85,
          86,
          87,
          88,
          89,
          90,
          91,
          92,
          93,
          94,
          95,
          96,
          97,
          98,
          99,
          100,
          101,
          102,
          103,
          104,
          105,
          106,
          107,
          108,
          109,
          110,
          111,
          112,
          113,
          114,
          115,
          116,
          117,
          118,
          119,
          120,
          121,
          122,
          123,
          124,
          125,
          126,
          127,
          128,
          129,
          130,
          131,
          132,
          133,
          134,
          135,
          136,
          137,
          138,
          139,
          140,
          141,
          142,
          143,
          144,
          145,
          146,
          147,
          148,
          149,
          150,
          151,
          152,
          153,
          154,
          155,
          156,
          157,
          158,
          159,
          160,
          161,
          162,
          163,
          164,
          165,
          166,
          167,
          168,
          169,
          170,
          171,
          172,
          173,
          174,
          175,
          176,
          177,
          178,
          179,
          180,
          181,
          182,
          183,
          184,
          185,
          186,
          187,
          188,
          189,
          190,
          191,
          192,
          193,
          194,
          195,
          196,
          197,
          198,
          199,
          200,
          201,
          202,
          203,
          204,
          205,
          206,
          207,
          208,
          209,
          210,
          211,
          212,
          213,
          214,
          215,
          216,
          217,
          218,
          219,
          220,
          221,
          222,
          223,
          224,
          225,
          226,
          227,
          228,
          229,
          230,
          231,
          232,
          233,
          234,
          235,
          236,
          237,
          238,
          239,
          240,
          241,
          242,
          243,
          244,
          245,
          246,
          247,
          248,
          249,
          250,
          251,
          252,
          253,
          254,
          255,
          256,
          257,
          258,
          259,
          260,
          261,
          262,
          263,
          264,
          265,
          266,
          267,
          268,
          269,
          270,
          271,
          272,
          273,
          274,
          275,
          276,
          277,
          278,
          279,
          280,
          281,
          282,
          283,
          284,
          285,
          286,
          287,
          288,
          289,
          290,
          291,
          292,
          293,
          294,
          295,
          296,
          297,
          298,
          299,
          300,
          301,
          302,
          303,
          304,
          305,
          306,
          307,
          308,
          309,
          310,
          311,
          312,
          313,
          314,
          315,
          316,
          317,
          318,
          319,
          320,
          321,
          322,
          323,
          324,
          325,
          326,
          327,
          328,
          329,
          330,
          331,
          332,
          333,
          334,
          335,
          336,
          337,
          338,
          339,
          340,
          341,
          342,
          343,
          344,
          345,
          346,
          347,
          348,
          349,
          350,
          351,
          352,
          353,
          354,
          355,
          356,
          357,
          358,
          359,
          360,
          361,
          362,
          363,
          364,
          365,
          366,
          367,
          368,
          369,
          370,
          371,
          372,
          373,
          374,
          375,
          376,
          377,
          378,
          379,
          380,
          381,
          382,
          383,
          384,
          385,
          386,
          387,
          388,
          389,
          390,
          391,
          392,
          393,
          394,
          395,
          396,
          397,
          398,
          399,
          400,
          401,
          402,
          403,
          404,
          405,
          406,
          407,
          408,
          409,
          410,
          411,
          412,
          413,
          414,
          415,
          416,
          417,
          418,
          419,
          420,
          421,
          422,
          423,
          424,
          425,
          426,
          427,
          428,
          429,
          430,
          431,
          432,
          433,
          434,
          435,
          436,
          437,
          438,
          439,
          440,
          441,
          442,
          443,
          444,
          445,
          446,
          447,
          448,
          449,
          450,
          451,
          452,
          453,
          454,
          455,
          456,
          457,
          458,
          459,
          460,
          461,
          462,
          463,
          464,
          465,
          466,
          467,
          468,
          469,
          470,
          471,
          472,
          473,
          474,
          475,
          476,
          477,
          478,
          479,
          480,
          481,
          482,
          483,
          484,
          485,
          486,
          487,
          488,
          489,
          490,
          491,
          492,
          493,
          494,
          495,
          496,
          497,
          498,
          499,
          500,
          501,
          502,
          503,
          504,
          505,
          506,
          507,
          508,
          509,
          510,
          511,
          512,
          513,
          514,
          515,
          516,
          517,
          518,
          519,
          520,
          521,
          522,
          523,
          524,
          525,
          526,
          527,
          528,
          529,
          530,
          531,
          532,
          533,
          534,
          535,
          536,
          537,
          538,
          539,
          540,
          541,
          542,
          543,
          544,
          545,
          546,
          547,
          548,
          549,
          550,
          551,
          552,
          553,
          554,
          555,
          556,
          557,
          558,
          559,
          560,
          561,
          562,
          563,
          564,
          565,
          566,
          567,
          568,
          569,
          570,
          571,
          572,
          573,
          574,
          575,
          576,
          577,
          578,
          579,
          580,
          581,
          582,
          583,
          584,
          585,
          586,
          587,
          588,
          589,
          590,
          591,
          592,
          593,
          594,
          595,
          596,
          597,
          598,
          599,
          600,
          601,
          602,
          603,
          604,
          605,
          606,
          607,
          608,
          609,
          610,
          611,
          612,
          613,
          614,
          615,
          616,
          617,
          618,
          619,
          620,
          621,
          622,
          623,
          624,
          625,
          626,
          627,
          628,
          629,
          630,
          631,
          632,
          633,
          634,
          635,
          636,
          637,
          638,
          639,
          640,
          641,
          642,
          643,
          644,
          645,
          646,
          647,
          648,
          649,
          650,
          651,
          652,
          653,
          654,
          655,
          656,
          657,
          658,
          659,
          660,
          661,
          662,
          663,
          664,
          665,
          666,
          667,
          668,
          669,
          670,
          671,
          672,
          673,
          674,
          675,
          676,
          677,
          678,
          679,
          680,
          681,
          682,
          683,
          684,
          685,
          686,
          687,
          688,
          689,
          690,
          691,
          692,
          693,
          694,
          695,
          696,
          697,
          698,
          699,
          700,
          701,
          702,
          703,
          704,
          705,
          706,
          707,
          708,
          709,
          710,
          711,
          712,
          713,
          714,
          715,
          716,
          717,
          718,
          719,
          720,
          721,
          722,
          723,
          724,
          725,
          726,
          727,
          728,
          729,
          730,
          731,
          732,
          733,
          734,
          735,
          736,
          737,
          738,
          739,
          740,
          741,
          742,
          743,
          744,
          745,
          746,
          747,
          748,
          749,
          750,
          751,
          752,
          753,
          754,
          755,
          756,
          757,
          758,
          759,
          760,
          761,
          762,
          763,
          764,
          765,
          766,
          767,
          768,
          769,
          770,
          771,
          772,
          773,
          774,
          775,
          776,
          777,
          778,
          779,
          780,
          781,
          782,
          783,
          784,
          785,
          786,
          787,
          788,
          789,
          790,
          791,
          792,
          793,
          794,
          795,
          796,
          797,
          798,
          799
         ],
         "y": [
          0.6253082078160803,
          1.1806015333802162,
          1.7358948589443524,
          2.2911881845084885,
          2.8464815100726244,
          3.4017748356367603,
          3.9570681612008967,
          4.512361486765032,
          5.0676548123291685,
          5.622948137893305,
          6.17824146345744,
          6.733534789021577,
          7.288828114585713,
          7.8441214401498485,
          8.399414765713985,
          8.954708091278121,
          9.510001416842258,
          10.065294742406394,
          10.62058806797053,
          11.175881393534663,
          11.7311747190988,
          12.286468044662936,
          12.841761370227072,
          13.397054695791208,
          13.952348021355345,
          14.507641346919481,
          15.062934672483618,
          15.618227998047754,
          16.17352132361189,
          16.728814649176023,
          17.28410797474016,
          17.839401300304296,
          18.394694625868432,
          18.94998795143257,
          19.505281276996705,
          20.06057460256084,
          20.615867928124977,
          21.171161253689114,
          21.726454579253247,
          22.281747904817383,
          22.83704123038152,
          23.392334555945656,
          23.947627881509792,
          24.50292120707393,
          25.058214532638065,
          25.6135078582022,
          26.168801183766337,
          26.724094509330474,
          27.27938783489461,
          27.834681160458743,
          28.38997448602288,
          28.945267811587016,
          29.500561137151152,
          30.05585446271529,
          30.611147788279425,
          31.16644111384356,
          31.721734439407697,
          32.277027764971834,
          32.83232109053597,
          33.38761441610011,
          33.94290774166424,
          34.49820106722838,
          35.053494392792516,
          35.60878771835665,
          36.16408104392079,
          36.719374369484925,
          37.27466769504906,
          37.8299610206132,
          38.385254346177334,
          38.94054767174147,
          39.495840997305606,
          40.05113432286974,
          40.60642764843388,
          41.161720973998015,
          41.71701429956215,
          42.27230762512628,
          42.82760095069042,
          43.382894276254554,
          43.93818760181869,
          44.49348092738283,
          45.04877425294696,
          45.6040675785111,
          46.159360904075236,
          46.71465422963937,
          47.26994755520351,
          47.825240880767645,
          48.38053420633178,
          48.93582753189592,
          49.491120857460054,
          50.04641418302419,
          50.601707508588326,
          51.15700083415246,
          51.7122941597166,
          52.267587485280735,
          52.82288081084487,
          53.37817413640901,
          53.933467461973144,
          54.488760787537274,
          55.04405411310141,
          55.599347438665546,
          56.15464076422968,
          56.70993408979382,
          57.265227415357955,
          57.82052074092209,
          58.37581406648623,
          58.931107392050365,
          59.4864007176145,
          60.04169404317864,
          60.596987368742774,
          61.15228069430691,
          61.707574019871046,
          62.26286734543518,
          62.81816067099932,
          63.373453996563455,
          63.92874732212759,
          64.48404064769173,
          65.03933397325585,
          65.59462729881999,
          66.14992062438412,
          66.70521394994826,
          67.2605072755124,
          67.81580060107653,
          68.37109392664067,
          68.9263872522048,
          69.48168057776894,
          70.03697390333308,
          70.59226722889721,
          71.14756055446135,
          71.70285388002549,
          72.25814720558962,
          72.81344053115376,
          73.3687338567179,
          73.92402718228203,
          74.47932050784617,
          75.0346138334103,
          75.58990715897444,
          76.14520048453858,
          76.70049381010271,
          77.25578713566685,
          77.81108046123099,
          78.36637378679512,
          78.92166711235926,
          79.4769604379234,
          80.03225376348753,
          80.58754708905167,
          81.1428404146158,
          81.69813374017994,
          82.25342706574408,
          82.80872039130821,
          83.36401371687235,
          83.91930704243647,
          84.47460036800061,
          85.02989369356474,
          85.58518701912888,
          86.14048034469302,
          86.69577367025715,
          87.25106699582129,
          87.80636032138543,
          88.36165364694956,
          88.9169469725137,
          89.47224029807784,
          90.02753362364197,
          90.58282694920611,
          91.13812027477024,
          91.69341360033438,
          92.24870692589852,
          92.80400025146265,
          93.35929357702679,
          93.91458690259093,
          94.46988022815506,
          95.0251735537192,
          95.58046687928334,
          96.13576020484747,
          96.69105353041161,
          97.24634685597574,
          97.80164018153988,
          98.35693350710402,
          98.91222683266815,
          99.46752015823229,
          100.02281348379643,
          100.57810680936056,
          101.1334001349247,
          101.68869346048884,
          102.24398678605297,
          102.79928011161711,
          103.35457343718124,
          103.90986676274538,
          104.46516008830952,
          105.02045341387365,
          105.57574673943779,
          106.13104006500193,
          106.68633339056606,
          107.2416267161302,
          107.79692004169432,
          108.35221336725846,
          108.9075066928226,
          109.46280001838673,
          110.01809334395087,
          110.573386669515,
          111.12867999507914,
          111.68397332064328,
          112.23926664620741,
          112.79455997177155,
          113.34985329733568,
          113.90514662289982,
          114.46043994846396,
          115.0157332740281,
          115.57102659959223,
          116.12631992515637,
          116.6816132507205,
          117.23690657628464,
          117.79219990184878,
          118.34749322741291,
          118.90278655297705,
          119.45807987854118,
          120.01337320410532,
          120.56866652966946,
          121.1239598552336,
          121.67925318079773,
          122.23454650636187,
          122.789839831926,
          123.34513315749014,
          123.90042648305428,
          124.45571980861841,
          125.01101313418255,
          125.56630645974668,
          126.12159978531082,
          126.67689311087496,
          127.2321864364391,
          127.78747976200323,
          128.34277308756737,
          128.89806641313152,
          129.45335973869564,
          130.0086530642598,
          130.5639463898239,
          131.11923971538806,
          131.67453304095218,
          132.22982636651633,
          132.78511969208046,
          133.3404130176446,
          133.89570634320873,
          134.45099966877288,
          135.006292994337,
          135.56158631990115,
          136.11687964546527,
          136.67217297102943,
          137.22746629659355,
          137.7827596221577,
          138.33805294772182,
          138.89334627328597,
          139.4486395988501,
          140.00393292441424,
          140.55922624997837,
          141.11451957554252,
          141.66981290110664,
          142.2251062266708,
          142.7803995522349,
          143.33569287779903,
          143.89098620336318,
          144.4462795289273,
          145.00157285449146,
          145.55686618005558,
          146.11215950561973,
          146.66745283118385,
          147.222746156748,
          147.77803948231212,
          148.33333280787627,
          148.8886261334404,
          149.44391945900455,
          149.99921278456867,
          150.55450611013282,
          151.10979943569694,
          151.6650927612611,
          152.22038608682521,
          152.77567941238937,
          153.3309727379535,
          153.88626606351764,
          154.44155938908176,
          154.9968527146459,
          155.55214604021003,
          156.10743936577418,
          156.6627326913383,
          157.21802601690246,
          157.77331934246658,
          158.32861266803073,
          158.88390599359485,
          159.439199319159,
          159.99449264472312,
          160.54978597028727,
          161.1050792958514,
          161.66037262141555,
          162.21566594697967,
          162.77095927254382,
          163.32625259810794,
          163.8815459236721,
          164.43683924923621,
          164.99213257480037,
          165.5474259003645,
          166.10271922592864,
          166.65801255149276,
          167.21330587705688,
          167.76859920262103,
          168.32389252818516,
          168.8791858537493,
          169.43447917931343,
          169.98977250487758,
          170.5450658304417,
          171.10035915600585,
          171.65565248156997,
          172.21094580713412,
          172.76623913269825,
          173.3215324582624,
          173.87682578382652,
          174.43211910939067,
          174.9874124349548,
          175.54270576051894,
          176.09799908608306,
          176.65329241164721,
          177.20858573721134,
          177.7638790627755,
          178.3191723883396,
          178.87446571390376,
          179.42975903946788,
          179.98505236503203,
          180.54034569059615,
          181.0956390161603,
          181.65093234172443,
          182.20622566728858,
          182.7615189928527,
          183.31681231841685,
          183.87210564398097,
          184.42739896954512,
          184.98269229510925,
          185.5379856206734,
          186.09327894623752,
          186.64857227180167,
          187.2038655973658,
          187.75915892292994,
          188.31445224849406,
          188.86974557405821,
          189.42503889962234,
          189.9803322251865,
          190.5356255507506,
          191.09091887631473,
          191.64621220187888,
          192.201505527443,
          192.75679885300715,
          193.31209217857128,
          193.86738550413543,
          194.42267882969955,
          194.9779721552637,
          195.53326548082782,
          196.08855880639197,
          196.6438521319561,
          197.19914545752025,
          197.75443878308437,
          198.30973210864852,
          198.86502543421264,
          199.4203187597768,
          199.9756120853409,
          200.53090541090506,
          201.08619873646919,
          201.64149206203334,
          202.19678538759746,
          202.7520787131616,
          203.30737203872573,
          203.86266536428988,
          204.417958689854,
          204.97325201541815,
          205.52854534098228,
          206.08383866654643,
          206.63913199211055,
          207.1944253176747,
          207.74971864323882,
          208.30501196880297,
          208.8603052943671,
          209.41559861993125,
          209.97089194549537,
          210.52618527105952,
          211.08147859662364,
          211.6367719221878,
          212.1920652477519,
          212.74735857331606,
          213.30265189888019,
          213.85794522444434,
          214.41323855000846,
          214.96853187557258,
          215.52382520113673,
          216.07911852670085,
          216.634411852265,
          217.18970517782913,
          217.74499850339328,
          218.3002918289574,
          218.85558515452155,
          219.41087848008567,
          219.96617180564982,
          220.52146513121394,
          221.0767584567781,
          221.63205178234222,
          222.18734510790637,
          222.7426384334705,
          223.29793175903464,
          223.85322508459876,
          224.4085184101629,
          224.96381173572703,
          225.51910506129119,
          226.0743983868553,
          226.62969171241946,
          227.18498503798358,
          227.74027836354773,
          228.29557168911185,
          228.850865014676,
          229.40615834024013,
          229.96145166580428,
          230.5167449913684,
          231.07203831693255,
          231.62733164249667,
          232.18262496806082,
          232.73791829362494,
          233.2932116191891,
          233.84850494475322,
          234.40379827031737,
          234.9590915958815,
          235.51438492144564,
          236.06967824700976,
          236.6249715725739,
          237.18026489813803,
          237.73555822370216,
          238.2908515492663,
          238.84614487483043,
          239.40143820039458,
          239.9567315259587,
          240.51202485152285,
          241.06731817708697,
          241.62261150265113,
          242.17790482821525,
          242.7331981537794,
          243.28849147934352,
          243.84378480490767,
          244.3990781304718,
          244.95437145603594,
          245.50966478160007,
          246.06495810716422,
          246.62025143272834,
          247.1755447582925,
          247.7308380838566,
          248.28613140942076,
          248.84142473498488,
          249.39671806054903,
          249.95201138611316,
          250.5073047116773,
          251.06259803724143,
          251.61789136280558,
          252.1731846883697,
          252.72847801393385,
          253.28377133949797,
          253.83906466506212,
          254.39435799062625,
          254.9496513161904,
          255.50494464175452,
          256.06023796731864,
          256.6155312928828,
          257.17082461844694,
          257.7261179440111,
          258.2814112695752,
          258.83670459513934,
          259.3919979207035,
          259.94729124626764,
          260.50258457183173,
          261.0578778973959,
          261.61317122296003,
          262.1684645485241,
          262.7237578740883,
          263.27905119965243,
          263.8343445252166,
          264.3896378507807,
          264.9449311763448,
          265.500224501909,
          266.0555178274731,
          266.6108111530372,
          267.16610447860137,
          267.7213978041655,
          268.27669112972967,
          268.83198445529376,
          269.3872777808579,
          269.94257110642206,
          270.4978644319862,
          271.0531577575503,
          271.60845108311446,
          272.1637444086786,
          272.71903773424276,
          273.27433105980685,
          273.829624385371,
          274.38491771093516,
          274.9402110364993,
          275.4955043620634,
          276.05079768762755,
          276.6060910131917,
          277.16138433875585,
          277.71667766431995,
          278.2719709898841,
          278.82726431544825,
          279.3825576410124,
          279.9378509665765,
          280.49314429214064,
          281.0484376177048,
          281.60373094326894,
          282.15902426883304,
          282.7143175943972,
          283.26961091996134,
          283.8249042455255,
          284.3801975710896,
          284.93549089665373,
          285.4907842222179,
          286.046077547782,
          286.6013708733461,
          287.1566641989103,
          287.7119575244744,
          288.2672508500385,
          288.8225441756027,
          289.3778375011668,
          289.933130826731,
          290.48842415229507,
          291.0437174778592,
          291.59901080342337,
          292.1543041289875,
          292.7095974545516,
          293.26489078011576,
          293.8201841056799,
          294.37547743124406,
          294.93077075680816,
          295.4860640823723,
          296.04135740793646,
          296.5966507335006,
          297.1519440590647,
          297.70723738462885,
          298.262530710193,
          298.81782403575716,
          299.37311736132125,
          299.9284106868854,
          300.48370401244955,
          301.0389973380137,
          301.5942906635778,
          302.14958398914195,
          302.7048773147061,
          303.26017064027025,
          303.81546396583434,
          304.3707572913985,
          304.92605061696264,
          305.4813439425268,
          306.0366372680909,
          306.59193059365504,
          307.1472239192192,
          307.70251724478334,
          308.25781057034743,
          308.8131038959116,
          309.36839722147573,
          309.9236905470398,
          310.478983872604,
          311.0342771981681,
          311.5895705237323,
          312.14486384929637,
          312.7001571748605,
          313.2554505004247,
          313.8107438259888,
          314.3660371515529,
          314.92133047711707,
          315.4766238026812,
          316.03191712824537,
          316.58721045380946,
          317.1425037793736,
          317.69779710493776,
          318.2530904305019,
          318.808383756066,
          319.36367708163016,
          319.9189704071943,
          320.47426373275846,
          321.02955705832255,
          321.5848503838867,
          322.14014370945085,
          322.695437035015,
          323.2507303605791,
          323.80602368614325,
          324.3613170117074,
          324.91661033727155,
          325.47190366283564,
          326.0271969883998,
          326.58249031396394,
          327.1377836395281,
          327.6930769650922,
          328.24837029065634,
          328.8036636162205,
          329.35895694178464,
          329.91425026734873,
          330.4695435929129,
          331.02483691847704,
          331.5801302440412,
          332.1354235696053,
          332.69071689516943,
          333.2460102207336,
          333.8013035462977,
          334.3565968718618,
          334.911890197426,
          335.4671835229901,
          336.0224768485542,
          336.57777017411837,
          337.1330634996825,
          337.6883568252467,
          338.24365015081077,
          338.7989434763749,
          339.35423680193907,
          339.9095301275032,
          340.4648234530673,
          341.02011677863146,
          341.5754101041956,
          342.13070342975976,
          342.68599675532386,
          343.241290080888,
          343.79658340645216,
          344.3518767320163,
          344.9071700575804,
          345.46246338314455,
          346.0177567087087,
          346.57305003427285,
          347.12834335983695,
          347.6836366854011,
          348.23893001096525,
          348.7942233365294,
          349.3495166620935,
          349.90480998765764,
          350.4601033132218,
          351.01539663878594,
          351.57068996435004,
          352.1259832899142,
          352.68127661547834,
          353.2365699410425,
          353.7918632666066,
          354.34715659217073,
          354.9024499177349,
          355.45774324329903,
          356.01303656886313,
          356.5683298944273,
          357.12362321999143,
          357.6789165455555,
          358.2342098711197,
          358.7895031966838,
          359.344796522248,
          359.90008984781207,
          360.4553831733762,
          361.01067649894037,
          361.5659698245045,
          362.1212631500686,
          362.67655647563276,
          363.2318498011969,
          363.78714312676107,
          364.34243645232516,
          364.8977297778893,
          365.45302310345346,
          366.0083164290176,
          366.5636097545817,
          367.11890308014586,
          367.67419640571,
          368.22948973127416,
          368.78478305683825,
          369.3400763824024,
          369.89536970796655,
          370.4506630335307,
          371.0059563590948,
          371.56124968465895,
          372.1165430102231,
          372.67183633578725,
          373.22712966135134,
          373.7824229869155,
          374.33771631247964,
          374.8930096380438,
          375.4483029636079,
          376.00359628917204,
          376.5588896147362,
          377.11418294030034,
          377.66947626586443,
          378.2247695914286,
          378.78006291699273,
          379.3353562425569,
          379.890649568121,
          380.4459428936851,
          381.0012362192493,
          381.5565295448134,
          382.1118228703775,
          382.6671161959417,
          383.2224095215058,
          383.7777028470699,
          384.33299617263407,
          384.8882894981982,
          385.44358282376237,
          385.99887614932646,
          386.5541694748906,
          387.10946280045476,
          387.6647561260189,
          388.220049451583,
          388.77534277714716,
          389.3306361027113,
          389.88592942827546,
          390.44122275383955,
          390.9965160794037,
          391.55180940496786,
          392.107102730532,
          392.6623960560961,
          393.21768938166025,
          393.7729827072244,
          394.32827603278855,
          394.88356935835264,
          395.4388626839168,
          395.99415600948095,
          396.5494493350451,
          397.1047426606092,
          397.66003598617334,
          398.2153293117375,
          398.77062263730164,
          399.32591596286574,
          399.8812092884299,
          400.43650261399404,
          400.9917959395582,
          401.5470892651223,
          402.10238259068643,
          402.6576759162506,
          403.21296924181473,
          403.7682625673788,
          404.323555892943,
          404.8788492185071,
          405.4341425440712,
          405.9894358696354,
          406.5447291951995,
          407.1000225207637,
          407.65531584632777,
          408.2106091718919,
          408.76590249745607,
          409.3211958230202,
          409.8764891485843,
          410.43178247414846,
          410.9870757997126,
          411.54236912527676,
          412.09766245084086,
          412.652955776405,
          413.20824910196916,
          413.7635424275333,
          414.3188357530974,
          414.87412907866155,
          415.4294224042257,
          415.98471572978985,
          416.54000905535395,
          417.0953023809181,
          417.65059570648225,
          418.2058890320464,
          418.7611823576105,
          419.31647568317464,
          419.8717690087388,
          420.42706233430295,
          420.98235565986704,
          421.5376489854312,
          422.09294231099534,
          422.6482356365595,
          423.2035289621236,
          423.75882228768774,
          424.3141156132519,
          424.86940893881604,
          425.42470226438013,
          425.9799955899443,
          426.53528891550843,
          427.0905822410726,
          427.6458755666367,
          428.2011688922008,
          428.756462217765,
          429.31175554332907,
          429.8670488688932,
          430.42234219445737,
          430.9776355200215,
          431.5329288455856,
          432.08822217114977,
          432.6435154967139,
          433.19880882227807,
          433.75410214784216,
          434.3093954734063,
          434.86468879897046,
          435.4199821245346,
          435.9752754500987,
          436.53056877566286,
          437.085862101227,
          437.64115542679116,
          438.19644875235525,
          438.7517420779194,
          439.30703540348355,
          439.8623287290477,
          440.4176220546118,
          440.97291538017595,
          441.5282087057401,
          442.08350203130425,
          442.63879535686834,
          443.1940886824325,
          443.74938200799664,
          444.3046753335608
         ]
        }
       ],
       "layout": {
        "autosize": true,
        "plot_bgcolor": "white",
        "template": {
         "data": {
          "bar": [
           {
            "error_x": {
             "color": "#2a3f5f"
            },
            "error_y": {
             "color": "#2a3f5f"
            },
            "marker": {
             "line": {
              "color": "#E5ECF6",
              "width": 0.5
             },
             "pattern": {
              "fillmode": "overlay",
              "size": 10,
              "solidity": 0.2
             }
            },
            "type": "bar"
           }
          ],
          "barpolar": [
           {
            "marker": {
             "line": {
              "color": "#E5ECF6",
              "width": 0.5
             },
             "pattern": {
              "fillmode": "overlay",
              "size": 10,
              "solidity": 0.2
             }
            },
            "type": "barpolar"
           }
          ],
          "carpet": [
           {
            "aaxis": {
             "endlinecolor": "#2a3f5f",
             "gridcolor": "white",
             "linecolor": "white",
             "minorgridcolor": "white",
             "startlinecolor": "#2a3f5f"
            },
            "baxis": {
             "endlinecolor": "#2a3f5f",
             "gridcolor": "white",
             "linecolor": "white",
             "minorgridcolor": "white",
             "startlinecolor": "#2a3f5f"
            },
            "type": "carpet"
           }
          ],
          "choropleth": [
           {
            "colorbar": {
             "outlinewidth": 0,
             "ticks": ""
            },
            "type": "choropleth"
           }
          ],
          "contour": [
           {
            "colorbar": {
             "outlinewidth": 0,
             "ticks": ""
            },
            "colorscale": [
             [
              0,
              "#0d0887"
             ],
             [
              0.1111111111111111,
              "#46039f"
             ],
             [
              0.2222222222222222,
              "#7201a8"
             ],
             [
              0.3333333333333333,
              "#9c179e"
             ],
             [
              0.4444444444444444,
              "#bd3786"
             ],
             [
              0.5555555555555556,
              "#d8576b"
             ],
             [
              0.6666666666666666,
              "#ed7953"
             ],
             [
              0.7777777777777778,
              "#fb9f3a"
             ],
             [
              0.8888888888888888,
              "#fdca26"
             ],
             [
              1,
              "#f0f921"
             ]
            ],
            "type": "contour"
           }
          ],
          "contourcarpet": [
           {
            "colorbar": {
             "outlinewidth": 0,
             "ticks": ""
            },
            "type": "contourcarpet"
           }
          ],
          "heatmap": [
           {
            "colorbar": {
             "outlinewidth": 0,
             "ticks": ""
            },
            "colorscale": [
             [
              0,
              "#0d0887"
             ],
             [
              0.1111111111111111,
              "#46039f"
             ],
             [
              0.2222222222222222,
              "#7201a8"
             ],
             [
              0.3333333333333333,
              "#9c179e"
             ],
             [
              0.4444444444444444,
              "#bd3786"
             ],
             [
              0.5555555555555556,
              "#d8576b"
             ],
             [
              0.6666666666666666,
              "#ed7953"
             ],
             [
              0.7777777777777778,
              "#fb9f3a"
             ],
             [
              0.8888888888888888,
              "#fdca26"
             ],
             [
              1,
              "#f0f921"
             ]
            ],
            "type": "heatmap"
           }
          ],
          "heatmapgl": [
           {
            "colorbar": {
             "outlinewidth": 0,
             "ticks": ""
            },
            "colorscale": [
             [
              0,
              "#0d0887"
             ],
             [
              0.1111111111111111,
              "#46039f"
             ],
             [
              0.2222222222222222,
              "#7201a8"
             ],
             [
              0.3333333333333333,
              "#9c179e"
             ],
             [
              0.4444444444444444,
              "#bd3786"
             ],
             [
              0.5555555555555556,
              "#d8576b"
             ],
             [
              0.6666666666666666,
              "#ed7953"
             ],
             [
              0.7777777777777778,
              "#fb9f3a"
             ],
             [
              0.8888888888888888,
              "#fdca26"
             ],
             [
              1,
              "#f0f921"
             ]
            ],
            "type": "heatmapgl"
           }
          ],
          "histogram": [
           {
            "marker": {
             "pattern": {
              "fillmode": "overlay",
              "size": 10,
              "solidity": 0.2
             }
            },
            "type": "histogram"
           }
          ],
          "histogram2d": [
           {
            "colorbar": {
             "outlinewidth": 0,
             "ticks": ""
            },
            "colorscale": [
             [
              0,
              "#0d0887"
             ],
             [
              0.1111111111111111,
              "#46039f"
             ],
             [
              0.2222222222222222,
              "#7201a8"
             ],
             [
              0.3333333333333333,
              "#9c179e"
             ],
             [
              0.4444444444444444,
              "#bd3786"
             ],
             [
              0.5555555555555556,
              "#d8576b"
             ],
             [
              0.6666666666666666,
              "#ed7953"
             ],
             [
              0.7777777777777778,
              "#fb9f3a"
             ],
             [
              0.8888888888888888,
              "#fdca26"
             ],
             [
              1,
              "#f0f921"
             ]
            ],
            "type": "histogram2d"
           }
          ],
          "histogram2dcontour": [
           {
            "colorbar": {
             "outlinewidth": 0,
             "ticks": ""
            },
            "colorscale": [
             [
              0,
              "#0d0887"
             ],
             [
              0.1111111111111111,
              "#46039f"
             ],
             [
              0.2222222222222222,
              "#7201a8"
             ],
             [
              0.3333333333333333,
              "#9c179e"
             ],
             [
              0.4444444444444444,
              "#bd3786"
             ],
             [
              0.5555555555555556,
              "#d8576b"
             ],
             [
              0.6666666666666666,
              "#ed7953"
             ],
             [
              0.7777777777777778,
              "#fb9f3a"
             ],
             [
              0.8888888888888888,
              "#fdca26"
             ],
             [
              1,
              "#f0f921"
             ]
            ],
            "type": "histogram2dcontour"
           }
          ],
          "mesh3d": [
           {
            "colorbar": {
             "outlinewidth": 0,
             "ticks": ""
            },
            "type": "mesh3d"
           }
          ],
          "parcoords": [
           {
            "line": {
             "colorbar": {
              "outlinewidth": 0,
              "ticks": ""
             }
            },
            "type": "parcoords"
           }
          ],
          "pie": [
           {
            "automargin": true,
            "type": "pie"
           }
          ],
          "scatter": [
           {
            "fillpattern": {
             "fillmode": "overlay",
             "size": 10,
             "solidity": 0.2
            },
            "type": "scatter"
           }
          ],
          "scatter3d": [
           {
            "line": {
             "colorbar": {
              "outlinewidth": 0,
              "ticks": ""
             }
            },
            "marker": {
             "colorbar": {
              "outlinewidth": 0,
              "ticks": ""
             }
            },
            "type": "scatter3d"
           }
          ],
          "scattercarpet": [
           {
            "marker": {
             "colorbar": {
              "outlinewidth": 0,
              "ticks": ""
             }
            },
            "type": "scattercarpet"
           }
          ],
          "scattergeo": [
           {
            "marker": {
             "colorbar": {
              "outlinewidth": 0,
              "ticks": ""
             }
            },
            "type": "scattergeo"
           }
          ],
          "scattergl": [
           {
            "marker": {
             "colorbar": {
              "outlinewidth": 0,
              "ticks": ""
             }
            },
            "type": "scattergl"
           }
          ],
          "scattermapbox": [
           {
            "marker": {
             "colorbar": {
              "outlinewidth": 0,
              "ticks": ""
             }
            },
            "type": "scattermapbox"
           }
          ],
          "scatterpolar": [
           {
            "marker": {
             "colorbar": {
              "outlinewidth": 0,
              "ticks": ""
             }
            },
            "type": "scatterpolar"
           }
          ],
          "scatterpolargl": [
           {
            "marker": {
             "colorbar": {
              "outlinewidth": 0,
              "ticks": ""
             }
            },
            "type": "scatterpolargl"
           }
          ],
          "scatterternary": [
           {
            "marker": {
             "colorbar": {
              "outlinewidth": 0,
              "ticks": ""
             }
            },
            "type": "scatterternary"
           }
          ],
          "surface": [
           {
            "colorbar": {
             "outlinewidth": 0,
             "ticks": ""
            },
            "colorscale": [
             [
              0,
              "#0d0887"
             ],
             [
              0.1111111111111111,
              "#46039f"
             ],
             [
              0.2222222222222222,
              "#7201a8"
             ],
             [
              0.3333333333333333,
              "#9c179e"
             ],
             [
              0.4444444444444444,
              "#bd3786"
             ],
             [
              0.5555555555555556,
              "#d8576b"
             ],
             [
              0.6666666666666666,
              "#ed7953"
             ],
             [
              0.7777777777777778,
              "#fb9f3a"
             ],
             [
              0.8888888888888888,
              "#fdca26"
             ],
             [
              1,
              "#f0f921"
             ]
            ],
            "type": "surface"
           }
          ],
          "table": [
           {
            "cells": {
             "fill": {
              "color": "#EBF0F8"
             },
             "line": {
              "color": "white"
             }
            },
            "header": {
             "fill": {
              "color": "#C8D4E3"
             },
             "line": {
              "color": "white"
             }
            },
            "type": "table"
           }
          ]
         },
         "layout": {
          "annotationdefaults": {
           "arrowcolor": "#2a3f5f",
           "arrowhead": 0,
           "arrowwidth": 1
          },
          "autotypenumbers": "strict",
          "coloraxis": {
           "colorbar": {
            "outlinewidth": 0,
            "ticks": ""
           }
          },
          "colorscale": {
           "diverging": [
            [
             0,
             "#8e0152"
            ],
            [
             0.1,
             "#c51b7d"
            ],
            [
             0.2,
             "#de77ae"
            ],
            [
             0.3,
             "#f1b6da"
            ],
            [
             0.4,
             "#fde0ef"
            ],
            [
             0.5,
             "#f7f7f7"
            ],
            [
             0.6,
             "#e6f5d0"
            ],
            [
             0.7,
             "#b8e186"
            ],
            [
             0.8,
             "#7fbc41"
            ],
            [
             0.9,
             "#4d9221"
            ],
            [
             1,
             "#276419"
            ]
           ],
           "sequential": [
            [
             0,
             "#0d0887"
            ],
            [
             0.1111111111111111,
             "#46039f"
            ],
            [
             0.2222222222222222,
             "#7201a8"
            ],
            [
             0.3333333333333333,
             "#9c179e"
            ],
            [
             0.4444444444444444,
             "#bd3786"
            ],
            [
             0.5555555555555556,
             "#d8576b"
            ],
            [
             0.6666666666666666,
             "#ed7953"
            ],
            [
             0.7777777777777778,
             "#fb9f3a"
            ],
            [
             0.8888888888888888,
             "#fdca26"
            ],
            [
             1,
             "#f0f921"
            ]
           ],
           "sequentialminus": [
            [
             0,
             "#0d0887"
            ],
            [
             0.1111111111111111,
             "#46039f"
            ],
            [
             0.2222222222222222,
             "#7201a8"
            ],
            [
             0.3333333333333333,
             "#9c179e"
            ],
            [
             0.4444444444444444,
             "#bd3786"
            ],
            [
             0.5555555555555556,
             "#d8576b"
            ],
            [
             0.6666666666666666,
             "#ed7953"
            ],
            [
             0.7777777777777778,
             "#fb9f3a"
            ],
            [
             0.8888888888888888,
             "#fdca26"
            ],
            [
             1,
             "#f0f921"
            ]
           ]
          },
          "colorway": [
           "#636efa",
           "#EF553B",
           "#00cc96",
           "#ab63fa",
           "#FFA15A",
           "#19d3f3",
           "#FF6692",
           "#B6E880",
           "#FF97FF",
           "#FECB52"
          ],
          "font": {
           "color": "#2a3f5f"
          },
          "geo": {
           "bgcolor": "white",
           "lakecolor": "white",
           "landcolor": "#E5ECF6",
           "showlakes": true,
           "showland": true,
           "subunitcolor": "white"
          },
          "hoverlabel": {
           "align": "left"
          },
          "hovermode": "closest",
          "mapbox": {
           "style": "light"
          },
          "paper_bgcolor": "white",
          "plot_bgcolor": "#E5ECF6",
          "polar": {
           "angularaxis": {
            "gridcolor": "white",
            "linecolor": "white",
            "ticks": ""
           },
           "bgcolor": "#E5ECF6",
           "radialaxis": {
            "gridcolor": "white",
            "linecolor": "white",
            "ticks": ""
           }
          },
          "scene": {
           "xaxis": {
            "backgroundcolor": "#E5ECF6",
            "gridcolor": "white",
            "gridwidth": 2,
            "linecolor": "white",
            "showbackground": true,
            "ticks": "",
            "zerolinecolor": "white"
           },
           "yaxis": {
            "backgroundcolor": "#E5ECF6",
            "gridcolor": "white",
            "gridwidth": 2,
            "linecolor": "white",
            "showbackground": true,
            "ticks": "",
            "zerolinecolor": "white"
           },
           "zaxis": {
            "backgroundcolor": "#E5ECF6",
            "gridcolor": "white",
            "gridwidth": 2,
            "linecolor": "white",
            "showbackground": true,
            "ticks": "",
            "zerolinecolor": "white"
           }
          },
          "shapedefaults": {
           "line": {
            "color": "#2a3f5f"
           }
          },
          "ternary": {
           "aaxis": {
            "gridcolor": "white",
            "linecolor": "white",
            "ticks": ""
           },
           "baxis": {
            "gridcolor": "white",
            "linecolor": "white",
            "ticks": ""
           },
           "bgcolor": "#E5ECF6",
           "caxis": {
            "gridcolor": "white",
            "linecolor": "white",
            "ticks": ""
           }
          },
          "title": {
           "x": 0.05
          },
          "xaxis": {
           "automargin": true,
           "gridcolor": "white",
           "linecolor": "white",
           "ticks": "",
           "title": {
            "standoff": 15
           },
           "zerolinecolor": "white",
           "zerolinewidth": 2
          },
          "yaxis": {
           "automargin": true,
           "gridcolor": "white",
           "linecolor": "white",
           "ticks": "",
           "title": {
            "standoff": 15
           },
           "zerolinecolor": "white",
           "zerolinewidth": 2
          }
         }
        },
        "title": {
         "text": "Usage count of top tags vs the number of accounts using them"
        },
        "xaxis": {
         "autorange": true,
         "range": [
          -47.54348870735224,
          811.5434887073523
         ],
         "title": {
          "font": {
           "size": 18
          },
          "text": "Usage Count"
         },
         "type": "linear"
        },
        "yaxis": {
         "autorange": true,
         "range": [
          -40.10679611650485,
          526.1067961165048
         ],
         "title": {
          "font": {
           "size": 18
          },
          "text": "Accounts using"
         },
         "type": "linear"
        }
       }
      },
      "image/png": "[encoded data removed]",
      "text/html": [
       "<div>                            <div id=\"f86bd2e9-caa1-42bd-85aa-1eb533963348\" class=\"plotly-graph-div\" style=\"height:525px; width:100%;\"></div>            <script type=\"text/javascript\">                require([\"plotly\"], function(Plotly) {                    window.PLOTLYENV=window.PLOTLYENV || {};                                    if (document.getElementById(\"f86bd2e9-caa1-42bd-85aa-1eb533963348\")) {                    Plotly.newPlot(                        \"f86bd2e9-caa1-42bd-85aa-1eb533963348\",                        [{\"mode\":\"markers\",\"name\":\"The values from the dataset\",\"x\":[226,2,2,2,1,0,9,214,11,3,0,0,1,2,87,3,2,0,0,0,18,62,2,2,1,5,0,5,157,0,0,0,0,0,0,45,0,0,0,0,0,0,46,0,0,0,0,0,0,40,0,0,0,0,0,0,32,1,1,0,1,0,3,36,0,0,0,0,0,0,764,325,371,161,171,160,216,58,0,0,79,19,5,61,594,172,123,97,45,23,12,63,7,2,0,1,1,0,19,0,0,0,0,0,0,107,11,1,0,1,0,0,293,130,210,12,7,5,12,23,1,3,0,0,3,1,46,2,0,0,0,0,0,21,1,0,0,0,0,0],\"y\":[92,2,2,1,1,0,9,149,8,2,0,0,1,2,81,3,2,0,0,0,9,42,1,2,1,2,0,2,60,0,0,0,0,0,0,40,0,0,0,0,0,0,37,0,0,0,0,0,0,35,0,0,0,0,0,0,28,1,1,0,1,0,3,26,0,0,0,0,0,0,486,158,138,96,111,91,121,52,0,0,31,7,4,42,326,118,76,57,35,17,12,39,3,2,0,1,1,0,19,0,0,0,0,0,0,96,11,1,0,1,0,0,154,42,31,7,4,5,7,18,1,3,0,0,3,1,23,2,0,0,0,0,0,20,1,0,0,0,0,0],\"type\":\"scatter\"},{\"name\":\"The regression model without a constant\",\"x\":[0,1,2,3,4,5,6,7,8,9,10,11,12,13,14,15,16,17,18,19,20,21,22,23,24,25,26,27,28,29,30,31,32,33,34,35,36,37,38,39,40,41,42,43,44,45,46,47,48,49,50,51,52,53,54,55,56,57,58,59,60,61,62,63,64,65,66,67,68,69,70,71,72,73,74,75,76,77,78,79,80,81,82,83,84,85,86,87,88,89,90,91,92,93,94,95,96,97,98,99,100,101,102,103,104,105,106,107,108,109,110,111,112,113,114,115,116,117,118,119,120,121,122,123,124,125,126,127,128,129,130,131,132,133,134,135,136,137,138,139,140,141,142,143,144,145,146,147,148,149,150,151,152,153,154,155,156,157,158,159,160,161,162,163,164,165,166,167,168,169,170,171,172,173,174,175,176,177,178,179,180,181,182,183,184,185,186,187,188,189,190,191,192,193,194,195,196,197,198,199,200,201,202,203,204,205,206,207,208,209,210,211,212,213,214,215,216,217,218,219,220,221,222,223,224,225,226,227,228,229,230,231,232,233,234,235,236,237,238,239,240,241,242,243,244,245,246,247,248,249,250,251,252,253,254,255,256,257,258,259,260,261,262,263,264,265,266,267,268,269,270,271,272,273,274,275,276,277,278,279,280,281,282,283,284,285,286,287,288,289,290,291,292,293,294,295,296,297,298,299,300,301,302,303,304,305,306,307,308,309,310,311,312,313,314,315,316,317,318,319,320,321,322,323,324,325,326,327,328,329,330,331,332,333,334,335,336,337,338,339,340,341,342,343,344,345,346,347,348,349,350,351,352,353,354,355,356,357,358,359,360,361,362,363,364,365,366,367,368,369,370,371,372,373,374,375,376,377,378,379,380,381,382,383,384,385,386,387,388,389,390,391,392,393,394,395,396,397,398,399,400,401,402,403,404,405,406,407,408,409,410,411,412,413,414,415,416,417,418,419,420,421,422,423,424,425,426,427,428,429,430,431,432,433,434,435,436,437,438,439,440,441,442,443,444,445,446,447,448,449,450,451,452,453,454,455,456,457,458,459,460,461,462,463,464,465,466,467,468,469,470,471,472,473,474,475,476,477,478,479,480,481,482,483,484,485,486,487,488,489,490,491,492,493,494,495,496,497,498,499,500,501,502,503,504,505,506,507,508,509,510,511,512,513,514,515,516,517,518,519,520,521,522,523,524,525,526,527,528,529,530,531,532,533,534,535,536,537,538,539,540,541,542,543,544,545,546,547,548,549,550,551,552,553,554,555,556,557,558,559,560,561,562,563,564,565,566,567,568,569,570,571,572,573,574,575,576,577,578,579,580,581,582,583,584,585,586,587,588,589,590,591,592,593,594,595,596,597,598,599,600,601,602,603,604,605,606,607,608,609,610,611,612,613,614,615,616,617,618,619,620,621,622,623,624,625,626,627,628,629,630,631,632,633,634,635,636,637,638,639,640,641,642,643,644,645,646,647,648,649,650,651,652,653,654,655,656,657,658,659,660,661,662,663,664,665,666,667,668,669,670,671,672,673,674,675,676,677,678,679,680,681,682,683,684,685,686,687,688,689,690,691,692,693,694,695,696,697,698,699,700,701,702,703,704,705,706,707,708,709,710,711,712,713,714,715,716,717,718,719,720,721,722,723,724,725,726,727,728,729,730,731,732,733,734,735,736,737,738,739,740,741,742,743,744,745,746,747,748,749,750,751,752,753,754,755,756,757,758,759,760,761,762,763,764,765,766,767,768,769,770,771,772,773,774,775,776,777,778,779,780,781,782,783,784,785,786,787,788,789,790,791,792,793,794,795,796,797,798,799],\"y\":[0.0,0.5573191256357307,1.1146382512714614,1.671957376907192,2.229276502542923,2.7865956281786537,3.343914753814384,3.901233879450115,4.458553005085846,5.015872130721577,5.573191256357307,6.130510381993038,6.687829507628768,7.245148633264499,7.80246775890023,8.35978688453596,8.917106010171691,9.474425135807422,10.031744261443153,10.589063387078884,11.146382512714615,11.703701638350346,12.261020763986076,12.818339889621807,13.375659015257536,13.932978140893267,14.490297266528998,15.047616392164729,15.60493551780046,16.162254643436192,16.71957376907192,17.276892894707654,17.834212020343383,18.391531145979112,18.948850271614845,19.506169397250574,20.063488522886306,20.620807648522035,21.178126774157768,21.735445899793497,22.29276502542923,22.85008415106496,23.40740327670069,23.96472240233642,24.522041527972153,25.079360653607882,25.636679779243615,26.193998904879344,26.751318030515073,27.308637156150805,27.865956281786534,28.423275407422267,28.980594533057996,29.53791365869373,30.095232784329458,30.65255190996519,31.20987103560092,31.767190161236652,32.324509286872384,32.88182841250811,33.43914753814384,33.99646666377957,34.55378578941531,35.11110491505104,35.668424040686766,36.225743166322495,36.783062291958224,37.34038141759396,37.89770054322969,38.45501966886542,39.01233879450115,39.56965792013688,40.12697704577261,40.68429617140834,41.24161529704407,41.79893442267981,42.356253548315536,42.913572673951265,43.470891799586994,44.02821092522273,44.58553005085846,45.14284917649419,45.70016830212992,46.257487427765646,46.81480655340138,47.37212567903711,47.92944480467284,48.48676393030857,49.044083055944306,49.601402181580035,50.158721307215764,50.71604043285149,51.27335955848723,51.83067868412296,52.38799780975869,52.945316935394416,53.502636061030145,54.05995518666588,54.61727431230161,55.17459343793734,55.73191256357307,56.289231689208805,56.846550814844534,57.40386994048026,57.96118906611599,58.51850819175173,59.07582731738746,59.633146443023186,60.190465568658915,60.74778469429465,61.30510381993038,61.86242294556611,62.41974207120184,62.97706119683757,63.534380322473304,64.09169944810903,64.64901857374477,65.2063376993805,65.76365682501623,66.32097595065196,66.87829507628769,67.43561420192341,67.99293332755914,68.55025245319487,69.10757157883062,69.66489070446634,70.22220983010207,70.7795289557378,71.33684808137353,71.89416720700926,72.45148633264499,73.00880545828072,73.56612458391645,74.12344370955219,74.68076283518792,75.23808196082365,75.79540108645938,76.35272021209511,76.91003933773084,77.46735846336657,78.0246775890023,78.58199671463804,79.13931584027377,79.6966349659095,80.25395409154522,80.81127321718095,81.36859234281668,81.92591146845241,82.48323059408814,83.04054971972387,83.59786884535961,84.15518797099534,84.71250709663107,85.2698262222668,85.82714534790253,86.38446447353826,86.94178359917399,87.49910272480972,88.05642185044546,88.61374097608119,89.17106010171692,89.72837922735265,90.28569835298838,90.8430174786241,91.40033660425983,91.95765572989556,92.51497485553129,93.07229398116704,93.62961310680276,94.1869322324385,94.74425135807422,95.30157048370995,95.85888960934568,96.41620873498141,96.97352786061714,97.53084698625288,98.08816611188861,98.64548523752434,99.20280436316007,99.7601234887958,100.31744261443153,100.87476174006726,101.43208086570299,101.98939999133871,102.54671911697446,103.10403824261019,103.66135736824592,104.21867649388165,104.77599561951737,105.3333147451531,105.89063387078883,106.44795299642456,107.00527212206029,107.56259124769603,108.11991037333176,108.67722949896749,109.23454862460322,109.79186775023895,110.34918687587468,110.90650600151041,111.46382512714614,112.02114425278188,112.57846337841761,113.13578250405334,113.69310162968907,114.2504207553248,114.80773988096053,115.36505900659625,115.92237813223198,116.47969725786771,117.03701638350346,117.59433550913919,118.15165463477491,118.70897376041064,119.26629288604637,119.8236120116821,120.38093113731783,120.93825026295356,121.4955693885893,122.05288851422503,122.61020763986076,123.16752676549649,123.72484589113222,124.28216501676795,124.83948414240368,125.3968032680394,125.95412239367514,126.51144151931088,127.06876064494661,127.62607977058234,128.18339889621805,128.7407180218538,129.29803714748954,129.85535627312527,130.412675398761,130.96999452439672,131.52731365003245,132.08463277566818,132.6419519013039,133.19927102693964,133.75659015257537,134.3139092782111,134.87122840384683,135.42854752948256,135.9858666551183,136.54318578075402,137.10050490638974,137.65782403202547,138.21514315766123,138.77246228329696,139.3297814089327,139.88710053456842,140.44441966020415,141.00173878583988,141.5590579114756,142.11637703711133,142.67369616274706,143.2310152883828,143.78833441401852,144.34565353965425,144.90297266528998,145.4602917909257,146.01761091656144,146.57493004219717,147.1322491678329,147.68956829346865,148.24688741910438,148.8042065447401,149.36152567037584,149.91884479601157,150.4761639216473,151.03348304728303,151.59080217291876,152.14812129855449,152.70544042419021,153.26275954982594,153.82007867546167,154.3773978010974,154.93471692673313,155.49203605236886,156.0493551780046,156.60667430364032,157.16399342927608,157.7213125549118,158.27863168054753,158.83595080618326,159.393269931819,159.95058905745472,160.50790818309045,161.06522730872618,161.6225464343619,162.17986555999764,162.73718468563337,163.2945038112691,163.85182293690482,164.40914206254055,164.96646118817628,165.523780313812,166.08109943944774,166.6384185650835,167.19573769071923,167.75305681635496,168.31037594199069,168.8676950676264,169.42501419326214,169.98233331889787,170.5396524445336,171.09697157016933,171.65429069580506,172.2116098214408,172.76892894707652,173.32624807271225,173.88356719834798,174.4408863239837,174.99820544961943,175.55552457525516,176.11284370089092,176.67016282652665,177.22748195216238,177.7848010777981,178.34212020343384,178.89943932906957,179.4567584547053,180.01407758034102,180.57139670597675,181.12871583161248,181.6860349572482,182.24335408288394,182.80067320851967,183.3579923341554,183.91531145979113,184.47263058542686,185.02994971106259,185.58726883669834,186.14458796233407,186.7019070879698,187.25922621360553,187.81654533924126,188.373864464877,188.93118359051272,189.48850271614845,190.04582184178417,190.6031409674199,191.16046009305563,191.71777921869136,192.2750983443271,192.83241746996282,193.38973659559855,193.94705572123428,194.50437484687,195.06169397250576,195.6190130981415,196.17633222377722,196.73365134941295,197.29097047504868,197.8482896006844,198.40560872632014,198.96292785195587,199.5202469775916,200.07756610322733,200.63488522886306,201.19220435449878,201.7495234801345,202.30684260577024,202.86416173140597,203.4214808570417,203.97879998267743,204.5361191083132,205.09343823394892,205.65075735958465,206.20807648522037,206.7653956108561,207.32271473649183,207.88003386212756,208.4373529877633,208.99467211339902,209.55199123903475,210.10931036467048,210.6666294903062,211.22394861594194,211.78126774157766,212.3385868672134,212.89590599284912,213.45322511848485,214.01054424412058,214.56786336975634,215.12518249539207,215.6825016210278,216.23982074666353,216.79713987229925,217.35445899793498,217.9117781235707,218.46909724920644,219.02641637484217,219.5837355004779,220.14105462611363,220.69837375174936,221.2556928773851,221.81301200302082,222.37033112865655,222.92765025429227,223.484969379928,224.04228850556376,224.5996076311995,225.15692675683522,225.71424588247095,226.27156500810668,226.8288841337424,227.38620325937814,227.94352238501386,228.5008415106496,229.05816063628532,229.61547976192105,230.17279888755678,230.7301180131925,231.28743713882824,231.84475626446397,232.4020753900997,232.95939451573543,233.51671364137118,234.0740327670069,234.63135189264264,235.18867101827837,235.7459901439141,236.30330926954983,236.86062839518556,237.4179475208213,237.97526664645702,238.53258577209274,239.08990489772847,239.6472240233642,240.20454314899993,240.76186227463566,241.3191814002714,241.87650052590712,242.43381965154285,242.9911387771786,243.54845790281433,244.10577702845006,244.6630961540858,245.22041527972152,245.77773440535725,246.33505353099298,246.8923726566287,247.44969178226444,248.00701090790017,248.5643300335359,249.12164915917162,249.67896828480735,250.23628741044308,250.7936065360788,251.35092566171454,251.90824478735027,252.46556391298603,253.02288303862176,253.58020216425749,254.13752128989321,254.69484041552894,255.25215954116467,255.8094786668004,256.3667977924361,256.9241169180719,257.4814360437076,258.03875516934335,258.5960742949791,259.1533934206148,259.71071254625053,260.26803167188626,260.825350797522,261.3826699231577,261.93998904879345,262.4973081744292,263.0546273000649,263.61194642570064,264.16926555133637,264.7265846769721,265.2839038026078,265.84122292824355,266.3985420538793,266.955861179515,267.51318030515074,268.07049943078647,268.6278185564222,269.1851376820579,269.74245680769366,270.2997759333294,270.8570950589651,271.41441418460084,271.9717333102366,272.5290524358723,273.08637156150803,273.64369068714376,274.2010098127795,274.7583289384152,275.31564806405095,275.87296718968673,276.43028631532246,276.9876054409582,277.5449245665939,278.10224369222965,278.6595628178654,279.2168819435011,279.77420106913684,280.33152019477257,280.8888393204083,281.446158446044,282.00347757167975,282.5607966973155,283.1181158229512,283.67543494858694,284.23275407422267,284.7900731998584,285.3473923254941,285.90471145112986,286.4620305767656,287.0193497024013,287.57666882803704,288.1339879536728,288.6913070793085,289.24862620494423,289.80594533057996,290.3632644562157,290.9205835818514,291.47790270748715,292.0352218331229,292.5925409587586,293.14986008439433,293.70717921003006,294.2644983356658,294.8218174613015,295.3791365869373,295.93645571257304,296.49377483820876,297.0510939638445,297.6084130894802,298.16573221511595,298.7230513407517,299.2803704663874,299.83768959202314,300.39500871765887,300.9523278432946,301.5096469689303,302.06696609456606,302.6242852202018,303.1816043458375,303.73892347147324,304.29624259710897,304.8535617227447,305.41088084838043,305.96819997401616,306.5255190996519,307.0828382252876,307.64015735092335,308.1974764765591,308.7547956021948,309.31211472783053,309.86943385346626,310.426752979102,310.9840721047377,311.54139123037345,312.0987103560092,312.6560294816449,313.21334860728064,313.77066773291637,314.32798685855215,314.8853059841879,315.4426251098236,315.99994423545934,316.55726336109507,317.1145824867308,317.6719016123665,318.22922073800225,318.786539863638,319.3438589892737,319.90117811490944,320.45849724054517,321.0158163661809,321.57313549181663,322.13045461745236,322.6877737430881,323.2450928687238,323.80241199435955,324.3597311199953,324.917050245631,325.47436937126673,326.03168849690246,326.5890076225382,327.1463267481739,327.70364587380965,328.2609649994454,328.8182841250811,329.37560325071684,329.93292237635256,330.4902415019883,331.047560627624,331.60487975325975,332.1621988788955,332.7195180045312,333.276837130167,333.8341562558027,334.39147538143845,334.9487945070742,335.5061136327099,336.06343275834564,336.62075188398137,337.1780710096171,337.7353901352528,338.29270926088856,338.8500283865243,339.40734751216,339.96466663779574,340.5219857634315,341.0793048890672,341.63662401470293,342.19394314033866,342.7512622659744,343.3085813916101,343.86590051724585,344.4232196428816,344.9805387685173,345.53785789415303,346.09517701978876,346.6524961454245,347.2098152710602,347.76713439669595,348.3244535223317,348.8817726479674,349.43909177360314,349.99641089923887,350.5537300248746,351.1110491505103,351.66836827614605,352.22568740178184,352.78300652741757,353.3403256530533,353.897644778689,354.45496390432476,355.0122830299605,355.5696021555962,356.12692128123194,356.6842404068677,357.2415595325034,357.79887865813913,358.35619778377486,358.9135169094106,359.4708360350463,360.02815516068205,360.5854742863178,361.1427934119535,361.70011253758923,362.25743166322496,362.8147507888607,363.3720699144964,363.92938904013215,364.4867081657679,365.0440272914036,365.60134641703934,366.15866554267507,366.7159846683108,367.2733037939465,367.83062291958225,368.387942045218,368.9452611708537,369.50258029648944,370.05989942212517,370.6172185477609,371.1745376733967,371.7318567990324,372.28917592466814,372.8464950503039,373.4038141759396,373.96113330157533,374.51845242721106,375.0757715528468,375.6330906784825,376.19040980411825,376.747728929754,377.3050480553897,377.86236718102543,378.41968630666116,378.9770054322969,379.5343245579326,380.09164368356835,380.6489628092041,381.2062819348398,381.76360106047554,382.32092018611127,382.878239311747,383.4355584373827,383.99287756301845,384.5501966886542,385.1075158142899,385.66483493992564,386.22215406556137,386.7794731911971,387.3367923168328,387.89411144246856,388.4514305681043,389.00874969374,389.56606881937574,390.12338794501153,390.68070707064726,391.238026196283,391.7953453219187,392.35266444755445,392.9099835731902,393.4673026988259,394.02462182446163,394.58194095009736,395.1392600757331,395.6965792013688,396.25389832700455,396.8112174526403,397.368536578276,397.92585570391174,398.48317482954747,399.0404939551832,399.5978130808189,400.15513220645465,400.7124513320904,401.2697704577261,401.82708958336184,402.38440870899757,402.9417278346333,403.499046960269,404.05636608590476,404.6136852115405,405.1710043371762,405.72832346281194,406.2856425884477,406.8429617140834,407.40028083971913,407.95759996535486,408.5149190909906,409.0722382166264,409.6295573422621,410.18687646789783,410.74419559353356,411.3015147191693,411.858833844805,412.41615297044075,412.9734720960765,413.5307912217122,414.08811034734794,414.64542947298366,415.2027485986194,415.7600677242551,416.31738684989085,416.8747059755266,417.4320251011623,417.98934422679804,418.54666335243377,419.1039824780695,419.6613016037052,420.21862072934096,420.7759398549767,421.3332589806124,421.89057810624814,422.44789723188387,423.0052163575196,423.56253548315533,424.11985460879106,424.6771737344268,425.2344928600625,425.79181198569825,426.349131111334,426.9064502369697,427.46376936260543,428.02108848824116,428.57840761387695,429.1357267395127,429.6930458651484,430.25036499078413,430.80768411641986,431.3650032420556,431.9223223676913,432.47964149332705,433.0369606189628,433.5942797445985,434.15159887023424,434.70891799586997,435.2662371215057,435.8235562471414,436.38087537277715,436.9381944984129,437.4955136240486,438.05283274968434,438.61015187532007,439.1674710009558,439.72479012659153,440.28210925222726,440.839428377863,441.3967475034987,441.95406662913445,442.5113857547702,443.0687048804059,443.62602400604163,444.18334313167736,444.7406622573131,445.2979813829488],\"type\":\"scatter\"},{\"name\":\"The regression model with a constant\",\"x\":[0,1,2,3,4,5,6,7,8,9,10,11,12,13,14,15,16,17,18,19,20,21,22,23,24,25,26,27,28,29,30,31,32,33,34,35,36,37,38,39,40,41,42,43,44,45,46,47,48,49,50,51,52,53,54,55,56,57,58,59,60,61,62,63,64,65,66,67,68,69,70,71,72,73,74,75,76,77,78,79,80,81,82,83,84,85,86,87,88,89,90,91,92,93,94,95,96,97,98,99,100,101,102,103,104,105,106,107,108,109,110,111,112,113,114,115,116,117,118,119,120,121,122,123,124,125,126,127,128,129,130,131,132,133,134,135,136,137,138,139,140,141,142,143,144,145,146,147,148,149,150,151,152,153,154,155,156,157,158,159,160,161,162,163,164,165,166,167,168,169,170,171,172,173,174,175,176,177,178,179,180,181,182,183,184,185,186,187,188,189,190,191,192,193,194,195,196,197,198,199,200,201,202,203,204,205,206,207,208,209,210,211,212,213,214,215,216,217,218,219,220,221,222,223,224,225,226,227,228,229,230,231,232,233,234,235,236,237,238,239,240,241,242,243,244,245,246,247,248,249,250,251,252,253,254,255,256,257,258,259,260,261,262,263,264,265,266,267,268,269,270,271,272,273,274,275,276,277,278,279,280,281,282,283,284,285,286,287,288,289,290,291,292,293,294,295,296,297,298,299,300,301,302,303,304,305,306,307,308,309,310,311,312,313,314,315,316,317,318,319,320,321,322,323,324,325,326,327,328,329,330,331,332,333,334,335,336,337,338,339,340,341,342,343,344,345,346,347,348,349,350,351,352,353,354,355,356,357,358,359,360,361,362,363,364,365,366,367,368,369,370,371,372,373,374,375,376,377,378,379,380,381,382,383,384,385,386,387,388,389,390,391,392,393,394,395,396,397,398,399,400,401,402,403,404,405,406,407,408,409,410,411,412,413,414,415,416,417,418,419,420,421,422,423,424,425,426,427,428,429,430,431,432,433,434,435,436,437,438,439,440,441,442,443,444,445,446,447,448,449,450,451,452,453,454,455,456,457,458,459,460,461,462,463,464,465,466,467,468,469,470,471,472,473,474,475,476,477,478,479,480,481,482,483,484,485,486,487,488,489,490,491,492,493,494,495,496,497,498,499,500,501,502,503,504,505,506,507,508,509,510,511,512,513,514,515,516,517,518,519,520,521,522,523,524,525,526,527,528,529,530,531,532,533,534,535,536,537,538,539,540,541,542,543,544,545,546,547,548,549,550,551,552,553,554,555,556,557,558,559,560,561,562,563,564,565,566,567,568,569,570,571,572,573,574,575,576,577,578,579,580,581,582,583,584,585,586,587,588,589,590,591,592,593,594,595,596,597,598,599,600,601,602,603,604,605,606,607,608,609,610,611,612,613,614,615,616,617,618,619,620,621,622,623,624,625,626,627,628,629,630,631,632,633,634,635,636,637,638,639,640,641,642,643,644,645,646,647,648,649,650,651,652,653,654,655,656,657,658,659,660,661,662,663,664,665,666,667,668,669,670,671,672,673,674,675,676,677,678,679,680,681,682,683,684,685,686,687,688,689,690,691,692,693,694,695,696,697,698,699,700,701,702,703,704,705,706,707,708,709,710,711,712,713,714,715,716,717,718,719,720,721,722,723,724,725,726,727,728,729,730,731,732,733,734,735,736,737,738,739,740,741,742,743,744,745,746,747,748,749,750,751,752,753,754,755,756,757,758,759,760,761,762,763,764,765,766,767,768,769,770,771,772,773,774,775,776,777,778,779,780,781,782,783,784,785,786,787,788,789,790,791,792,793,794,795,796,797,798,799],\"y\":[0.6253082078160803,1.1806015333802162,1.7358948589443524,2.2911881845084885,2.8464815100726244,3.4017748356367603,3.9570681612008967,4.512361486765032,5.0676548123291685,5.622948137893305,6.17824146345744,6.733534789021577,7.288828114585713,7.8441214401498485,8.399414765713985,8.954708091278121,9.510001416842258,10.065294742406394,10.62058806797053,11.175881393534663,11.7311747190988,12.286468044662936,12.841761370227072,13.397054695791208,13.952348021355345,14.507641346919481,15.062934672483618,15.618227998047754,16.17352132361189,16.728814649176023,17.28410797474016,17.839401300304296,18.394694625868432,18.94998795143257,19.505281276996705,20.06057460256084,20.615867928124977,21.171161253689114,21.726454579253247,22.281747904817383,22.83704123038152,23.392334555945656,23.947627881509792,24.50292120707393,25.058214532638065,25.6135078582022,26.168801183766337,26.724094509330474,27.27938783489461,27.834681160458743,28.38997448602288,28.945267811587016,29.500561137151152,30.05585446271529,30.611147788279425,31.16644111384356,31.721734439407697,32.277027764971834,32.83232109053597,33.38761441610011,33.94290774166424,34.49820106722838,35.053494392792516,35.60878771835665,36.16408104392079,36.719374369484925,37.27466769504906,37.8299610206132,38.385254346177334,38.94054767174147,39.495840997305606,40.05113432286974,40.60642764843388,41.161720973998015,41.71701429956215,42.27230762512628,42.82760095069042,43.382894276254554,43.93818760181869,44.49348092738283,45.04877425294696,45.6040675785111,46.159360904075236,46.71465422963937,47.26994755520351,47.825240880767645,48.38053420633178,48.93582753189592,49.491120857460054,50.04641418302419,50.601707508588326,51.15700083415246,51.7122941597166,52.267587485280735,52.82288081084487,53.37817413640901,53.933467461973144,54.488760787537274,55.04405411310141,55.599347438665546,56.15464076422968,56.70993408979382,57.265227415357955,57.82052074092209,58.37581406648623,58.931107392050365,59.4864007176145,60.04169404317864,60.596987368742774,61.15228069430691,61.707574019871046,62.26286734543518,62.81816067099932,63.373453996563455,63.92874732212759,64.48404064769173,65.03933397325585,65.59462729881999,66.14992062438412,66.70521394994826,67.2605072755124,67.81580060107653,68.37109392664067,68.9263872522048,69.48168057776894,70.03697390333308,70.59226722889721,71.14756055446135,71.70285388002549,72.25814720558962,72.81344053115376,73.3687338567179,73.92402718228203,74.47932050784617,75.0346138334103,75.58990715897444,76.14520048453858,76.70049381010271,77.25578713566685,77.81108046123099,78.36637378679512,78.92166711235926,79.4769604379234,80.03225376348753,80.58754708905167,81.1428404146158,81.69813374017994,82.25342706574408,82.80872039130821,83.36401371687235,83.91930704243647,84.47460036800061,85.02989369356474,85.58518701912888,86.14048034469302,86.69577367025715,87.25106699582129,87.80636032138543,88.36165364694956,88.9169469725137,89.47224029807784,90.02753362364197,90.58282694920611,91.13812027477024,91.69341360033438,92.24870692589852,92.80400025146265,93.35929357702679,93.91458690259093,94.46988022815506,95.0251735537192,95.58046687928334,96.13576020484747,96.69105353041161,97.24634685597574,97.80164018153988,98.35693350710402,98.91222683266815,99.46752015823229,100.02281348379643,100.57810680936056,101.1334001349247,101.68869346048884,102.24398678605297,102.79928011161711,103.35457343718124,103.90986676274538,104.46516008830952,105.02045341387365,105.57574673943779,106.13104006500193,106.68633339056606,107.2416267161302,107.79692004169432,108.35221336725846,108.9075066928226,109.46280001838673,110.01809334395087,110.573386669515,111.12867999507914,111.68397332064328,112.23926664620741,112.79455997177155,113.34985329733568,113.90514662289982,114.46043994846396,115.0157332740281,115.57102659959223,116.12631992515637,116.6816132507205,117.23690657628464,117.79219990184878,118.34749322741291,118.90278655297705,119.45807987854118,120.01337320410532,120.56866652966946,121.1239598552336,121.67925318079773,122.23454650636187,122.789839831926,123.34513315749014,123.90042648305428,124.45571980861841,125.01101313418255,125.56630645974668,126.12159978531082,126.67689311087496,127.2321864364391,127.78747976200323,128.34277308756737,128.89806641313152,129.45335973869564,130.0086530642598,130.5639463898239,131.11923971538806,131.67453304095218,132.22982636651633,132.78511969208046,133.3404130176446,133.89570634320873,134.45099966877288,135.006292994337,135.56158631990115,136.11687964546527,136.67217297102943,137.22746629659355,137.7827596221577,138.33805294772182,138.89334627328597,139.4486395988501,140.00393292441424,140.55922624997837,141.11451957554252,141.66981290110664,142.2251062266708,142.7803995522349,143.33569287779903,143.89098620336318,144.4462795289273,145.00157285449146,145.55686618005558,146.11215950561973,146.66745283118385,147.222746156748,147.77803948231212,148.33333280787627,148.8886261334404,149.44391945900455,149.99921278456867,150.55450611013282,151.10979943569694,151.6650927612611,152.22038608682521,152.77567941238937,153.3309727379535,153.88626606351764,154.44155938908176,154.9968527146459,155.55214604021003,156.10743936577418,156.6627326913383,157.21802601690246,157.77331934246658,158.32861266803073,158.88390599359485,159.439199319159,159.99449264472312,160.54978597028727,161.1050792958514,161.66037262141555,162.21566594697967,162.77095927254382,163.32625259810794,163.8815459236721,164.43683924923621,164.99213257480037,165.5474259003645,166.10271922592864,166.65801255149276,167.21330587705688,167.76859920262103,168.32389252818516,168.8791858537493,169.43447917931343,169.98977250487758,170.5450658304417,171.10035915600585,171.65565248156997,172.21094580713412,172.76623913269825,173.3215324582624,173.87682578382652,174.43211910939067,174.9874124349548,175.54270576051894,176.09799908608306,176.65329241164721,177.20858573721134,177.7638790627755,178.3191723883396,178.87446571390376,179.42975903946788,179.98505236503203,180.54034569059615,181.0956390161603,181.65093234172443,182.20622566728858,182.7615189928527,183.31681231841685,183.87210564398097,184.42739896954512,184.98269229510925,185.5379856206734,186.09327894623752,186.64857227180167,187.2038655973658,187.75915892292994,188.31445224849406,188.86974557405821,189.42503889962234,189.9803322251865,190.5356255507506,191.09091887631473,191.64621220187888,192.201505527443,192.75679885300715,193.31209217857128,193.86738550413543,194.42267882969955,194.9779721552637,195.53326548082782,196.08855880639197,196.6438521319561,197.19914545752025,197.75443878308437,198.30973210864852,198.86502543421264,199.4203187597768,199.9756120853409,200.53090541090506,201.08619873646919,201.64149206203334,202.19678538759746,202.7520787131616,203.30737203872573,203.86266536428988,204.417958689854,204.97325201541815,205.52854534098228,206.08383866654643,206.63913199211055,207.1944253176747,207.74971864323882,208.30501196880297,208.8603052943671,209.41559861993125,209.97089194549537,210.52618527105952,211.08147859662364,211.6367719221878,212.1920652477519,212.74735857331606,213.30265189888019,213.85794522444434,214.41323855000846,214.96853187557258,215.52382520113673,216.07911852670085,216.634411852265,217.18970517782913,217.74499850339328,218.3002918289574,218.85558515452155,219.41087848008567,219.96617180564982,220.52146513121394,221.0767584567781,221.63205178234222,222.18734510790637,222.7426384334705,223.29793175903464,223.85322508459876,224.4085184101629,224.96381173572703,225.51910506129119,226.0743983868553,226.62969171241946,227.18498503798358,227.74027836354773,228.29557168911185,228.850865014676,229.40615834024013,229.96145166580428,230.5167449913684,231.07203831693255,231.62733164249667,232.18262496806082,232.73791829362494,233.2932116191891,233.84850494475322,234.40379827031737,234.9590915958815,235.51438492144564,236.06967824700976,236.6249715725739,237.18026489813803,237.73555822370216,238.2908515492663,238.84614487483043,239.40143820039458,239.9567315259587,240.51202485152285,241.06731817708697,241.62261150265113,242.17790482821525,242.7331981537794,243.28849147934352,243.84378480490767,244.3990781304718,244.95437145603594,245.50966478160007,246.06495810716422,246.62025143272834,247.1755447582925,247.7308380838566,248.28613140942076,248.84142473498488,249.39671806054903,249.95201138611316,250.5073047116773,251.06259803724143,251.61789136280558,252.1731846883697,252.72847801393385,253.28377133949797,253.83906466506212,254.39435799062625,254.9496513161904,255.50494464175452,256.06023796731864,256.6155312928828,257.17082461844694,257.7261179440111,258.2814112695752,258.83670459513934,259.3919979207035,259.94729124626764,260.50258457183173,261.0578778973959,261.61317122296003,262.1684645485241,262.7237578740883,263.27905119965243,263.8343445252166,264.3896378507807,264.9449311763448,265.500224501909,266.0555178274731,266.6108111530372,267.16610447860137,267.7213978041655,268.27669112972967,268.83198445529376,269.3872777808579,269.94257110642206,270.4978644319862,271.0531577575503,271.60845108311446,272.1637444086786,272.71903773424276,273.27433105980685,273.829624385371,274.38491771093516,274.9402110364993,275.4955043620634,276.05079768762755,276.6060910131917,277.16138433875585,277.71667766431995,278.2719709898841,278.82726431544825,279.3825576410124,279.9378509665765,280.49314429214064,281.0484376177048,281.60373094326894,282.15902426883304,282.7143175943972,283.26961091996134,283.8249042455255,284.3801975710896,284.93549089665373,285.4907842222179,286.046077547782,286.6013708733461,287.1566641989103,287.7119575244744,288.2672508500385,288.8225441756027,289.3778375011668,289.933130826731,290.48842415229507,291.0437174778592,291.59901080342337,292.1543041289875,292.7095974545516,293.26489078011576,293.8201841056799,294.37547743124406,294.93077075680816,295.4860640823723,296.04135740793646,296.5966507335006,297.1519440590647,297.70723738462885,298.262530710193,298.81782403575716,299.37311736132125,299.9284106868854,300.48370401244955,301.0389973380137,301.5942906635778,302.14958398914195,302.7048773147061,303.26017064027025,303.81546396583434,304.3707572913985,304.92605061696264,305.4813439425268,306.0366372680909,306.59193059365504,307.1472239192192,307.70251724478334,308.25781057034743,308.8131038959116,309.36839722147573,309.9236905470398,310.478983872604,311.0342771981681,311.5895705237323,312.14486384929637,312.7001571748605,313.2554505004247,313.8107438259888,314.3660371515529,314.92133047711707,315.4766238026812,316.03191712824537,316.58721045380946,317.1425037793736,317.69779710493776,318.2530904305019,318.808383756066,319.36367708163016,319.9189704071943,320.47426373275846,321.02955705832255,321.5848503838867,322.14014370945085,322.695437035015,323.2507303605791,323.80602368614325,324.3613170117074,324.91661033727155,325.47190366283564,326.0271969883998,326.58249031396394,327.1377836395281,327.6930769650922,328.24837029065634,328.8036636162205,329.35895694178464,329.91425026734873,330.4695435929129,331.02483691847704,331.5801302440412,332.1354235696053,332.69071689516943,333.2460102207336,333.8013035462977,334.3565968718618,334.911890197426,335.4671835229901,336.0224768485542,336.57777017411837,337.1330634996825,337.6883568252467,338.24365015081077,338.7989434763749,339.35423680193907,339.9095301275032,340.4648234530673,341.02011677863146,341.5754101041956,342.13070342975976,342.68599675532386,343.241290080888,343.79658340645216,344.3518767320163,344.9071700575804,345.46246338314455,346.0177567087087,346.57305003427285,347.12834335983695,347.6836366854011,348.23893001096525,348.7942233365294,349.3495166620935,349.90480998765764,350.4601033132218,351.01539663878594,351.57068996435004,352.1259832899142,352.68127661547834,353.2365699410425,353.7918632666066,354.34715659217073,354.9024499177349,355.45774324329903,356.01303656886313,356.5683298944273,357.12362321999143,357.6789165455555,358.2342098711197,358.7895031966838,359.344796522248,359.90008984781207,360.4553831733762,361.01067649894037,361.5659698245045,362.1212631500686,362.67655647563276,363.2318498011969,363.78714312676107,364.34243645232516,364.8977297778893,365.45302310345346,366.0083164290176,366.5636097545817,367.11890308014586,367.67419640571,368.22948973127416,368.78478305683825,369.3400763824024,369.89536970796655,370.4506630335307,371.0059563590948,371.56124968465895,372.1165430102231,372.67183633578725,373.22712966135134,373.7824229869155,374.33771631247964,374.8930096380438,375.4483029636079,376.00359628917204,376.5588896147362,377.11418294030034,377.66947626586443,378.2247695914286,378.78006291699273,379.3353562425569,379.890649568121,380.4459428936851,381.0012362192493,381.5565295448134,382.1118228703775,382.6671161959417,383.2224095215058,383.7777028470699,384.33299617263407,384.8882894981982,385.44358282376237,385.99887614932646,386.5541694748906,387.10946280045476,387.6647561260189,388.220049451583,388.77534277714716,389.3306361027113,389.88592942827546,390.44122275383955,390.9965160794037,391.55180940496786,392.107102730532,392.6623960560961,393.21768938166025,393.7729827072244,394.32827603278855,394.88356935835264,395.4388626839168,395.99415600948095,396.5494493350451,397.1047426606092,397.66003598617334,398.2153293117375,398.77062263730164,399.32591596286574,399.8812092884299,400.43650261399404,400.9917959395582,401.5470892651223,402.10238259068643,402.6576759162506,403.21296924181473,403.7682625673788,404.323555892943,404.8788492185071,405.4341425440712,405.9894358696354,406.5447291951995,407.1000225207637,407.65531584632777,408.2106091718919,408.76590249745607,409.3211958230202,409.8764891485843,410.43178247414846,410.9870757997126,411.54236912527676,412.09766245084086,412.652955776405,413.20824910196916,413.7635424275333,414.3188357530974,414.87412907866155,415.4294224042257,415.98471572978985,416.54000905535395,417.0953023809181,417.65059570648225,418.2058890320464,418.7611823576105,419.31647568317464,419.8717690087388,420.42706233430295,420.98235565986704,421.5376489854312,422.09294231099534,422.6482356365595,423.2035289621236,423.75882228768774,424.3141156132519,424.86940893881604,425.42470226438013,425.9799955899443,426.53528891550843,427.0905822410726,427.6458755666367,428.2011688922008,428.756462217765,429.31175554332907,429.8670488688932,430.42234219445737,430.9776355200215,431.5329288455856,432.08822217114977,432.6435154967139,433.19880882227807,433.75410214784216,434.3093954734063,434.86468879897046,435.4199821245346,435.9752754500987,436.53056877566286,437.085862101227,437.64115542679116,438.19644875235525,438.7517420779194,439.30703540348355,439.8623287290477,440.4176220546118,440.97291538017595,441.5282087057401,442.08350203130425,442.63879535686834,443.1940886824325,443.74938200799664,444.3046753335608],\"type\":\"scatter\"}],                        {\"template\":{\"data\":{\"histogram2dcontour\":[{\"type\":\"histogram2dcontour\",\"colorbar\":{\"outlinewidth\":0,\"ticks\":\"\"},\"colorscale\":[[0.0,\"#0d0887\"],[0.1111111111111111,\"#46039f\"],[0.2222222222222222,\"#7201a8\"],[0.3333333333333333,\"#9c179e\"],[0.4444444444444444,\"#bd3786\"],[0.5555555555555556,\"#d8576b\"],[0.6666666666666666,\"#ed7953\"],[0.7777777777777778,\"#fb9f3a\"],[0.8888888888888888,\"#fdca26\"],[1.0,\"#f0f921\"]]}],\"choropleth\":[{\"type\":\"choropleth\",\"colorbar\":{\"outlinewidth\":0,\"ticks\":\"\"}}],\"histogram2d\":[{\"type\":\"histogram2d\",\"colorbar\":{\"outlinewidth\":0,\"ticks\":\"\"},\"colorscale\":[[0.0,\"#0d0887\"],[0.1111111111111111,\"#46039f\"],[0.2222222222222222,\"#7201a8\"],[0.3333333333333333,\"#9c179e\"],[0.4444444444444444,\"#bd3786\"],[0.5555555555555556,\"#d8576b\"],[0.6666666666666666,\"#ed7953\"],[0.7777777777777778,\"#fb9f3a\"],[0.8888888888888888,\"#fdca26\"],[1.0,\"#f0f921\"]]}],\"heatmap\":[{\"type\":\"heatmap\",\"colorbar\":{\"outlinewidth\":0,\"ticks\":\"\"},\"colorscale\":[[0.0,\"#0d0887\"],[0.1111111111111111,\"#46039f\"],[0.2222222222222222,\"#7201a8\"],[0.3333333333333333,\"#9c179e\"],[0.4444444444444444,\"#bd3786\"],[0.5555555555555556,\"#d8576b\"],[0.6666666666666666,\"#ed7953\"],[0.7777777777777778,\"#fb9f3a\"],[0.8888888888888888,\"#fdca26\"],[1.0,\"#f0f921\"]]}],\"heatmapgl\":[{\"type\":\"heatmapgl\",\"colorbar\":{\"outlinewidth\":0,\"ticks\":\"\"},\"colorscale\":[[0.0,\"#0d0887\"],[0.1111111111111111,\"#46039f\"],[0.2222222222222222,\"#7201a8\"],[0.3333333333333333,\"#9c179e\"],[0.4444444444444444,\"#bd3786\"],[0.5555555555555556,\"#d8576b\"],[0.6666666666666666,\"#ed7953\"],[0.7777777777777778,\"#fb9f3a\"],[0.8888888888888888,\"#fdca26\"],[1.0,\"#f0f921\"]]}],\"contourcarpet\":[{\"type\":\"contourcarpet\",\"colorbar\":{\"outlinewidth\":0,\"ticks\":\"\"}}],\"contour\":[{\"type\":\"contour\",\"colorbar\":{\"outlinewidth\":0,\"ticks\":\"\"},\"colorscale\":[[0.0,\"#0d0887\"],[0.1111111111111111,\"#46039f\"],[0.2222222222222222,\"#7201a8\"],[0.3333333333333333,\"#9c179e\"],[0.4444444444444444,\"#bd3786\"],[0.5555555555555556,\"#d8576b\"],[0.6666666666666666,\"#ed7953\"],[0.7777777777777778,\"#fb9f3a\"],[0.8888888888888888,\"#fdca26\"],[1.0,\"#f0f921\"]]}],\"surface\":[{\"type\":\"surface\",\"colorbar\":{\"outlinewidth\":0,\"ticks\":\"\"},\"colorscale\":[[0.0,\"#0d0887\"],[0.1111111111111111,\"#46039f\"],[0.2222222222222222,\"#7201a8\"],[0.3333333333333333,\"#9c179e\"],[0.4444444444444444,\"#bd3786\"],[0.5555555555555556,\"#d8576b\"],[0.6666666666666666,\"#ed7953\"],[0.7777777777777778,\"#fb9f3a\"],[0.8888888888888888,\"#fdca26\"],[1.0,\"#f0f921\"]]}],\"mesh3d\":[{\"type\":\"mesh3d\",\"colorbar\":{\"outlinewidth\":0,\"ticks\":\"\"}}],\"scatter\":[{\"fillpattern\":{\"fillmode\":\"overlay\",\"size\":10,\"solidity\":0.2},\"type\":\"scatter\"}],\"parcoords\":[{\"type\":\"parcoords\",\"line\":{\"colorbar\":{\"outlinewidth\":0,\"ticks\":\"\"}}}],\"scatterpolargl\":[{\"type\":\"scatterpolargl\",\"marker\":{\"colorbar\":{\"outlinewidth\":0,\"ticks\":\"\"}}}],\"bar\":[{\"error_x\":{\"color\":\"#2a3f5f\"},\"error_y\":{\"color\":\"#2a3f5f\"},\"marker\":{\"line\":{\"color\":\"#E5ECF6\",\"width\":0.5},\"pattern\":{\"fillmode\":\"overlay\",\"size\":10,\"solidity\":0.2}},\"type\":\"bar\"}],\"scattergeo\":[{\"type\":\"scattergeo\",\"marker\":{\"colorbar\":{\"outlinewidth\":0,\"ticks\":\"\"}}}],\"scatterpolar\":[{\"type\":\"scatterpolar\",\"marker\":{\"colorbar\":{\"outlinewidth\":0,\"ticks\":\"\"}}}],\"histogram\":[{\"marker\":{\"pattern\":{\"fillmode\":\"overlay\",\"size\":10,\"solidity\":0.2}},\"type\":\"histogram\"}],\"scattergl\":[{\"type\":\"scattergl\",\"marker\":{\"colorbar\":{\"outlinewidth\":0,\"ticks\":\"\"}}}],\"scatter3d\":[{\"type\":\"scatter3d\",\"line\":{\"colorbar\":{\"outlinewidth\":0,\"ticks\":\"\"}},\"marker\":{\"colorbar\":{\"outlinewidth\":0,\"ticks\":\"\"}}}],\"scattermapbox\":[{\"type\":\"scattermapbox\",\"marker\":{\"colorbar\":{\"outlinewidth\":0,\"ticks\":\"\"}}}],\"scatterternary\":[{\"type\":\"scatterternary\",\"marker\":{\"colorbar\":{\"outlinewidth\":0,\"ticks\":\"\"}}}],\"scattercarpet\":[{\"type\":\"scattercarpet\",\"marker\":{\"colorbar\":{\"outlinewidth\":0,\"ticks\":\"\"}}}],\"carpet\":[{\"aaxis\":{\"endlinecolor\":\"#2a3f5f\",\"gridcolor\":\"white\",\"linecolor\":\"white\",\"minorgridcolor\":\"white\",\"startlinecolor\":\"#2a3f5f\"},\"baxis\":{\"endlinecolor\":\"#2a3f5f\",\"gridcolor\":\"white\",\"linecolor\":\"white\",\"minorgridcolor\":\"white\",\"startlinecolor\":\"#2a3f5f\"},\"type\":\"carpet\"}],\"table\":[{\"cells\":{\"fill\":{\"color\":\"#EBF0F8\"},\"line\":{\"color\":\"white\"}},\"header\":{\"fill\":{\"color\":\"#C8D4E3\"},\"line\":{\"color\":\"white\"}},\"type\":\"table\"}],\"barpolar\":[{\"marker\":{\"line\":{\"color\":\"#E5ECF6\",\"width\":0.5},\"pattern\":{\"fillmode\":\"overlay\",\"size\":10,\"solidity\":0.2}},\"type\":\"barpolar\"}],\"pie\":[{\"automargin\":true,\"type\":\"pie\"}]},\"layout\":{\"autotypenumbers\":\"strict\",\"colorway\":[\"#636efa\",\"#EF553B\",\"#00cc96\",\"#ab63fa\",\"#FFA15A\",\"#19d3f3\",\"#FF6692\",\"#B6E880\",\"#FF97FF\",\"#FECB52\"],\"font\":{\"color\":\"#2a3f5f\"},\"hovermode\":\"closest\",\"hoverlabel\":{\"align\":\"left\"},\"paper_bgcolor\":\"white\",\"plot_bgcolor\":\"#E5ECF6\",\"polar\":{\"bgcolor\":\"#E5ECF6\",\"angularaxis\":{\"gridcolor\":\"white\",\"linecolor\":\"white\",\"ticks\":\"\"},\"radialaxis\":{\"gridcolor\":\"white\",\"linecolor\":\"white\",\"ticks\":\"\"}},\"ternary\":{\"bgcolor\":\"#E5ECF6\",\"aaxis\":{\"gridcolor\":\"white\",\"linecolor\":\"white\",\"ticks\":\"\"},\"baxis\":{\"gridcolor\":\"white\",\"linecolor\":\"white\",\"ticks\":\"\"},\"caxis\":{\"gridcolor\":\"white\",\"linecolor\":\"white\",\"ticks\":\"\"}},\"coloraxis\":{\"colorbar\":{\"outlinewidth\":0,\"ticks\":\"\"}},\"colorscale\":{\"sequential\":[[0.0,\"#0d0887\"],[0.1111111111111111,\"#46039f\"],[0.2222222222222222,\"#7201a8\"],[0.3333333333333333,\"#9c179e\"],[0.4444444444444444,\"#bd3786\"],[0.5555555555555556,\"#d8576b\"],[0.6666666666666666,\"#ed7953\"],[0.7777777777777778,\"#fb9f3a\"],[0.8888888888888888,\"#fdca26\"],[1.0,\"#f0f921\"]],\"sequentialminus\":[[0.0,\"#0d0887\"],[0.1111111111111111,\"#46039f\"],[0.2222222222222222,\"#7201a8\"],[0.3333333333333333,\"#9c179e\"],[0.4444444444444444,\"#bd3786\"],[0.5555555555555556,\"#d8576b\"],[0.6666666666666666,\"#ed7953\"],[0.7777777777777778,\"#fb9f3a\"],[0.8888888888888888,\"#fdca26\"],[1.0,\"#f0f921\"]],\"diverging\":[[0,\"#8e0152\"],[0.1,\"#c51b7d\"],[0.2,\"#de77ae\"],[0.3,\"#f1b6da\"],[0.4,\"#fde0ef\"],[0.5,\"#f7f7f7\"],[0.6,\"#e6f5d0\"],[0.7,\"#b8e186\"],[0.8,\"#7fbc41\"],[0.9,\"#4d9221\"],[1,\"#276419\"]]},\"xaxis\":{\"gridcolor\":\"white\",\"linecolor\":\"white\",\"ticks\":\"\",\"title\":{\"standoff\":15},\"zerolinecolor\":\"white\",\"automargin\":true,\"zerolinewidth\":2},\"yaxis\":{\"gridcolor\":\"white\",\"linecolor\":\"white\",\"ticks\":\"\",\"title\":{\"standoff\":15},\"zerolinecolor\":\"white\",\"automargin\":true,\"zerolinewidth\":2},\"scene\":{\"xaxis\":{\"backgroundcolor\":\"#E5ECF6\",\"gridcolor\":\"white\",\"linecolor\":\"white\",\"showbackground\":true,\"ticks\":\"\",\"zerolinecolor\":\"white\",\"gridwidth\":2},\"yaxis\":{\"backgroundcolor\":\"#E5ECF6\",\"gridcolor\":\"white\",\"linecolor\":\"white\",\"showbackground\":true,\"ticks\":\"\",\"zerolinecolor\":\"white\",\"gridwidth\":2},\"zaxis\":{\"backgroundcolor\":\"#E5ECF6\",\"gridcolor\":\"white\",\"linecolor\":\"white\",\"showbackground\":true,\"ticks\":\"\",\"zerolinecolor\":\"white\",\"gridwidth\":2}},\"shapedefaults\":{\"line\":{\"color\":\"#2a3f5f\"}},\"annotationdefaults\":{\"arrowcolor\":\"#2a3f5f\",\"arrowhead\":0,\"arrowwidth\":1},\"geo\":{\"bgcolor\":\"white\",\"landcolor\":\"#E5ECF6\",\"subunitcolor\":\"white\",\"showland\":true,\"showlakes\":true,\"lakecolor\":\"white\"},\"title\":{\"x\":0.05},\"mapbox\":{\"style\":\"light\"}}},\"xaxis\":{\"title\":{\"font\":{\"size\":18},\"text\":\"Usage Count\"}},\"yaxis\":{\"title\":{\"font\":{\"size\":18},\"text\":\"Accounts using\"}},\"plot_bgcolor\":\"white\",\"title\":{\"text\":\"Usage count of top tags vs the number of accounts using them\"}},                        {\"responsive\": true}                    ).then(function(){\n",
       "                            \n",
       "var gd = document.getElementById('f86bd2e9-caa1-42bd-85aa-1eb533963348');\n",
       "var x = new MutationObserver(function (mutations, observer) {{\n",
       "        var display = window.getComputedStyle(gd).display;\n",
       "        if (!display || display === 'none') {{\n",
       "            console.log([gd, 'removed!']);\n",
       "            Plotly.purge(gd);\n",
       "            observer.disconnect();\n",
       "        }}\n",
       "}});\n",
       "\n",
       "// Listen for the removal of the full notebook cells\n",
       "var notebookContainer = gd.closest('#notebook-container');\n",
       "if (notebookContainer) {{\n",
       "    x.observe(notebookContainer, {childList: true});\n",
       "}}\n",
       "\n",
       "// Listen for the clearing of the current output cell\n",
       "var outputEl = gd.closest('.output');\n",
       "if (outputEl) {{\n",
       "    x.observe(outputEl, {childList: true});\n",
       "}}\n",
       "\n",
       "                        })                };                });            </script>        </div>"
      ]
     },
     "metadata": {},
     "output_type": "display_data"
    }
   ],
   "source": [
    "### Comparision between the model with a constant and the one without a constant\n",
    "# They look really similar so i dont think this would be useful in the presentation but im still leaving it here\n",
    "\n",
    "fig = go.Figure()\n",
    "\n",
    "fig.add_trace(go.Scatter(x=file2['usage_count'],y=file2['accounts_using'], mode = 'markers', name = 'The values from the dataset'))\n",
    "#for tag in file2['name'].unique():\n",
    "#    df_tag = file2[file2['name'] == tag]\n",
    "#    fig.add_trace(go.Scatter(x=df_tag['usage_count'],y=df_tag['accounts_using'], mode = 'markers', name = tag))\n",
    "\n",
    "model = sm.OLS(file2['accounts_using'],file2['usage_count'])\n",
    "res = model.fit()\n",
    "\n",
    "fig.update_layout(\n",
    "    plot_bgcolor=\"white\",\n",
    "    title = 'Usage count of top tags vs the number of accounts using them',\n",
    "    xaxis = {\n",
    "        'title' :{\n",
    "            'font' : {\n",
    "                'size' : 18\n",
    "            },\n",
    "            'text' : 'Usage Count'\n",
    "        }\n",
    "    },\n",
    "    yaxis = {\n",
    "        'title' :{\n",
    "            'font' : {\n",
    "                'size' : 18\n",
    "            },\n",
    "            'text' : 'Accounts using'\n",
    "        }\n",
    "    }\n",
    ")\n",
    "\n",
    "m = res.params.iloc[0]\n",
    "x = np.array(range(0,800))\n",
    "y = m*x\n",
    "fig.add_trace(go.Scatter(x=x, y=y, name = 'The regression model without a constant'))\n",
    "const = sm.add_constant(file2['usage_count'])\n",
    "model = sm.OLS(file2['accounts_using'],const)\n",
    "res = model.fit()\n",
    "print(f'Model without constant, m={round(m,4)}')\n",
    "\n",
    "c,m = res.params\n",
    "x = np.array(range(0,800))\n",
    "y = m*x+c\n",
    "fig.add_trace(go.Scatter(x=x, y=y, name = 'The regression model with a constant'))\n",
    "print(f'Model with constant, m={round(m,4)} and c={round(c,4)}')\n",
    "fig.show()"
   ]
  },
  {
   "cell_type": "code",
   "execution_count": 122,
   "id": "23b8c1cb-bd97-4803-abc6-7da99a55d583",
   "metadata": {},
   "outputs": [
    {
     "data": {
      "text/html": [
       "<div>\n",
       "<style scoped>\n",
       "    .dataframe tbody tr th:only-of-type {\n",
       "        vertical-align: middle;\n",
       "    }\n",
       "\n",
       "    .dataframe tbody tr th {\n",
       "        vertical-align: top;\n",
       "    }\n",
       "\n",
       "    .dataframe thead th {\n",
       "        text-align: right;\n",
       "    }\n",
       "</style>\n",
       "<table border=\"1\" class=\"dataframe\">\n",
       "  <thead>\n",
       "    <tr style=\"text-align: right;\">\n",
       "      <th></th>\n",
       "      <th>tag</th>\n",
       "      <th>slope</th>\n",
       "    </tr>\n",
       "  </thead>\n",
       "  <tbody>\n",
       "    <tr>\n",
       "      <th>0</th>\n",
       "      <td>musiquinta</td>\n",
       "      <td>0.408130</td>\n",
       "    </tr>\n",
       "    <tr>\n",
       "      <th>1</th>\n",
       "      <td>guilty</td>\n",
       "      <td>0.696371</td>\n",
       "    </tr>\n",
       "    <tr>\n",
       "      <th>2</th>\n",
       "      <td>ThrowbackThursday</td>\n",
       "      <td>0.913483</td>\n",
       "    </tr>\n",
       "    <tr>\n",
       "      <th>3</th>\n",
       "      <td>trumpisguilty</td>\n",
       "      <td>0.674097</td>\n",
       "    </tr>\n",
       "    <tr>\n",
       "      <th>4</th>\n",
       "      <td>IfAIDisclaimersWereSongs</td>\n",
       "      <td>0.382166</td>\n",
       "    </tr>\n",
       "    <tr>\n",
       "      <th>5</th>\n",
       "      <td>ThursdayFiveList</td>\n",
       "      <td>0.888889</td>\n",
       "    </tr>\n",
       "    <tr>\n",
       "      <th>6</th>\n",
       "      <td>trumpguilty</td>\n",
       "      <td>0.804348</td>\n",
       "    </tr>\n",
       "    <tr>\n",
       "      <th>7</th>\n",
       "      <td>thehands</td>\n",
       "      <td>0.875000</td>\n",
       "    </tr>\n",
       "    <tr>\n",
       "      <th>8</th>\n",
       "      <td>tbt</td>\n",
       "      <td>0.876448</td>\n",
       "    </tr>\n",
       "    <tr>\n",
       "      <th>9</th>\n",
       "      <td>Felon</td>\n",
       "      <td>0.722222</td>\n",
       "    </tr>\n",
       "    <tr>\n",
       "      <th>10</th>\n",
       "      <td>trump</td>\n",
       "      <td>0.575227</td>\n",
       "    </tr>\n",
       "    <tr>\n",
       "      <th>11</th>\n",
       "      <td>dwd3</td>\n",
       "      <td>0.596558</td>\n",
       "    </tr>\n",
       "    <tr>\n",
       "      <th>12</th>\n",
       "      <td>GPN22</td>\n",
       "      <td>0.563710</td>\n",
       "    </tr>\n",
       "    <tr>\n",
       "      <th>13</th>\n",
       "      <td>verdict</td>\n",
       "      <td>0.617296</td>\n",
       "    </tr>\n",
       "    <tr>\n",
       "      <th>14</th>\n",
       "      <td>waffle860</td>\n",
       "      <td>1.000000</td>\n",
       "    </tr>\n",
       "    <tr>\n",
       "      <th>15</th>\n",
       "      <td>今月描いた絵を晒そう</td>\n",
       "      <td>0.898289</td>\n",
       "    </tr>\n",
       "    <tr>\n",
       "      <th>16</th>\n",
       "      <td>TrumpTrial</td>\n",
       "      <td>0.389326</td>\n",
       "    </tr>\n",
       "    <tr>\n",
       "      <th>17</th>\n",
       "      <td>europol</td>\n",
       "      <td>0.790528</td>\n",
       "    </tr>\n",
       "    <tr>\n",
       "      <th>18</th>\n",
       "      <td>trumpverdict</td>\n",
       "      <td>0.500943</td>\n",
       "    </tr>\n",
       "    <tr>\n",
       "      <th>19</th>\n",
       "      <td>TheUmbrellaAcademy</td>\n",
       "      <td>0.952489</td>\n",
       "    </tr>\n",
       "  </tbody>\n",
       "</table>\n",
       "</div>"
      ],
      "text/plain": [
       "                         tag     slope\n",
       "0                 musiquinta  0.408130\n",
       "1                     guilty  0.696371\n",
       "2          ThrowbackThursday  0.913483\n",
       "3              trumpisguilty  0.674097\n",
       "4   IfAIDisclaimersWereSongs  0.382166\n",
       "5           ThursdayFiveList  0.888889\n",
       "6                trumpguilty  0.804348\n",
       "7                   thehands  0.875000\n",
       "8                        tbt  0.876448\n",
       "9                      Felon  0.722222\n",
       "10                     trump  0.575227\n",
       "11                      dwd3  0.596558\n",
       "12                     GPN22  0.563710\n",
       "13                   verdict  0.617296\n",
       "14                 waffle860  1.000000\n",
       "15                今月描いた絵を晒そう  0.898289\n",
       "16                TrumpTrial  0.389326\n",
       "17                   europol  0.790528\n",
       "18              trumpverdict  0.500943\n",
       "19        TheUmbrellaAcademy  0.952489"
      ]
     },
     "execution_count": 122,
     "metadata": {},
     "output_type": "execute_result"
    }
   ],
   "source": [
    "### Looking into the alopw parameters of regression models where no constant is added\n",
    "# this time we create a regression model for every single tag\n",
    "# and save the corresponding parameters in a dataFrame to plot it later\n",
    "\n",
    "slope_values = []\n",
    "tag_names = []\n",
    "\n",
    "\n",
    "for tag in file2['name'].unique():\n",
    "    df_tag = file2[file2['name'] == tag]\n",
    "    model = sm.OLS(df_tag['accounts_using'],df_tag['usage_count'])\n",
    "    res = model.fit()\n",
    "    m = res.params.iloc[0]\n",
    "    slope_values.append(m)\n",
    "    tag_names.append(tag)\n",
    "\n",
    "regression_df = pd.DataFrame({'tag': tag_names, 'slope': slope_values})\n",
    "\n",
    "regression_df"
   ]
  },
  {
   "cell_type": "code",
   "execution_count": 129,
   "id": "a85ee646-f631-4472-b082-b3c9c50538e9",
   "metadata": {},
   "outputs": [
    {
     "name": "stdout",
     "output_type": "stream",
     "text": [
      "Another interpretation of this model is that every person using a tag posts on average 1.7943 posts using that tag in a week\n"
     ]
    },
    {
     "data": {
      "image/png": "[encoded data removed]",
      "text/plain": [
       "<Figure size 500x500 with 1 Axes>"
      ]
     },
     "metadata": {},
     "output_type": "display_data"
    }
   ],
   "source": [
    "\n",
    "model = sm.OLS(file2['accounts_using'],file2['usage_count'])\n",
    "res = model.fit()\n",
    "m_all = res.params.iloc[0]\n",
    "\n",
    "#sns.displot(regression_df, x='slope', binwidth = 0.05)\n",
    "sns.displot(regression_df, x='slope', binwidth = 0.05, kde = True)\n",
    "plt.axvline(m_all, 0,3, color = 'black')\n",
    "plt.text(m_all+0.005,3, 'The slope of')\n",
    "plt.text(m_all+0.005,2.8, 'the complete model')\n",
    "\n",
    "print(f'Another interpretation of this model is that every person using a tag posts on average {round(1/m_all,4)} posts using that tag in a week')"
   ]
  }
 ],
 "metadata": {
  "kernelspec": {
   "display_name": "Python 3 (ipykernel)",
   "language": "python",
   "name": "python3"
  },
  "language_info": {
   "codemirror_mode": {
    "name": "ipython",
    "version": 3
   },
   "file_extension": ".py",
   "mimetype": "text/x-python",
   "name": "python",
   "nbconvert_exporter": "python",
   "pygments_lexer": "ipython3",
   "version": "3.11.7"
  }
 },
 "nbformat": 4,
 "nbformat_minor": 5
}
