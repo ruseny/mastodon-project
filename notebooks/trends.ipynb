{
 "cells": [
  {
   "cell_type": "markdown",
   "metadata": {},
   "source": [
    "# Project on Mastodon\n",
    "Sebastian Gottschalk, Kerstin Kirchgässner, Rusen Yasar"
   ]
  },
  {
   "cell_type": "markdown",
   "metadata": {},
   "source": [
    "# Trends\n",
    "\n",
    "API methods for trends are summarised here: https://docs.joinmastodon.org/methods/trends/\n",
    "\n",
    "We can begin with the trending hashtags, get statuses mentioning those tags. We can also get trending statuses, and check the tags mentioned in these statuses."
   ]
  },
  {
   "cell_type": "code",
   "execution_count": 1,
   "metadata": {},
   "outputs": [],
   "source": [
    "import requests\n",
    "import json"
   ]
  },
  {
   "cell_type": "markdown",
   "metadata": {},
   "source": [
    "Focus on mastodon.social"
   ]
  },
  {
   "cell_type": "code",
   "execution_count": 2,
   "metadata": {},
   "outputs": [],
   "source": [
    "base_url = \"https://mastodon.social\""
   ]
  },
  {
   "cell_type": "markdown",
   "metadata": {},
   "source": [
    "Import tokens"
   ]
  },
  {
   "cell_type": "code",
   "execution_count": 13,
   "metadata": {},
   "outputs": [],
   "source": [
    "with open(\"../credentials/mastodon_social/app_token.txt\") as text_file:\n",
    "    app_token = text_file.read()"
   ]
  },
  {
   "cell_type": "code",
   "execution_count": 18,
   "metadata": {},
   "outputs": [],
   "source": [
    "with open(\"../credentials/mastodon_social/user_token.txt\") as text_file:\n",
    "    user_token = text_file.read()"
   ]
  },
  {
   "cell_type": "markdown",
   "metadata": {},
   "source": [
    "## Trending tags\n",
    "\n",
    "Most frequently used tags in the past week. Max 20."
   ]
  },
  {
   "cell_type": "code",
   "execution_count": 4,
   "metadata": {},
   "outputs": [],
   "source": [
    "tags_dir = \"/api/v1/trends/tags\"\n",
    "max_tags = \"?limit=20\""
   ]
  },
  {
   "cell_type": "code",
   "execution_count": 5,
   "metadata": {},
   "outputs": [],
   "source": [
    "resp_tags = requests.get(\n",
    "    base_url + tags_dir + max_tags\n",
    ")"
   ]
  },
  {
   "cell_type": "code",
   "execution_count": 183,
   "metadata": {},
   "outputs": [],
   "source": [
    "js_tags = resp_tags.json()"
   ]
  },
  {
   "cell_type": "markdown",
   "metadata": {},
   "source": [
    "### Getting info on these tags\n",
    "\n",
    "API methods on tags summarised here: https://docs.joinmastodon.org/methods/tags/"
   ]
  },
  {
   "cell_type": "code",
   "execution_count": 14,
   "metadata": {},
   "outputs": [],
   "source": [
    "tag_info_dir = \"/api/v1/tags/\""
   ]
  },
  {
   "cell_type": "markdown",
   "metadata": {},
   "source": [
    "Check one tag to see how much history it returns"
   ]
  },
  {
   "cell_type": "code",
   "execution_count": 184,
   "metadata": {},
   "outputs": [],
   "source": [
    "name_tag1 = js_tags[0][\"name\"]"
   ]
  },
  {
   "cell_type": "code",
   "execution_count": 23,
   "metadata": {},
   "outputs": [],
   "source": [
    "resp_tag1 = requests.get(\n",
    "    base_url + tag_info_dir + name_tag1, \n",
    "    headers = {\n",
    "        \"Authorization\" : f\"Bearer {app_token}\"\n",
    "    }\n",
    ")"
   ]
  },
  {
   "cell_type": "code",
   "execution_count": 24,
   "metadata": {},
   "outputs": [
    {
     "data": {
      "text/plain": [
       "<Response [200]>"
      ]
     },
     "execution_count": 24,
     "metadata": {},
     "output_type": "execute_result"
    }
   ],
   "source": [
    "resp_tag1"
   ]
  },
  {
   "cell_type": "code",
   "execution_count": 185,
   "metadata": {},
   "outputs": [
    {
     "data": {
      "text/plain": [
       "7"
      ]
     },
     "execution_count": 185,
     "metadata": {},
     "output_type": "execute_result"
    }
   ],
   "source": [
    "js_tag1 = resp_tag1.json()\n",
    "len(js_tag1[\"history\"])"
   ]
  },
  {
   "cell_type": "markdown",
   "metadata": {},
   "source": [
    "This gets only 7 days, same as what we know from list of trending tags. "
   ]
  },
  {
   "cell_type": "markdown",
   "metadata": {},
   "source": [
    "### Search statuses mentioning this tag\n",
    "\n",
    "API methods for search are summarised here: https://docs.joinmastodon.org/methods/search/\n",
    "\n",
    "I cannot find a method to fetch statuses where the hashtag is in the tags attribute. Maybe this is the default behaviour, or maybe the statuses with matching tags will be returned first (I hope).\n",
    "\n",
    "Attributes of tags are summarised here: https://docs.joinmastodon.org/entities/Status/\n",
    "\n"
   ]
  },
  {
   "cell_type": "code",
   "execution_count": 40,
   "metadata": {},
   "outputs": [],
   "source": [
    "search_dir = \"/api/v2/search\"\n",
    "search_params_tag1 = f\"?q={name_tag1}&limit=40\""
   ]
  },
  {
   "cell_type": "code",
   "execution_count": 41,
   "metadata": {},
   "outputs": [],
   "source": [
    "resp_search_status_tag1 = requests.get(\n",
    "    base_url + search_dir + search_params_tag1, \n",
    "    headers = {\n",
    "        \"Authorization\" : f\"Bearer {app_token}\"\n",
    "    }\n",
    ")"
   ]
  },
  {
   "cell_type": "code",
   "execution_count": 43,
   "metadata": {},
   "outputs": [
    {
     "data": {
      "text/plain": [
       "<Response [200]>"
      ]
     },
     "execution_count": 43,
     "metadata": {},
     "output_type": "execute_result"
    }
   ],
   "source": [
    "resp_search_status_tag1"
   ]
  },
  {
   "cell_type": "code",
   "execution_count": 44,
   "metadata": {},
   "outputs": [
    {
     "data": {
      "text/plain": [
       "{'accounts': [],\n",
       " 'statuses': [],\n",
       " 'hashtags': [{'name': 'ifaidisclaimersweresongs',\n",
       "   'url': 'https://mastodon.social/tags/ifaidisclaimersweresongs',\n",
       "   'history': [{'day': '1717027200', 'accounts': '58', 'uses': '154'},\n",
       "    {'day': '1716940800', 'accounts': '0', 'uses': '0'},\n",
       "    {'day': '1716854400', 'accounts': '0', 'uses': '0'},\n",
       "    {'day': '1716768000', 'accounts': '0', 'uses': '0'},\n",
       "    {'day': '1716681600', 'accounts': '0', 'uses': '0'},\n",
       "    {'day': '1716595200', 'accounts': '0', 'uses': '0'},\n",
       "    {'day': '1716508800', 'accounts': '0', 'uses': '0'}]}]}"
      ]
     },
     "execution_count": 44,
     "metadata": {},
     "output_type": "execute_result"
    }
   ],
   "source": [
    "js_search_status_tag1 = resp_search_status_tag1.json()\n",
    "js_search_status_tag1"
   ]
  },
  {
   "cell_type": "markdown",
   "metadata": {},
   "source": [
    "Apparently Mastodon does not allow searching in the entire databse. So, this approach doesn't work.\n",
    "\n",
    "Starting with trending tags, the only information we get is their use history in the past seven days."
   ]
  },
  {
   "cell_type": "markdown",
   "metadata": {},
   "source": [
    "## Trending statuses\n",
    "\n",
    "Statuses that have been interacted with more than other (timeframe not clear)"
   ]
  },
  {
   "cell_type": "markdown",
   "metadata": {},
   "source": [
    "### One batch of statuses"
   ]
  },
  {
   "cell_type": "code",
   "execution_count": 45,
   "metadata": {},
   "outputs": [],
   "source": [
    "trending_status_dir = \"/api/v1/trends/statuses\"\n",
    "trending_status_max = \"?limit=40\""
   ]
  },
  {
   "cell_type": "code",
   "execution_count": 46,
   "metadata": {},
   "outputs": [],
   "source": [
    "resp_trending_status = requests.get(\n",
    "    base_url + trending_status_dir + trending_status_max\n",
    ")"
   ]
  },
  {
   "cell_type": "code",
   "execution_count": 47,
   "metadata": {},
   "outputs": [
    {
     "data": {
      "text/plain": [
       "<Response [200]>"
      ]
     },
     "execution_count": 47,
     "metadata": {},
     "output_type": "execute_result"
    }
   ],
   "source": [
    "resp_trending_status"
   ]
  },
  {
   "cell_type": "code",
   "execution_count": 63,
   "metadata": {},
   "outputs": [],
   "source": [
    "js_trending_status = resp_trending_status.json()"
   ]
  },
  {
   "cell_type": "code",
   "execution_count": 70,
   "metadata": {},
   "outputs": [
    {
     "name": "stdout",
     "output_type": "stream",
     "text": [
      "112529933367515061\n",
      "2024-05-30T12:01:53.000Z\n"
     ]
    }
   ],
   "source": [
    "print(js_trending_status[0][\"id\"])\n",
    "print(js_trending_status[0][\"created_at\"])"
   ]
  },
  {
   "cell_type": "code",
   "execution_count": 103,
   "metadata": {},
   "outputs": [
    {
     "name": "stdout",
     "output_type": "stream",
     "text": [
      "112529352665489689\n",
      "2024-05-30T09:34:15.663Z\n"
     ]
    }
   ],
   "source": [
    "print(js_trending_status[-1][\"id\"])\n",
    "print(js_trending_status[-1][\"created_at\"])"
   ]
  },
  {
   "cell_type": "markdown",
   "metadata": {},
   "source": [
    "It looks like some statuses are categorised as trending, the request returns the most recent ones. \n",
    "\n",
    "We can try to get all trending statuses up to a certain point in the past. Let's say Friday last week by the earliest."
   ]
  },
  {
   "cell_type": "markdown",
   "metadata": {},
   "source": [
    "### Getting multiple batches of statuses"
   ]
  },
  {
   "cell_type": "code",
   "execution_count": 82,
   "metadata": {},
   "outputs": [],
   "source": [
    "from datetime import datetime\n",
    "\n",
    "statuses_after = datetime(2024, 5, 24, 0, 0, 0, 1)"
   ]
  },
  {
   "cell_type": "code",
   "execution_count": 94,
   "metadata": {},
   "outputs": [
    {
     "name": "stdout",
     "output_type": "stream",
     "text": [
      "Response returned less than 40 statuses\n"
     ]
    }
   ],
   "source": [
    "batches = {}\n",
    "batch = 1\n",
    "offset = 0\n",
    "time_reached = datetime.now()\n",
    "\n",
    "while time_reached > statuses_after:\n",
    "     \n",
    "    param_offset = f\"&offset={offset}\"\n",
    "\n",
    "    resp = requests.get(\n",
    "        base_url + trending_status_dir + trending_status_max + param_offset\n",
    "    )\n",
    "\n",
    "    if resp.status_code == 200:\n",
    "\n",
    "        js = resp.json()\n",
    "\n",
    "        if len(js) == 40:\n",
    "\n",
    "            batches[batch] = js\n",
    "            \n",
    "            batch += 1\n",
    "            offset += 40\n",
    "            time_reached = datetime.strptime(js[-1][\"created_at\"], \"%Y-%m-%dT%H:%M:%S.%fZ\")\n",
    "        \n",
    "        else: \n",
    "            print(\"Response returned fewer than 40 statuses\")\n",
    "            break\n",
    "\n",
    "    else:\n",
    "        print(\"Response status not 200\")\n",
    "        break\n",
    "\n"
   ]
  },
  {
   "cell_type": "code",
   "execution_count": 100,
   "metadata": {},
   "outputs": [
    {
     "name": "stdout",
     "output_type": "stream",
     "text": [
      "30\n",
      "2024-05-30T12:01:53.000Z\n",
      "2024-05-30T08:45:29.000Z\n"
     ]
    }
   ],
   "source": [
    "print(len(batches))\n",
    "print(batches[1][0][\"created_at\"])\n",
    "print(batches[30][-1][\"created_at\"])"
   ]
  },
  {
   "cell_type": "markdown",
   "metadata": {},
   "source": [
    "It looks like there is a limit on how many statuses we can get. This could be only the current day, last 8 (or similar) hours. Or the number of statuses categorised as trending can be fixed (trying a few times, I get about 1200 statuses at each attempt).\n",
    "\n",
    "It would be a good idea to save this set of statuses, run the loop again at several times towards the end of the day, and combine the results to get a broader view of the day."
   ]
  },
  {
   "cell_type": "code",
   "execution_count": 102,
   "metadata": {},
   "outputs": [],
   "source": [
    "with open(\"../data/raw/trending_statuses_1530.txt\", \"w\") as text_file:\n",
    "    json.dump(batches, text_file)"
   ]
  },
  {
   "cell_type": "markdown",
   "metadata": {},
   "source": [
    "## Accounts posting trending statuses\n",
    "\n",
    "(I realised later that there is no need to get account data separately. All the account info is already embedded in the statuses.)\n",
    "\n",
    "API methods for accounts: https://docs.joinmastodon.org/methods/accounts/\n",
    "\n",
    "There is a method for multiple accounts, I try it first:"
   ]
  },
  {
   "cell_type": "code",
   "execution_count": 104,
   "metadata": {},
   "outputs": [],
   "source": [
    "accounts_dir = \"/api/v1/accounts\""
   ]
  },
  {
   "cell_type": "markdown",
   "metadata": {},
   "source": [
    "Get the account ids from the saved statuses."
   ]
  },
  {
   "cell_type": "code",
   "execution_count": 122,
   "metadata": {},
   "outputs": [],
   "source": [
    "accounts_from_statuses = []\n",
    "\n",
    "for i in range(1, len(batches)+1):\n",
    "    for j in range(len(batches[i])):\n",
    "        accounts_from_statuses.append(batches[i][j][\"account\"][\"id\"])\n",
    "\n",
    "accounts_from_statuses_unique = list(set(accounts_from_statuses))"
   ]
  },
  {
   "cell_type": "code",
   "execution_count": 126,
   "metadata": {},
   "outputs": [
    {
     "data": {
      "text/plain": [
       "1200"
      ]
     },
     "execution_count": 126,
     "metadata": {},
     "output_type": "execute_result"
    }
   ],
   "source": [
    "len(accounts_from_statuses_unique)"
   ]
  },
  {
   "cell_type": "markdown",
   "metadata": {},
   "source": [
    "Interesting, as many accounts as statuses."
   ]
  },
  {
   "cell_type": "markdown",
   "metadata": {},
   "source": [
    "Try to get these accounts."
   ]
  },
  {
   "cell_type": "code",
   "execution_count": 127,
   "metadata": {},
   "outputs": [],
   "source": [
    "accounts_param = f\"?id={accounts_from_statuses_unique}\""
   ]
  },
  {
   "cell_type": "code",
   "execution_count": 129,
   "metadata": {},
   "outputs": [],
   "source": [
    "resp_accounts_trending = requests.get(\n",
    "    base_url + accounts_dir + accounts_param,\n",
    "    headers = {\n",
    "        \"Authorization\" : f\"Bearer {app_token}\"\n",
    "    }\n",
    ")"
   ]
  },
  {
   "cell_type": "code",
   "execution_count": 131,
   "metadata": {},
   "outputs": [
    {
     "data": {
      "text/plain": [
       "'Error: URI Too Long'"
      ]
     },
     "execution_count": 131,
     "metadata": {},
     "output_type": "execute_result"
    }
   ],
   "source": [
    "resp_accounts_trending.text"
   ]
  },
  {
   "cell_type": "markdown",
   "metadata": {},
   "source": [
    "Can't get all accounts at once. The default limit should be 80, try this:"
   ]
  },
  {
   "cell_type": "code",
   "execution_count": 136,
   "metadata": {},
   "outputs": [],
   "source": [
    "accounts_param = f\"?id={accounts_from_statuses_unique[:80]}\""
   ]
  },
  {
   "cell_type": "code",
   "execution_count": 137,
   "metadata": {},
   "outputs": [],
   "source": [
    "resp_accounts_trending = requests.get(\n",
    "    base_url + accounts_dir + accounts_param,\n",
    "    headers = {\n",
    "        \"Authorization\" : f\"Bearer {app_token}\"\n",
    "    }\n",
    ")"
   ]
  },
  {
   "cell_type": "code",
   "execution_count": 141,
   "metadata": {},
   "outputs": [
    {
     "data": {
      "text/plain": [
       "b'[]'"
      ]
     },
     "execution_count": 141,
     "metadata": {},
     "output_type": "execute_result"
    }
   ],
   "source": [
    "resp_accounts_trending.content"
   ]
  },
  {
   "cell_type": "markdown",
   "metadata": {},
   "source": [
    "Still not getting anything. Maybe we should simply run a loop to get accounts one by one. There will be a rate limiting at 300. We have to do it four times 5 minutes apart."
   ]
  },
  {
   "cell_type": "code",
   "execution_count": 142,
   "metadata": {},
   "outputs": [
    {
     "name": "stdout",
     "output_type": "stream",
     "text": [
      "Status code not 200\n"
     ]
    }
   ],
   "source": [
    "accounts_dict = {}\n",
    "\n",
    "for account_id in accounts_from_statuses_unique:\n",
    "    resp = requests.get(\n",
    "        base_url + accounts_dir + f\"/{account_id}\", \n",
    "        headers = {\n",
    "        \"Authorization\" : f\"Bearer {app_token}\"\n",
    "        }\n",
    "    )\n",
    "    if resp.status_code == 200: \n",
    "        accounts_dict[account_id] = resp.json()\n",
    "    else:\n",
    "        print(\"Status code not 200\")\n",
    "        break"
   ]
  },
  {
   "cell_type": "code",
   "execution_count": 151,
   "metadata": {},
   "outputs": [],
   "source": [
    "rem_accounts1 = accounts_from_statuses_unique[300:600]\n",
    "rem_accounts2 = accounts_from_statuses_unique[600:900]\n",
    "rem_accounts3 = accounts_from_statuses_unique[900:]"
   ]
  },
  {
   "cell_type": "markdown",
   "metadata": {},
   "source": [
    "... 5 minutes later"
   ]
  },
  {
   "cell_type": "code",
   "execution_count": 152,
   "metadata": {},
   "outputs": [],
   "source": [
    "for account_id in rem_accounts1:\n",
    "    resp = requests.get(\n",
    "        base_url + accounts_dir + f\"/{account_id}\", \n",
    "        headers = {\n",
    "        \"Authorization\" : f\"Bearer {app_token}\"\n",
    "        }\n",
    "    )\n",
    "    if resp.status_code == 200: \n",
    "        accounts_dict[account_id] = resp.json()\n",
    "    else:\n",
    "        print(\"Status code not 200\")\n",
    "        break"
   ]
  },
  {
   "cell_type": "markdown",
   "metadata": {},
   "source": [
    "... 5 minutes later"
   ]
  },
  {
   "cell_type": "code",
   "execution_count": 154,
   "metadata": {},
   "outputs": [],
   "source": [
    "for account_id in rem_accounts2:\n",
    "    resp = requests.get(\n",
    "        base_url + accounts_dir + f\"/{account_id}\", \n",
    "        headers = {\n",
    "        \"Authorization\" : f\"Bearer {app_token}\"\n",
    "        }\n",
    "    )\n",
    "    if resp.status_code == 200: \n",
    "        accounts_dict[account_id] = resp.json()\n",
    "    else:\n",
    "        print(\"Status code not 200\")\n",
    "        break"
   ]
  },
  {
   "cell_type": "markdown",
   "metadata": {},
   "source": [
    "... 5 minutes later"
   ]
  },
  {
   "cell_type": "code",
   "execution_count": 156,
   "metadata": {},
   "outputs": [],
   "source": [
    "for account_id in rem_accounts3:\n",
    "    resp = requests.get(\n",
    "        base_url + accounts_dir + f\"/{account_id}\", \n",
    "        headers = {\n",
    "        \"Authorization\" : f\"Bearer {app_token}\"\n",
    "        }\n",
    "    )\n",
    "    if resp.status_code == 200: \n",
    "        accounts_dict[account_id] = resp.json()\n",
    "    else:\n",
    "        print(\"Status code not 200\")\n",
    "        break"
   ]
  },
  {
   "cell_type": "code",
   "execution_count": 157,
   "metadata": {},
   "outputs": [
    {
     "data": {
      "text/plain": [
       "1200"
      ]
     },
     "execution_count": 157,
     "metadata": {},
     "output_type": "execute_result"
    }
   ],
   "source": [
    "len(accounts_dict)"
   ]
  },
  {
   "cell_type": "markdown",
   "metadata": {},
   "source": [
    "We retrieved 1200 accounts. Save them for later use."
   ]
  },
  {
   "cell_type": "code",
   "execution_count": 158,
   "metadata": {},
   "outputs": [],
   "source": [
    "with open(\"../data/raw/trending_accounts_1530.txt\", \"w\") as text_file:\n",
    "    json.dump(accounts_dict, text_file)"
   ]
  },
  {
   "cell_type": "markdown",
   "metadata": {},
   "source": [
    "## Second round of data collection\n",
    "\n",
    "Apply the best methods from above."
   ]
  },
  {
   "cell_type": "markdown",
   "metadata": {},
   "source": [
    "### Fetch statuses in batches"
   ]
  },
  {
   "cell_type": "code",
   "execution_count": 164,
   "metadata": {},
   "outputs": [
    {
     "name": "stdout",
     "output_type": "stream",
     "text": [
      "Response returned fewer than 40 statuses at batch 36\n"
     ]
    }
   ],
   "source": [
    "batches_2 = {}\n",
    "batch = 1\n",
    "offset = 0\n",
    "time_reached = datetime.now()\n",
    "\n",
    "while time_reached > statuses_after:\n",
    "     \n",
    "    param_offset = f\"&offset={offset}\"\n",
    "\n",
    "    resp = requests.get(\n",
    "        base_url + trending_status_dir + trending_status_max + param_offset\n",
    "    )\n",
    "\n",
    "    if resp.status_code == 200:\n",
    "\n",
    "        js = resp.json()\n",
    "\n",
    "        if len(js) == 40:\n",
    "\n",
    "            batches_2[batch] = js\n",
    "            \n",
    "            batch += 1\n",
    "            offset += 40\n",
    "            time_reached = datetime.strptime(js[-1][\"created_at\"], \"%Y-%m-%dT%H:%M:%S.%fZ\")\n",
    "        \n",
    "        else: \n",
    "            batches_2[batch] = js\n",
    "            print(f\"Response returned fewer than 40 statuses at batch {batch}\")\n",
    "            break\n",
    "\n",
    "    else:\n",
    "        print(\"Response status not 200\")\n",
    "        break"
   ]
  },
  {
   "cell_type": "code",
   "execution_count": 165,
   "metadata": {},
   "outputs": [],
   "source": [
    "with open(\"../data/raw/trending_statuses_1930.txt\", \"w\") as text_file:\n",
    "    json.dump(batches_2, text_file)"
   ]
  },
  {
   "cell_type": "markdown",
   "metadata": {},
   "source": [
    "### Fetch accounts in batches"
   ]
  },
  {
   "cell_type": "markdown",
   "metadata": {},
   "source": [
    "Account ids from the second set of statuses"
   ]
  },
  {
   "cell_type": "code",
   "execution_count": 167,
   "metadata": {},
   "outputs": [],
   "source": [
    "accounts_grp2 = []\n",
    "\n",
    "for i in range(1, len(batches_2)+1):\n",
    "    for j in range(len(batches_2[i])):\n",
    "        accounts_grp2.append(batches_2[i][j][\"account\"][\"id\"])\n",
    "\n",
    "accounts_grp2_unique = list(set(accounts_grp2))"
   ]
  },
  {
   "cell_type": "code",
   "execution_count": 168,
   "metadata": {},
   "outputs": [
    {
     "data": {
      "text/plain": [
       "1426"
      ]
     },
     "execution_count": 168,
     "metadata": {},
     "output_type": "execute_result"
    }
   ],
   "source": [
    "len(accounts_grp2_unique)"
   ]
  },
  {
   "cell_type": "markdown",
   "metadata": {},
   "source": [
    "Divide the account ids into five lists"
   ]
  },
  {
   "cell_type": "code",
   "execution_count": 169,
   "metadata": {},
   "outputs": [],
   "source": [
    "accounts_grp21 = accounts_grp2[:300]\n",
    "accounts_grp22 = accounts_grp2[300:600]\n",
    "accounts_grp23 = accounts_grp2[600:900]\n",
    "accounts_grp24 = accounts_grp2[900:1200]\n",
    "accounts_grp25 = accounts_grp2[1200:]"
   ]
  },
  {
   "cell_type": "markdown",
   "metadata": {},
   "source": [
    "Get the first group of data"
   ]
  },
  {
   "cell_type": "code",
   "execution_count": 170,
   "metadata": {},
   "outputs": [],
   "source": [
    "accounts_dict_2 = {}\n",
    "\n",
    "for account_id in accounts_grp21:\n",
    "    resp = requests.get(\n",
    "        base_url + accounts_dir + f\"/{account_id}\", \n",
    "        headers = {\n",
    "        \"Authorization\" : f\"Bearer {app_token}\"\n",
    "        }\n",
    "    )\n",
    "    if resp.status_code == 200: \n",
    "        accounts_dict_2[account_id] = resp.json()\n",
    "    else:\n",
    "        print(\"Status code not 200\")\n",
    "        break"
   ]
  },
  {
   "cell_type": "markdown",
   "metadata": {},
   "source": [
    "... 5 minutes later"
   ]
  },
  {
   "cell_type": "code",
   "execution_count": 172,
   "metadata": {},
   "outputs": [],
   "source": [
    "for account_id in accounts_grp22:\n",
    "    resp = requests.get(\n",
    "        base_url + accounts_dir + f\"/{account_id}\", \n",
    "        headers = {\n",
    "        \"Authorization\" : f\"Bearer {app_token}\"\n",
    "        }\n",
    "    )\n",
    "    if resp.status_code == 200: \n",
    "        accounts_dict_2[account_id] = resp.json()\n",
    "    else:\n",
    "        print(\"Status code not 200\")\n",
    "        break"
   ]
  },
  {
   "cell_type": "markdown",
   "metadata": {},
   "source": [
    "... 5 minutes later"
   ]
  },
  {
   "cell_type": "code",
   "execution_count": 176,
   "metadata": {},
   "outputs": [],
   "source": [
    "for account_id in accounts_grp23:\n",
    "    resp = requests.get(\n",
    "        base_url + accounts_dir + f\"/{account_id}\", \n",
    "        headers = {\n",
    "        \"Authorization\" : f\"Bearer {app_token}\"\n",
    "        }\n",
    "    )\n",
    "    if resp.status_code == 200: \n",
    "        accounts_dict_2[account_id] = resp.json()\n",
    "    else:\n",
    "        print(\"Status code not 200\")\n",
    "        break"
   ]
  },
  {
   "cell_type": "markdown",
   "metadata": {},
   "source": [
    "... 5 minutes later"
   ]
  },
  {
   "cell_type": "code",
   "execution_count": 178,
   "metadata": {},
   "outputs": [],
   "source": [
    "for account_id in accounts_grp24:\n",
    "    resp = requests.get(\n",
    "        base_url + accounts_dir + f\"/{account_id}\", \n",
    "        headers = {\n",
    "        \"Authorization\" : f\"Bearer {app_token}\"\n",
    "        }\n",
    "    )\n",
    "    if resp.status_code == 200: \n",
    "        accounts_dict_2[account_id] = resp.json()\n",
    "    else:\n",
    "        print(\"Status code not 200\")\n",
    "        break"
   ]
  },
  {
   "cell_type": "markdown",
   "metadata": {},
   "source": [
    "... 5 minutes later"
   ]
  },
  {
   "cell_type": "code",
   "execution_count": 180,
   "metadata": {},
   "outputs": [],
   "source": [
    "for account_id in accounts_grp25:\n",
    "    resp = requests.get(\n",
    "        base_url + accounts_dir + f\"/{account_id}\", \n",
    "        headers = {\n",
    "        \"Authorization\" : f\"Bearer {app_token}\"\n",
    "        }\n",
    "    )\n",
    "    if resp.status_code == 200: \n",
    "        accounts_dict_2[account_id] = resp.json()\n",
    "    else:\n",
    "        print(\"Status code not 200\")\n",
    "        break"
   ]
  },
  {
   "cell_type": "code",
   "execution_count": 181,
   "metadata": {},
   "outputs": [
    {
     "data": {
      "text/plain": [
       "1426"
      ]
     },
     "execution_count": 181,
     "metadata": {},
     "output_type": "execute_result"
    }
   ],
   "source": [
    "len(accounts_dict_2)"
   ]
  },
  {
   "cell_type": "markdown",
   "metadata": {},
   "source": [
    "Save the results"
   ]
  },
  {
   "cell_type": "code",
   "execution_count": 182,
   "metadata": {},
   "outputs": [],
   "source": [
    "with open(\"../data/raw/trending_accounts_1930.txt\", \"w\") as text_file:\n",
    "    json.dump(accounts_dict_2, text_file)"
   ]
  },
  {
   "cell_type": "markdown",
   "metadata": {},
   "source": [
    "## Third round of data collection"
   ]
  },
  {
   "cell_type": "markdown",
   "metadata": {},
   "source": [
    "### Fetch statuses"
   ]
  },
  {
   "cell_type": "code",
   "execution_count": 186,
   "metadata": {},
   "outputs": [
    {
     "name": "stdout",
     "output_type": "stream",
     "text": [
      "Response returned fewer than 40 statuses at batch 45\n"
     ]
    }
   ],
   "source": [
    "batches_3 = {}\n",
    "batch = 1\n",
    "offset = 0\n",
    "time_reached = datetime.now()\n",
    "\n",
    "while time_reached > statuses_after:\n",
    "     \n",
    "    param_offset = f\"&offset={offset}\"\n",
    "\n",
    "    resp = requests.get(\n",
    "        base_url + trending_status_dir + trending_status_max + param_offset\n",
    "    )\n",
    "\n",
    "    if resp.status_code == 200:\n",
    "\n",
    "        js = resp.json()\n",
    "\n",
    "        if len(js) == 40:\n",
    "\n",
    "            batches_3[batch] = js\n",
    "            \n",
    "            batch += 1\n",
    "            offset += 40\n",
    "            time_reached = datetime.strptime(js[-1][\"created_at\"], \"%Y-%m-%dT%H:%M:%S.%fZ\")\n",
    "        \n",
    "        else: \n",
    "            batches_3[batch] = js\n",
    "            print(f\"Response returned fewer than 40 statuses at batch {batch}\")\n",
    "            break\n",
    "\n",
    "    else:\n",
    "        print(\"Response status not 200\")\n",
    "        break"
   ]
  },
  {
   "cell_type": "code",
   "execution_count": 187,
   "metadata": {},
   "outputs": [],
   "source": [
    "with open(\"../data/raw/trending_statuses_2355.txt\", \"w\") as text_file:\n",
    "    json.dump(batches_3, text_file)"
   ]
  },
  {
   "cell_type": "markdown",
   "metadata": {},
   "source": [
    "### Fetch accounts"
   ]
  },
  {
   "cell_type": "code",
   "execution_count": null,
   "metadata": {},
   "outputs": [],
   "source": [
    "accounts_grp3 = []\n",
    "\n",
    "for i in range(1, len(batches_3)+1):\n",
    "    for j in range(len(batches_3[i])):\n",
    "        accounts_grp3.append(batches_3[i][j][\"account\"][\"id\"])\n",
    "\n",
    "accounts_grp3_unique = list(set(accounts_grp3))"
   ]
  },
  {
   "cell_type": "code",
   "execution_count": null,
   "metadata": {},
   "outputs": [],
   "source": [
    "len(accounts_grp3_unique)"
   ]
  },
  {
   "cell_type": "code",
   "execution_count": null,
   "metadata": {},
   "outputs": [],
   "source": [
    "accounts_grp31 = accounts_grp3_unique[:300]\n",
    "accounts_grp32 = accounts_grp3_unique[300:600]\n",
    "accounts_grp33 = accounts_grp3_unique[600:900]\n",
    "accounts_grp34 = accounts_grp3_unique[900:1200]\n",
    "accounts_grp35 = accounts_grp3_unique[1200:]"
   ]
  },
  {
   "cell_type": "code",
   "execution_count": null,
   "metadata": {},
   "outputs": [],
   "source": [
    "accounts_dict_3 = {}\n",
    "\n",
    "for account_id in accounts_grp31:\n",
    "    resp = requests.get(\n",
    "        base_url + accounts_dir + f\"/{account_id}\", \n",
    "        headers = {\n",
    "        \"Authorization\" : f\"Bearer {app_token}\"\n",
    "        }\n",
    "    )\n",
    "    if resp.status_code == 200: \n",
    "        accounts_dict_3[account_id] = resp.json()\n",
    "    else:\n",
    "        print(\"Status code not 200\")\n",
    "        break"
   ]
  },
  {
   "cell_type": "code",
   "execution_count": null,
   "metadata": {},
   "outputs": [],
   "source": [
    "accounts_dict_3 = {}\n",
    "\n",
    "for account_id in accounts_grp32:\n",
    "    resp = requests.get(\n",
    "        base_url + accounts_dir + f\"/{account_id}\", \n",
    "        headers = {\n",
    "        \"Authorization\" : f\"Bearer {app_token}\"\n",
    "        }\n",
    "    )\n",
    "    if resp.status_code == 200: \n",
    "        accounts_dict_3[account_id] = resp.json()\n",
    "    else:\n",
    "        print(\"Status code not 200\")\n",
    "        break"
   ]
  },
  {
   "cell_type": "code",
   "execution_count": null,
   "metadata": {},
   "outputs": [],
   "source": [
    "accounts_dict_3 = {}\n",
    "\n",
    "for account_id in accounts_grp33:\n",
    "    resp = requests.get(\n",
    "        base_url + accounts_dir + f\"/{account_id}\", \n",
    "        headers = {\n",
    "        \"Authorization\" : f\"Bearer {app_token}\"\n",
    "        }\n",
    "    )\n",
    "    if resp.status_code == 200: \n",
    "        accounts_dict_3[account_id] = resp.json()\n",
    "    else:\n",
    "        print(\"Status code not 200\")\n",
    "        break"
   ]
  },
  {
   "cell_type": "code",
   "execution_count": null,
   "metadata": {},
   "outputs": [],
   "source": [
    "accounts_dict_3 = {}\n",
    "\n",
    "for account_id in accounts_grp34:\n",
    "    resp = requests.get(\n",
    "        base_url + accounts_dir + f\"/{account_id}\", \n",
    "        headers = {\n",
    "        \"Authorization\" : f\"Bearer {app_token}\"\n",
    "        }\n",
    "    )\n",
    "    if resp.status_code == 200: \n",
    "        accounts_dict_3[account_id] = resp.json()\n",
    "    else:\n",
    "        print(\"Status code not 200\")\n",
    "        break"
   ]
  },
  {
   "cell_type": "code",
   "execution_count": null,
   "metadata": {},
   "outputs": [],
   "source": [
    "accounts_dict_3 = {}\n",
    "\n",
    "for account_id in accounts_grp35:\n",
    "    resp = requests.get(\n",
    "        base_url + accounts_dir + f\"/{account_id}\", \n",
    "        headers = {\n",
    "        \"Authorization\" : f\"Bearer {app_token}\"\n",
    "        }\n",
    "    )\n",
    "    if resp.status_code == 200: \n",
    "        accounts_dict_3[account_id] = resp.json()\n",
    "    else:\n",
    "        print(\"Status code not 200\")\n",
    "        break"
   ]
  },
  {
   "cell_type": "markdown",
   "metadata": {},
   "source": [
    "## Tags again\n",
    "Get a more up-to-date version of tags, and save them for later use."
   ]
  },
  {
   "cell_type": "code",
   "execution_count": 188,
   "metadata": {},
   "outputs": [],
   "source": [
    "resp_tags_new = requests.get(\n",
    "    base_url + tags_dir + max_tags\n",
    ")"
   ]
  },
  {
   "cell_type": "code",
   "execution_count": 189,
   "metadata": {},
   "outputs": [
    {
     "data": {
      "text/plain": [
       "<Response [200]>"
      ]
     },
     "execution_count": 189,
     "metadata": {},
     "output_type": "execute_result"
    }
   ],
   "source": [
    "resp_tags_new"
   ]
  },
  {
   "cell_type": "code",
   "execution_count": 190,
   "metadata": {},
   "outputs": [],
   "source": [
    "js_tags_new = resp_tags_new.json()"
   ]
  },
  {
   "cell_type": "code",
   "execution_count": 192,
   "metadata": {},
   "outputs": [],
   "source": [
    "with open(\"../data/raw/trending_tags_2355.txt\", \"w\") as text_file:\n",
    "    json.dump(js_tags_new, text_file)"
   ]
  },
  {
   "cell_type": "markdown",
   "metadata": {},
   "source": [
    "## Afterthoughts\n",
    "After later inspection of status data, I realised that the account info embedded there is the same as the account info that I got separately. So, it was enough to get the statuses."
   ]
  }
 ],
 "metadata": {
  "kernelspec": {
   "display_name": "mastodon",
   "language": "python",
   "name": "python3"
  },
  "language_info": {
   "codemirror_mode": {
    "name": "ipython",
    "version": 3
   },
   "file_extension": ".py",
   "mimetype": "text/x-python",
   "name": "python",
   "nbconvert_exporter": "python",
   "pygments_lexer": "ipython3",
   "version": "3.10.14"
  }
 },
 "nbformat": 4,
 "nbformat_minor": 2
}
