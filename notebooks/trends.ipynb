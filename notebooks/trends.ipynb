{
 "cells": [
  {
   "cell_type": "markdown",
   "metadata": {},
   "source": [
    "# Project on Mastodon\n",
    "Sebastian Gottschalk, Kerstin Kirchgässner, Rusen Yasar"
   ]
  },
  {
   "cell_type": "markdown",
   "metadata": {},
   "source": [
    "# Trends\n",
    "\n",
    "API methods for trends are summarised here: https://docs.joinmastodon.org/methods/trends/\n",
    "\n",
    "We can begin with the trending hashtags, get statuses mentioning those tags. We can also get trending statuses, and check the tags mentioned in these statuses."
   ]
  },
  {
   "cell_type": "code",
   "execution_count": 1,
   "metadata": {},
   "outputs": [],
   "source": [
    "import requests\n",
    "import json"
   ]
  },
  {
   "cell_type": "markdown",
   "metadata": {},
   "source": [
    "Focus on mastodon.social"
   ]
  },
  {
   "cell_type": "code",
   "execution_count": 2,
   "metadata": {},
   "outputs": [],
   "source": [
    "base_url = \"https://mastodon.social\""
   ]
  },
  {
   "cell_type": "markdown",
   "metadata": {},
   "source": [
    "Import tokens"
   ]
  },
  {
   "cell_type": "code",
   "execution_count": 13,
   "metadata": {},
   "outputs": [],
   "source": [
    "with open(\"../credentials/mastodon_social/app_token.txt\") as text_file:\n",
    "    app_token = text_file.read()"
   ]
  },
  {
   "cell_type": "code",
   "execution_count": 18,
   "metadata": {},
   "outputs": [],
   "source": [
    "with open(\"../credentials/mastodon_social/user_token.txt\") as text_file:\n",
    "    user_token = text_file.read()"
   ]
  },
  {
   "cell_type": "markdown",
   "metadata": {},
   "source": [
    "## Trending tags\n",
    "\n",
    "Most frequently used tags in the past week. Max 20."
   ]
  },
  {
   "cell_type": "code",
   "execution_count": 4,
   "metadata": {},
   "outputs": [],
   "source": [
    "tags_dir = \"/api/v1/trends/tags\"\n",
    "max_tags = \"?limit=20\""
   ]
  },
  {
   "cell_type": "code",
   "execution_count": 5,
   "metadata": {},
   "outputs": [],
   "source": [
    "resp_tags = requests.get(\n",
    "    base_url + tags_dir + max_tags\n",
    ")"
   ]
  },
  {
   "cell_type": "code",
   "execution_count": 10,
   "metadata": {},
   "outputs": [
    {
     "data": {
      "text/plain": [
       "[{'name': 'ifaidisclaimersweresongs',\n",
       "  'url': 'https://mastodon.social/tags/ifaidisclaimersweresongs',\n",
       "  'history': [{'day': '1717027200', 'accounts': '58', 'uses': '154'},\n",
       "   {'day': '1716940800', 'accounts': '0', 'uses': '0'},\n",
       "   {'day': '1716854400', 'accounts': '0', 'uses': '0'},\n",
       "   {'day': '1716768000', 'accounts': '0', 'uses': '0'},\n",
       "   {'day': '1716681600', 'accounts': '0', 'uses': '0'},\n",
       "   {'day': '1716595200', 'accounts': '0', 'uses': '0'},\n",
       "   {'day': '1716508800', 'accounts': '0', 'uses': '0'}]},\n",
       " {'name': 'dwd3',\n",
       "  'url': 'https://mastodon.social/tags/dwd3',\n",
       "  'history': [{'day': '1717027200', 'accounts': '52', 'uses': '57'},\n",
       "   {'day': '1716940800', 'accounts': '0', 'uses': '0'},\n",
       "   {'day': '1716854400', 'accounts': '0', 'uses': '0'},\n",
       "   {'day': '1716768000', 'accounts': '31', 'uses': '79'},\n",
       "   {'day': '1716681600', 'accounts': '7', 'uses': '19'},\n",
       "   {'day': '1716595200', 'accounts': '4', 'uses': '5'},\n",
       "   {'day': '1716508800', 'accounts': '42', 'uses': '61'}]},\n",
       " {'name': 'AltSpellItLikeItSounds',\n",
       "  'url': 'https://mastodon.social/tags/altspellitlikeitsounds',\n",
       "  'history': [{'day': '1717027200', 'accounts': '2', 'uses': '2'},\n",
       "   {'day': '1716940800', 'accounts': '72', 'uses': '212'},\n",
       "   {'day': '1716854400', 'accounts': '0', 'uses': '0'},\n",
       "   {'day': '1716768000', 'accounts': '0', 'uses': '0'},\n",
       "   {'day': '1716681600', 'accounts': '0', 'uses': '0'},\n",
       "   {'day': '1716595200', 'accounts': '0', 'uses': '0'},\n",
       "   {'day': '1716508800', 'accounts': '0', 'uses': '0'}]},\n",
       " {'name': 'MusicWomenWednesday',\n",
       "  'url': 'https://mastodon.social/tags/musicwomenwednesday',\n",
       "  'history': [{'day': '1717027200', 'accounts': '7', 'uses': '7'},\n",
       "   {'day': '1716940800', 'accounts': '51', 'uses': '75'},\n",
       "   {'day': '1716854400', 'accounts': '0', 'uses': '0'},\n",
       "   {'day': '1716768000', 'accounts': '0', 'uses': '0'},\n",
       "   {'day': '1716681600', 'accounts': '0', 'uses': '0'},\n",
       "   {'day': '1716595200', 'accounts': '0', 'uses': '0'},\n",
       "   {'day': '1716508800', 'accounts': '0', 'uses': '0'}]},\n",
       " {'name': '今月描いた絵を晒そう',\n",
       "  'url': 'https://mastodon.social/tags/%E4%BB%8A%E6%9C%88%E6%8F%8F%E3%81%84%E3%81%9F%E7%B5%B5%E3%82%92%E6%99%92%E3%81%9D%E3%81%86',\n",
       "  'history': [{'day': '1717027200', 'accounts': '61', 'uses': '67'},\n",
       "   {'day': '1716940800', 'accounts': '11', 'uses': '11'},\n",
       "   {'day': '1716854400', 'accounts': '1', 'uses': '1'},\n",
       "   {'day': '1716768000', 'accounts': '0', 'uses': '0'},\n",
       "   {'day': '1716681600', 'accounts': '1', 'uses': '1'},\n",
       "   {'day': '1716595200', 'accounts': '0', 'uses': '0'},\n",
       "   {'day': '1716508800', 'accounts': '0', 'uses': '0'}]},\n",
       " {'name': 'ThrowbackThursday',\n",
       "  'url': 'https://mastodon.social/tags/throwbackthursday',\n",
       "  'history': [{'day': '1717027200', 'accounts': '28', 'uses': '30'},\n",
       "   {'day': '1716940800', 'accounts': '3', 'uses': '3'},\n",
       "   {'day': '1716854400', 'accounts': '2', 'uses': '2'},\n",
       "   {'day': '1716768000', 'accounts': '0', 'uses': '0'},\n",
       "   {'day': '1716681600', 'accounts': '0', 'uses': '0'},\n",
       "   {'day': '1716595200', 'accounts': '0', 'uses': '0'},\n",
       "   {'day': '1716508800', 'accounts': '9', 'uses': '18'}]},\n",
       " {'name': 'quartacapa',\n",
       "  'url': 'https://mastodon.social/tags/quartacapa',\n",
       "  'history': [{'day': '1717027200', 'accounts': '4', 'uses': '4'},\n",
       "   {'day': '1716940800', 'accounts': '45', 'uses': '59'},\n",
       "   {'day': '1716854400', 'accounts': '0', 'uses': '0'},\n",
       "   {'day': '1716768000', 'accounts': '2', 'uses': '2'},\n",
       "   {'day': '1716681600', 'accounts': '1', 'uses': '1'},\n",
       "   {'day': '1716595200', 'accounts': '0', 'uses': '0'},\n",
       "   {'day': '1716508800', 'accounts': '2', 'uses': '2'}]},\n",
       " {'name': '今月創作したものをltlに流す',\n",
       "  'url': 'https://mastodon.social/tags/%E4%BB%8A%E6%9C%88%E5%89%B5%E4%BD%9C%E3%81%97%E3%81%9F%E3%82%82%E3%81%AE%E3%82%92ltl%E3%81%AB%E6%B5%81%E3%81%99',\n",
       "  'history': [{'day': '1717027200', 'accounts': '21', 'uses': '26'},\n",
       "   {'day': '1716940800', 'accounts': '2', 'uses': '2'},\n",
       "   {'day': '1716854400', 'accounts': '0', 'uses': '0'},\n",
       "   {'day': '1716768000', 'accounts': '0', 'uses': '0'},\n",
       "   {'day': '1716681600', 'accounts': '0', 'uses': '0'},\n",
       "   {'day': '1716595200', 'accounts': '0', 'uses': '0'},\n",
       "   {'day': '1716508800', 'accounts': '0', 'uses': '0'}]},\n",
       " {'name': 'thursdayfivelist',\n",
       "  'url': 'https://mastodon.social/tags/thursdayfivelist',\n",
       "  'history': [{'day': '1717027200', 'accounts': '12', 'uses': '14'},\n",
       "   {'day': '1716940800', 'accounts': '0', 'uses': '0'},\n",
       "   {'day': '1716854400', 'accounts': '0', 'uses': '0'},\n",
       "   {'day': '1716768000', 'accounts': '0', 'uses': '0'},\n",
       "   {'day': '1716681600', 'accounts': '0', 'uses': '0'},\n",
       "   {'day': '1716595200', 'accounts': '0', 'uses': '0'},\n",
       "   {'day': '1716508800', 'accounts': '0', 'uses': '0'}]},\n",
       " {'name': 'theumbrellaacademy',\n",
       "  'url': 'https://mastodon.social/tags/theumbrellaacademy',\n",
       "  'history': [{'day': '1717027200', 'accounts': '13', 'uses': '14'},\n",
       "   {'day': '1716940800', 'accounts': '1', 'uses': '1'},\n",
       "   {'day': '1716854400', 'accounts': '0', 'uses': '0'},\n",
       "   {'day': '1716768000', 'accounts': '0', 'uses': '0'},\n",
       "   {'day': '1716681600', 'accounts': '0', 'uses': '0'},\n",
       "   {'day': '1716595200', 'accounts': '0', 'uses': '0'},\n",
       "   {'day': '1716508800', 'accounts': '0', 'uses': '0'}]},\n",
       " {'name': 'な行晒そ',\n",
       "  'url': 'https://mastodon.social/tags/%E3%81%AA%E8%A1%8C%E6%99%92%E3%81%9D',\n",
       "  'history': [{'day': '1717027200', 'accounts': '11', 'uses': '11'},\n",
       "   {'day': '1716940800', 'accounts': '0', 'uses': '0'},\n",
       "   {'day': '1716854400', 'accounts': '0', 'uses': '0'},\n",
       "   {'day': '1716768000', 'accounts': '0', 'uses': '0'},\n",
       "   {'day': '1716681600', 'accounts': '0', 'uses': '0'},\n",
       "   {'day': '1716595200', 'accounts': '0', 'uses': '0'},\n",
       "   {'day': '1716508800', 'accounts': '0', 'uses': '0'}]},\n",
       " {'name': 'thehands',\n",
       "  'url': 'https://mastodon.social/tags/thehands',\n",
       "  'history': [{'day': '1717027200', 'accounts': '11', 'uses': '13'},\n",
       "   {'day': '1716940800', 'accounts': '0', 'uses': '0'},\n",
       "   {'day': '1716854400', 'accounts': '0', 'uses': '0'},\n",
       "   {'day': '1716768000', 'accounts': '0', 'uses': '0'},\n",
       "   {'day': '1716681600', 'accounts': '0', 'uses': '0'},\n",
       "   {'day': '1716595200', 'accounts': '0', 'uses': '0'},\n",
       "   {'day': '1716508800', 'accounts': '0', 'uses': '0'}]},\n",
       " {'name': 'うと打って動物が出てきたら優しい人らしい',\n",
       "  'url': 'https://mastodon.social/tags/%E3%81%86%E3%81%A8%E6%89%93%E3%81%A3%E3%81%A6%E5%8B%95%E7%89%A9%E3%81%8C%E5%87%BA%E3%81%A6%E3%81%8D%E3%81%9F%E3%82%89%E5%84%AA%E3%81%97%E3%81%84%E4%BA%BA%E3%82%89%E3%81%97%E3%81%84',\n",
       "  'history': [{'day': '1717027200', 'accounts': '11', 'uses': '11'},\n",
       "   {'day': '1716940800', 'accounts': '0', 'uses': '0'},\n",
       "   {'day': '1716854400', 'accounts': '0', 'uses': '0'},\n",
       "   {'day': '1716768000', 'accounts': '0', 'uses': '0'},\n",
       "   {'day': '1716681600', 'accounts': '0', 'uses': '0'},\n",
       "   {'day': '1716595200', 'accounts': '0', 'uses': '0'},\n",
       "   {'day': '1716508800', 'accounts': '0', 'uses': '0'}]},\n",
       " {'name': 'WorldOtterDay',\n",
       "  'url': 'https://mastodon.social/tags/worldotterday',\n",
       "  'history': [{'day': '1717027200', 'accounts': '7', 'uses': '8'},\n",
       "   {'day': '1716940800', 'accounts': '31', 'uses': '34'},\n",
       "   {'day': '1716854400', 'accounts': '1', 'uses': '1'},\n",
       "   {'day': '1716768000', 'accounts': '0', 'uses': '0'},\n",
       "   {'day': '1716681600', 'accounts': '0', 'uses': '0'},\n",
       "   {'day': '1716595200', 'accounts': '0', 'uses': '0'},\n",
       "   {'day': '1716508800', 'accounts': '0', 'uses': '0'}]},\n",
       " {'name': 'meermittwoch',\n",
       "  'url': 'https://mastodon.social/tags/meermittwoch',\n",
       "  'history': [{'day': '1717027200', 'accounts': '0', 'uses': '0'},\n",
       "   {'day': '1716940800', 'accounts': '76', 'uses': '79'},\n",
       "   {'day': '1716854400', 'accounts': '5', 'uses': '5'},\n",
       "   {'day': '1716768000', 'accounts': '0', 'uses': '0'},\n",
       "   {'day': '1716681600', 'accounts': '0', 'uses': '0'},\n",
       "   {'day': '1716595200', 'accounts': '0', 'uses': '0'},\n",
       "   {'day': '1716508800', 'accounts': '0', 'uses': '0'}]},\n",
       " {'name': 'フォロワーさんを惚れさせよう',\n",
       "  'url': 'https://mastodon.social/tags/%E3%83%95%E3%82%A9%E3%83%AD%E3%83%AF%E3%83%BC%E3%81%95%E3%82%93%E3%82%92%E6%83%9A%E3%82%8C%E3%81%95%E3%81%9B%E3%82%88%E3%81%86',\n",
       "  'history': [{'day': '1717027200', 'accounts': '10', 'uses': '10'},\n",
       "   {'day': '1716940800', 'accounts': '0', 'uses': '0'},\n",
       "   {'day': '1716854400', 'accounts': '0', 'uses': '0'},\n",
       "   {'day': '1716768000', 'accounts': '0', 'uses': '0'},\n",
       "   {'day': '1716681600', 'accounts': '0', 'uses': '0'},\n",
       "   {'day': '1716595200', 'accounts': '0', 'uses': '0'},\n",
       "   {'day': '1716508800', 'accounts': '0', 'uses': '0'}]},\n",
       " {'name': '初めて泣いた映画やアニメを言おう',\n",
       "  'url': 'https://mastodon.social/tags/%E5%88%9D%E3%82%81%E3%81%A6%E6%B3%A3%E3%81%84%E3%81%9F%E6%98%A0%E7%94%BB%E3%82%84%E3%82%A2%E3%83%8B%E3%83%A1%E3%82%92%E8%A8%80%E3%81%8A%E3%81%86',\n",
       "  'history': [{'day': '1717027200', 'accounts': '10', 'uses': '10'},\n",
       "   {'day': '1716940800', 'accounts': '0', 'uses': '0'},\n",
       "   {'day': '1716854400', 'accounts': '0', 'uses': '0'},\n",
       "   {'day': '1716768000', 'accounts': '0', 'uses': '0'},\n",
       "   {'day': '1716681600', 'accounts': '0', 'uses': '0'},\n",
       "   {'day': '1716595200', 'accounts': '0', 'uses': '0'},\n",
       "   {'day': '1716508800', 'accounts': '0', 'uses': '0'}]},\n",
       " {'name': 'europol',\n",
       "  'url': 'https://mastodon.social/tags/europol',\n",
       "  'history': [{'day': '1717027200', 'accounts': '11', 'uses': '13'},\n",
       "   {'day': '1716940800', 'accounts': '1', 'uses': '1'},\n",
       "   {'day': '1716854400', 'accounts': '3', 'uses': '3'},\n",
       "   {'day': '1716768000', 'accounts': '0', 'uses': '0'},\n",
       "   {'day': '1716681600', 'accounts': '0', 'uses': '0'},\n",
       "   {'day': '1716595200', 'accounts': '3', 'uses': '3'},\n",
       "   {'day': '1716508800', 'accounts': '1', 'uses': '1'}]},\n",
       " {'name': 'waffle860',\n",
       "  'url': 'https://mastodon.social/tags/waffle860',\n",
       "  'history': [{'day': '1717027200', 'accounts': '11', 'uses': '11'},\n",
       "   {'day': '1716940800', 'accounts': '0', 'uses': '0'},\n",
       "   {'day': '1716854400', 'accounts': '0', 'uses': '0'},\n",
       "   {'day': '1716768000', 'accounts': '0', 'uses': '0'},\n",
       "   {'day': '1716681600', 'accounts': '0', 'uses': '0'},\n",
       "   {'day': '1716595200', 'accounts': '0', 'uses': '0'},\n",
       "   {'day': '1716508800', 'accounts': '0', 'uses': '0'}]},\n",
       " {'name': 'tbt',\n",
       "  'url': 'https://mastodon.social/tags/tbt',\n",
       "  'history': [{'day': '1717027200', 'accounts': '10', 'uses': '10'},\n",
       "   {'day': '1716940800', 'accounts': '1', 'uses': '1'},\n",
       "   {'day': '1716854400', 'accounts': '1', 'uses': '1'},\n",
       "   {'day': '1716768000', 'accounts': '0', 'uses': '0'},\n",
       "   {'day': '1716681600', 'accounts': '1', 'uses': '1'},\n",
       "   {'day': '1716595200', 'accounts': '0', 'uses': '0'},\n",
       "   {'day': '1716508800', 'accounts': '3', 'uses': '3'}]}]"
      ]
     },
     "execution_count": 10,
     "metadata": {},
     "output_type": "execute_result"
    }
   ],
   "source": [
    "js_tags = resp_tags.json()\n",
    "js_tags"
   ]
  },
  {
   "cell_type": "markdown",
   "metadata": {},
   "source": [
    "### Getting info on these tags\n",
    "\n",
    "API methods on tags summarised here: https://docs.joinmastodon.org/methods/tags/"
   ]
  },
  {
   "cell_type": "code",
   "execution_count": 14,
   "metadata": {},
   "outputs": [],
   "source": [
    "tag_info_dir = \"/api/v1/tags/\""
   ]
  },
  {
   "cell_type": "markdown",
   "metadata": {},
   "source": [
    "Check one tag to see how much history it returns"
   ]
  },
  {
   "cell_type": "code",
   "execution_count": 11,
   "metadata": {},
   "outputs": [
    {
     "data": {
      "text/plain": [
       "'ifaidisclaimersweresongs'"
      ]
     },
     "execution_count": 11,
     "metadata": {},
     "output_type": "execute_result"
    }
   ],
   "source": [
    "name_tag1 = js_tags[0][\"name\"]"
   ]
  },
  {
   "cell_type": "code",
   "execution_count": 23,
   "metadata": {},
   "outputs": [],
   "source": [
    "resp_tag1 = requests.get(\n",
    "    base_url + tag_info_dir + name_tag1, \n",
    "    headers = {\n",
    "        \"Authorization\" : f\"Bearer {app_token}\"\n",
    "    }\n",
    ")"
   ]
  },
  {
   "cell_type": "code",
   "execution_count": 24,
   "metadata": {},
   "outputs": [
    {
     "data": {
      "text/plain": [
       "<Response [200]>"
      ]
     },
     "execution_count": 24,
     "metadata": {},
     "output_type": "execute_result"
    }
   ],
   "source": [
    "resp_tag1"
   ]
  },
  {
   "cell_type": "code",
   "execution_count": 25,
   "metadata": {},
   "outputs": [
    {
     "data": {
      "text/plain": [
       "{'name': 'ifaidisclaimersweresongs',\n",
       " 'url': 'https://mastodon.social/tags/ifaidisclaimersweresongs',\n",
       " 'history': [{'day': '1717027200', 'accounts': '58', 'uses': '154'},\n",
       "  {'day': '1716940800', 'accounts': '0', 'uses': '0'},\n",
       "  {'day': '1716854400', 'accounts': '0', 'uses': '0'},\n",
       "  {'day': '1716768000', 'accounts': '0', 'uses': '0'},\n",
       "  {'day': '1716681600', 'accounts': '0', 'uses': '0'},\n",
       "  {'day': '1716595200', 'accounts': '0', 'uses': '0'},\n",
       "  {'day': '1716508800', 'accounts': '0', 'uses': '0'}]}"
      ]
     },
     "execution_count": 25,
     "metadata": {},
     "output_type": "execute_result"
    }
   ],
   "source": [
    "js_tag1 = resp_tag1.json()\n",
    "js_tag1"
   ]
  },
  {
   "cell_type": "markdown",
   "metadata": {},
   "source": [
    "This gets only 7 days, same as what we know from list of trending tags. "
   ]
  },
  {
   "cell_type": "markdown",
   "metadata": {},
   "source": [
    "### Search statuses mentioning this tag\n",
    "\n",
    "API methods for search are summarised here: https://docs.joinmastodon.org/methods/search/\n",
    "\n",
    "I cannot find a method to fetch statuses where the hashtag is in the tags attribute. Maybe this is the default behaviour, or maybe the statuses with matching tags will be returned first (I hope).\n",
    "\n",
    "Attributes of tags are summarised here: https://docs.joinmastodon.org/entities/Status/\n",
    "\n"
   ]
  },
  {
   "cell_type": "code",
   "execution_count": 40,
   "metadata": {},
   "outputs": [],
   "source": [
    "search_dir = \"/api/v2/search\"\n",
    "search_params_tag1 = f\"?q={name_tag1}&limit=40\""
   ]
  },
  {
   "cell_type": "code",
   "execution_count": 41,
   "metadata": {},
   "outputs": [],
   "source": [
    "resp_search_status_tag1 = requests.get(\n",
    "    base_url + search_dir + search_params_tag1, \n",
    "    headers = {\n",
    "        \"Authorization\" : f\"Bearer {app_token}\"\n",
    "    }\n",
    ")"
   ]
  },
  {
   "cell_type": "code",
   "execution_count": 43,
   "metadata": {},
   "outputs": [
    {
     "data": {
      "text/plain": [
       "<Response [200]>"
      ]
     },
     "execution_count": 43,
     "metadata": {},
     "output_type": "execute_result"
    }
   ],
   "source": [
    "resp_search_status_tag1"
   ]
  },
  {
   "cell_type": "code",
   "execution_count": 44,
   "metadata": {},
   "outputs": [
    {
     "data": {
      "text/plain": [
       "{'accounts': [],\n",
       " 'statuses': [],\n",
       " 'hashtags': [{'name': 'ifaidisclaimersweresongs',\n",
       "   'url': 'https://mastodon.social/tags/ifaidisclaimersweresongs',\n",
       "   'history': [{'day': '1717027200', 'accounts': '58', 'uses': '154'},\n",
       "    {'day': '1716940800', 'accounts': '0', 'uses': '0'},\n",
       "    {'day': '1716854400', 'accounts': '0', 'uses': '0'},\n",
       "    {'day': '1716768000', 'accounts': '0', 'uses': '0'},\n",
       "    {'day': '1716681600', 'accounts': '0', 'uses': '0'},\n",
       "    {'day': '1716595200', 'accounts': '0', 'uses': '0'},\n",
       "    {'day': '1716508800', 'accounts': '0', 'uses': '0'}]}]}"
      ]
     },
     "execution_count": 44,
     "metadata": {},
     "output_type": "execute_result"
    }
   ],
   "source": [
    "js_search_status_tag1 = resp_search_status_tag1.json()\n",
    "js_search_status_tag1"
   ]
  },
  {
   "cell_type": "markdown",
   "metadata": {},
   "source": [
    "Apparently Mastodon does not allow searching in the entire databse. So, this approach doesn't work.\n",
    "\n",
    "Starting with trending tags, the only information we get is their use history in the past seven days."
   ]
  },
  {
   "cell_type": "markdown",
   "metadata": {},
   "source": [
    "## Trending statuses\n",
    "\n",
    "Statuses that have been interacted with more than other (timeframe not clear)"
   ]
  },
  {
   "cell_type": "code",
   "execution_count": 45,
   "metadata": {},
   "outputs": [],
   "source": [
    "trending_status_dir = \"/api/v1/trends/statuses\"\n",
    "trending_status_max = \"?limit=40\""
   ]
  },
  {
   "cell_type": "code",
   "execution_count": 46,
   "metadata": {},
   "outputs": [],
   "source": [
    "resp_trending_status = requests.get(\n",
    "    base_url + trending_status_dir + trending_status_max\n",
    ")"
   ]
  },
  {
   "cell_type": "code",
   "execution_count": 47,
   "metadata": {},
   "outputs": [
    {
     "data": {
      "text/plain": [
       "<Response [200]>"
      ]
     },
     "execution_count": 47,
     "metadata": {},
     "output_type": "execute_result"
    }
   ],
   "source": [
    "resp_trending_status"
   ]
  },
  {
   "cell_type": "code",
   "execution_count": 85,
   "metadata": {},
   "outputs": [
    {
     "data": {
      "text/plain": [
       "int"
      ]
     },
     "execution_count": 85,
     "metadata": {},
     "output_type": "execute_result"
    }
   ],
   "source": [
    "type(resp_trending_status.status_code)"
   ]
  },
  {
   "cell_type": "code",
   "execution_count": 63,
   "metadata": {},
   "outputs": [],
   "source": [
    "js_trending_status = resp_trending_status.json()"
   ]
  },
  {
   "cell_type": "code",
   "execution_count": 70,
   "metadata": {},
   "outputs": [
    {
     "name": "stdout",
     "output_type": "stream",
     "text": [
      "112529933367515061\n",
      "2024-05-30T12:01:53.000Z\n"
     ]
    }
   ],
   "source": [
    "print(js_trending_status[0][\"id\"])\n",
    "print(js_trending_status[0][\"created_at\"])"
   ]
  },
  {
   "cell_type": "code",
   "execution_count": 65,
   "metadata": {},
   "outputs": [
    {
     "name": "stdout",
     "output_type": "stream",
     "text": [
      "112529352665489689\n",
      "2024-05-30T09:34:15.663Z\n"
     ]
    }
   ],
   "source": [
    "print(js_trending_status[39][\"id\"])\n",
    "print(js_trending_status[39][\"created_at\"])"
   ]
  },
  {
   "cell_type": "markdown",
   "metadata": {},
   "source": [
    "It looks like some statuses are categorised as trending, the request returns the most recent ones. \n",
    "\n",
    "We can try to get all trending statuses up to a certain point in the past. Let's say Friday last week by the earliest."
   ]
  },
  {
   "cell_type": "code",
   "execution_count": 82,
   "metadata": {},
   "outputs": [],
   "source": [
    "from datetime import datetime\n",
    "\n",
    "statuses_after = datetime(2024, 5, 24, 0, 0, 0, 1)"
   ]
  },
  {
   "cell_type": "code",
   "execution_count": 94,
   "metadata": {},
   "outputs": [
    {
     "name": "stdout",
     "output_type": "stream",
     "text": [
      "Response returned less than 40 statuses\n"
     ]
    }
   ],
   "source": [
    "batches = {}\n",
    "batch = 1\n",
    "offset = 0\n",
    "time_reached = datetime.now()\n",
    "\n",
    "while time_reached > statuses_after:\n",
    "     \n",
    "    param_offset = f\"&offset={offset}\"\n",
    "\n",
    "    resp = requests.get(\n",
    "        base_url + trending_status_dir + trending_status_max + param_offset\n",
    "    )\n",
    "\n",
    "    if resp.status_code == 200:\n",
    "\n",
    "        js = resp.json()\n",
    "\n",
    "        if len(js) == 40:\n",
    "\n",
    "            batches[batch] = js\n",
    "            \n",
    "            batch += 1\n",
    "            offset += 40\n",
    "            time_reached = datetime.strptime(js[-1][\"created_at\"], \"%Y-%m-%dT%H:%M:%S.%fZ\")\n",
    "        \n",
    "        else: \n",
    "            print(\"Response returned less than 40 statuses\")\n",
    "            break\n",
    "\n",
    "    else:\n",
    "        print(\"Response status not 200\")\n",
    "        break\n",
    "\n"
   ]
  },
  {
   "cell_type": "code",
   "execution_count": 99,
   "metadata": {},
   "outputs": [
    {
     "name": "stdout",
     "output_type": "stream",
     "text": [
      "30\n",
      "2024-05-30T08:45:29.000Z\n"
     ]
    }
   ],
   "source": [
    "print(len(batches))\n",
    "print(batches[30][-1][\"created_at\"])"
   ]
  },
  {
   "cell_type": "markdown",
   "metadata": {},
   "source": [
    "It looks like there is a limit on how many statuses we can get. This could be only the current day, last 8 (or similar) hours. Or the number of statuses categorised as trending can be fixed (trying a few times, I get about 1200 statuses every times)."
   ]
  },
  {
   "cell_type": "code",
   "execution_count": null,
   "metadata": {},
   "outputs": [],
   "source": []
  }
 ],
 "metadata": {
  "kernelspec": {
   "display_name": "mastodon",
   "language": "python",
   "name": "python3"
  },
  "language_info": {
   "codemirror_mode": {
    "name": "ipython",
    "version": 3
   },
   "file_extension": ".py",
   "mimetype": "text/x-python",
   "name": "python",
   "nbconvert_exporter": "python",
   "pygments_lexer": "ipython3",
   "version": "3.10.14"
  }
 },
 "nbformat": 4,
 "nbformat_minor": 2
}
