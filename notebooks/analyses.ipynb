{
 "cells": [
  {
   "cell_type": "markdown",
   "metadata": {},
   "source": [
    "# Project on Mastodon\n",
    "Sebastian Gottschalk, Kerstin Kirchgässner, Rusen Yasar"
   ]
  },
  {
   "cell_type": "markdown",
   "metadata": {},
   "source": [
    "# Analyses"
   ]
  },
  {
   "cell_type": "code",
   "execution_count": 1,
   "metadata": {},
   "outputs": [],
   "source": [
    "import pandas as pd"
   ]
  },
  {
   "cell_type": "code",
   "execution_count": 2,
   "metadata": {},
   "outputs": [],
   "source": [
    "df_statuses = pd.read_csv(\"../data/processed/trending_statuses.csv\")"
   ]
  },
  {
   "cell_type": "code",
   "execution_count": 3,
   "metadata": {},
   "outputs": [
    {
     "name": "stdout",
     "output_type": "stream",
     "text": [
      "<class 'pandas.core.frame.DataFrame'>\n",
      "RangeIndex: 3177 entries, 0 to 3176\n",
      "Data columns (total 69 columns):\n",
      " #   Column                    Non-Null Count  Dtype  \n",
      "---  ------                    --------------  -----  \n",
      " 0   id                        3177 non-null   int64  \n",
      " 1   created_at                3177 non-null   object \n",
      " 2   sensitive                 3177 non-null   bool   \n",
      " 3   spoiler_text              0 non-null      float64\n",
      " 4   visibility                3177 non-null   object \n",
      " 5   language                  3177 non-null   object \n",
      " 6   uri                       3177 non-null   object \n",
      " 7   url                       3177 non-null   object \n",
      " 8   replies_count             3177 non-null   int64  \n",
      " 9   reblogs_count             3177 non-null   int64  \n",
      " 10  favourites_count          3177 non-null   int64  \n",
      " 11  edited_at                 309 non-null    object \n",
      " 12  content                   3106 non-null   object \n",
      " 13  media_attachments         3177 non-null   object \n",
      " 14  mentions                  3177 non-null   object \n",
      " 15  tags                      3177 non-null   object \n",
      " 16  emojis                    3177 non-null   object \n",
      " 17  account_id                3177 non-null   int64  \n",
      " 18  account_username          3177 non-null   object \n",
      " 19  account_acct              3177 non-null   object \n",
      " 20  account_display_name      3162 non-null   object \n",
      " 21  account_locked            3177 non-null   bool   \n",
      " 22  account_bot               3177 non-null   bool   \n",
      " 23  account_discoverable      3177 non-null   bool   \n",
      " 24  account_indexable         3177 non-null   bool   \n",
      " 25  account_group             3177 non-null   bool   \n",
      " 26  account_created_at        3177 non-null   object \n",
      " 27  account_note              3129 non-null   object \n",
      " 28  account_url               3177 non-null   object \n",
      " 29  account_uri               3177 non-null   object \n",
      " 30  account_avatar            3177 non-null   object \n",
      " 31  account_avatar_static     3177 non-null   object \n",
      " 32  account_header            3177 non-null   object \n",
      " 33  account_header_static     3177 non-null   object \n",
      " 34  account_followers_count   3177 non-null   int64  \n",
      " 35  account_following_count   3177 non-null   int64  \n",
      " 36  account_statuses_count    3177 non-null   int64  \n",
      " 37  account_last_status_at    0 non-null      float64\n",
      " 38  account_hide_collections  3143 non-null   object \n",
      " 39  account_emojis            3177 non-null   object \n",
      " 40  account_fields            3177 non-null   object \n",
      " 41  application_name          890 non-null    object \n",
      " 42  application_website       446 non-null    object \n",
      " 43  account_noindex           976 non-null    object \n",
      " 44  account_roles             976 non-null    object \n",
      " 45  card_url                  1165 non-null   object \n",
      " 46  card_title                1165 non-null   object \n",
      " 47  card_description          1012 non-null   object \n",
      " 48  card_language             1040 non-null   object \n",
      " 49  card_type                 1165 non-null   object \n",
      " 50  card_author_name          390 non-null    object \n",
      " 51  card_author_url           229 non-null    object \n",
      " 52  card_provider_name        940 non-null    object \n",
      " 53  card_provider_url         58 non-null     object \n",
      " 54  card_html                 66 non-null     object \n",
      " 55  card_width                1165 non-null   float64\n",
      " 56  card_height               1165 non-null   float64\n",
      " 57  card_image                944 non-null    object \n",
      " 58  card_image_description    138 non-null    object \n",
      " 59  card_embed_url            7 non-null      object \n",
      " 60  card_blurhash             947 non-null    object \n",
      " 61  card_published_at         587 non-null    object \n",
      " 62  tags_num                  3177 non-null   int64  \n",
      " 63  tags_str                  1602 non-null   object \n",
      " 64  created_at_dt             3177 non-null   object \n",
      " 65  edited_at_dt              309 non-null    object \n",
      " 66  account_created_at_dt     3177 non-null   object \n",
      " 67  card_published_at_dt      587 non-null    object \n",
      " 68  account_age               3177 non-null   int64  \n",
      "dtypes: bool(6), float64(4), int64(10), object(49)\n",
      "memory usage: 1.5+ MB\n"
     ]
    }
   ],
   "source": [
    "df_statuses.info()"
   ]
  },
  {
   "cell_type": "markdown",
   "metadata": {},
   "source": [
    "### Ideas for descriptive statistics, visualisations\n",
    "\n",
    "- created_at: histogram to show how statuses are distributed to different times of the day\n",
    "- language: statuses in which languages are more popular, maybe bar chart\n",
    "- replies, reblogs, favourites count : histogram to show distribution. These are the potential dependent variables.\n",
    "- media attachments: maybe display the count of media attachments, probably not very informative\n",
    "- mentions: same as media attachments\n",
    "- emojis: same as above\n",
    "- account_follower_count: histogram, potential independent var\n",
    "- account_following_count: histogram, potential independent var\n",
    "- account_statuses_count: histogram, potential independent var\n",
    "- card: same as other count variables\n",
    "- tags_num : histogram, potential independent var\n",
    "- account_age : histogram, potential independent var"
   ]
  },
  {
   "cell_type": "code",
   "execution_count": null,
   "metadata": {},
   "outputs": [],
   "source": []
  }
 ],
 "metadata": {
  "kernelspec": {
   "display_name": "mastodon",
   "language": "python",
   "name": "python3"
  },
  "language_info": {
   "codemirror_mode": {
    "name": "ipython",
    "version": 3
   },
   "file_extension": ".py",
   "mimetype": "text/x-python",
   "name": "python",
   "nbconvert_exporter": "python",
   "pygments_lexer": "ipython3",
   "version": "3.10.14"
  }
 },
 "nbformat": 4,
 "nbformat_minor": 2
}
